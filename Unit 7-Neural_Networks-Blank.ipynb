{
 "cells": [
  {
   "cell_type": "code",
   "execution_count": 1,
   "id": "923adc17",
   "metadata": {},
   "outputs": [],
   "source": [
    "import numpy as np\n",
    "import matplotlib.pyplot as plt\n",
    "from sklearn.neural_network import MLPClassifier\n",
    "from sklearn.datasets import make_moons, make_circles, make_classification\n",
    "from sklearn.model_selection import train_test_split\n",
    "from sklearn.metrics import accuracy_score\n",
    "\n",
    "import torch\n",
    "import torch.nn as nn\n",
    "import torch.optim as optim\n",
    "import matplotlib.pyplot as plt"
   ]
  },
  {
   "cell_type": "markdown",
   "id": "8598f22f",
   "metadata": {},
   "source": [
    "## Learning Pytorch!"
   ]
  },
  {
   "cell_type": "code",
   "execution_count": 2,
   "id": "3cc1ff93",
   "metadata": {},
   "outputs": [],
   "source": [
    "# Creating a tensor from data\n",
    "x_data = torch.tensor([[1.0, 2.0], [3.0, 4.0]])\n",
    "\n",
    "# Creating a tensor from numpy array\n",
    "np_array = np.array([[5.0, 6.0], [7.0, 8.0]])\n",
    "x_np = torch.from_numpy(np_array)\n",
    "\n",
    "# Creating tensors with specific dimensions\n",
    "x_zeros = torch.zeros(2, 3)\n",
    "x_ones = torch.ones(2, 3)\n",
    "x_random = torch.rand(2, 3)"
   ]
  },
  {
   "cell_type": "markdown",
   "id": "8d75ea34",
   "metadata": {},
   "source": [
    "#### Practice maniupations with PyTorch\n",
    "Using the following matrix, add 2, multiply by 2, and then multiply y against itself. This should feel like Numpy."
   ]
  },
  {
   "cell_type": "code",
   "execution_count": 6,
   "id": "7c46e257",
   "metadata": {},
   "outputs": [],
   "source": [
    "# Basic operations\n",
    "y = torch.tensor([[9.0, 10.0], \n",
    "                  [11.0, 12.0]])\n"
   ]
  },
  {
   "cell_type": "code",
   "execution_count": 12,
   "id": "e2774c5d",
   "metadata": {},
   "outputs": [
    {
     "name": "stdout",
     "output_type": "stream",
     "text": [
      "First, add 2 to y: \n",
      "tensor([[11., 12.],\n",
      "        [13., 14.]]). \n",
      "Now, multiply y by 2: \n",
      "tensor([[18., 20.],\n",
      "        [22., 24.]]). \n",
      "Finally, square y: \n",
      "tensor([[ 81., 100.],\n",
      "        [121., 144.]]).\n"
     ]
    }
   ],
   "source": [
    "print(f'First, add 2 to y: \\n{y + 2}. \\nNow, multiply y by 2: \\n{y * 2}. \\nFinally, square y: \\n{y ** 2}.')\n"
   ]
  },
  {
   "cell_type": "markdown",
   "id": "b02b03f9",
   "metadata": {},
   "source": [
    "## A one layer perceptron"
   ]
  },
  {
   "cell_type": "code",
   "execution_count": 13,
   "id": "2791bfb0",
   "metadata": {},
   "outputs": [
    {
     "data": {
      "text/plain": [
       "Text(0, 0.5, 'y')"
      ]
     },
     "execution_count": 13,
     "metadata": {},
     "output_type": "execute_result"
    },
    {
     "data": {
      "image/png": "[encoded data removed]",
      "text/plain": [
       "<Figure size 640x480 with 1 Axes>"
      ]
     },
     "metadata": {},
     "output_type": "display_data"
    }
   ],
   "source": [
    "# Generate synthetic data for linear regression\n",
    "X = torch.linspace(0, 10, 100).reshape(-1, 1)\n",
    "y = 2 * X + 3 + torch.randn(100, 1) * 2  # Linear relation with some noise\n",
    "\n",
    "# Visualize the data\n",
    "plt.scatter(X.numpy(), y.numpy())\n",
    "plt.xlabel(\"X\")\n",
    "plt.ylabel(\"y\")"
   ]
  },
  {
   "cell_type": "code",
   "execution_count": 14,
   "id": "0299c5e3",
   "metadata": {},
   "outputs": [],
   "source": [
    "class LinearRegressionModel(nn.Module):\n",
    "    def __init__(self):\n",
    "        super(LinearRegressionModel, self).__init__()\n",
    "        self.linear = nn.Linear(1, 1)  # 1 input feature, 1 output feature\n",
    "\n",
    "    def forward(self, x):\n",
    "        return self.linear(x)"
   ]
  },
  {
   "cell_type": "code",
   "execution_count": 15,
   "id": "fc127b4d",
   "metadata": {},
   "outputs": [],
   "source": [
    "# Instantiate the model\n",
    "model = LinearRegressionModel()\n",
    "\n",
    "# Define the loss function (Mean Squared Error)\n",
    "criterion = nn.MSELoss()\n",
    "\n",
    "# Define the optimizer (Stochastic Gradient Descent with a learning rate of 0.01)\n",
    "optimizer = optim.SGD(model.parameters(), lr=0.01)"
   ]
  },
  {
   "cell_type": "code",
   "execution_count": 16,
   "id": "d6db2987",
   "metadata": {},
   "outputs": [
    {
     "name": "stdout",
     "output_type": "stream",
     "text": [
      "Epoch [10/100], Loss: 6.7410\n",
      "Epoch [20/100], Loss: 6.3815\n",
      "Epoch [30/100], Loss: 6.0561\n",
      "Epoch [40/100], Loss: 5.7615\n",
      "Epoch [50/100], Loss: 5.4948\n",
      "Epoch [60/100], Loss: 5.2533\n",
      "Epoch [70/100], Loss: 5.0348\n",
      "Epoch [80/100], Loss: 4.8369\n",
      "Epoch [90/100], Loss: 4.6578\n",
      "Epoch [100/100], Loss: 4.4957\n"
     ]
    }
   ],
   "source": [
    "\n",
    "# Training loop\n",
    "num_epochs = 100\n",
    "for epoch in range(num_epochs):\n",
    "    # Forward pass: compute predictions and loss\n",
    "    predictions = model(X)\n",
    "    loss = criterion(predictions, y)\n",
    "    \n",
    "    # Backward pass: compute gradients and update parameters\n",
    "    optimizer.zero_grad()  # Reset gradients to zero\n",
    "    loss.backward()        # Backpropagate the error\n",
    "    optimizer.step()       # Update parameters\n",
    "    \n",
    "    # Print progress\n",
    "    if (epoch + 1) % 10 == 0:\n",
    "        print(f\"Epoch [{epoch + 1}/{num_epochs}], Loss: {loss.item():.4f}\")"
   ]
  },
  {
   "cell_type": "code",
   "execution_count": 32,
   "id": "233b335e",
   "metadata": {},
   "outputs": [
    {
     "data": {
      "image/png": "[encoded data removed]",
      "text/plain": [
       "<Figure size 640x480 with 1 Axes>"
      ]
     },
     "metadata": {},
     "output_type": "display_data"
    }
   ],
   "source": [
    "# Plot the model's predictions\n",
    "predicted = model(X).detach().numpy()  # Detach to convert to numpy\n",
    "plt.plot(X.numpy(), predicted, color=\"red\", label=\"Fitted Line\")\n",
    "plt.scatter(X.numpy(), y.numpy())\n",
    "plt.style.use('dark_background')"
   ]
  },
  {
   "cell_type": "code",
   "execution_count": 33,
   "id": "74bd865d",
   "metadata": {},
   "outputs": [
    {
     "data": {
      "text/plain": [
       "(tensor([[2.2935]]), tensor([1.2031]))"
      ]
     },
     "execution_count": 33,
     "metadata": {},
     "output_type": "execute_result"
    }
   ],
   "source": [
    "model.linear.weight.data, model.linear.bias.data"
   ]
  },
  {
   "cell_type": "code",
   "execution_count": null,
   "id": "5506c39f",
   "metadata": {},
   "outputs": [],
   "source": []
  },
  {
   "cell_type": "markdown",
   "id": "57d3d50a",
   "metadata": {},
   "source": [
    "### Using the template code above, generate 3-dimensional synthetic linear regression data\n",
    "You are encouraged to translate your homework solution from numpy into torch."
   ]
  },
  {
   "cell_type": "markdown",
   "id": "8ae8d719",
   "metadata": {},
   "source": [
    "Build your own neural net!"
   ]
  },
  {
   "cell_type": "code",
   "execution_count": 143,
   "id": "855848cf-4420-4509-867a-c1a2b669ba28",
   "metadata": {},
   "outputs": [
    {
     "name": "stdout",
     "output_type": "stream",
     "text": [
      "Epoch [10/100], Loss: 11.4908\n",
      "Epoch [20/100], Loss: 7.7719\n",
      "Epoch [30/100], Loss: 5.3841\n",
      "Epoch [40/100], Loss: 3.8488\n",
      "Epoch [50/100], Loss: 2.8599\n",
      "Epoch [60/100], Loss: 2.2218\n",
      "Epoch [70/100], Loss: 1.8094\n",
      "Epoch [80/100], Loss: 1.5421\n",
      "Epoch [90/100], Loss: 1.3686\n",
      "Epoch [100/100], Loss: 1.2557\n"
     ]
    }
   ],
   "source": [
    "## Generate 3-dim. syn. data \n",
    "X = torch.randn(100, 3)\n",
    "\n",
    "## Generate random values for the weights and intercept\n",
    "weights = torch.randn(3+1, 1)\n",
    "\n",
    "## Convert to numpy next step \n",
    "X_np = X.numpy()\n",
    "\n",
    "## Add ones to account for intercept \n",
    "new_x = np.hstack((np.ones((100, 1)), X_np)) \n",
    "\n",
    "## Generate y's\n",
    "y = np.dot(new_x, weights) + np.random.randn(100,1)\n",
    "\n",
    "## Convert to tensors w float format to fix error i was getting \n",
    "X = torch.from_numpy(X_np).float() \n",
    "Y = torch.from_numpy(y).float() \n",
    "\n",
    "\n",
    "## Updated class defs\n",
    "class MultiLinearRegressionModel(nn.Module):\n",
    "    def __init__(self):\n",
    "        super(MultiLinearRegressionModel, self).__init__()\n",
    "        self.linear = nn.Linear(3, 1)  # 1 input feature, 1 output feature\n",
    "\n",
    "    def forward(self, x):\n",
    "        return self.linear(x)\n",
    "\n",
    "\n",
    "## Instantiate the model\n",
    "model = MultiLinearRegressionModel()\n",
    "\n",
    "## Define the loss function (Mean Squared Error)\n",
    "criterion = nn.MSELoss() \n",
    "\n",
    "## Define the optimizer (Stochastic Gradient Descent with a learning rate of 0.01)\n",
    "optimizer = optim.SGD(model.parameters(), lr=0.01)\n",
    "\n",
    "## Training loop\n",
    "num_epochs = 100\n",
    "for epoch in range(num_epochs):\n",
    "    ## Forward pass: compute predictions and loss\n",
    "    predictions = model(X)\n",
    "    loss = criterion(predictions, Y)\n",
    "    \n",
    "    ## Backward pass: compute gradients and update parameters\n",
    "    optimizer.zero_grad()  ## Reset gradients to zero\n",
    "    loss.backward()        ## Backpropagate the error\n",
    "    optimizer.step()       ## Update parameters\n",
    "    \n",
    "    ## Print progress\n",
    "    if (epoch + 1) % 10 == 0:\n",
    "        print(f\"Epoch [{epoch + 1}/{num_epochs}], Loss: {loss.item():.4f}\")"
   ]
  },
  {
   "cell_type": "markdown",
   "id": "2aa09ae2",
   "metadata": {},
   "source": [
    "## Building a neural net for XOR"
   ]
  },
  {
   "cell_type": "markdown",
   "id": "420caddb",
   "metadata": {},
   "source": [
    "Build a neural net for solving the XOR problem. The first line layer is written for you.\n",
    "Use the training code from above to make one run, and assess whether your output is good or not.\n",
    "Once you get it to run, try varying the number of layers and the number of hidden dimensions. What do you observe?"
   ]
  },
  {
   "cell_type": "code",
   "execution_count": 152,
   "id": "031e3966",
   "metadata": {},
   "outputs": [],
   "source": [
    "# XOR inputs and labels\n",
    "X = torch.tensor([[0, 0], \n",
    "                  [0, 1], \n",
    "                  [1, 0], \n",
    "                  [1, 1]], dtype=torch.float32)\n",
    "y = torch.tensor([[0], \n",
    "                  [1], \n",
    "                  [1], \n",
    "                  [0]], dtype=torch.float32)"
   ]
  },
  {
   "cell_type": "code",
   "execution_count": 150,
   "id": "6d762b36",
   "metadata": {},
   "outputs": [],
   "source": [
    "class XORNet(nn.Module):\n",
    "    def __init__(self):\n",
    "        super(XORNet, self).__init__()\n",
    "        self.fc1 = nn.Linear(2, 1)   # Input layer to hidden layer\n",
    "        # more layers\n",
    "\n",
    "    def forward(self, x):\n",
    "        x = self.fc1(x)\n",
    "        x = torch.relu(x)  # ReLU activation for hidden layer\n",
    "        # more feed-forward\n",
    "        return x\n",
    "\n",
    "# Instantiate the model\n",
    "model = XORNet()"
   ]
  },
  {
   "cell_type": "code",
   "execution_count": 160,
   "id": "52425456-afba-49e1-9de3-33a39f69632e",
   "metadata": {},
   "outputs": [
    {
     "data": {
      "text/plain": [
       "tensor(0.3893, grad_fn=<MseLossBackward0>)"
      ]
     },
     "execution_count": 160,
     "metadata": {},
     "output_type": "execute_result"
    }
   ],
   "source": [
    "predictions = model(X)\n",
    "loss = criterion(predictions, y)\n",
    "loss"
   ]
  },
  {
   "cell_type": "code",
   "execution_count": 161,
   "id": "227779f0",
   "metadata": {},
   "outputs": [],
   "source": [
    "class XORNet(nn.Module):\n",
    "    def __init__(self):\n",
    "        super(XORNet, self).__init__()\n",
    "        self.fc1 = nn.Linear(2, 100)   # Input layer to hidden layer\n",
    "        # more layers\n",
    "        self.fc2 = nn.Linear(100, 10)\n",
    "        self.fc3 = nn.Linear(10, 10)\n",
    "        self.fc4 = nn.Linear(10, 1)\n",
    "    def forward(self, x):\n",
    "        x = self.fc1(x)\n",
    "        x = torch.relu(x)  # ReLU activation for hidden layer\n",
    "        # more feed-forward\n",
    "        x = self.fc2(x)\n",
    "        x = torch.relu(x)\n",
    "        x = self.fc3(x)\n",
    "        x = torch.relu(x)\n",
    "        x = self.fc4(x)\n",
    "        x = torch.relu(x)\n",
    "        return x\n",
    "# Instantiate the model\n",
    "model = XORNet()\n",
    "# Define the loss function (Mean Squared Error)\n",
    "criterion = nn.MSELoss()\n",
    "# Define the optimizer (Stochastic Gradient Descent with a learning rate of 0.01)\n",
    "optimizer = optim.SGD(model.parameters(), lr=0.01)"
   ]
  },
  {
   "cell_type": "code",
   "execution_count": null,
   "id": "a15bfa10",
   "metadata": {},
   "outputs": [],
   "source": []
  },
  {
   "cell_type": "code",
   "execution_count": 146,
   "id": "e226d380",
   "metadata": {},
   "outputs": [
    {
     "name": "stdout",
     "output_type": "stream",
     "text": [
      "torch.Size([1, 3, 1, 4])\n",
      "torch.Size([3, 4])\n"
     ]
    }
   ],
   "source": []
  },
  {
   "cell_type": "markdown",
   "id": "56ac974d",
   "metadata": {},
   "source": [
    "## After training, try to see if your predictions are good."
   ]
  },
  {
   "cell_type": "code",
   "execution_count": 120,
   "id": "079c8b77",
   "metadata": {},
   "outputs": [
    {
     "ename": "RuntimeError",
     "evalue": "mat1 and mat2 shapes cannot be multiplied (1x2 and 3x1)",
     "output_type": "error",
     "traceback": [
      "\u001b[0;31m---------------------------------------------------------------------------\u001b[0m",
      "\u001b[0;31mRuntimeError\u001b[0m                              Traceback (most recent call last)",
      "Cell \u001b[0;32mIn[120], line 6\u001b[0m\n\u001b[1;32m      4\u001b[0m \u001b[38;5;66;03m# Make the prediction\u001b[39;00m\n\u001b[1;32m      5\u001b[0m \u001b[38;5;28;01mwith\u001b[39;00m torch\u001b[38;5;241m.\u001b[39mno_grad():  \u001b[38;5;66;03m# No need for gradients during inference\u001b[39;00m\n\u001b[0;32m----> 6\u001b[0m     prediction \u001b[38;5;241m=\u001b[39m model(test_input)\n\u001b[1;32m      7\u001b[0m     \u001b[38;5;66;03m# Apply threshold to get binary prediction\u001b[39;00m\n\u001b[1;32m      8\u001b[0m     predicted_class \u001b[38;5;241m=\u001b[39m (prediction \u001b[38;5;241m>\u001b[39m \u001b[38;5;241m0.5\u001b[39m)\u001b[38;5;241m.\u001b[39mfloat()\n",
      "File \u001b[0;32m/opt/anaconda3/lib/python3.11/site-packages/torch/nn/modules/module.py:1553\u001b[0m, in \u001b[0;36mModule._wrapped_call_impl\u001b[0;34m(self, *args, **kwargs)\u001b[0m\n\u001b[1;32m   1551\u001b[0m     \u001b[38;5;28;01mreturn\u001b[39;00m \u001b[38;5;28mself\u001b[39m\u001b[38;5;241m.\u001b[39m_compiled_call_impl(\u001b[38;5;241m*\u001b[39margs, \u001b[38;5;241m*\u001b[39m\u001b[38;5;241m*\u001b[39mkwargs)  \u001b[38;5;66;03m# type: ignore[misc]\u001b[39;00m\n\u001b[1;32m   1552\u001b[0m \u001b[38;5;28;01melse\u001b[39;00m:\n\u001b[0;32m-> 1553\u001b[0m     \u001b[38;5;28;01mreturn\u001b[39;00m \u001b[38;5;28mself\u001b[39m\u001b[38;5;241m.\u001b[39m_call_impl(\u001b[38;5;241m*\u001b[39margs, \u001b[38;5;241m*\u001b[39m\u001b[38;5;241m*\u001b[39mkwargs)\n",
      "File \u001b[0;32m/opt/anaconda3/lib/python3.11/site-packages/torch/nn/modules/module.py:1562\u001b[0m, in \u001b[0;36mModule._call_impl\u001b[0;34m(self, *args, **kwargs)\u001b[0m\n\u001b[1;32m   1557\u001b[0m \u001b[38;5;66;03m# If we don't have any hooks, we want to skip the rest of the logic in\u001b[39;00m\n\u001b[1;32m   1558\u001b[0m \u001b[38;5;66;03m# this function, and just call forward.\u001b[39;00m\n\u001b[1;32m   1559\u001b[0m \u001b[38;5;28;01mif\u001b[39;00m \u001b[38;5;129;01mnot\u001b[39;00m (\u001b[38;5;28mself\u001b[39m\u001b[38;5;241m.\u001b[39m_backward_hooks \u001b[38;5;129;01mor\u001b[39;00m \u001b[38;5;28mself\u001b[39m\u001b[38;5;241m.\u001b[39m_backward_pre_hooks \u001b[38;5;129;01mor\u001b[39;00m \u001b[38;5;28mself\u001b[39m\u001b[38;5;241m.\u001b[39m_forward_hooks \u001b[38;5;129;01mor\u001b[39;00m \u001b[38;5;28mself\u001b[39m\u001b[38;5;241m.\u001b[39m_forward_pre_hooks\n\u001b[1;32m   1560\u001b[0m         \u001b[38;5;129;01mor\u001b[39;00m _global_backward_pre_hooks \u001b[38;5;129;01mor\u001b[39;00m _global_backward_hooks\n\u001b[1;32m   1561\u001b[0m         \u001b[38;5;129;01mor\u001b[39;00m _global_forward_hooks \u001b[38;5;129;01mor\u001b[39;00m _global_forward_pre_hooks):\n\u001b[0;32m-> 1562\u001b[0m     \u001b[38;5;28;01mreturn\u001b[39;00m forward_call(\u001b[38;5;241m*\u001b[39margs, \u001b[38;5;241m*\u001b[39m\u001b[38;5;241m*\u001b[39mkwargs)\n\u001b[1;32m   1564\u001b[0m \u001b[38;5;28;01mtry\u001b[39;00m:\n\u001b[1;32m   1565\u001b[0m     result \u001b[38;5;241m=\u001b[39m \u001b[38;5;28;01mNone\u001b[39;00m\n",
      "Cell \u001b[0;32mIn[117], line 7\u001b[0m, in \u001b[0;36mMultiLinearRegressionModel.forward\u001b[0;34m(self, x)\u001b[0m\n\u001b[1;32m      6\u001b[0m \u001b[38;5;28;01mdef\u001b[39;00m \u001b[38;5;21mforward\u001b[39m(\u001b[38;5;28mself\u001b[39m, x):\n\u001b[0;32m----> 7\u001b[0m     \u001b[38;5;28;01mreturn\u001b[39;00m \u001b[38;5;28mself\u001b[39m\u001b[38;5;241m.\u001b[39mlinear(x)\n",
      "File \u001b[0;32m/opt/anaconda3/lib/python3.11/site-packages/torch/nn/modules/module.py:1553\u001b[0m, in \u001b[0;36mModule._wrapped_call_impl\u001b[0;34m(self, *args, **kwargs)\u001b[0m\n\u001b[1;32m   1551\u001b[0m     \u001b[38;5;28;01mreturn\u001b[39;00m \u001b[38;5;28mself\u001b[39m\u001b[38;5;241m.\u001b[39m_compiled_call_impl(\u001b[38;5;241m*\u001b[39margs, \u001b[38;5;241m*\u001b[39m\u001b[38;5;241m*\u001b[39mkwargs)  \u001b[38;5;66;03m# type: ignore[misc]\u001b[39;00m\n\u001b[1;32m   1552\u001b[0m \u001b[38;5;28;01melse\u001b[39;00m:\n\u001b[0;32m-> 1553\u001b[0m     \u001b[38;5;28;01mreturn\u001b[39;00m \u001b[38;5;28mself\u001b[39m\u001b[38;5;241m.\u001b[39m_call_impl(\u001b[38;5;241m*\u001b[39margs, \u001b[38;5;241m*\u001b[39m\u001b[38;5;241m*\u001b[39mkwargs)\n",
      "File \u001b[0;32m/opt/anaconda3/lib/python3.11/site-packages/torch/nn/modules/module.py:1562\u001b[0m, in \u001b[0;36mModule._call_impl\u001b[0;34m(self, *args, **kwargs)\u001b[0m\n\u001b[1;32m   1557\u001b[0m \u001b[38;5;66;03m# If we don't have any hooks, we want to skip the rest of the logic in\u001b[39;00m\n\u001b[1;32m   1558\u001b[0m \u001b[38;5;66;03m# this function, and just call forward.\u001b[39;00m\n\u001b[1;32m   1559\u001b[0m \u001b[38;5;28;01mif\u001b[39;00m \u001b[38;5;129;01mnot\u001b[39;00m (\u001b[38;5;28mself\u001b[39m\u001b[38;5;241m.\u001b[39m_backward_hooks \u001b[38;5;129;01mor\u001b[39;00m \u001b[38;5;28mself\u001b[39m\u001b[38;5;241m.\u001b[39m_backward_pre_hooks \u001b[38;5;129;01mor\u001b[39;00m \u001b[38;5;28mself\u001b[39m\u001b[38;5;241m.\u001b[39m_forward_hooks \u001b[38;5;129;01mor\u001b[39;00m \u001b[38;5;28mself\u001b[39m\u001b[38;5;241m.\u001b[39m_forward_pre_hooks\n\u001b[1;32m   1560\u001b[0m         \u001b[38;5;129;01mor\u001b[39;00m _global_backward_pre_hooks \u001b[38;5;129;01mor\u001b[39;00m _global_backward_hooks\n\u001b[1;32m   1561\u001b[0m         \u001b[38;5;129;01mor\u001b[39;00m _global_forward_hooks \u001b[38;5;129;01mor\u001b[39;00m _global_forward_pre_hooks):\n\u001b[0;32m-> 1562\u001b[0m     \u001b[38;5;28;01mreturn\u001b[39;00m forward_call(\u001b[38;5;241m*\u001b[39margs, \u001b[38;5;241m*\u001b[39m\u001b[38;5;241m*\u001b[39mkwargs)\n\u001b[1;32m   1564\u001b[0m \u001b[38;5;28;01mtry\u001b[39;00m:\n\u001b[1;32m   1565\u001b[0m     result \u001b[38;5;241m=\u001b[39m \u001b[38;5;28;01mNone\u001b[39;00m\n",
      "File \u001b[0;32m/opt/anaconda3/lib/python3.11/site-packages/torch/nn/modules/linear.py:117\u001b[0m, in \u001b[0;36mLinear.forward\u001b[0;34m(self, input)\u001b[0m\n\u001b[1;32m    116\u001b[0m \u001b[38;5;28;01mdef\u001b[39;00m \u001b[38;5;21mforward\u001b[39m(\u001b[38;5;28mself\u001b[39m, \u001b[38;5;28minput\u001b[39m: Tensor) \u001b[38;5;241m-\u001b[39m\u001b[38;5;241m>\u001b[39m Tensor:\n\u001b[0;32m--> 117\u001b[0m     \u001b[38;5;28;01mreturn\u001b[39;00m F\u001b[38;5;241m.\u001b[39mlinear(\u001b[38;5;28minput\u001b[39m, \u001b[38;5;28mself\u001b[39m\u001b[38;5;241m.\u001b[39mweight, \u001b[38;5;28mself\u001b[39m\u001b[38;5;241m.\u001b[39mbias)\n",
      "\u001b[0;31mRuntimeError\u001b[0m: mat1 and mat2 shapes cannot be multiplied (1x2 and 3x1)"
     ]
    }
   ],
   "source": [
    "# Here, testing for the combination [1, 0]\n",
    "test_input = torch.tensor([[1, 0]], dtype=torch.float32)\n",
    "\n",
    "# Make the prediction\n",
    "with torch.no_grad():  # No need for gradients during inference\n",
    "    prediction = model(test_input)\n",
    "    # Apply threshold to get binary prediction\n",
    "    predicted_class = (prediction > 0.5).float()\n",
    "    \n",
    "predicted_class"
   ]
  }
 ],
 "metadata": {
  "kernelspec": {
   "display_name": "Python 3 (ipykernel)",
   "language": "python",
   "name": "python3"
  },
  "language_info": {
   "codemirror_mode": {
    "name": "ipython",
    "version": 3
   },
   "file_extension": ".py",
   "mimetype": "text/x-python",
   "name": "python",
   "nbconvert_exporter": "python",
   "pygments_lexer": "ipython3",
   "version": "3.11.8"
  }
 },
 "nbformat": 4,
 "nbformat_minor": 5
}
