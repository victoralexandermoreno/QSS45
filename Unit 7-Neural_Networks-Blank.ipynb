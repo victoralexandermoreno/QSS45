{
 "cells": [
  {
   "cell_type": "code",
   "execution_count": null,
   "id": "923adc17",
   "metadata": {},
   "outputs": [],
   "source": [
    "import numpy as np\n",
    "import matplotlib.pyplot as plt\n",
    "from sklearn.neural_network import MLPClassifier\n",
    "from sklearn.datasets import make_moons, make_circles, make_classification\n",
    "from sklearn.model_selection import train_test_split\n",
    "from sklearn.metrics import accuracy_score\n",
    "\n",
    "import torch\n",
    "import torch.nn as nn\n",
    "import torch.optim as optim\n",
    "import matplotlib.pyplot as plt"
   ]
  },
  {
   "cell_type": "markdown",
   "id": "8598f22f",
   "metadata": {},
   "source": [
    "## Learning Pytorch!"
   ]
  },
  {
   "cell_type": "code",
   "execution_count": null,
   "id": "3cc1ff93",
   "metadata": {},
   "outputs": [],
   "source": [
    "# Creating a tensor from data\n",
    "x_data = torch.tensor([[1.0, 2.0], [3.0, 4.0]])\n",
    "\n",
    "# Creating a tensor from numpy array\n",
    "np_array = np.array([[5.0, 6.0], [7.0, 8.0]])\n",
    "x_np = torch.from_numpy(np_array)\n",
    "\n",
    "# Creating tensors with specific dimensions\n",
    "x_zeros = torch.zeros(2, 3)\n",
    "x_ones = torch.ones(2, 3)\n",
    "x_random = torch.rand(2, 3)"
   ]
  },
  {
   "cell_type": "markdown",
   "id": "8d75ea34",
   "metadata": {},
   "source": [
    "#### Practice maniupations with PyTorch\n",
    "Using the following matrix, add 2, multiply by 2, and then multiply y against itself. This should feel like Numpy."
   ]
  },
  {
   "cell_type": "code",
   "execution_count": null,
   "id": "7c46e257",
   "metadata": {},
   "outputs": [],
   "source": [
    "# Basic operations\n",
    "y = torch.tensor([[9.0, 10.0], \n",
    "                  [11.0, 12.0]])\n"
   ]
  },
  {
   "cell_type": "code",
   "execution_count": null,
   "id": "e2774c5d",
   "metadata": {},
   "outputs": [],
   "source": []
  },
  {
   "cell_type": "markdown",
   "id": "b02b03f9",
   "metadata": {},
   "source": [
    "## A one layer perceptron"
   ]
  },
  {
   "cell_type": "code",
   "execution_count": null,
   "id": "2791bfb0",
   "metadata": {},
   "outputs": [],
   "source": [
    "# Generate synthetic data for linear regression\n",
    "X = torch.linspace(0, 10, 100).reshape(-1, 1)\n",
    "y = 2 * X + 3 + torch.randn(100, 1) * 2  # Linear relation with some noise\n",
    "\n",
    "# Visualize the data\n",
    "plt.scatter(X.numpy(), y.numpy())\n",
    "plt.xlabel(\"X\")\n",
    "plt.ylabel(\"y\")"
   ]
  },
  {
   "cell_type": "code",
   "execution_count": null,
   "id": "0299c5e3",
   "metadata": {},
   "outputs": [],
   "source": [
    "class LinearRegressionModel(nn.Module):\n",
    "    def __init__(self):\n",
    "        super(LinearRegressionModel, self).__init__()\n",
    "        self.linear = nn.Linear(1, 1)  # 1 input feature, 1 output feature\n",
    "\n",
    "    def forward(self, x):\n",
    "        return self.linear(x)"
   ]
  },
  {
   "cell_type": "code",
   "execution_count": null,
   "id": "fc127b4d",
   "metadata": {},
   "outputs": [],
   "source": [
    "# Instantiate the model\n",
    "model = LinearRegressionModel()\n",
    "\n",
    "# Define the loss function (Mean Squared Error)\n",
    "criterion = nn.MSELoss()\n",
    "\n",
    "# Define the optimizer (Stochastic Gradient Descent with a learning rate of 0.01)\n",
    "optimizer = optim.SGD(model.parameters(), lr=0.01)"
   ]
  },
  {
   "cell_type": "code",
   "execution_count": null,
   "id": "d6db2987",
   "metadata": {},
   "outputs": [],
   "source": [
    "# Training loop\n",
    "num_epochs = 100\n",
    "for epoch in range(num_epochs):\n",
    "    # Forward pass: compute predictions and loss\n",
    "    predictions = model(X)\n",
    "    loss = criterion(predictions, y)\n",
    "    \n",
    "    # Backward pass: compute gradients and update parameters\n",
    "    optimizer.zero_grad()  # Reset gradients to zero\n",
    "    loss.backward()        # Backpropagate the error\n",
    "    optimizer.step()       # Update parameters\n",
    "    \n",
    "    # Print progress\n",
    "    if (epoch + 1) % 10 == 0:\n",
    "        print(f\"Epoch [{epoch + 1}/{num_epochs}], Loss: {loss.item():.4f}\")"
   ]
  },
  {
   "cell_type": "code",
   "execution_count": null,
   "id": "233b335e",
   "metadata": {},
   "outputs": [],
   "source": [
    "# Plot the model's predictions\n",
    "predicted = model(X).detach().numpy()  # Detach to convert to numpy\n",
    "plt.plot(X.numpy(), predicted, color=\"red\", label=\"Fitted Line\")\n",
    "plt.scatter(X.numpy(), y.numpy())"
   ]
  },
  {
   "cell_type": "code",
   "execution_count": null,
   "id": "74bd865d",
   "metadata": {},
   "outputs": [],
   "source": [
    "model.linear.weight.data, model.linear.bias.data"
   ]
  },
  {
   "cell_type": "code",
   "execution_count": null,
   "id": "5506c39f",
   "metadata": {},
   "outputs": [],
   "source": []
  },
  {
   "cell_type": "markdown",
   "id": "57d3d50a",
   "metadata": {},
   "source": [
    "### Using the template code above, generate 3-dimensional synthetic linear regression data\n",
    "You are encouraged to translate your homework solution from numpy into torch."
   ]
  },
  {
   "cell_type": "code",
   "execution_count": null,
   "id": "4f73b77c",
   "metadata": {},
   "outputs": [],
   "source": [
    "# your code"
   ]
  },
  {
   "cell_type": "code",
   "execution_count": null,
   "id": "506b85c4",
   "metadata": {},
   "outputs": [],
   "source": []
  },
  {
   "cell_type": "markdown",
   "id": "8ae8d719",
   "metadata": {},
   "source": [
    "Build your own neural net!"
   ]
  },
  {
   "cell_type": "code",
   "execution_count": null,
   "id": "924254ed",
   "metadata": {},
   "outputs": [],
   "source": [
    "class MultiLinearRegressionModel(nn.Module):\n",
    "    def __init__(self):\n",
    "        super(LinearRegressionModel, self).__init__()\n",
    "        # your code here  \n",
    "\n",
    "    def forward(self, x):\n",
    "        # your code here"
   ]
  },
  {
   "cell_type": "code",
   "execution_count": null,
   "id": "8ffd2fe0",
   "metadata": {},
   "outputs": [],
   "source": [
    "# your training code here\n"
   ]
  },
  {
   "cell_type": "markdown",
   "id": "2aa09ae2",
   "metadata": {},
   "source": [
    "## Building a neural net for XOR"
   ]
  },
  {
   "cell_type": "markdown",
   "id": "420caddb",
   "metadata": {},
   "source": [
    "Build a neural net for solving the XOR problem. The first line layer is written for you.\n",
    "Use the training code from above to make one run, and assess whether your output is good or not.\n",
    "Once you get it to run, try varying the number of layers and the number of hidden dimensions. What do you observe?"
   ]
  },
  {
   "cell_type": "code",
   "execution_count": null,
   "id": "031e3966",
   "metadata": {},
   "outputs": [],
   "source": [
    "# XOR inputs and labels\n",
    "X = torch.tensor([[0, 0], \n",
    "                  [0, 1], \n",
    "                  [1, 0], \n",
    "                  [1, 1]], dtype=torch.float32)\n",
    "y = torch.tensor([[0], \n",
    "                  [1], \n",
    "                  [1], \n",
    "                  [0]], dtype=torch.float32)"
   ]
  },
  {
   "cell_type": "code",
   "execution_count": null,
   "id": "6d762b36",
   "metadata": {},
   "outputs": [],
   "source": [
    "class XORNet(nn.Module):\n",
    "    def __init__(self):\n",
    "        super(XORNet, self).__init__()\n",
    "        self.fc1 = nn.Linear(2, 1)   # Input layer to hidden layer\n",
    "        # more layers\n",
    "\n",
    "    def forward(self, x):\n",
    "        x = self.fc1(x)\n",
    "        x = torch.relu(x)  # ReLU activation for hidden layer\n",
    "        # more feed-forward\n",
    "        return x\n",
    "\n",
    "# Instantiate the model\n",
    "model = XORNet()"
   ]
  },
  {
   "cell_type": "code",
   "execution_count": null,
   "id": "227779f0",
   "metadata": {},
   "outputs": [],
   "source": [
    "# your training code here"
   ]
  },
  {
   "cell_type": "code",
   "execution_count": null,
   "id": "a15bfa10",
   "metadata": {},
   "outputs": [],
   "source": []
  },
  {
   "cell_type": "code",
   "execution_count": null,
   "id": "e226d380",
   "metadata": {},
   "outputs": [],
   "source": []
  },
  {
   "cell_type": "markdown",
   "id": "56ac974d",
   "metadata": {},
   "source": [
    "## After training, try to see if your predictions are good."
   ]
  },
  {
   "cell_type": "code",
   "execution_count": null,
   "id": "079c8b77",
   "metadata": {},
   "outputs": [],
   "source": [
    "# Here, testing for the combination [1, 0]\n",
    "test_input = torch.tensor([[1, 0]], dtype=torch.float32)\n",
    "\n",
    "# Make the prediction\n",
    "with torch.no_grad():  # No need for gradients during inference\n",
    "    prediction = model(test_input)\n",
    "    # Apply threshold to get binary prediction\n",
    "    predicted_class = (prediction > 0.5).float()\n",
    "    \n",
    "predicted_class"
   ]
  }
 ],
 "metadata": {
  "kernelspec": {
   "display_name": "Python 3 (ipykernel)",
   "language": "python",
   "name": "python3"
  },
  "language_info": {
   "codemirror_mode": {
    "name": "ipython",
    "version": 3
   },
   "file_extension": ".py",
   "mimetype": "text/x-python",
   "name": "python",
   "nbconvert_exporter": "python",
   "pygments_lexer": "ipython3",
   "version": "3.9.12"
  }
 },
 "nbformat": 4,
 "nbformat_minor": 5
}
