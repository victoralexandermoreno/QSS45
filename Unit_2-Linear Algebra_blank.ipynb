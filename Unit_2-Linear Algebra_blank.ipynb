{
 "cells": [
  {
   "cell_type": "markdown",
   "id": "c5206f0e",
   "metadata": {},
   "source": [
    "# Linear Algebra"
   ]
  },
  {
   "cell_type": "markdown",
   "id": "1410cb43",
   "metadata": {},
   "source": [
    "In this notebook, you will:\n",
    "\n",
    "* Perform linear algebra operations using NumPy.\n",
    "* Compare the efficiency of different approaches (for loops, apply, NumPy primitives) for vectorized operations.\n",
    "* Use timing functions to measure the performance of each approach."
   ]
  },
  {
   "cell_type": "code",
   "execution_count": 2,
   "id": "18d4aa5f",
   "metadata": {},
   "outputs": [],
   "source": [
    "import numpy as np\n",
    "import pandas as pd\n",
    "import time\n",
    "import seaborn as sns\n",
    "import matplotlib.pyplot as plt"
   ]
  },
  {
   "cell_type": "markdown",
   "id": "28ec17f4",
   "metadata": {},
   "source": [
    "Addition, scalar multiplication, and multiplication"
   ]
  },
  {
   "cell_type": "code",
   "execution_count": 11,
   "id": "2bc811dc",
   "metadata": {},
   "outputs": [],
   "source": [
    "arr = np.arange(1, 13)\n",
    "\n",
    "reshaped_matrix = arr.reshape(3, 4)\n"
   ]
  },
  {
   "cell_type": "code",
   "execution_count": null,
   "id": "fb91bfae-bf13-4197-9f3b-e87e4636fcc4",
   "metadata": {},
   "outputs": [],
   "source": []
  },
  {
   "cell_type": "code",
   "execution_count": 12,
   "id": "578443e7",
   "metadata": {},
   "outputs": [
    {
     "name": "stdout",
     "output_type": "stream",
     "text": [
      "Original array (int):\n",
      "[1 0 3 5]\n",
      "\n",
      "Array cast to float:\n",
      "[1. 0. 3. 5.]\n",
      "\n",
      "Array cast to boolean:\n",
      "[ True False  True  True]\n"
     ]
    }
   ],
   "source": [
    "# DATACASTING-- u r casting it to a diff representation, which r diff based on how much space they take up\n",
    "int_array = np.array([1, 0, 3, 5])\n",
    "\n",
    "float_array = int_array.astype(float)\n",
    "# If 0--> False, if ≠ 0--> True \n",
    "bool_array = int_array.astype(bool)\n",
    "\n",
    "print(\"Original array (int):\")\n",
    "print(int_array)\n",
    "\n",
    "print(\"\\nArray cast to float:\")\n",
    "print(float_array)\n",
    "\n",
    "\n",
    "print(\"\\nArray cast to boolean:\")\n",
    "print(bool_array)"
   ]
  },
  {
   "cell_type": "code",
   "execution_count": 15,
   "id": "24eb431b",
   "metadata": {},
   "outputs": [
    {
     "data": {
      "text/plain": [
       "(8, 96)"
      ]
     },
     "execution_count": 15,
     "metadata": {},
     "output_type": "execute_result"
    }
   ],
   "source": [
    "int_array = np.array([1, 0, 3, 5]).astype(np.int16)\n",
    "int_array.nbytes, arr.nbytes #--> why take up more space than u have to? \n"
   ]
  },
  {
   "cell_type": "code",
   "execution_count": 16,
   "id": "c051ce0f",
   "metadata": {},
   "outputs": [
    {
     "name": "stdout",
     "output_type": "stream",
     "text": [
      "Matrix multiplication result (A x B):\n",
      "[[14]\n",
      " [32]\n",
      " [50]]\n",
      "\n",
      "Transpose of matrix A:\n",
      "[[1 4 7]\n",
      " [2 5 8]\n",
      " [3 6 9]]\n"
     ]
    }
   ],
   "source": [
    "A = np.array([[1, 2, 3], \n",
    "              [4, 5, 6], \n",
    "              [7, 8, 9]])\n",
    "\n",
    "B = np.array([[1], [2], [3]])\n",
    "\n",
    "# Matrix multiplication using NumPy\n",
    "result = np.dot(A, B)\n",
    "print(\"Matrix multiplication result (A x B):\")\n",
    "print(result)\n",
    "\n",
    "# Transpose of a matrix\n",
    "A_transpose = A.T # rows to columns \n",
    "print(\"\\nTranspose of matrix A:\")\n",
    "print(A_transpose)"
   ]
  },
  {
   "cell_type": "markdown",
   "id": "6b3d1442",
   "metadata": {},
   "source": [
    "## Below find a collection of useful expressions.\n",
    "(Won't go over, test on own time)"
   ]
  },
  {
   "cell_type": "code",
   "execution_count": 17,
   "id": "2fa8911a",
   "metadata": {},
   "outputs": [
    {
     "name": "stdout",
     "output_type": "stream",
     "text": [
      "1D array: [1 2 3 4 5]\n",
      "2D array:\n",
      " [[1 2 3]\n",
      " [4 5 6]\n",
      " [7 8 9]]\n"
     ]
    }
   ],
   "source": [
    "# 1. Create NumPy Arrays\n",
    "# Create a 1D array\n",
    "array_1d = np.array([1, 2, 3, 4, 5])\n",
    "print(\"1D array:\", array_1d)\n",
    "\n",
    "# Create a 2D array (matrix)\n",
    "array_2d = np.array([[1, 2, 3], [4, 5, 6], [7, 8, 9]])\n",
    "print(\"2D array:\\n\", array_2d)"
   ]
  },
  {
   "cell_type": "code",
   "execution_count": 18,
   "id": "9245d98d",
   "metadata": {},
   "outputs": [
    {
     "name": "stdout",
     "output_type": "stream",
     "text": [
      "Array after addition: [3 4 5 6 7]\n",
      "Array after multiplication: [ 3  6  9 12 15]\n"
     ]
    }
   ],
   "source": [
    "# 2. Basic Array Operations\n",
    "# Element-wise addition, subtraction, multiplication, and division\n",
    "array_sum = array_1d + 2  # Add 2 to each element\n",
    "array_mul = array_1d * 3  # Multiply each element by 3\n",
    "print(\"Array after addition:\", array_sum)\n",
    "print(\"Array after multiplication:\", array_mul)"
   ]
  },
  {
   "cell_type": "code",
   "execution_count": 19,
   "id": "6507a7d2",
   "metadata": {},
   "outputs": [
    {
     "name": "stdout",
     "output_type": "stream",
     "text": [
      "Matrix A:\n",
      " [[1 2]\n",
      " [3 4]]\n",
      "Matrix B:\n",
      " [[5 6]\n",
      " [7 8]]\n",
      "Matrix multiplication (A dot B):\n",
      " [[19 22]\n",
      " [43 50]]\n"
     ]
    }
   ],
   "source": [
    "# 3. Matrix Multiplication\n",
    "matrix_a = np.array([[1, 2], [3, 4]])\n",
    "matrix_b = np.array([[5, 6], [7, 8]])\n",
    "\n",
    "matrix_mul = np.dot(matrix_a, matrix_b)  # Matrix multiplication using dot product\n",
    "print(\"Matrix A:\\n\", matrix_a)\n",
    "print(\"Matrix B:\\n\", matrix_b)\n",
    "print(\"Matrix multiplication (A dot B):\\n\", matrix_mul)"
   ]
  },
  {
   "cell_type": "code",
   "execution_count": 20,
   "id": "1695e225",
   "metadata": {},
   "outputs": [
    {
     "name": "stdout",
     "output_type": "stream",
     "text": [
      "First row of 2D array: [1 2 3]\n",
      "First column of 2D array: [1 4 7]\n",
      "Element at position (1,1): 5\n"
     ]
    }
   ],
   "source": [
    "# 4. Array Slicing and Indexing\n",
    "# Access specific rows, columns, or elements\n",
    "print(\"First row of 2D array:\", array_2d[0])       # First row\n",
    "print(\"First column of 2D array:\", array_2d[:, 0]) # First column\n",
    "print(\"Element at position (1,1):\", array_2d[1, 1])  # Element at (1,1)"
   ]
  },
  {
   "cell_type": "code",
   "execution_count": 21,
   "id": "f00b606b",
   "metadata": {},
   "outputs": [
    {
     "name": "stdout",
     "output_type": "stream",
     "text": [
      "Broadcasting result:\n",
      " [[5 6 7]\n",
      " [6 7 8]\n",
      " [7 8 9]]\n"
     ]
    }
   ],
   "source": [
    "# 5. Broadcasting \n",
    "# Apply operations on arrays of different shapes\n",
    "array_1d_broad = np.array([1, 2, 3])\n",
    "array_2d_broad = np.array([[4], [5], [6]])\n",
    "\n",
    "broadcast_result = array_1d_broad + array_2d_broad\n",
    "print(\"Broadcasting result:\\n\", broadcast_result)"
   ]
  },
  {
   "cell_type": "code",
   "execution_count": null,
   "id": "d9e3cc7c",
   "metadata": {},
   "outputs": [],
   "source": []
  },
  {
   "cell_type": "markdown",
   "id": "a3b8450f",
   "metadata": {},
   "source": [
    "# Sampling\n",
    "Won't go over, look over your own time"
   ]
  },
  {
   "cell_type": "code",
   "execution_count": 22,
   "id": "47a98976",
   "metadata": {},
   "outputs": [
    {
     "name": "stdout",
     "output_type": "stream",
     "text": [
      "Random numbers from uniform distribution: [0.81037034 0.76903594 0.87957041 0.5623857  0.73899822]\n",
      "Random numbers from normal distribution: [-0.47692627 -1.54555885 -0.61111741  1.42545643  0.30063216]\n",
      "Random integers between 10 and 100: [26 90 17 86 31]\n",
      "Random sample from array: [50 20 10]\n",
      "Random permutation of the array: [50 10 20 40 30]\n"
     ]
    }
   ],
   "source": [
    "# Uniform Distribution\n",
    "random_uniform = np.random.rand(5)  # 5 random numbers between 0 and 1\n",
    "print(\"Random numbers from uniform distribution:\", random_uniform)\n",
    "\n",
    "# Normal distribution (mean=0, std=1)\n",
    "random_normal = np.random.randn(5)  # 5 random numbers from a standard normal distribution\n",
    "print(\"Random numbers from normal distribution:\", random_normal)\n",
    "\n",
    "# Random integers with range\n",
    "random_integers = np.random.randint(10, 100, size=5)  # 5 random integers between 10 and 100\n",
    "print(\"Random integers between 10 and 100:\", random_integers)\n",
    "\n",
    "# Random sampling from a 1D array\n",
    "array = np.array([10, 20, 30, 40, 50])\n",
    "random_sample = np.random.choice(array, size=3, replace=False)  # Random sample of 3 elements without replacement\n",
    "print(\"Random sample from array:\", random_sample)\n",
    "\n",
    "# 5. Generating random permutations of arrays\n",
    "random_permutation = np.random.permutation(array)  # Generate a random permutation of the array\n",
    "print(\"Random permutation of the array:\", random_permutation)"
   ]
  },
  {
   "cell_type": "code",
   "execution_count": null,
   "id": "443a3498",
   "metadata": {},
   "outputs": [],
   "source": []
  },
  {
   "cell_type": "code",
   "execution_count": null,
   "id": "732c64f4",
   "metadata": {},
   "outputs": [],
   "source": []
  },
  {
   "cell_type": "markdown",
   "id": "6ea42cd0",
   "metadata": {},
   "source": [
    "# Benchmarking Time"
   ]
  },
  {
   "cell_type": "code",
   "execution_count": 38,
   "id": "73b03f1c",
   "metadata": {},
   "outputs": [
    {
     "name": "stdout",
     "output_type": "stream",
     "text": [
      "CPU times: user 1 µs, sys: 0 ns, total: 1 µs\n",
      "Wall time: 6.91 µs\n",
      "Time taken using a for loop: 0.1321 seconds\n"
     ]
    }
   ],
   "source": [
    "data = np.random.rand(1000000)\n",
    "\n",
    "start_time = time.time()\n",
    "\n",
    "squared_for_loop = []\n",
    "for x in data:\n",
    "    squared_for_loop.append(x ** 2)\n",
    "\n",
    "end_time = time.time()\n",
    "for_loop_time = end_time - start_time\n",
    "%time\n",
    "print(f\"Time taken using a for loop: {for_loop_time:.4f} seconds\")"
   ]
  },
  {
   "cell_type": "code",
   "execution_count": 39,
   "id": "7183c6ce",
   "metadata": {},
   "outputs": [
    {
     "data": {
      "text/html": [
       "<div>\n",
       "<style scoped>\n",
       "    .dataframe tbody tr th:only-of-type {\n",
       "        vertical-align: middle;\n",
       "    }\n",
       "\n",
       "    .dataframe tbody tr th {\n",
       "        vertical-align: top;\n",
       "    }\n",
       "\n",
       "    .dataframe thead th {\n",
       "        text-align: right;\n",
       "    }\n",
       "</style>\n",
       "<table border=\"1\" class=\"dataframe\">\n",
       "  <thead>\n",
       "    <tr style=\"text-align: right;\">\n",
       "      <th></th>\n",
       "      <th>Values</th>\n",
       "    </tr>\n",
       "  </thead>\n",
       "  <tbody>\n",
       "    <tr>\n",
       "      <th>0</th>\n",
       "      <td>0.607997</td>\n",
       "    </tr>\n",
       "    <tr>\n",
       "      <th>1</th>\n",
       "      <td>0.322831</td>\n",
       "    </tr>\n",
       "    <tr>\n",
       "      <th>2</th>\n",
       "      <td>0.417690</td>\n",
       "    </tr>\n",
       "    <tr>\n",
       "      <th>3</th>\n",
       "      <td>0.052735</td>\n",
       "    </tr>\n",
       "    <tr>\n",
       "      <th>4</th>\n",
       "      <td>0.040404</td>\n",
       "    </tr>\n",
       "    <tr>\n",
       "      <th>...</th>\n",
       "      <td>...</td>\n",
       "    </tr>\n",
       "    <tr>\n",
       "      <th>999995</th>\n",
       "      <td>0.182740</td>\n",
       "    </tr>\n",
       "    <tr>\n",
       "      <th>999996</th>\n",
       "      <td>0.812691</td>\n",
       "    </tr>\n",
       "    <tr>\n",
       "      <th>999997</th>\n",
       "      <td>0.205615</td>\n",
       "    </tr>\n",
       "    <tr>\n",
       "      <th>999998</th>\n",
       "      <td>0.013003</td>\n",
       "    </tr>\n",
       "    <tr>\n",
       "      <th>999999</th>\n",
       "      <td>0.688702</td>\n",
       "    </tr>\n",
       "  </tbody>\n",
       "</table>\n",
       "<p>1000000 rows × 1 columns</p>\n",
       "</div>"
      ],
      "text/plain": [
       "          Values\n",
       "0       0.607997\n",
       "1       0.322831\n",
       "2       0.417690\n",
       "3       0.052735\n",
       "4       0.040404\n",
       "...          ...\n",
       "999995  0.182740\n",
       "999996  0.812691\n",
       "999997  0.205615\n",
       "999998  0.013003\n",
       "999999  0.688702\n",
       "\n",
       "[1000000 rows x 1 columns]"
      ]
     },
     "execution_count": 39,
     "metadata": {},
     "output_type": "execute_result"
    }
   ],
   "source": [
    "df = pd.DataFrame(data, columns=['Values'])\n",
    "df\n",
    "# start_time = time.time()\n",
    "\n",
    "# squared_apply = df['Values'].apply(lambda x: x ** 2)\n",
    "\n",
    "# end_time = time.time()\n",
    "# apply_time = end_time - start_time\n",
    "\n",
    "# print(f\"Time taken using Pandas apply(): {apply_time:.4f} seconds\")"
   ]
  },
  {
   "cell_type": "code",
   "execution_count": 28,
   "id": "88f5e706",
   "metadata": {},
   "outputs": [
    {
     "name": "stdout",
     "output_type": "stream",
     "text": [
      "Time taken using NumPy vectorization: 0.0056 seconds\n"
     ]
    }
   ],
   "source": [
    "start_time = time.time()\n",
    "\n",
    "# Calculate the square of each element using NumPy vectorized operation\n",
    "squared_numpy = np.square(data)\n",
    "\n",
    "end_time = time.time()\n",
    "numpy_time = end_time - start_time\n",
    "\n",
    "print(f\"Time taken using NumPy vectorization: {numpy_time:.4f} seconds\")\n",
    "\n",
    "## WAYYYYY FASTER"
   ]
  },
  {
   "cell_type": "markdown",
   "id": "a3f02804",
   "metadata": {},
   "source": [
    "# Your turn | Part 1"
   ]
  },
  {
   "cell_type": "markdown",
   "id": "4fdafa2c",
   "metadata": {},
   "source": [
    "#### Using np.random.rand, create a 1000 x 1000 matrix, and square every element using a forloop, pandas, and numpy. Benchmark its speed."
   ]
  },
  {
   "cell_type": "code",
   "execution_count": 4,
   "id": "01ee902a",
   "metadata": {},
   "outputs": [
    {
     "data": {
      "text/plain": [
       "0.01866006851196289"
      ]
     },
     "execution_count": 4,
     "metadata": {},
     "output_type": "execute_result"
    }
   ],
   "source": [
    "# your code (there should be copying and pasting here)\n",
    "start_time = time.time()\n",
    "\n",
    "data = np.random.rand(1000, 1000)\n",
    "np.square(data)\n",
    "\n",
    "\n",
    "end_time = time.time()\n",
    "numpy_time = end_time - start_time\n",
    "numpy_time"
   ]
  },
  {
   "cell_type": "code",
   "execution_count": 5,
   "id": "bb760560-ff2b-4e42-9afb-7c5e91f9e01e",
   "metadata": {},
   "outputs": [
    {
     "data": {
      "text/plain": [
       "0.17517614364624023"
      ]
     },
     "execution_count": 5,
     "metadata": {},
     "output_type": "execute_result"
    }
   ],
   "source": [
    "start_time = time.time()\n",
    "\n",
    "df = pd.DataFrame(data)\n",
    "df.map(lambda x: x**2) \n",
    "    \n",
    "\n",
    "end_time = time.time()\n",
    "p_time = end_time - start_time\n",
    "p_time"
   ]
  },
  {
   "cell_type": "code",
   "execution_count": 12,
   "id": "5fec20bb-ae2a-47e6-9f59-d33a936534a3",
   "metadata": {},
   "outputs": [
    {
     "name": "stdout",
     "output_type": "stream",
     "text": [
      "CPU times: user 0 ns, sys: 0 ns, total: 0 ns\n",
      "Wall time: 3.81 µs\n",
      "Time taken using a for loop: 101.1547 seconds\n"
     ]
    }
   ],
   "source": [
    "squared_matrix = np.zeros((1000, 1000))\n",
    "\n",
    "for i in range(data.shape[0]):  # Iterate over rows\n",
    "    for j in range(data.shape[1]):  # Iterate over columns\n",
    "        squared_matrix[i, j] = data[i, j] ** 2\n",
    "\n",
    "end_time = time.time()\n",
    "for_loop_time = end_time - start_time\n",
    "%time\n",
    "print(f\"Time taken using a for loop: {for_loop_time:.4f} seconds\")"
   ]
  },
  {
   "cell_type": "markdown",
   "id": "db12d482",
   "metadata": {},
   "source": [
    "#### Using the code above, write a function that creates two random matrix (i.e. A and B) of size S x S and multiplies them. "
   ]
  },
  {
   "cell_type": "code",
   "execution_count": 56,
   "id": "d0d53b63",
   "metadata": {},
   "outputs": [],
   "source": [
    "import numpy as np"
   ]
  },
  {
   "cell_type": "code",
   "execution_count": null,
   "id": "f2f720ac",
   "metadata": {},
   "outputs": [],
   "source": [
    "# your code\n",
    "\n",
    "def func(S):\n",
    "    a = np.random.rand(S,S)\n",
    "    b = np.random.rand(S,S)\n",
    "\n",
    "    dot = np.dot(a,b)\n",
    "    return dot\n",
    "\n",
    "func(1000000)"
   ]
  },
  {
   "cell_type": "markdown",
   "id": "cac1f9c6",
   "metadata": {},
   "source": [
    "What happens when you make the size 1000? 1,000,000? 100,000,000? "
   ]
  },
  {
   "cell_type": "code",
   "execution_count": null,
   "id": "88ac6096",
   "metadata": {},
   "outputs": [],
   "source": []
  },
  {
   "cell_type": "markdown",
   "id": "d0adf784",
   "metadata": {},
   "source": [
    "### Computing Distances\n",
    "Write a numpy-based function that calculates a) the Euclidean distance between two points and b)the Manhattan distance. No cheating and using built-in functions."
   ]
  },
  {
   "cell_type": "code",
   "execution_count": 15,
   "id": "650c3296",
   "metadata": {},
   "outputs": [],
   "source": [
    "# Use these points to test\n",
    "point1 = np.array([1, 2])\n",
    "point2 = np.array([4, 6])"
   ]
  },
  {
   "cell_type": "code",
   "execution_count": 16,
   "id": "573ff267",
   "metadata": {},
   "outputs": [
    {
     "data": {
      "text/plain": [
       "5.0"
      ]
     },
     "execution_count": 16,
     "metadata": {},
     "output_type": "execute_result"
    }
   ],
   "source": [
    "# your code for Euclidean\n",
    "\n",
    "def find_euclidean(point1, point2):\n",
    "    return np.sum(np.square(point2-point1)) ** 0.5\n",
    "find_euclidean(point1, point2)"
   ]
  },
  {
   "cell_type": "code",
   "execution_count": null,
   "id": "78037917",
   "metadata": {},
   "outputs": [],
   "source": [
    "# your code for Manhattan"
   ]
  },
  {
   "cell_type": "code",
   "execution_count": null,
   "id": "328f804e",
   "metadata": {},
   "outputs": [],
   "source": []
  },
  {
   "cell_type": "markdown",
   "id": "79d1b24f",
   "metadata": {},
   "source": [
    "# Part Two | Understanding regression\n",
    "In this section we will simulate regression data, and then inverse calculate the betas. (This may stretch to the next class). The goal is to get you thinking in matrices instead of numbers."
   ]
  },
  {
   "cell_type": "markdown",
   "id": "f532d6dd",
   "metadata": {},
   "source": [
    "$y = \\beta_0 + \\beta_1 x + \\epsilon$ where $\\epsilon \\in N(0,10)$"
   ]
  },
  {
   "cell_type": "markdown",
   "id": "c5fe8819",
   "metadata": {},
   "source": [
    "Generate a thousand points based on this model, then make a scatter plot using plt.scatter or sns.regplot"
   ]
  },
  {
   "cell_type": "code",
   "execution_count": 17,
   "id": "f34d3ed2",
   "metadata": {},
   "outputs": [],
   "source": [
    "# True parameters of the linear model\n"
   ]
  },
  {
   "cell_type": "code",
   "execution_count": 86,
   "id": "b67bbd33-51ef-470f-88d1-cac62953aa3d",
   "metadata": {},
   "outputs": [],
   "source": []
  },
  {
   "cell_type": "code",
   "execution_count": 92,
   "id": "123812d2",
   "metadata": {},
   "outputs": [],
   "source": [
    "# your code\n",
    "beta_0 = 5   # Intercept\n",
    "beta_1 = 3   # Slope\n",
    "e = np.random.normal(0, 10, 1000)\n",
    "arr = np.random.randint(0,100, size = 1000)\n",
    "for es in e: \n",
    "    y = (arr*beta_0) + beta_1 + e "
   ]
  },
  {
   "cell_type": "code",
   "execution_count": null,
   "id": "fb7c9f0f-4973-4dd9-a0de-d2afc2ca6d64",
   "metadata": {},
   "outputs": [],
   "source": []
  },
  {
   "cell_type": "code",
   "execution_count": 93,
   "id": "9ff1ecb1",
   "metadata": {},
   "outputs": [
    {
     "name": "stderr",
     "output_type": "stream",
     "text": [
      "/opt/anaconda3/lib/python3.11/site-packages/seaborn/_oldcore.py:1119: FutureWarning: use_inf_as_na option is deprecated and will be removed in a future version. Convert inf values to NaN before operating instead.\n",
      "  with pd.option_context('mode.use_inf_as_na', True):\n",
      "/opt/anaconda3/lib/python3.11/site-packages/seaborn/_oldcore.py:1119: FutureWarning: use_inf_as_na option is deprecated and will be removed in a future version. Convert inf values to NaN before operating instead.\n",
      "  with pd.option_context('mode.use_inf_as_na', True):\n"
     ]
    },
    {
     "data": {
      "image/png": "[encoded data removed]",
      "text/plain": [
       "<Figure size 600x600 with 3 Axes>"
      ]
     },
     "metadata": {},
     "output_type": "display_data"
    }
   ],
   "source": [
    "sns.jointplot(x = arr,y = y, scatter = True, kind = 'reg',color = 'r')\n",
    "plt.style.use('ggplot')"
   ]
  },
  {
   "cell_type": "markdown",
   "id": "1fa8afa7",
   "metadata": {},
   "source": [
    "#### Generalize this to a function that takes in n (the number of points), the slope (b1), and intercept (b0). It should return x and y."
   ]
  },
  {
   "cell_type": "code",
   "execution_count": 101,
   "id": "dc5dbc3b",
   "metadata": {},
   "outputs": [
    {
     "name": "stderr",
     "output_type": "stream",
     "text": [
      "/opt/anaconda3/lib/python3.11/site-packages/seaborn/_oldcore.py:1119: FutureWarning: use_inf_as_na option is deprecated and will be removed in a future version. Convert inf values to NaN before operating instead.\n",
      "  with pd.option_context('mode.use_inf_as_na', True):\n",
      "/opt/anaconda3/lib/python3.11/site-packages/seaborn/_oldcore.py:1119: FutureWarning: use_inf_as_na option is deprecated and will be removed in a future version. Convert inf values to NaN before operating instead.\n",
      "  with pd.option_context('mode.use_inf_as_na', True):\n"
     ]
    },
    {
     "data": {
      "image/png": "[encoded data removed]",
      "text/plain": [
       "<Figure size 600x600 with 3 Axes>"
      ]
     },
     "metadata": {},
     "output_type": "display_data"
    }
   ],
   "source": [
    "def regpractice(n,b1,b0):\n",
    "\n",
    "    e = np.random.normal(0, 10, n)\n",
    "    x = np.random.randint(0,100, size = n)\n",
    "    for es in e: \n",
    "        y = (x*b1) + b0 + e \n",
    "    return x,y\n",
    "data = regpractice(10000,9,3)\n",
    "sns.jointplot(x = data[0],y = data[1], scatter = True, kind = 'reg',color = 'r')\n",
    "plt.style.use('ggplot')"
   ]
  },
  {
   "cell_type": "markdown",
   "id": "13dcfd75",
   "metadata": {},
   "source": [
    "Inverse computation: Due to the availability of derivaties, an exact solution can be found for the $\\beta$ values. Using the following equations to calculate the beta values."
   ]
  },
  {
   "cell_type": "markdown",
   "id": "b230ac81",
   "metadata": {},
   "source": [
    "$\\beta_1 = \\frac{\\sum_{i=1}^{n} (x_i - \\bar{x})(y_i - \\bar{y})}{\\sum_{i=1}^{n} (x_i - \\bar{x})^2}$\n",
    "\n",
    "    \n",
    "$\\beta_0 = \\bar{y} - \\beta_1 \\bar{x}$\n"
   ]
  },
  {
   "cell_type": "code",
   "execution_count": 119,
   "id": "77113a30",
   "metadata": {},
   "outputs": [
    {
     "name": "stdout",
     "output_type": "stream",
     "text": [
      "We inversely calculated b1 = 9.01, b0 = 2.33.\n"
     ]
    }
   ],
   "source": [
    "# your code\n",
    "\n",
    "def regpractice(n,b1,b0):\n",
    "\n",
    "    e = np.random.normal(0, 10, n)\n",
    "    x = np.random.randint(0,100, size = n)\n",
    "    for es in e: \n",
    "        y = (x*b1) + b0 + e \n",
    "    return x,y\n",
    "data = regpractice(10000,9,3)\n",
    "\n",
    "def inverse(x,y):\n",
    "    b1 = round((np.std(x)*np.std(y))/(np.var(x) ),2)\n",
    "    b0 = round((np.mean(y))-b1*(np.mean(x)),2)\n",
    "    return (f'We inversely calculated b1 = {b1}, b0 = {b0}.')\n",
    "    \n",
    "print(inverse(data[0], data[1]))"
   ]
  },
  {
   "cell_type": "code",
   "execution_count": null,
   "id": "cbc2b6f5",
   "metadata": {},
   "outputs": [],
   "source": []
  },
  {
   "cell_type": "markdown",
   "id": "b7b03508",
   "metadata": {},
   "source": [
    "### Challenge: What happens when you increase the sample size? Calculate the error of your estimated $\\beta_1$ to the real $\\beta_1$ and plot your error as the sample size increases."
   ]
  },
  {
   "cell_type": "code",
   "execution_count": null,
   "id": "5448f1e3",
   "metadata": {},
   "outputs": [],
   "source": []
  },
  {
   "cell_type": "code",
   "execution_count": null,
   "id": "ec408f06",
   "metadata": {},
   "outputs": [],
   "source": []
  }
 ],
 "metadata": {
  "kernelspec": {
   "display_name": "Python 3 (ipykernel)",
   "language": "python",
   "name": "python3"
  },
  "language_info": {
   "codemirror_mode": {
    "name": "ipython",
    "version": 3
   },
   "file_extension": ".py",
   "mimetype": "text/x-python",
   "name": "python",
   "nbconvert_exporter": "python",
   "pygments_lexer": "ipython3",
   "version": "3.11.8"
  }
 },
 "nbformat": 4,
 "nbformat_minor": 5
}
