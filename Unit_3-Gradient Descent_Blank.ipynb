{
 "cells": [
  {
   "cell_type": "code",
   "execution_count": 1,
   "id": "b762d8a6",
   "metadata": {},
   "outputs": [],
   "source": [
    "import pandas as pd"
   ]
  },
  {
   "cell_type": "code",
   "execution_count": 2,
   "id": "362bd968",
   "metadata": {},
   "outputs": [],
   "source": [
    "import numpy as np\n",
    "import matplotlib.pyplot as plt\n",
    "\n",
    "# Gradient Descent Parameters\n",
    "alpha = learning_rate = 0.01\n",
    "iterations = 1000"
   ]
  },
  {
   "cell_type": "markdown",
   "id": "18f1c559",
   "metadata": {},
   "source": [
    "Like last time, generate synthetic date with $\\beta_0 = 5$ and $\\beta_1 = 3$. 1000 points should be fine. You should have an array of x and y values."
   ]
  },
  {
   "cell_type": "code",
   "execution_count": 3,
   "id": "08f6537f",
   "metadata": {},
   "outputs": [],
   "source": [
    "# Your code"
   ]
  },
  {
   "cell_type": "markdown",
   "id": "20a4425a",
   "metadata": {},
   "source": [
    "In the real world, you do not know these beta values. Your goal is to find them! So, pretending you do not know $\\beta_0 = 5$ and $\\beta_1 = 3$, proceed as if you only observe x and y."
   ]
  },
  {
   "cell_type": "markdown",
   "id": "7a28766a",
   "metadata": {},
   "source": [
    "First, randomly guess $\\beta_0$ and $\\beta_1$, using the random operations in numpy."
   ]
  },
  {
   "cell_type": "code",
   "execution_count": 6,
   "id": "c1ee5ea1",
   "metadata": {},
   "outputs": [],
   "source": [
    "# Your code to randomly guess b0 and b1"
   ]
  },
  {
   "cell_type": "markdown",
   "id": "4404c65b",
   "metadata": {},
   "source": [
    "Write a function to compute the cost. This should be $\\frac{1}{n} \\sum ( y_{pred} - y )^2$. This is known as mean square loss. Your function should take in the real x and y values, then your guess of b0 and b1, then compute the loss."
   ]
  },
  {
   "cell_type": "code",
   "execution_count": null,
   "id": "b9f830ee",
   "metadata": {},
   "outputs": [],
   "source": [
    "# Code for mean squared error (MSE)"
   ]
  },
  {
   "cell_type": "markdown",
   "id": "5b923609",
   "metadata": {},
   "source": [
    "We are now going to walk through one iteration of gradient descent.\n",
    "* Using the existing guesses for $\\beta_0$ and $\\beta_1$, generate predictions for y\n",
    "* Calculate the gradients for $\\beta_0$ and $\\beta_1$ then use it to update the existing $\\beta$ values.\n",
    "* Compute the cost."
   ]
  },
  {
   "cell_type": "code",
   "execution_count": null,
   "id": "82253a57",
   "metadata": {},
   "outputs": [],
   "source": [
    "# Code for one iteration."
   ]
  },
  {
   "cell_type": "markdown",
   "id": "a5564e8e",
   "metadata": {},
   "source": [
    "Write a for loop that iterates through the total iterations (1000). Within each loop, update $\\beta_0$ and $\\beta_1$.\n",
    "\n",
    "Also, create an empty list that saves the cost each iteration, and two other lists for $\\beta_0$ and $\\beta_1$. You want to see that the loss is going down. To check this, print the loss every 100 iterations."
   ]
  },
  {
   "cell_type": "code",
   "execution_count": null,
   "id": "771ea848",
   "metadata": {},
   "outputs": [],
   "source": [
    "# Gradient Descent Function\n",
    "def gradient_descent(x, y, learning_rate, iterations):\n",
    "    # your code here\n",
    "    \n",
    "    return b0, b1, cost_history\n",
    "\n",
    "# Run Gradient Descent\n",
    "final_b0, final_b1, cost_history = gradient_descent(X, y,learning_rate, iterations)"
   ]
  },
  {
   "cell_type": "code",
   "execution_count": null,
   "id": "44ab091e",
   "metadata": {},
   "outputs": [],
   "source": []
  },
  {
   "cell_type": "markdown",
   "id": "ce94a15a",
   "metadata": {},
   "source": [
    "Plot a scatter plot of the x and y, then your regression line. You should use plt.plot and input predicted y values based on $x_{min}$ and $x_{max}$."
   ]
  },
  {
   "cell_type": "code",
   "execution_count": null,
   "id": "1e9453e3",
   "metadata": {},
   "outputs": [],
   "source": []
  },
  {
   "cell_type": "markdown",
   "id": "d244c2b0",
   "metadata": {},
   "source": [
    "Plot the cost overtime. X-axis is the iteration, y-axis is the cost."
   ]
  },
  {
   "cell_type": "code",
   "execution_count": null,
   "id": "cc2960d5",
   "metadata": {},
   "outputs": [],
   "source": []
  },
  {
   "cell_type": "markdown",
   "id": "9abdf254",
   "metadata": {},
   "source": [
    "Plot the evolution of the beta values."
   ]
  },
  {
   "cell_type": "code",
   "execution_count": null,
   "id": "60ef40ad",
   "metadata": {},
   "outputs": [],
   "source": []
  },
  {
   "cell_type": "code",
   "execution_count": null,
   "id": "f6e69352",
   "metadata": {},
   "outputs": [],
   "source": []
  },
  {
   "cell_type": "code",
   "execution_count": null,
   "id": "30f606fd",
   "metadata": {},
   "outputs": [],
   "source": []
  }
 ],
 "metadata": {
  "kernelspec": {
   "display_name": "Python 3 (ipykernel)",
   "language": "python",
   "name": "python3"
  },
  "language_info": {
   "codemirror_mode": {
    "name": "ipython",
    "version": 3
   },
   "file_extension": ".py",
   "mimetype": "text/x-python",
   "name": "python",
   "nbconvert_exporter": "python",
   "pygments_lexer": "ipython3",
   "version": "3.9.12"
  }
 },
 "nbformat": 4,
 "nbformat_minor": 5
}
