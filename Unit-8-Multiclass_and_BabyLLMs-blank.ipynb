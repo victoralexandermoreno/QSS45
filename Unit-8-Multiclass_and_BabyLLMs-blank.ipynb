{
 "cells": [
  {
   "cell_type": "code",
   "execution_count": 41,
   "id": "36b081e8",
   "metadata": {},
   "outputs": [],
   "source": [
    "import pandas as pd\n",
    "import torch\n",
    "import torch.nn as nn\n",
    "import torch.optim as optim\n",
    "import torch.nn.functional as F\n",
    "from torch.utils.data import DataLoader, TensorDataset\n",
    "from sklearn.model_selection import train_test_split\n",
    "from sklearn.preprocessing import StandardScaler\n",
    "from palmerpenguins import load_penguins"
   ]
  },
  {
   "cell_type": "code",
   "execution_count": null,
   "id": "a15277e8-42c4-4180-94d9-42a3ab4cd83b",
   "metadata": {},
   "outputs": [],
   "source": [
    "peng = load_penguins()"
   ]
  },
  {
   "cell_type": "code",
   "execution_count": 107,
   "id": "0422a338",
   "metadata": {},
   "outputs": [],
   "source": [
    "peng_orig = load_penguins()"
   ]
  },
  {
   "cell_type": "code",
   "execution_count": 109,
   "id": "6239f292-bf52-4c3b-bb20-42fe11f9b585",
   "metadata": {},
   "outputs": [
    {
     "data": {
      "text/plain": [
       "array(['Adelie', 'Gentoo', 'Chinstrap'], dtype=object)"
      ]
     },
     "execution_count": 109,
     "metadata": {},
     "output_type": "execute_result"
    }
   ],
   "source": []
  },
  {
   "cell_type": "code",
   "execution_count": null,
   "id": "0d79c649-0b80-4309-80e9-6cd8b028c084",
   "metadata": {},
   "outputs": [],
   "source": []
  },
  {
   "cell_type": "markdown",
   "id": "329c7748",
   "metadata": {},
   "source": [
    "#### Pre-processing data\n",
    "* Using pd.factorize(), transform the categorical variables into numbers.\n",
    "* Afterward, impute the missing values for each column by the mean.\n",
    "* Then, using train_test_split, generate a 80-20 split"
   ]
  },
  {
   "cell_type": "code",
   "execution_count": 91,
   "id": "7d2abb44",
   "metadata": {},
   "outputs": [
    {
     "name": "stdout",
     "output_type": "stream",
     "text": [
      "Variable types:\n",
      "species                int64\n",
      "island                 int64\n",
      "bill_length_mm       float64\n",
      "bill_depth_mm        float64\n",
      "flipper_length_mm    float64\n",
      "body_mass_g          float64\n",
      "sex                    int64\n",
      "year                   int64\n",
      "dtype: object\n",
      "\n",
      "NA counts by feature:\n",
      "species              0\n",
      "island               0\n",
      "bill_length_mm       0\n",
      "bill_depth_mm        0\n",
      "flipper_length_mm    0\n",
      "body_mass_g          0\n",
      "sex                  0\n",
      "year                 0\n",
      "dtype: int64\n",
      "\n",
      "Updated NA counts by feature:\n",
      "species              0\n",
      "island               0\n",
      "bill_length_mm       0\n",
      "bill_depth_mm        0\n",
      "flipper_length_mm    0\n",
      "body_mass_g          0\n",
      "sex                  0\n",
      "year                 0\n",
      "dtype: int64\n"
     ]
    }
   ],
   "source": [
    "## Check var types\n",
    "print(f'Variable types:\\n{peng.dtypes}')\n",
    "print('')\n",
    "\n",
    "## Factorize to convert to categorical type\n",
    "peng[['species', 'island', 'sex']] = peng[['species', 'island', 'sex']].apply(lambda x: pd.factorize(x)[0])\n",
    "\n",
    "## Check NAs for each variable\n",
    "print(f'NA counts by feature:\\n{peng.isna().sum()}')\n",
    "print('')\n",
    "\n",
    "## Impute NAs w/mean and then check to make sure it worked n all that \n",
    "peng.fillna(peng.mean(), inplace=True)\n",
    "print(f'Updated NA counts by feature:\\n{peng.isna().sum()}')"
   ]
  },
  {
   "cell_type": "code",
   "execution_count": 149,
   "id": "1303cb46-567e-4402-a984-65cc985b3223",
   "metadata": {},
   "outputs": [],
   "source": [
    "## Create y and X\n",
    "y = peng['species']\n",
    "X = peng.drop(columns = ['species']).reset_index(drop = True)\n",
    "\n",
    "## Create train, test split  \n",
    "X_train, X_test, y_train, y_test = train_test_split(X, y, train_size=0.8)\n",
    "\n",
    "## Fit scaler \n",
    "scaler = StandardScaler() ## will put our data on normal scale --> impt for gradient descent convergence \n",
    "X_train = scaler.fit_transform(X_train)\n",
    "X_test = scaler.transform(X_test)\n",
    "\n",
    "## convert to numpy arrays to fix error w df \n",
    "y_train = y_train.to_numpy()\n",
    "y_test = y_test.to_numpy()\n",
    "\n",
    "\n",
    "## Convert to PyTorch tensors\n",
    "X_train_tensor = torch.tensor(X_train, dtype=torch.float32)\n",
    "y_train_tensor = torch.tensor(y_train, dtype=torch.long)\n",
    "X_test_tensor = torch.tensor(X_test, dtype=torch.float32)\n",
    "y_test_tensor = torch.tensor(y_test, dtype=torch.long)"
   ]
  },
  {
   "cell_type": "code",
   "execution_count": 152,
   "id": "0b05ba9a",
   "metadata": {},
   "outputs": [],
   "source": [
    "## Define model\n",
    "class penguinNet(nn.Module):\n",
    "    def __init__(self, input_size, hidden_size, output_size):\n",
    "        super(penguinNet, self).__init__()\n",
    "\n",
    "        ## Set up our dense layer -- which will connect each input feature to hidden layer \n",
    "        self.linear1 = nn.Linear(input_size, hidden_size) \n",
    "\n",
    "        ## Set up 2nd linear layer, which will output a vector of size = number of classes (3, for 3 species)\n",
    "        self.linear2 = nn.Linear(hidden_size, output_size)  \n",
    "    \n",
    "    def forward(self, x):\n",
    "        ## Pass our predictors through the linear layer ... input_size -> hidden_size\n",
    "        out = self.linear1(x)\n",
    "        ## Now pass the above through our non-linear layer \n",
    "        out = F.relu(out)\n",
    "        ## Run the above through our 2nd linear layer and map to the number of classes (3) we are looking at.... hidden_size -> output_size, 3 classes \n",
    "        out = self.linear2(out)  \n",
    "\n",
    "        ## return the raw scores \n",
    "        return out \n",
    "\n"
   ]
  },
  {
   "cell_type": "code",
   "execution_count": 153,
   "id": "b6e92e15-bb8c-4da4-b431-465653c6630f",
   "metadata": {},
   "outputs": [
    {
     "name": "stdout",
     "output_type": "stream",
     "text": [
      "Epoch [5/100], Loss: 0.8929\n",
      "Epoch [10/100], Loss: 0.6598\n",
      "Epoch [15/100], Loss: 0.4618\n",
      "Epoch [20/100], Loss: 0.3041\n",
      "Epoch [25/100], Loss: 0.1906\n",
      "Epoch [30/100], Loss: 0.1179\n",
      "Epoch [35/100], Loss: 0.0773\n",
      "Epoch [40/100], Loss: 0.0551\n",
      "Epoch [45/100], Loss: 0.0419\n",
      "Epoch [50/100], Loss: 0.0339\n",
      "Epoch [55/100], Loss: 0.0287\n",
      "Epoch [60/100], Loss: 0.0247\n",
      "Epoch [65/100], Loss: 0.0216\n",
      "Epoch [70/100], Loss: 0.0192\n",
      "Epoch [75/100], Loss: 0.0173\n",
      "Epoch [80/100], Loss: 0.0157\n",
      "Epoch [85/100], Loss: 0.0144\n",
      "Epoch [90/100], Loss: 0.0133\n",
      "Epoch [95/100], Loss: 0.0125\n",
      "Epoch [100/100], Loss: 0.0118\n"
     ]
    }
   ],
   "source": [
    "## Number of features \n",
    "input_size = 7\n",
    "## Number of hidden layers \n",
    "hidden_size = 16  \n",
    "## Out output \n",
    "output_size = 3  \n",
    "\n",
    "## Run model \n",
    "model = penguinNet(input_size, hidden_size, output_size)\n",
    "\n",
    "## Find loss \n",
    "criterion = nn.CrossEntropyLoss() \n",
    "\n",
    "## Set up Adam optimizer to update the weights with learning rate = 0.01\n",
    "optimizer = optim.Adam(model.parameters(), lr=0.01)  \n",
    "\n",
    "num_epochs = 100\n",
    "for epoch in range(num_epochs):\n",
    "    ## Set to training mode \n",
    "    model.train() \n",
    "\n",
    "    ## Pass data thru the model \n",
    "    predictions = model(X_train_tensor)\n",
    "\n",
    "    ## Calculate how far off we were \n",
    "    loss = criterion(predictions, y_train_tensor)\n",
    "\n",
    "    ## not sure what this line does actually \n",
    "    optimizer.zero_grad()  \n",
    "\n",
    "    ## Find loss gradient \n",
    "    loss.backward()  \n",
    "\n",
    "    ## Update the weights \n",
    "    optimizer.step()\n",
    "    \n",
    "    if (epoch+1) % 5 == 0:\n",
    "        print(f'Epoch [{epoch+1}/{num_epochs}], Loss: {loss.item():.4f}')\n"
   ]
  },
  {
   "cell_type": "markdown",
   "id": "741f0cd9",
   "metadata": {},
   "source": [
    "#### Run this to evaluate your model!"
   ]
  },
  {
   "cell_type": "code",
   "execution_count": 154,
   "id": "0c9c3218",
   "metadata": {},
   "outputs": [
    {
     "name": "stdout",
     "output_type": "stream",
     "text": [
      "Test Accuracy: 100.00%\n"
     ]
    }
   ],
   "source": [
    "with torch.no_grad():\n",
    "    ## Forward pass on the test set\n",
    "    outputs = model(X_test_tensor)\n",
    "    \n",
    "    ## Get predicted classes\n",
    "    _, ypred = torch.max(outputs, 1)\n",
    "    \n",
    "    ## Calculate accuracy\n",
    "    total = y_test_tensor.size(0)\n",
    "    correct = (ypred == y_test_tensor).sum().item()\n",
    "    accuracy = correct / total * 100\n",
    "    print(f\"Test Accuracy: {accuracy:.2f}%\")"
   ]
  },
  {
   "cell_type": "markdown",
   "id": "7a5c6392",
   "metadata": {},
   "source": [
    "### Generate a confusion matrix of the classifications"
   ]
  },
  {
   "cell_type": "code",
   "execution_count": 156,
   "id": "04e8f4c6",
   "metadata": {},
   "outputs": [
    {
     "name": "stdout",
     "output_type": "stream",
     "text": [
      "Performance Report:\n",
      "               precision    recall  f1-score   support\n",
      "\n",
      "           0       1.00      1.00      1.00        29\n",
      "           1       1.00      1.00      1.00        29\n",
      "           2       1.00      1.00      1.00        11\n",
      "\n",
      "    accuracy                           1.00        69\n",
      "   macro avg       1.00      1.00      1.00        69\n",
      "weighted avg       1.00      1.00      1.00        69\n",
      "\n"
     ]
    },
    {
     "data": {
      "image/png": "[encoded data removed]",
      "text/plain": [
       "<Figure size 640x480 with 2 Axes>"
      ]
     },
     "metadata": {},
     "output_type": "display_data"
    }
   ],
   "source": [
    "from sklearn.metrics import classification_report, confusion_matrix\n",
    "import seaborn as sns\n",
    "import matplotlib.pyplot as plt\n",
    "\n",
    "## Look at all our performance metrics at once \n",
    "print(\"Performance Report:\\n\", classification_report(y_test, ypred))\n",
    "\n",
    "## Make the confusion matrix \n",
    "confusion_model = confusion_matrix(y_test, ypred)\n",
    "\n",
    "## Plot the above \n",
    "sns.heatmap(confusion_model, annot=True, fmt='d', \n",
    "              cmap='Spectral',\n",
    "            xticklabels=list(peng_orig.species.unique()),  \n",
    "            yticklabels=list(peng_orig.species.unique()))\n",
    "plt.xlabel('Predicted Species')\n",
    "plt.ylabel('Actual Species')\n",
    "plt.show()\n"
   ]
  },
  {
   "cell_type": "code",
   "execution_count": null,
   "id": "dc64b4de",
   "metadata": {},
   "outputs": [],
   "source": []
  },
  {
   "cell_type": "code",
   "execution_count": null,
   "id": "1695fdb5",
   "metadata": {},
   "outputs": [],
   "source": []
  },
  {
   "cell_type": "markdown",
   "id": "78f84d12",
   "metadata": {},
   "source": [
    "# Word2Vec: The Prehistoric LLM"
   ]
  },
  {
   "cell_type": "code",
   "execution_count": 157,
   "id": "1f2bc8a6",
   "metadata": {},
   "outputs": [],
   "source": [
    "# Import libraries\n",
    "import nltk\n",
    "from nltk.corpus import reuters\n",
    "from nltk.tokenize import word_tokenize\n",
    "from gensim.models import Word2Vec\n",
    "import matplotlib.pyplot as plt\n",
    "from sklearn.decomposition import PCA\n",
    "from sklearn.manifold import TSNE\n",
    "import numpy as np"
   ]
  },
  {
   "cell_type": "code",
   "execution_count": 158,
   "id": "a1bbcdbf",
   "metadata": {},
   "outputs": [
    {
     "name": "stderr",
     "output_type": "stream",
     "text": [
      "[nltk_data] Downloading package reuters to\n",
      "[nltk_data]     /Users/vicmoreno/nltk_data...\n",
      "[nltk_data]   Package reuters is already up-to-date!\n",
      "[nltk_data] Downloading package punkt to /Users/vicmoreno/nltk_data...\n",
      "[nltk_data]   Package punkt is already up-to-date!\n"
     ]
    },
    {
     "data": {
      "text/plain": [
       "True"
      ]
     },
     "execution_count": 158,
     "metadata": {},
     "output_type": "execute_result"
    }
   ],
   "source": [
    "# Download necessary NLTK data files\n",
    "nltk.download('reuters')\n",
    "nltk.download('punkt')"
   ]
  },
  {
   "cell_type": "code",
   "execution_count": 141,
   "id": "b22fa03c",
   "metadata": {},
   "outputs": [],
   "source": [
    "# Load and preprocess the data\n",
    "sentences = []\n",
    "for fileid in reuters.fileids():\n",
    "    words = reuters.words(fileid)\n",
    "    sentences.append([word.lower() for word in words if word.isalpha()])\n",
    "\n",
    "# # Display a few example sentences\n",
    "# print(\"Example sentences:\")\n",
    "# for i in range(2):\n",
    "#     print(sentences[i])"
   ]
  },
  {
   "cell_type": "code",
   "execution_count": 160,
   "id": "a312ba68",
   "metadata": {},
   "outputs": [],
   "source": [
    "# Define and train the Word2Vec model\n",
    "model = Word2Vec(sentences, vector_size=40, \n",
    "                 window=5, \n",
    "                 min_count=5, \n",
    "                 sg=1, \n",
    "                 epochs=100)\n",
    "\n",
    "# # Display vocabulary size\n",
    "# print(\"Vocabulary size:\", len(model.wv))"
   ]
  },
  {
   "cell_type": "code",
   "execution_count": null,
   "id": "b7e1a3ec",
   "metadata": {},
   "outputs": [],
   "source": [
    "# Finding words similar to 'market'\n",
    "similar_words = model.wv.most_similar('market', topn=10)\n",
    "print(\"Words similar to 'market':\")\n",
    "\n",
    "for word, score in similar_words:\n",
    "    print(f\"{word}: {score}\")"
   ]
  },
  {
   "cell_type": "code",
   "execution_count": null,
   "id": "0c58201b",
   "metadata": {},
   "outputs": [],
   "source": [
    "# Choose a subset of words for visualization\n",
    "words = ['market', 'economy', 'trade', 'finance', 'investment', 'growth', 'bank', 'money', 'stocks', 'currency']\n",
    "word_vectors = np.array([model.wv[word] \n",
    "                         for w in words \n",
    "                         if w in model.wv])\n",
    "\n",
    "# Reduce dimensions with t-SNE\n",
    "tsne = TSNE(n_components=2, random_state=0, perplexity=2,)\n",
    "word_vectors_2d = tsne.fit_transform(word_vectors)\n",
    "\n"
   ]
  },
  {
   "cell_type": "code",
   "execution_count": null,
   "id": "577a869f",
   "metadata": {},
   "outputs": [],
   "source": [
    "# Plot the words and their vectors\n",
    "plt.figure(figsize=(10, 8))\n",
    "plt.scatter(word_vectors_2d[:, 0], word_vectors_2d[:, 1])\n",
    "\n",
    "# Annotate each point with the word\n",
    "for i, word in enumerate(words):\n",
    "    if word in model.wv:\n",
    "        plt.annotate(word, xy=(word_vectors_2d[i, 0], word_vectors_2d[i, 1]))\n",
    "\n",
    "plt.title(\"Word Embedding Visualization with t-SNE\")\n",
    "plt.xlabel(\"Dimension 1\")\n",
    "plt.ylabel(\"Dimension 2\")\n",
    "\n"
   ]
  },
  {
   "cell_type": "markdown",
   "id": "f3c76ae6",
   "metadata": {},
   "source": [
    "## Exploring word2vec\n",
    "* First, use two of your favorite word and identify the top 40 similar words.\n",
    "* Then transform those words into vectors.\n",
    "* Using Principal component analysis, plot the 80 words using MatPlotLib, coloring the two word groups differently\n"
   ]
  },
  {
   "cell_type": "code",
   "execution_count": 165,
   "id": "b9078a24",
   "metadata": {},
   "outputs": [
    {
     "name": "stdout",
     "output_type": "stream",
     "text": [
      "Words similar to 'hunger':\n",
      "strike: 0.7807148098945618\n",
      "lechin: 0.7494771480560303\n",
      "launch: 0.7262098789215088\n",
      "dockworkers: 0.6960565447807312\n",
      "workers: 0.6929803490638733\n",
      "stoppage: 0.6800636649131775\n",
      "strikes: 0.672353982925415\n",
      "miners: 0.6704554557800293\n",
      "guided: 0.6676190495491028\n",
      "comibol: 0.6662057042121887\n"
     ]
    }
   ],
   "source": [
    "# Finding words similar to 'market'\n",
    "similar_words = model.wv.most_similar('hunger', topn=10)\n",
    "print(\"Words similar to 'hunger':\")\n",
    "\n",
    "for word, score in similar_words:\n",
    "    print(f\"{word}: {score}\")"
   ]
  },
  {
   "cell_type": "code",
   "execution_count": 166,
   "id": "31002821",
   "metadata": {},
   "outputs": [
    {
     "ename": "NameError",
     "evalue": "name 'word_vectors_2d' is not defined",
     "output_type": "error",
     "traceback": [
      "\u001b[0;31m---------------------------------------------------------------------------\u001b[0m",
      "\u001b[0;31mNameError\u001b[0m                                 Traceback (most recent call last)",
      "Cell \u001b[0;32mIn[166], line 3\u001b[0m\n\u001b[1;32m      1\u001b[0m \u001b[38;5;66;03m# Plot the words and their vectors\u001b[39;00m\n\u001b[1;32m      2\u001b[0m plt\u001b[38;5;241m.\u001b[39mfigure(figsize\u001b[38;5;241m=\u001b[39m(\u001b[38;5;241m10\u001b[39m, \u001b[38;5;241m8\u001b[39m))\n\u001b[0;32m----> 3\u001b[0m plt\u001b[38;5;241m.\u001b[39mscatter(word_vectors_2d[:, \u001b[38;5;241m0\u001b[39m], word_vectors_2d[:, \u001b[38;5;241m1\u001b[39m])\n\u001b[1;32m      5\u001b[0m \u001b[38;5;66;03m# Annotate each point with the word\u001b[39;00m\n\u001b[1;32m      6\u001b[0m \u001b[38;5;28;01mfor\u001b[39;00m i, word \u001b[38;5;129;01min\u001b[39;00m \u001b[38;5;28menumerate\u001b[39m(words):\n",
      "\u001b[0;31mNameError\u001b[0m: name 'word_vectors_2d' is not defined"
     ]
    },
    {
     "data": {
      "text/plain": [
       "<Figure size 1000x800 with 0 Axes>"
      ]
     },
     "metadata": {},
     "output_type": "display_data"
    }
   ],
   "source": [
    "# Plot the words and their vectors\n",
    "plt.figure(figsize=(10, 8))\n",
    "plt.scatter(word_vectors_2d[:, 0], word_vectors_2d[:, 1])\n",
    "\n",
    "# Annotate each point with the word\n",
    "for i, word in enumerate(words):\n",
    "    if word in model.wv:\n",
    "        plt.annotate(word, xy=(word_vectors_2d[i, 0], word_vectors_2d[i, 1]))\n",
    "\n",
    "plt.title(\"Word Embedding Visualization with t-SNE\")\n",
    "plt.xlabel(\"Dimension 1\")\n",
    "plt.ylabel(\"Dimension 2\")\n",
    "\n"
   ]
  },
  {
   "cell_type": "code",
   "execution_count": null,
   "id": "12c30900",
   "metadata": {},
   "outputs": [],
   "source": []
  },
  {
   "cell_type": "code",
   "execution_count": null,
   "id": "57abeff8",
   "metadata": {},
   "outputs": [],
   "source": []
  }
 ],
 "metadata": {
  "kernelspec": {
   "display_name": "Python 3 (ipykernel)",
   "language": "python",
   "name": "python3"
  },
  "language_info": {
   "codemirror_mode": {
    "name": "ipython",
    "version": 3
   },
   "file_extension": ".py",
   "mimetype": "text/x-python",
   "name": "python",
   "nbconvert_exporter": "python",
   "pygments_lexer": "ipython3",
   "version": "3.11.8"
  }
 },
 "nbformat": 4,
 "nbformat_minor": 5
}
