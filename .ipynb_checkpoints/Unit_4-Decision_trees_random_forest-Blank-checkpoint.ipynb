{
 "cells": [
  {
   "cell_type": "code",
   "execution_count": null,
   "id": "98620902",
   "metadata": {},
   "outputs": [],
   "source": [
    "import numpy as np\n",
    "import pandas as pd\n",
    "import matplotlib.pyplot as plt\n",
    "import seaborn as sns\n",
    "from sklearn.model_selection import train_test_split\n",
    "from sklearn.preprocessing import LabelEncoder\n",
    "from sklearn.tree import DecisionTreeClassifier\n",
    "from sklearn.ensemble import RandomForestClassifier\n",
    "from sklearn.metrics import accuracy_score, classification_report, confusion_matrix"
   ]
  },
  {
   "cell_type": "code",
   "execution_count": null,
   "id": "92bfa316",
   "metadata": {},
   "outputs": [],
   "source": [
    "from sklearn import tree"
   ]
  },
  {
   "cell_type": "markdown",
   "id": "cd797594",
   "metadata": {},
   "source": [
    "# First step into machine learning beyond classic regression"
   ]
  },
  {
   "cell_type": "code",
   "execution_count": null,
   "id": "e31ef33c",
   "metadata": {},
   "outputs": [],
   "source": [
    "# Warm Up\n",
    "R1 = np.array([5,8,9])\n",
    "R2 = np.array([1,0,20])"
   ]
  },
  {
   "cell_type": "markdown",
   "id": "77f5fae3",
   "metadata": {},
   "source": [
    "Calculate the a) Gini co-efficient and b) entropy for R1. Then, write a function that takes in a normalized vector and outputs the Gini co-efficent and Entropy."
   ]
  },
  {
   "cell_type": "code",
   "execution_count": null,
   "id": "79ef3c08",
   "metadata": {},
   "outputs": [],
   "source": []
  },
  {
   "cell_type": "markdown",
   "id": "f56ccfe1",
   "metadata": {},
   "source": [
    "Calculate the weighted sums."
   ]
  },
  {
   "cell_type": "code",
   "execution_count": null,
   "id": "0fc736fb",
   "metadata": {},
   "outputs": [],
   "source": []
  },
  {
   "cell_type": "code",
   "execution_count": null,
   "id": "8d976291",
   "metadata": {},
   "outputs": [],
   "source": []
  },
  {
   "cell_type": "markdown",
   "id": "3559c86b",
   "metadata": {},
   "source": [
    "# Decision Trees"
   ]
  },
  {
   "cell_type": "markdown",
   "id": "242125d7",
   "metadata": {},
   "source": [
    "Here, we will implement once again the titanic dataset."
   ]
  },
  {
   "cell_type": "code",
   "execution_count": null,
   "id": "0e3cd646",
   "metadata": {},
   "outputs": [],
   "source": [
    "# Load the Titanic dataset\n",
    "titanic = sns.load_dataset('titanic')"
   ]
  },
  {
   "cell_type": "markdown",
   "id": "d4eba8f7",
   "metadata": {},
   "source": [
    "There are missing values for age. Replace the nans with the median age."
   ]
  },
  {
   "cell_type": "code",
   "execution_count": null,
   "id": "0f96c922",
   "metadata": {},
   "outputs": [],
   "source": [
    "# your code"
   ]
  },
  {
   "cell_type": "markdown",
   "id": "37842a5f",
   "metadata": {},
   "source": [
    "Drop the following columns: 'who', 'embarked', 'parch', 'fare', 'deck', 'embark_town', 'alive'"
   ]
  },
  {
   "cell_type": "code",
   "execution_count": null,
   "id": "7a704d31",
   "metadata": {},
   "outputs": [],
   "source": [
    "# your code"
   ]
  },
  {
   "cell_type": "markdown",
   "id": "91885d21",
   "metadata": {},
   "source": [
    "Using label_encoder, transform the dataset into integer encodings."
   ]
  },
  {
   "cell_type": "code",
   "execution_count": null,
   "id": "8ce1de3a",
   "metadata": {},
   "outputs": [],
   "source": [
    "# Convert categorical columns to numeric using Label Encoding\n",
    "label_encoder = LabelEncoder()\n",
    "\n",
    "titanic['sex'] = label_encoder.fit_transform(titanic['sex'])  # Male: 1, Female: 0\n",
    "titanic['class'] = label_encoder.fit_transform(titanic['class'])  # 1st, 2nd, 3rd -> 0, 1, 2\n",
    "titanic['alone'] = label_encoder.fit_transform(titanic['alone'])"
   ]
  },
  {
   "cell_type": "markdown",
   "id": "75eb6bc3",
   "metadata": {},
   "source": [
    "# Set-up your training by specifying X and y"
   ]
  },
  {
   "cell_type": "markdown",
   "id": "4a977139",
   "metadata": {},
   "source": [
    "Use train_test_split to split the data and train."
   ]
  },
  {
   "cell_type": "code",
   "execution_count": null,
   "id": "1d32c8d0",
   "metadata": {},
   "outputs": [],
   "source": [
    "# Define features (X) and target (y)\n",
    "X = \n",
    "y = \n",
    "\n",
    "# Split the data into training and test sets (80% train, 20% test)\n",
    "X_train, X_test, y_train, y_test = train_test_split(X, y, test_size=0.2, random_state=42)\n",
    "\n",
    "print(f'Training set shape: {X_train.shape}, Test set shape: {X_test.shape}')"
   ]
  },
  {
   "cell_type": "code",
   "execution_count": null,
   "id": "959a9b4b",
   "metadata": {},
   "outputs": [],
   "source": [
    "# Create and train the Decision Tree Classifier\n",
    "decision_tree = DecisionTreeClassifier(random_state=42, criterion='gini',max_depth=2)\n",
    "decision_tree.fit(X_train, y_train)\n",
    "\n",
    "# Make predictions on the test set\n",
    "y_pred_dt = decision_tree.predict(X_test)"
   ]
  },
  {
   "cell_type": "code",
   "execution_count": null,
   "id": "30dd228e",
   "metadata": {},
   "outputs": [],
   "source": [
    "plt.figure(figsize=(20,10))\n",
    "tree.plot_tree(decision_tree, \n",
    "                   feature_names=feature_names,  \n",
    "                   class_names=[\"Survived\", \"Died\"],\n",
    "                   filled=True, max_depth=3,fontsize=20,\n",
    "      )\n",
    "print(\"\")"
   ]
  },
  {
   "cell_type": "markdown",
   "id": "fa9d5fe4",
   "metadata": {},
   "source": [
    "### Evaluating your results\n",
    "Now that you have your predicted values and actual values, plot a scatter plot and give the R2. What do you see?"
   ]
  },
  {
   "cell_type": "code",
   "execution_count": null,
   "id": "266b3531",
   "metadata": {},
   "outputs": [],
   "source": []
  },
  {
   "cell_type": "markdown",
   "id": "4be939e9",
   "metadata": {},
   "source": [
    "Calculate the accuracy, recall, and precision. Then, use the function confusion_matrix and sns.heatmap to plot a confusion matrix."
   ]
  },
  {
   "cell_type": "code",
   "execution_count": null,
   "id": "618c6ce5",
   "metadata": {},
   "outputs": [],
   "source": [
    "# Your Code"
   ]
  },
  {
   "cell_type": "markdown",
   "id": "5c0924e9",
   "metadata": {},
   "source": [
    "### Change the cost criterion from Gini to entropy\n",
    "Does this change the performance metric?"
   ]
  },
  {
   "cell_type": "code",
   "execution_count": null,
   "id": "b596d9f8",
   "metadata": {},
   "outputs": [],
   "source": [
    "# Your code"
   ]
  },
  {
   "cell_type": "code",
   "execution_count": null,
   "id": "f2bc4724",
   "metadata": {},
   "outputs": [],
   "source": []
  },
  {
   "cell_type": "markdown",
   "id": "e7321360",
   "metadata": {},
   "source": [
    "### Hyperparameter tuning: How does performance change with increased max depth?\n",
    "Write code that increases the max depth from 1 to 5, then plot on one figure how this impacts the accuracy, recall, and precision."
   ]
  },
  {
   "cell_type": "code",
   "execution_count": null,
   "id": "3eea0f96",
   "metadata": {},
   "outputs": [],
   "source": []
  },
  {
   "cell_type": "code",
   "execution_count": null,
   "id": "2f7d95a1",
   "metadata": {},
   "outputs": [],
   "source": []
  },
  {
   "cell_type": "code",
   "execution_count": null,
   "id": "8fe1af4d",
   "metadata": {},
   "outputs": [],
   "source": []
  },
  {
   "cell_type": "markdown",
   "id": "e6885573",
   "metadata": {},
   "source": [
    "# Random Forest"
   ]
  },
  {
   "cell_type": "markdown",
   "id": "f749d0e8",
   "metadata": {},
   "source": [
    "Use the function RandomForestClassifier to train a classifier. "
   ]
  },
  {
   "cell_type": "code",
   "execution_count": null,
   "id": "6da68319",
   "metadata": {},
   "outputs": [],
   "source": [
    "%%time\n",
    "# Your Code"
   ]
  },
  {
   "cell_type": "markdown",
   "id": "97c9980e",
   "metadata": {},
   "source": [
    "How does this compare to the decision tree?"
   ]
  },
  {
   "cell_type": "markdown",
   "id": "30131208",
   "metadata": {},
   "source": [
    "## Grid search: Choose 10 values for n_estimators and 10 values for max_depth\n",
    "#### Plot a heatmap that shows the grid search on these values"
   ]
  },
  {
   "cell_type": "code",
   "execution_count": null,
   "id": "317e807f",
   "metadata": {},
   "outputs": [],
   "source": []
  },
  {
   "cell_type": "code",
   "execution_count": null,
   "id": "88c51e5a",
   "metadata": {},
   "outputs": [],
   "source": []
  },
  {
   "cell_type": "code",
   "execution_count": null,
   "id": "fe2f95ba",
   "metadata": {},
   "outputs": [],
   "source": []
  },
  {
   "cell_type": "markdown",
   "id": "aaabac1a",
   "metadata": {},
   "source": [
    "# Practice with a larger, multilabeled dataset"
   ]
  },
  {
   "cell_type": "markdown",
   "id": "6a8af2df",
   "metadata": {},
   "source": [
    "Seven types of tree cover:\n",
    "* Spruce/Fir\n",
    "* Lodgepole Pine\n",
    "* Ponderosa Pine\n",
    "* Cottonwood/Willow\n",
    "* Aspen\n",
    "* Douglas-fir\n",
    "* Krummholz"
   ]
  },
  {
   "cell_type": "code",
   "execution_count": null,
   "id": "668ccaf8",
   "metadata": {},
   "outputs": [],
   "source": [
    "# Load the dataset\n",
    "url = \"https://archive.ics.uci.edu/ml/machine-learning-databases/covtype/covtype.data.gz\"\n",
    "columns = [\n",
    "    'Elevation', 'Aspect', 'Slope', 'Horizontal_Distance_To_Hydrology', 'Vertical_Distance_To_Hydrology',\n",
    "    'Horizontal_Distance_To_Roadways', 'Hillshade_9am', 'Hillshade_Noon', 'Hillshade_3pm',\n",
    "    'Horizontal_Distance_To_Fire_Points', 'Wilderness_Area_1', 'Wilderness_Area_2', 'Wilderness_Area_3', 'Wilderness_Area_4',\n",
    "    'Soil_Type_1', 'Soil_Type_2', 'Soil_Type_3', 'Soil_Type_4', 'Soil_Type_5', 'Soil_Type_6', 'Soil_Type_7', 'Soil_Type_8',\n",
    "    'Soil_Type_9', 'Soil_Type_10', 'Soil_Type_11', 'Soil_Type_12', 'Soil_Type_13', 'Soil_Type_14', 'Soil_Type_15', 'Soil_Type_16',\n",
    "    'Soil_Type_17', 'Soil_Type_18', 'Soil_Type_19', 'Soil_Type_20', 'Soil_Type_21', 'Soil_Type_22', 'Soil_Type_23', 'Soil_Type_24',\n",
    "    'Soil_Type_25', 'Soil_Type_26', 'Soil_Type_27', 'Soil_Type_28', 'Soil_Type_29', 'Soil_Type_30', 'Soil_Type_31', 'Soil_Type_32',\n",
    "    'Soil_Type_33', 'Soil_Type_34', 'Soil_Type_35', 'Soil_Type_36', 'Soil_Type_37', 'Soil_Type_38', 'Soil_Type_39', 'Soil_Type_40',\n",
    "    'Cover_Type'\n",
    "]\n",
    "\n",
    "# Load the dataset\n",
    "df = pd.read_csv(url, header=None, names=columns)\n"
   ]
  },
  {
   "cell_type": "markdown",
   "id": "175b7f28",
   "metadata": {},
   "source": [
    "Split the data like above, train a decision tree and RF model, then compare the two."
   ]
  },
  {
   "cell_type": "code",
   "execution_count": null,
   "id": "447448c2",
   "metadata": {},
   "outputs": [],
   "source": []
  },
  {
   "cell_type": "code",
   "execution_count": null,
   "id": "00d71c1a",
   "metadata": {},
   "outputs": [],
   "source": []
  },
  {
   "cell_type": "code",
   "execution_count": null,
   "id": "919636b4",
   "metadata": {},
   "outputs": [],
   "source": []
  }
 ],
 "metadata": {
  "kernelspec": {
   "display_name": "Python 3 (ipykernel)",
   "language": "python",
   "name": "python3"
  },
  "language_info": {
   "codemirror_mode": {
    "name": "ipython",
    "version": 3
   },
   "file_extension": ".py",
   "mimetype": "text/x-python",
   "name": "python",
   "nbconvert_exporter": "python",
   "pygments_lexer": "ipython3",
   "version": "3.9.12"
  }
 },
 "nbformat": 4,
 "nbformat_minor": 5
}
