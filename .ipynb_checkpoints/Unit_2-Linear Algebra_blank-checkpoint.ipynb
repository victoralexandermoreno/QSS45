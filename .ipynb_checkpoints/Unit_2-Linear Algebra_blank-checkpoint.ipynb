{
 "cells": [
  {
   "cell_type": "markdown",
   "id": "c5206f0e",
   "metadata": {},
   "source": [
    "# Linear Algebra"
   ]
  },
  {
   "cell_type": "markdown",
   "id": "1410cb43",
   "metadata": {},
   "source": [
    "In this notebook, you will:\n",
    "\n",
    "* Perform linear algebra operations using NumPy.\n",
    "* Compare the efficiency of different approaches (for loops, apply, NumPy primitives) for vectorized operations.\n",
    "* Use timing functions to measure the performance of each approach."
   ]
  },
  {
   "cell_type": "code",
   "execution_count": null,
   "id": "18d4aa5f",
   "metadata": {},
   "outputs": [],
   "source": [
    "import numpy as np\n",
    "import pandas as pd\n",
    "import time\n",
    "import seaborn as sns\n",
    "import matplotlib.pyplot as plt"
   ]
  },
  {
   "cell_type": "markdown",
   "id": "28ec17f4",
   "metadata": {},
   "source": [
    "Addition, scalar multiplication, and multiplication"
   ]
  },
  {
   "cell_type": "code",
   "execution_count": null,
   "id": "2bc811dc",
   "metadata": {},
   "outputs": [],
   "source": [
    "arr = np.arange(1, 13)\n",
    "\n",
    "reshaped_matrix = arr.reshape(3, 4)"
   ]
  },
  {
   "cell_type": "code",
   "execution_count": null,
   "id": "578443e7",
   "metadata": {},
   "outputs": [],
   "source": [
    "int_array = np.array([1, 0, 3, 5])\n",
    "\n",
    "float_array = int_array.astype(float)\n",
    "\n",
    "bool_array = int_array.astype(bool)\n",
    "\n",
    "print(\"Original array (int):\")\n",
    "print(int_array)\n",
    "\n",
    "print(\"\\nArray cast to float:\")\n",
    "print(float_array)\n",
    "\n",
    "\n",
    "print(\"\\nArray cast to boolean:\")\n",
    "print(bool_array)"
   ]
  },
  {
   "cell_type": "code",
   "execution_count": null,
   "id": "24eb431b",
   "metadata": {},
   "outputs": [],
   "source": [
    "int_array = np.array([1, 0, 3, 5]).astype(np.int16)\n",
    "int_array.nbytes"
   ]
  },
  {
   "cell_type": "code",
   "execution_count": null,
   "id": "c051ce0f",
   "metadata": {},
   "outputs": [],
   "source": [
    "A = np.array([[1, 2, 3], \n",
    "              [4, 5, 6], \n",
    "              [7, 8, 9]])\n",
    "\n",
    "B = np.array([[1], [2], [3]])\n",
    "\n",
    "# Matrix multiplication using NumPy\n",
    "result = np.dot(A, B)\n",
    "print(\"Matrix multiplication result (A x B):\")\n",
    "print(result)\n",
    "\n",
    "# Transpose of a matrix\n",
    "A_transpose = A.T\n",
    "print(\"\\nTranspose of matrix A:\")\n",
    "print(A_transpose)"
   ]
  },
  {
   "cell_type": "markdown",
   "id": "6b3d1442",
   "metadata": {},
   "source": [
    "## Below find a collection of useful expressions.\n",
    "(Won't go over, test on own time)"
   ]
  },
  {
   "cell_type": "code",
   "execution_count": null,
   "id": "2fa8911a",
   "metadata": {},
   "outputs": [],
   "source": [
    "# 1. Create NumPy Arrays\n",
    "# Create a 1D array\n",
    "array_1d = np.array([1, 2, 3, 4, 5])\n",
    "print(\"1D array:\", array_1d)\n",
    "\n",
    "# Create a 2D array (matrix)\n",
    "array_2d = np.array([[1, 2, 3], [4, 5, 6], [7, 8, 9]])\n",
    "print(\"2D array:\\n\", array_2d)"
   ]
  },
  {
   "cell_type": "code",
   "execution_count": null,
   "id": "9245d98d",
   "metadata": {},
   "outputs": [],
   "source": [
    "# 2. Basic Array Operations\n",
    "# Element-wise addition, subtraction, multiplication, and division\n",
    "array_sum = array_1d + 2  # Add 2 to each element\n",
    "array_mul = array_1d * 3  # Multiply each element by 3\n",
    "print(\"Array after addition:\", array_sum)\n",
    "print(\"Array after multiplication:\", array_mul)"
   ]
  },
  {
   "cell_type": "code",
   "execution_count": null,
   "id": "6507a7d2",
   "metadata": {},
   "outputs": [],
   "source": [
    "# 3. Matrix Multiplication\n",
    "matrix_a = np.array([[1, 2], [3, 4]])\n",
    "matrix_b = np.array([[5, 6], [7, 8]])\n",
    "\n",
    "matrix_mul = np.dot(matrix_a, matrix_b)  # Matrix multiplication using dot product\n",
    "print(\"Matrix A:\\n\", matrix_a)\n",
    "print(\"Matrix B:\\n\", matrix_b)\n",
    "print(\"Matrix multiplication (A dot B):\\n\", matrix_mul)"
   ]
  },
  {
   "cell_type": "code",
   "execution_count": null,
   "id": "1695e225",
   "metadata": {},
   "outputs": [],
   "source": [
    "# 4. Array Slicing and Indexing\n",
    "# Access specific rows, columns, or elements\n",
    "print(\"First row of 2D array:\", array_2d[0])       # First row\n",
    "print(\"First column of 2D array:\", array_2d[:, 0]) # First column\n",
    "print(\"Element at position (1,1):\", array_2d[1, 1])  # Element at (1,1)"
   ]
  },
  {
   "cell_type": "code",
   "execution_count": null,
   "id": "f00b606b",
   "metadata": {},
   "outputs": [],
   "source": [
    "# 5. Broadcasting \n",
    "# Apply operations on arrays of different shapes\n",
    "array_1d_broad = np.array([1, 2, 3])\n",
    "array_2d_broad = np.array([[4], [5], [6]])\n",
    "\n",
    "broadcast_result = array_1d_broad + array_2d_broad\n",
    "print(\"Broadcasting result:\\n\", broadcast_result)"
   ]
  },
  {
   "cell_type": "code",
   "execution_count": null,
   "id": "d9e3cc7c",
   "metadata": {},
   "outputs": [],
   "source": []
  },
  {
   "cell_type": "markdown",
   "id": "a3b8450f",
   "metadata": {},
   "source": [
    "# Sampling\n",
    "Won't go over, look over your own time"
   ]
  },
  {
   "cell_type": "code",
   "execution_count": null,
   "id": "47a98976",
   "metadata": {},
   "outputs": [],
   "source": [
    "# Uniform Distribution\n",
    "random_uniform = np.random.rand(5)  # 5 random numbers between 0 and 1\n",
    "print(\"Random numbers from uniform distribution:\", random_uniform)\n",
    "\n",
    "# Normal distribution (mean=0, std=1)\n",
    "random_normal = np.random.randn(5)  # 5 random numbers from a standard normal distribution\n",
    "print(\"Random numbers from normal distribution:\", random_normal)\n",
    "\n",
    "# Random integers with range\n",
    "random_integers = np.random.randint(10, 100, size=5)  # 5 random integers between 10 and 100\n",
    "print(\"Random integers between 10 and 100:\", random_integers)\n",
    "\n",
    "# Random sampling from a 1D array\n",
    "array = np.array([10, 20, 30, 40, 50])\n",
    "random_sample = np.random.choice(array, size=3, replace=False)  # Random sample of 3 elements without replacement\n",
    "print(\"Random sample from array:\", random_sample)\n",
    "\n",
    "# 5. Generating random permutations of arrays\n",
    "random_permutation = np.random.permutation(array)  # Generate a random permutation of the array\n",
    "print(\"Random permutation of the array:\", random_permutation)"
   ]
  },
  {
   "cell_type": "code",
   "execution_count": null,
   "id": "443a3498",
   "metadata": {},
   "outputs": [],
   "source": []
  },
  {
   "cell_type": "code",
   "execution_count": null,
   "id": "732c64f4",
   "metadata": {},
   "outputs": [],
   "source": []
  },
  {
   "cell_type": "markdown",
   "id": "6ea42cd0",
   "metadata": {},
   "source": [
    "# Benchmarking Time"
   ]
  },
  {
   "cell_type": "code",
   "execution_count": null,
   "id": "73b03f1c",
   "metadata": {},
   "outputs": [],
   "source": [
    "data = np.random.rand(1000000)\n",
    "\n",
    "start_time = time.time()\n",
    "\n",
    "squared_for_loop = []\n",
    "for x in data:\n",
    "    squared_for_loop.append(x ** 2)\n",
    "\n",
    "end_time = time.time()\n",
    "for_loop_time = end_time - start_time\n",
    "\n",
    "print(f\"Time taken using a for loop: {for_loop_time:.4f} seconds\")"
   ]
  },
  {
   "cell_type": "code",
   "execution_count": null,
   "id": "7183c6ce",
   "metadata": {},
   "outputs": [],
   "source": [
    "df = pd.DataFrame(data, columns=['Values'])\n",
    "\n",
    "start_time = time.time()\n",
    "\n",
    "squared_apply = df['Values'].apply(lambda x: x ** 2)\n",
    "\n",
    "end_time = time.time()\n",
    "apply_time = end_time - start_time\n",
    "\n",
    "print(f\"Time taken using Pandas apply(): {apply_time:.4f} seconds\")"
   ]
  },
  {
   "cell_type": "code",
   "execution_count": null,
   "id": "88f5e706",
   "metadata": {},
   "outputs": [],
   "source": [
    "start_time = time.time()\n",
    "\n",
    "# Calculate the square of each element using NumPy vectorized operation\n",
    "squared_numpy = np.square(data)\n",
    "\n",
    "end_time = time.time()\n",
    "numpy_time = end_time - start_time\n",
    "\n",
    "print(f\"Time taken using NumPy vectorization: {numpy_time:.4f} seconds\")"
   ]
  },
  {
   "cell_type": "markdown",
   "id": "a3f02804",
   "metadata": {},
   "source": [
    "# Your turn | Part 1"
   ]
  },
  {
   "cell_type": "markdown",
   "id": "4fdafa2c",
   "metadata": {},
   "source": [
    "#### Using np.random.rand, create a 1000 x 1000 matrix, and square every element using a forloop, pandas, and numpy. Benchmark its speed."
   ]
  },
  {
   "cell_type": "code",
   "execution_count": null,
   "id": "01ee902a",
   "metadata": {},
   "outputs": [],
   "source": [
    "# your code (there should be copying and pasting here)"
   ]
  },
  {
   "cell_type": "markdown",
   "id": "db12d482",
   "metadata": {},
   "source": [
    "#### Using the code above, write a function that creates two random matrix (i.e. A and B) of size S x S and multiplies them. "
   ]
  },
  {
   "cell_type": "code",
   "execution_count": null,
   "id": "d0d53b63",
   "metadata": {},
   "outputs": [],
   "source": [
    "import numpy as np"
   ]
  },
  {
   "cell_type": "code",
   "execution_count": null,
   "id": "f2f720ac",
   "metadata": {},
   "outputs": [],
   "source": [
    "# your code"
   ]
  },
  {
   "cell_type": "markdown",
   "id": "cac1f9c6",
   "metadata": {},
   "source": [
    "What happens when you make the size 1000? 1,000,000? 100,000,000? "
   ]
  },
  {
   "cell_type": "code",
   "execution_count": null,
   "id": "88ac6096",
   "metadata": {},
   "outputs": [],
   "source": []
  },
  {
   "cell_type": "markdown",
   "id": "d0adf784",
   "metadata": {},
   "source": [
    "### Computing Distances\n",
    "Write a numpy-based function that calculates a) the Euclidean distance between two points and b)the Manhattan distance. No cheating and using built-in functions."
   ]
  },
  {
   "cell_type": "code",
   "execution_count": null,
   "id": "650c3296",
   "metadata": {},
   "outputs": [],
   "source": [
    "# Use these points to test\n",
    "point1 = np.array([1, 2])\n",
    "point2 = np.array([4, 6])"
   ]
  },
  {
   "cell_type": "code",
   "execution_count": null,
   "id": "573ff267",
   "metadata": {},
   "outputs": [],
   "source": [
    "# your code for Euclidean"
   ]
  },
  {
   "cell_type": "code",
   "execution_count": null,
   "id": "78037917",
   "metadata": {},
   "outputs": [],
   "source": [
    "# your code for Manhattan"
   ]
  },
  {
   "cell_type": "code",
   "execution_count": null,
   "id": "328f804e",
   "metadata": {},
   "outputs": [],
   "source": []
  },
  {
   "cell_type": "markdown",
   "id": "79d1b24f",
   "metadata": {},
   "source": [
    "# Part Two | Understanding regression\n",
    "In this section we will simulate regression data, and then inverse calculate the betas. (This may stretch to the next class). The goal is to get you thinking in matrices instead of numbers."
   ]
  },
  {
   "cell_type": "markdown",
   "id": "f532d6dd",
   "metadata": {},
   "source": [
    "$y = \\beta_0 + \\beta_1 x + \\epsilon$ where $\\epsilon \\in N(0,10)$"
   ]
  },
  {
   "cell_type": "markdown",
   "id": "c5fe8819",
   "metadata": {},
   "source": [
    "Generate a thousand points based on this model, then make a scatter plot using plt.scatter or sns.regplot"
   ]
  },
  {
   "cell_type": "code",
   "execution_count": null,
   "id": "f34d3ed2",
   "metadata": {},
   "outputs": [],
   "source": [
    "# True parameters of the linear model\n",
    "beta_0 = 5   # Intercept\n",
    "beta_1 = 3   # Slope"
   ]
  },
  {
   "cell_type": "code",
   "execution_count": null,
   "id": "123812d2",
   "metadata": {},
   "outputs": [],
   "source": [
    "# your code"
   ]
  },
  {
   "cell_type": "code",
   "execution_count": null,
   "id": "9ff1ecb1",
   "metadata": {},
   "outputs": [],
   "source": []
  },
  {
   "cell_type": "markdown",
   "id": "1fa8afa7",
   "metadata": {},
   "source": [
    "#### Generalize this to a function that takes in n (the number of points), the slope (b1), and intercept (b0). It should return x and y."
   ]
  },
  {
   "cell_type": "code",
   "execution_count": null,
   "id": "dc5dbc3b",
   "metadata": {},
   "outputs": [],
   "source": []
  },
  {
   "cell_type": "markdown",
   "id": "13dcfd75",
   "metadata": {},
   "source": [
    "Inverse computation: Due to the availability of derivaties, an exact solution can be found for the $\\beta$ values. Using the following equations to calculate the beta values."
   ]
  },
  {
   "cell_type": "markdown",
   "id": "b230ac81",
   "metadata": {},
   "source": [
    "$\\beta_1 = \\frac{\\sum_{i=1}^{n} (x_i - \\bar{x})(y_i - \\bar{y})}{\\sum_{i=1}^{n} (x_i - \\bar{x})^2}$\n",
    "\n",
    "    \n",
    "$\\beta_0 = \\bar{y} - \\beta_1 \\bar{x}$\n"
   ]
  },
  {
   "cell_type": "code",
   "execution_count": null,
   "id": "77113a30",
   "metadata": {},
   "outputs": [],
   "source": [
    "# your code"
   ]
  },
  {
   "cell_type": "code",
   "execution_count": null,
   "id": "cbc2b6f5",
   "metadata": {},
   "outputs": [],
   "source": []
  },
  {
   "cell_type": "markdown",
   "id": "b7b03508",
   "metadata": {},
   "source": [
    "### Challenge: What happens when you increase the sample size? Calculate the error of your estimated $\\beta_1$ to the real $\\beta_1$ and plot your error as the sample size increases."
   ]
  },
  {
   "cell_type": "code",
   "execution_count": null,
   "id": "5448f1e3",
   "metadata": {},
   "outputs": [],
   "source": []
  },
  {
   "cell_type": "code",
   "execution_count": null,
   "id": "ec408f06",
   "metadata": {},
   "outputs": [],
   "source": []
  }
 ],
 "metadata": {
  "kernelspec": {
   "display_name": "Python 3 (ipykernel)",
   "language": "python",
   "name": "python3"
  },
  "language_info": {
   "codemirror_mode": {
    "name": "ipython",
    "version": 3
   },
   "file_extension": ".py",
   "mimetype": "text/x-python",
   "name": "python",
   "nbconvert_exporter": "python",
   "pygments_lexer": "ipython3",
   "version": "3.9.12"
  }
 },
 "nbformat": 4,
 "nbformat_minor": 5
}
