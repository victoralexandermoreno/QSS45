{
 "cells": [
  {
   "cell_type": "code",
   "execution_count": 2,
   "id": "eb5d63b4",
   "metadata": {},
   "outputs": [],
   "source": [
    "from ucimlrepo import fetch_ucirepo \n",
    "import pandas as pd\n",
    "import statsmodels.api as sm\n",
    "\n",
    "from sklearn.datasets import fetch_california_housing\n",
    "import matplotlib.pyplot as plt\n",
    "\n",
    "import seaborn as sns\n",
    "\n",
    "from sklearn.model_selection import train_test_split\n",
    "from statsmodels.miscmodels.ordinal_model import OrderedModel"
   ]
  },
  {
   "cell_type": "markdown",
   "id": "6eb02346",
   "metadata": {},
   "source": [
    "# Processing OLS"
   ]
  },
  {
   "cell_type": "markdown",
   "id": "160e3202",
   "metadata": {},
   "source": [
    "In this first section, we will construct a linear model of to predict the household prices of California from the 1990s."
   ]
  },
  {
   "cell_type": "code",
   "execution_count": null,
   "id": "da7fb158",
   "metadata": {},
   "outputs": [],
   "source": [
    "california = fetch_california_housing()\n",
    "\n",
    "df = pd.DataFrame(california.data, columns=california.feature_names)\n",
    "\n",
    "df['MedHouseVal'] = california.target"
   ]
  },
  {
   "cell_type": "code",
   "execution_count": null,
   "id": "29a83f05",
   "metadata": {},
   "outputs": [],
   "source": [
    "# Define the independent variables\n",
    "X = df[[\"MedInc\", \"HouseAge\", \"AveRooms\", \"AveBedrms\", \"Population\", \"AveOccup\"]]\n",
    "\n",
    "# Define the dependent variable \n",
    "y = df['MedHouseVal']\n",
    "\n",
    "# Add a constant (intercept)\n",
    "X = sm.add_constant(X)"
   ]
  },
  {
   "cell_type": "code",
   "execution_count": null,
   "id": "bb463e9f",
   "metadata": {},
   "outputs": [],
   "source": [
    "# Fit the OLS regression model\n",
    "ols_model = sm.OLS(y, X)\n",
    "ols_results = ols_model.fit()"
   ]
  },
  {
   "cell_type": "code",
   "execution_count": null,
   "id": "ad3baa75",
   "metadata": {
    "scrolled": false
   },
   "outputs": [],
   "source": [
    "# Display the summary of the results\n",
    "print(ols_results.summary())"
   ]
  },
  {
   "cell_type": "code",
   "execution_count": null,
   "id": "6f5a8409",
   "metadata": {},
   "outputs": [],
   "source": [
    "R = ols_results.summary().tables[1].data\n",
    "R = pd.DataFrame(R)\n",
    "R.columns = R.iloc[0]\n",
    "R = R.iloc[1:]\n",
    "R[R.columns[1:]] = R[R.columns[1:]].astype(float)\n",
    "R.columns = [\"vari\", \"coef\", \"std_err\", \"t\", \"p_val\", \"low_b\", \"up_b\" ]\n",
    "\n",
    "R = R.sort_values(\"coef\", ascending = True)\n",
    "R = R.reset_index(drop=True)\n",
    "\n",
    "p = 0.1\n",
    "R[\"alpha\"] = (R.p_val < 0.05 ) * (1-p) + p\n",
    "\n",
    "plt.hlines(R.index, R.low_b, R.up_b, alpha = R.alpha)\n",
    "plt.scatter(R.coef, R.index, alpha = R.alpha)\n",
    "\n",
    "plt.vlines(0,0-1,len(R), linestyle=\"--\", color = \"black\")\n",
    "\n",
    "plt.yticks(R.index,R.vari, fontsize=16)"
   ]
  },
  {
   "cell_type": "code",
   "execution_count": null,
   "id": "2c890c4d",
   "metadata": {},
   "outputs": [],
   "source": []
  },
  {
   "cell_type": "markdown",
   "id": "19466b9d",
   "metadata": {},
   "source": [
    "# Logistic Regression"
   ]
  },
  {
   "cell_type": "markdown",
   "id": "6e7a651a",
   "metadata": {},
   "source": [
    "Your turn: Using the Titanic dataset and the variables below, created a logistic regression model for whether individuals survived or not.\n",
    "* IVs: 'pclass', 'age', \"sibsp\", \"fare\", \"adult_male\"\n",
    "* DV: \"survived\""
   ]
  },
  {
   "cell_type": "code",
   "execution_count": null,
   "id": "024eb181",
   "metadata": {},
   "outputs": [],
   "source": [
    "# Load the Titanic dataset\n",
    "df = sns.load_dataset('titanic')"
   ]
  },
  {
   "cell_type": "code",
   "execution_count": null,
   "id": "14d342f6",
   "metadata": {},
   "outputs": [],
   "source": [
    "# Your code here"
   ]
  },
  {
   "cell_type": "code",
   "execution_count": null,
   "id": "686f845f",
   "metadata": {},
   "outputs": [],
   "source": []
  },
  {
   "cell_type": "code",
   "execution_count": null,
   "id": "d26f635e",
   "metadata": {},
   "outputs": [],
   "source": []
  },
  {
   "cell_type": "markdown",
   "id": "36557648",
   "metadata": {},
   "source": [
    "## Multinomial Regression"
   ]
  },
  {
   "cell_type": "markdown",
   "id": "bb546226",
   "metadata": {},
   "source": [
    "The UCI dataset with ID 109 is the Wine Quality Dataset, which contains information about different types of wines, including several chemical properties and a quality rating. Since the quality ratings are on a scale from 0 to 10, this dataset is ideal for multinomial logistic regression, where the goal is to predict the quality of wine based on its chemical properties."
   ]
  },
  {
   "attachments": {},
   "cell_type": "markdown",
   "id": "a8f9626d",
   "metadata": {},
   "source": [
    "For this exercise, you will want to use sm.MNLogit. Then, plot the two forest plots in the same figure. (For an example, see this figure-- https://academic.oup.com/view-large/figure/447695951/pgae130f3.tif )"
   ]
  },
  {
   "cell_type": "code",
   "execution_count": 4,
   "id": "32ad5537",
   "metadata": {},
   "outputs": [],
   "source": [
    "# fetch dataset \n",
    "wine = fetch_ucirepo(id=109) \n",
    "  "
   ]
  },
  {
   "cell_type": "code",
   "execution_count": null,
   "id": "addbae2f",
   "metadata": {},
   "outputs": [],
   "source": [
    "# your code here\n"
   ]
  },
  {
   "cell_type": "code",
   "execution_count": null,
   "id": "2869662c",
   "metadata": {},
   "outputs": [],
   "source": []
  },
  {
   "cell_type": "code",
   "execution_count": null,
   "id": "40d6ecf6",
   "metadata": {},
   "outputs": [],
   "source": []
  },
  {
   "cell_type": "code",
   "execution_count": null,
   "id": "e77440b2",
   "metadata": {},
   "outputs": [],
   "source": []
  }
 ],
 "metadata": {
  "kernelspec": {
   "display_name": "Python 3 (ipykernel)",
   "language": "python",
   "name": "python3"
  },
  "language_info": {
   "codemirror_mode": {
    "name": "ipython",
    "version": 3
   },
   "file_extension": ".py",
   "mimetype": "text/x-python",
   "name": "python",
   "nbconvert_exporter": "python",
   "pygments_lexer": "ipython3",
   "version": "3.9.12"
  }
 },
 "nbformat": 4,
 "nbformat_minor": 5
}
