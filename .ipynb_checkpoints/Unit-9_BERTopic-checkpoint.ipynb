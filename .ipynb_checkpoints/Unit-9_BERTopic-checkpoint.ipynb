{
 "cells": [
  {
   "cell_type": "code",
   "execution_count": 59,
   "id": "30c401be",
   "metadata": {
    "scrolled": true
   },
   "outputs": [],
   "source": [
    "from transformers import BertTokenizer, BertForSequenceClassification\n",
    "from transformers import pipeline\n",
    "\n",
    "import pandas as pd\n",
    "from sklearn.datasets import fetch_20newsgroups\n",
    "import gensim\n",
    "from gensim import corpora\n",
    "from gensim.models.ldamodel import LdaModel\n",
    "from bertopic import BERTopic\n",
    "\n",
    "from vaderSentiment.vaderSentiment import SentimentIntensityAnalyzer\n",
    "from transformers import pipeline\n",
    "\n",
    "from nltk.tokenize import word_tokenize, wordpunct_tokenize\n",
    "from nltk.corpus import stopwords\n",
    "from nltk.stem.porter import PorterStemmer\n",
    "\n",
    "import pyLDAvis.gensim_models as gensimvis\n",
    "import pyLDAvis"
   ]
  },
  {
   "cell_type": "code",
   "execution_count": 16,
   "id": "1dcfcea3-2929-4953-b09a-f5a7cc36cf6f",
   "metadata": {},
   "outputs": [],
   "source": [
    "# Load sample dataset\n",
    "newsgroups_data = fetch_20newsgroups(remove=('headers', 'footers', 'quotes'))\n",
    "documents = newsgroups_data.data[:500]  # Limit to 500 documents for faster computation"
   ]
  },
  {
   "cell_type": "code",
   "execution_count": 19,
   "id": "1e602ef1-487f-4f0c-92d4-7ecbdf84eb60",
   "metadata": {
    "scrolled": true
   },
   "outputs": [],
   "source": [
    "df = pd.DataFrame(documents, columns=[\"text\"])"
   ]
  },
  {
   "cell_type": "markdown",
   "id": "ee9a3154-9404-4604-85cd-9c4171f73a98",
   "metadata": {},
   "source": [
    "## Comparing Sentiment"
   ]
  },
  {
   "cell_type": "markdown",
   "id": "f1b0b105-b5b5-4de9-a80c-5b97bb0593d5",
   "metadata": {},
   "source": [
    "### Vader"
   ]
  },
  {
   "cell_type": "code",
   "execution_count": 20,
   "id": "6acf9a43-ffa2-44f3-8a3e-de895f37b558",
   "metadata": {},
   "outputs": [],
   "source": [
    "# Initialize VADER Sentiment Analyzer\n",
    "vader_analyzer = SentimentIntensityAnalyzer()\n",
    "df[\"vaderSent\"] = df.text.apply(lambda x: vader_analyzer.polarity_scores(x))"
   ]
  },
  {
   "cell_type": "markdown",
   "id": "6c7be11c-b07d-4769-a94d-18d1d7990bb6",
   "metadata": {},
   "source": [
    "### BERT"
   ]
  },
  {
   "cell_type": "code",
   "execution_count": 23,
   "id": "dae8f718-b5a8-47e0-8bd4-c160fbc14f11",
   "metadata": {},
   "outputs": [],
   "source": [
    "df[\"trunc_text\"] = df.text.apply(lambda x: x[:500])"
   ]
  },
  {
   "cell_type": "code",
   "execution_count": 25,
   "id": "53a98838-cdd9-418a-841f-8ee5866f5a5d",
   "metadata": {},
   "outputs": [
    {
     "name": "stderr",
     "output_type": "stream",
     "text": [
      "No model was supplied, defaulted to distilbert-base-uncased-finetuned-sst-2-english and revision af0f99b (https://huggingface.co/distilbert-base-uncased-finetuned-sst-2-english).\n",
      "Using a pipeline without specifying a model name and revision in production is not recommended.\n"
     ]
    }
   ],
   "source": [
    "bert_classifier = pipeline('sentiment-analysis')\n",
    "bert_scores = bert_classifier(df.trunc_text.tolist())"
   ]
  },
  {
   "cell_type": "code",
   "execution_count": 26,
   "id": "ee01105a-cec8-4469-a7af-3de2f6017509",
   "metadata": {},
   "outputs": [],
   "source": [
    "df[\"bertSent\"] =  bert_scores"
   ]
  },
  {
   "cell_type": "markdown",
   "id": "8792b189-f49e-4549-8636-c66e8b85e46c",
   "metadata": {},
   "source": [
    "### Check the correlation between the two of these sentiment analyses pipelines"
   ]
  },
  {
   "cell_type": "code",
   "execution_count": null,
   "id": "5705ce75-d301-49b1-af67-59d6b8c8ae41",
   "metadata": {},
   "outputs": [],
   "source": [
    "# your code"
   ]
  },
  {
   "cell_type": "markdown",
   "id": "edc20ba6-850c-40db-b349-771d17d685b4",
   "metadata": {},
   "source": [
    "Find an examples where the two sentiment classifications are opposing. Why might this be the case?"
   ]
  },
  {
   "cell_type": "code",
   "execution_count": null,
   "id": "7ca180e3-db92-4e18-9a93-95a874ff6ae3",
   "metadata": {},
   "outputs": [],
   "source": []
  },
  {
   "cell_type": "markdown",
   "id": "3076bd61-d425-4197-af63-2caf1790d3de",
   "metadata": {},
   "source": [
    "# Topic Modeling"
   ]
  },
  {
   "cell_type": "markdown",
   "id": "bbc56fd2-ab87-49d6-8e40-944d91e19556",
   "metadata": {},
   "source": [
    "### Latent Dirichlet Allocation"
   ]
  },
  {
   "cell_type": "code",
   "execution_count": null,
   "id": "9e6a6e3d-6f44-44de-8820-5f113c739f74",
   "metadata": {},
   "outputs": [],
   "source": [
    "num_topics = 10"
   ]
  },
  {
   "cell_type": "code",
   "execution_count": 46,
   "id": "88d6fec2-80f8-4a93-8348-b8cde7591d7d",
   "metadata": {},
   "outputs": [],
   "source": [
    "list_stopwords = stopwords.words(\"english\")\n",
    "porter = PorterStemmer()\n",
    "def process_step(one_str):   \n",
    "    nostop_listing = [word for word in wordpunct_tokenize(one_str)\n",
    "                      if word not in list_stopwords]\n",
    "    clean_listing = [porter.stem(word) for word in nostop_listing\n",
    "                    if word.isalpha() \n",
    "                    and len(word) > 3]\n",
    "    clean_listing_str = \" \".join(clean_listing)\n",
    "    return(clean_listing_str)\n",
    "    \n",
    "df[\"text_proc\"] = df.text.apply(process_step)"
   ]
  },
  {
   "cell_type": "code",
   "execution_count": 49,
   "id": "df785468-e921-47b2-8d78-3af04e257c2e",
   "metadata": {},
   "outputs": [],
   "source": [
    "# Preprocess data\n",
    "documents_clean = [gensim.utils.simple_preprocess(doc) for doc in df.text_proc]\n",
    "dictionary = corpora.Dictionary(documents_clean)\n",
    "corpus = [dictionary.doc2bow(doc) for doc in documents_clean]"
   ]
  },
  {
   "cell_type": "code",
   "execution_count": 51,
   "id": "778947c4-8e50-4f13-9bc6-230e3492fead",
   "metadata": {},
   "outputs": [],
   "source": [
    "lda_model = LdaModel(corpus=corpus, num_topics=10, id2word=dictionary, random_state=42)"
   ]
  },
  {
   "cell_type": "code",
   "execution_count": 52,
   "id": "8f8868cc-eab2-4426-9ec1-75c4e10a4d97",
   "metadata": {},
   "outputs": [
    {
     "name": "stdout",
     "output_type": "stream",
     "text": [
      "(0, '0.009*\"would\" + 0.004*\"year\" + 0.004*\"also\" + 0.004*\"know\" + 0.003*\"think\" + 0.003*\"includ\" + 0.003*\"they\" + 0.003*\"right\" + 0.003*\"time\" + 0.003*\"mean\"')\n",
      "(1, '0.007*\"would\" + 0.005*\"peopl\" + 0.004*\"use\" + 0.004*\"well\" + 0.004*\"argument\" + 0.004*\"like\" + 0.004*\"thi\" + 0.004*\"know\" + 0.003*\"scsi\" + 0.003*\"look\"')\n",
      "(2, '0.006*\"would\" + 0.005*\"like\" + 0.005*\"peopl\" + 0.004*\"armenian\" + 0.004*\"time\" + 0.003*\"system\" + 0.003*\"think\" + 0.003*\"use\" + 0.003*\"know\" + 0.003*\"make\"')\n",
      "(3, '0.005*\"use\" + 0.004*\"know\" + 0.004*\"would\" + 0.003*\"thi\" + 0.003*\"find\" + 0.003*\"come\" + 0.003*\"time\" + 0.003*\"father\" + 0.003*\"want\" + 0.003*\"window\"')\n",
      "(4, '0.004*\"year\" + 0.004*\"know\" + 0.004*\"want\" + 0.004*\"would\" + 0.004*\"use\" + 0.003*\"time\" + 0.003*\"like\" + 0.003*\"thing\" + 0.003*\"window\" + 0.003*\"even\"')\n",
      "(5, '0.006*\"would\" + 0.005*\"think\" + 0.004*\"know\" + 0.004*\"peopl\" + 0.004*\"like\" + 0.004*\"much\" + 0.004*\"thing\" + 0.004*\"thi\" + 0.003*\"true\" + 0.003*\"armenian\"')\n",
      "(6, '0.006*\"use\" + 0.005*\"anyon\" + 0.004*\"problem\" + 0.004*\"like\" + 0.004*\"would\" + 0.003*\"make\" + 0.003*\"point\" + 0.003*\"could\" + 0.003*\"also\" + 0.003*\"argument\"')\n",
      "(7, '0.005*\"know\" + 0.005*\"use\" + 0.004*\"would\" + 0.004*\"well\" + 0.004*\"need\" + 0.004*\"like\" + 0.003*\"peopl\" + 0.003*\"memori\" + 0.003*\"want\" + 0.003*\"call\"')\n",
      "(8, '0.007*\"would\" + 0.005*\"peopl\" + 0.005*\"like\" + 0.004*\"think\" + 0.004*\"year\" + 0.004*\"want\" + 0.003*\"use\" + 0.003*\"could\" + 0.003*\"control\" + 0.003*\"thi\"')\n",
      "(9, '0.006*\"thi\" + 0.004*\"none\" + 0.003*\"would\" + 0.003*\"like\" + 0.003*\"argument\" + 0.003*\"good\" + 0.003*\"make\" + 0.003*\"look\" + 0.003*\"church\" + 0.003*\"peopl\"')\n"
     ]
    }
   ],
   "source": [
    "topics = lda_model.print_topics(num_words = 10)\n",
    "\n",
    "for topic in topics:\n",
    "    print(topic)\n"
   ]
  },
  {
   "cell_type": "code",
   "execution_count": 61,
   "id": "7c38cafc-522c-44c8-bcfe-319de0aefbda",
   "metadata": {
    "scrolled": true
   },
   "outputs": [
    {
     "name": "stdout",
     "output_type": "stream",
     "text": [
      "Intel MKL WARNING: Support of Intel(R) Streaming SIMD Extensions 4.2 (Intel(R) SSE4.2) enabled only processors has been deprecated. Intel oneAPI Math Kernel Library 2025.0 will require Intel(R) Advanced Vector Extensions (Intel(R) AVX) instructions.\n",
      "Intel MKL WARNING: Support of Intel(R) Streaming SIMD Extensions 4.2 (Intel(R) SSE4.2) enabled only processors has been deprecated. Intel oneAPI Math Kernel Library 2025.0 will require Intel(R) Advanced Vector Extensions (Intel(R) AVX) instructions.\n",
      "Intel MKL WARNING: Support of Intel(R) Streaming SIMD Extensions 4.2 (Intel(R) SSE4.2) enabled only processors has been deprecated. Intel oneAPI Math Kernel Library 2025.0 will require Intel(R) Advanced Vector Extensions (Intel(R) AVX) instructions.\n",
      "Intel MKL WARNING: Support of Intel(R) Streaming SIMD Extensions 4.2 (Intel(R) SSE4.2) enabled only processors has been deprecated. Intel oneAPI Math Kernel Library 2025.0 will require Intel(R) Advanced Vector Extensions (Intel(R) AVX) instructions.\n",
      "Intel MKL WARNING: Support of Intel(R) Streaming SIMD Extensions 4.2 (Intel(R) SSE4.2) enabled only processors has been deprecated. Intel oneAPI Math Kernel Library 2025.0 will require Intel(R) Advanced Vector Extensions (Intel(R) AVX) instructions.\n",
      "Intel MKL WARNING: Support of Intel(R) Streaming SIMD Extensions 4.2 (Intel(R) SSE4.2) enabled only processors has been deprecated. Intel oneAPI Math Kernel Library 2025.0 will require Intel(R) Advanced Vector Extensions (Intel(R) AVX) instructions.Intel MKL WARNING: Support of Intel(R) Streaming SIMD Extensions 4.2 (Intel(R) SSE4.2) enabled only processors has been deprecated. Intel oneAPI Math Kernel Library 2025.0 will require Intel(R) Advanced Vector Extensions (Intel(R) AVX) instructions.\n",
      "\n",
      "Intel MKL WARNING: Support of Intel(R) Streaming SIMD Extensions 4.2 (Intel(R) SSE4.2) enabled only processors has been deprecated. Intel oneAPI Math Kernel Library 2025.0 will require Intel(R) Advanced Vector Extensions (Intel(R) AVX) instructions.\n",
      "Intel MKL WARNING: Support of Intel(R) Streaming SIMD Extensions 4.2 (Intel(R) SSE4.2) enabled only processors has been deprecated. Intel oneAPI Math Kernel Library 2025.0 will require Intel(R) Advanced Vector Extensions (Intel(R) AVX) instructions.\n",
      "Intel MKL WARNING: Support of Intel(R) Streaming SIMD Extensions 4.2 (Intel(R) SSE4.2) enabled only processors has been deprecated. Intel oneAPI Math Kernel Library 2025.0 will require Intel(R) Advanced Vector Extensions (Intel(R) AVX) instructions.Intel MKL WARNING: Support of Intel(R) Streaming SIMD Extensions 4.2 (Intel(R) SSE4.2) enabled only processors has been deprecated. Intel oneAPI Math Kernel Library 2025.0 will require Intel(R) Advanced Vector Extensions (Intel(R) AVX) instructions.\n",
      "Intel MKL WARNING: Support of Intel(R) Streaming SIMD Extensions 4.2 (Intel(R) SSE4.2) enabled only processors has been deprecated. Intel oneAPI Math Kernel Library 2025.0 will require Intel(R) Advanced Vector Extensions (Intel(R) AVX) instructions.\n",
      "Intel MKL WARNING: Support of Intel(R) Streaming SIMD Extensions 4.2 (Intel(R) SSE4.2) enabled only processors has been deprecated. Intel oneAPI Math Kernel Library 2025.0 will require Intel(R) Advanced Vector Extensions (Intel(R) AVX) instructions.Intel MKL WARNING: Support of Intel(R) Streaming SIMD Extensions 4.2 (Intel(R) SSE4.2) enabled only processors has been deprecated. Intel oneAPI Math Kernel Library 2025.0 will require Intel(R) Advanced Vector Extensions (Intel(R) AVX) instructions.\n",
      "\n",
      "Intel MKL WARNING: Support of Intel(R) Streaming SIMD Extensions 4.2 (Intel(R) SSE4.2) enabled only processors has been deprecated. Intel oneAPI Math Kernel Library 2025.0 will require Intel(R) Advanced Vector Extensions (Intel(R) AVX) instructions.Intel MKL WARNING: Support of Intel(R) Streaming SIMD Extensions 4.2 (Intel(R) SSE4.2) enabled only processors has been deprecated. Intel oneAPI Math Kernel Library 2025.0 will require Intel(R) Advanced Vector Extensions (Intel(R) AVX) instructions.\n",
      "\n",
      "\n",
      "Intel MKL WARNING: Support of Intel(R) Streaming SIMD Extensions 4.2 (Intel(R) SSE4.2) enabled only processors has been deprecated. Intel oneAPI Math Kernel Library 2025.0 will require Intel(R) Advanced Vector Extensions (Intel(R) AVX) instructions.\n",
      "Intel MKL WARNING: Support of Intel(R) Streaming SIMD Extensions 4.2 (Intel(R) SSE4.2) enabled only processors has been deprecated. Intel oneAPI Math Kernel Library 2025.0 will require Intel(R) Advanced Vector Extensions (Intel(R) AVX) instructions.\n"
     ]
    },
    {
     "data": {
      "text/html": [
       "\n",
       "<link rel=\"stylesheet\" type=\"text/css\" href=\"https://cdn.jsdelivr.net/gh/bmabey/pyLDAvis@3.4.0/pyLDAvis/js/ldavis.v1.0.0.css\">\n",
       "\n",
       "\n",
       "<div id=\"ldavis_el54207171027936212123288\" style=\"background-color:white;\"></div>\n",
       "<script type=\"text/javascript\">\n",
       "\n",
       "var ldavis_el54207171027936212123288_data = {\"mdsDat\": {\"x\": [0.01288005852994343, 0.0035578292028480485, 0.01187581411706922, -0.0038755841228485083, -0.045818287001110986, 0.03290538115633508, 0.036413593117704375, 0.019376979021424455, -0.040345461970236474, -0.02697032205112877], \"y\": [0.013450395441641021, -0.02555974647152323, -0.001961319150880825, -0.02464925232453992, 0.04171119052624035, 0.0480356648896836, -0.012590169951592548, -0.013478220742818004, -0.016630957530841577, -0.008327584685368776], \"topics\": [1, 2, 3, 4, 5, 6, 7, 8, 9, 10], \"cluster\": [1, 1, 1, 1, 1, 1, 1, 1, 1, 1], \"Freq\": [16.86989529847341, 12.640875967519516, 11.978304082030078, 11.661495803549654, 9.843415189676113, 9.062069816842271, 8.23661117059601, 7.390841063858796, 6.438676601354292, 5.877815006099852]}, \"tinfo\": {\"Term\": [\"none\", \"father\", \"scsi\", \"thi\", \"spirit\", \"window\", \"year\", \"kill\", \"motif\", \"want\", \"church\", \"anyon\", \"would\", \"water\", \"argument\", \"could\", \"holi\", \"use\", \"think\", \"modem\", \"group\", \"armenian\", \"plane\", \"control\", \"file\", \"team\", \"treatment\", \"creed\", \"tower\", \"cabl\", \"cool\", \"plant\", \"nuclear\", \"boiler\", \"reactor\", \"levit\", \"colorview\", \"lebanes\", \"alic\", \"purifi\", \"snake\", \"steam\", \"stadium\", \"water\", \"hellman\", \"woof\", \"burst\", \"cusp\", \"blower\", \"longest\", \"strength\", \"coal\", \"befuddl\", \"quicker\", \"mcwilliam\", \"turbin\", \"genuin\", \"christoph\", \"clemson\", \"doco\", \"boil\", \"scsi\", \"condens\", \"fatwa\", \"stac\", \"substitut\", \"forens\", \"muck\", \"etern\", \"essay\", \"river\", \"tuscon\", \"torment\", \"tower\", \"fire\", \"adam\", \"vers\", \"christian\", \"talk\", \"heat\", \"argument\", \"well\", \"would\", \"peopl\", \"team\", \"said\", \"premis\", \"evid\", \"look\", \"question\", \"much\", \"logic\", \"use\", \"thi\", \"point\", \"like\", \"game\", \"know\", \"power\", \"sure\", \"true\", \"find\", \"fallaci\", \"think\", \"right\", \"make\", \"mean\", \"time\", \"also\", \"come\", \"first\", \"pen\", \"podein\", \"holiday\", \"notepad\", \"toolkit\", \"thermocoupl\", \"kedwel\", \"massachussett\", \"buchberg\", \"milwake\", \"corson\", \"breton\", \"paramount\", \"unveil\", \"vacat\", \"kovalev\", \"bruin\", \"ranford\", \"scroog\", \"andersson\", \"zubov\", \"abbrevi\", \"kravchuk\", \"wordprocessor\", \"pocklington\", \"tugnutt\", \"edmonton\", \"cleman\", \"marathon\", \"berni\", \"suresh\", \"raid\", \"readright\", \"brave\", \"mattress\", \"ocsmd\", \"onlin\", \"conceal\", \"clone\", \"logo\", \"amplifi\", \"neurolog\", \"spring\", \"wilson\", \"veto\", \"mill\", \"mask\", \"handgun\", \"aura\", \"esdi\", \"great\", \"bio\", \"trial\", \"armenian\", \"system\", \"scope\", \"mark\", \"figur\", \"lord\", \"case\", \"file\", \"like\", \"peopl\", \"chip\", \"would\", \"window\", \"time\", \"softwar\", \"code\", \"post\", \"address\", \"program\", \"think\", \"play\", \"current\", \"might\", \"believ\", \"well\", \"make\", \"seen\", \"good\", \"use\", \"know\", \"without\", \"look\", \"thi\", \"even\", \"thank\", \"game\", \"problem\", \"call\", \"also\", \"work\", \"sparcstat\", \"desqview\", \"depth\", \"app\", \"bit\", \"delewar\", \"vertebra\", \"silli\", \"steal\", \"roth\", \"sacrum\", \"adjust\", \"stolen\", \"binari\", \"hite\", \"spo\", \"winqvt\", \"token\", \"advertis\", \"dentabox\", \"putti\", \"erici\", \"carrier\", \"amen\", \"hopper\", \"ndi\", \"traffic\", \"brilliant\", \"dadi\", \"quicklink\", \"jet\", \"video\", \"lock\", \"bunch\", \"tiff\", \"cabl\", \"illeg\", \"bone\", \"memori\", \"excus\", \"steel\", \"server\", \"applic\", \"branham\", \"heard\", \"need\", \"except\", \"camera\", \"space\", \"land\", \"well\", \"know\", \"card\", \"use\", \"imag\", \"repli\", \"orbit\", \"realli\", \"opinion\", \"mani\", \"call\", \"want\", \"like\", \"first\", \"would\", \"what\", \"tri\", \"peopl\", \"much\", \"think\", \"thing\", \"time\", \"part\", \"come\", \"year\", \"gener\", \"post\", \"thi\", \"also\", \"work\", \"whirrr\", \"depreci\", \"loop\", \"depress\", \"stafford\", \"harmon\", \"hausmann\", \"drain\", \"rein\", \"gxxor\", \"maddi\", \"projector\", \"pork\", \"horn\", \"winona\", \"omnipot\", \"prioriti\", \"opamp\", \"sightse\", \"marriag\", \"neck\", \"vener\", \"bean\", \"compili\", \"keyword\", \"geek\", \"voltamet\", \"semd\", \"recharg\", \"neurovascular\", \"speedisk\", \"promiscu\", \"photoshop\", \"motto\", \"combo\", \"infin\", \"collis\", \"throttl\", \"poster\", \"marri\", \"bond\", \"much\", \"automat\", \"think\", \"caus\", \"true\", \"thing\", \"tell\", \"armenian\", \"come\", \"problem\", \"would\", \"know\", \"peopl\", \"like\", \"could\", \"argument\", \"question\", \"thi\", \"part\", \"fallaci\", \"cost\", \"chang\", \"year\", \"right\", \"might\", \"make\", \"also\", \"exampl\", \"time\", \"mean\", \"believ\", \"possibl\", \"anyon\", \"use\", \"motif\", \"vinyl\", \"ford\", \"hat\", \"fetish\", \"buffalo\", \"immor\", \"ramsey\", \"mous\", \"perret\", \"apostl\", \"muscl\", \"callback\", \"parad\", \"meehan\", \"queernet\", \"pride\", \"nambla\", \"inherit\", \"atari\", \"tobacco\", \"chevrolet\", \"heil\", \"hercul\", \"mailmen\", \"graphit\", \"pythagorean\", \"lemieux\", \"padr\", \"needham\", \"captainci\", \"circl\", \"port\", \"pack\", \"lawyer\", \"sphere\", \"plane\", \"scum\", \"client\", \"normal\", \"unabl\", \"anyon\", \"father\", \"simm\", \"inform\", \"spirit\", \"problem\", \"use\", \"help\", \"machin\", \"point\", \"say\", \"could\", \"thank\", \"argument\", \"will\", \"make\", \"holi\", \"also\", \"howev\", \"pleas\", \"need\", \"like\", \"seem\", \"thi\", \"time\", \"part\", \"would\", \"differ\", \"believ\", \"good\", \"know\", \"year\", \"look\", \"desc\", \"toshiba\", \"walker\", \"easytalk\", \"emul\", \"placebo\", \"administr\", \"mice\", \"laptop\", \"psycho\", \"mac\", \"octopu\", \"dockmast\", \"bigot\", \"accompli\", \"undesir\", \"wyse\", \"rectifi\", \"xremot\", \"sneak\", \"hallucin\", \"afew\", \"comm\", \"gore\", \"dalva\", \"glenwood\", \"whoi\", \"gestapo\", \"careerist\", \"genoa\", \"portabl\", \"bear\", \"chest\", \"kssimon\", \"club\", \"alain\", \"trust\", \"virtual\", \"rout\", \"treatment\", \"receiv\", \"french\", \"treasur\", \"test\", \"expans\", \"grader\", \"includ\", \"they\", \"block\", \"subject\", \"would\", \"studi\", \"year\", \"contact\", \"group\", \"also\", \"object\", \"kill\", \"mean\", \"right\", \"human\", \"three\", \"attack\", \"know\", \"think\", \"differ\", \"work\", \"time\", \"make\", \"part\", \"state\", \"point\", \"that\", \"need\", \"true\", \"call\", \"peopl\", \"sure\", \"well\", \"use\", \"want\", \"thi\", \"andrea\", \"winkler\", \"creation\", \"tutori\", \"molest\", \"rider\", \"cica\", \"piney\", \"boulevard\", \"recit\", \"condom\", \"dial\", \"moltmann\", \"ecolog\", \"gendel\", \"utah\", \"genashor\", \"wuarchiv\", \"ward\", \"bottleneck\", \"wustl\", \"melido\", \"perez\", \"jurgen\", \"warren\", \"okidata\", \"paradox\", \"cursor\", \"applicationshel\", \"siemen\", \"sharewar\", \"propos\", \"dialogshel\", \"colormap\", \"reserv\", \"segment\", \"naval\", \"presid\", \"fail\", \"counterst\", \"window\", \"launch\", \"print\", \"want\", \"properli\", \"year\", \"turn\", \"program\", \"tinnitu\", \"dirtbik\", \"marin\", \"know\", \"get\", \"thing\", \"even\", \"close\", \"time\", \"problem\", \"cost\", \"place\", \"use\", \"part\", \"orbit\", \"call\", \"like\", \"would\", \"well\", \"think\", \"either\", \"thi\", \"space\", \"also\", \"make\", \"reason\", \"peopl\", \"realli\", \"holder\", \"cherri\", \"quattro\", \"irwin\", \"captain\", \"financi\", \"backer\", \"saint\", \"mysstem\", \"fileshar\", \"seagat\", \"dopey\", \"ncsl\", \"nevil\", \"gowan\", \"cult\", \"olcyzk\", \"darryl\", \"forground\", \"doesnt\", \"comp\", \"jersey\", \"csme\", \"vanbiesbrouck\", \"ivan\", \"sleepp\", \"squid\", \"cocker\", \"brotherhood\", \"lowel\", \"lindbergh\", \"leaf\", \"ethic\", \"trade\", \"omran\", \"starter\", \"lefthand\", \"righthand\", \"color\", \"religion\", \"fool\", \"domest\", \"leak\", \"text\", \"viola\", \"foreground\", \"xterm\", \"fijh\", \"class\", \"control\", \"wwiz\", \"prize\", \"would\", \"want\", \"year\", \"someth\", \"think\", \"peopl\", \"like\", \"could\", \"human\", \"away\", \"understand\", \"realli\", \"data\", \"use\", \"group\", \"even\", \"time\", \"thi\", \"probabl\", \"john\", \"possibl\", \"know\", \"howev\", \"said\", \"well\", \"without\", \"armenian\", \"differ\", \"much\", \"believ\", \"point\", \"hamaza\", \"andi\", \"keyboard\", \"charact\", \"clutter\", \"resist\", \"mung\", \"regal\", \"mould\", \"sanitarium\", \"sporad\", \"sidecar\", \"multimedia\", \"fledg\", \"toolwork\", \"batchfil\", \"encyclopedia\", \"resaon\", \"implementor\", \"plexi\", \"boulder\", \"tremend\", \"cage\", \"guag\", \"philli\", \"quarantin\", \"thirteen\", \"alias\", \"dubinski\", \"meni\", \"imped\", \"cloth\", \"yeast\", \"pocket\", \"lamp\", \"cell\", \"hijaak\", \"audio\", \"typewrit\", \"spacecraft\", \"violat\", \"coat\", \"captur\", \"father\", \"organ\", \"safti\", \"field\", \"uart\", \"spirit\", \"holi\", \"lach\", \"window\", \"find\", \"access\", \"appear\", \"when\", \"proce\", \"anoth\", \"use\", \"come\", \"note\", \"follow\", \"know\", \"system\", \"none\", \"want\", \"even\", \"thi\", \"control\", \"file\", \"work\", \"time\", \"tell\", \"would\", \"could\", \"much\", \"make\", \"also\", \"year\", \"look\", \"differ\", \"believ\", \"peopl\", \"armenian\", \"abstin\", \"manta\", \"hpiii\", \"educ\", \"contend\", \"inject\", \"copper\", \"marc\", \"junction\", \"clamp\", \"widow\", \"sand\", \"bzzt\", \"preach\", \"lifer\", \"slimi\", \"objectbas\", \"semiconductor\", \"beaten\", \"opel\", \"enact\", \"mire\", \"jacobi\", \"trademark\", \"fairchild\", \"muscular\", \"murray\", \"echelon\", \"fletcher\", \"quinn\", \"bryan\", \"none\", \"stanley\", \"sedan\", \"typewrit\", \"diseas\", \"bare\", \"church\", \"warn\", \"council\", \"dirti\", \"branch\", \"coptic\", \"leg\", \"kill\", \"thi\", \"spot\", \"wingert\", \"rate\", \"monophysit\", \"good\", \"father\", \"fallaci\", \"argument\", \"look\", \"believ\", \"team\", \"make\", \"form\", \"tower\", \"file\", \"like\", \"could\", \"follow\", \"thing\", \"peopl\", \"would\", \"think\", \"conclus\", \"exampl\", \"christian\", \"time\", \"armenian\", \"use\", \"year\", \"also\", \"gener\", \"true\"], \"Freq\": [22.0, 35.0, 29.0, 105.0, 28.0, 42.0, 89.0, 28.0, 10.0, 71.0, 25.0, 61.0, 187.0, 25.0, 73.0, 69.0, 17.0, 126.0, 102.0, 16.0, 30.0, 68.0, 11.0, 46.0, 35.0, 31.0, 17.0, 15.0, 19.0, 16.0, 5.639969650341878, 5.576037581840224, 4.525575990715356, 4.472523683375062, 3.4538033753898456, 2.3570706681204543, 2.356627525199835, 2.355789938221853, 3.106197248775024, 2.291867408672796, 2.2648336823144932, 5.702961546287625, 2.8025740611319074, 17.2299925198272, 1.9308023219945836, 2.605732251753586, 3.932116581581793, 1.2351368848415887, 1.2351105272094143, 1.235097641255907, 1.2350668488475256, 1.2350269358616617, 1.2349633428443523, 1.234954138591847, 1.2349236808835566, 1.234893055825221, 1.2348480386629677, 1.2348048623512156, 1.2347765801935173, 1.2347944029733686, 2.308069738032904, 18.62990108806795, 2.3969234079679613, 4.393978608895899, 2.3562603591998967, 3.415872483465446, 1.826925638470416, 1.8336618125039335, 9.792019335287206, 1.8149991027741355, 4.998410156415965, 1.7894628246234225, 3.32887355408523, 9.801544899879966, 8.691859466434975, 3.6643468023976067, 4.142942160766353, 17.362446733879878, 14.441508328430409, 5.937822608414397, 23.32580628984517, 23.593609204338374, 38.995144498078275, 27.62639453642117, 10.946630223160444, 13.34142142419804, 10.689196986889758, 8.921267594677515, 17.627240025153895, 14.423778595204558, 17.200245714530425, 9.466960615009556, 23.9674102988832, 21.436202034714277, 15.485661492238188, 21.990849621283658, 11.894541045172044, 20.450602643644235, 11.33953198250427, 11.690810438518664, 13.140080576195126, 12.29755074726715, 12.086511629424468, 15.732289940167922, 13.088343974912954, 14.09090195019895, 11.967667659876358, 14.12520335433544, 13.46040864538514, 12.218295104494578, 11.887243244385658, 2.917369475100739, 1.9757152470866086, 1.9753626279042193, 1.9277473762674637, 2.366967798403837, 1.6766392560955563, 1.5189797335848736, 1.035306534730046, 1.0352716113864133, 1.0352620811382407, 1.0351960590900444, 1.0351623270274333, 1.0351366204369674, 1.0351137353015527, 1.03510420505338, 1.0350990010362857, 1.0350348599581236, 1.0350223201578963, 1.0349865817272488, 1.0349817539041613, 1.0349783054590989, 1.0349490877245695, 1.034941563844433, 1.0349552322266808, 1.0349228795420946, 1.0349048222297674, 1.0349035682497447, 1.034888520489472, 1.0348867649174402, 1.0348809966093357, 1.5305905854112543, 1.968997299910884, 1.4835550487390026, 2.915367119800458, 1.5052585587782552, 2.113470971686648, 2.575331125347238, 3.106253977963197, 1.4887534229231936, 2.916671008228083, 2.333234732608617, 2.649409744393492, 2.2726564624869803, 2.3168637726159864, 1.8797333589834826, 1.8192734645759905, 3.8552454613064104, 2.45364339916634, 2.4693813500435007, 3.9739552357293504, 10.706045048946212, 3.579835835284176, 1.886540213342818, 17.61531145514539, 14.75578557053274, 4.779789131910509, 7.034749679112852, 4.868645153136519, 3.447245755989735, 10.587805767827797, 8.931032314048196, 20.21096382835284, 19.562904946242455, 7.607638477965205, 25.688940446170026, 9.885376318300256, 16.08194769291389, 7.237769546383433, 6.382177973696699, 10.286750243972877, 6.306665303096461, 8.594591480320117, 13.979135551420372, 7.085327207757282, 6.947322191928725, 8.260537722963292, 9.684468654979947, 11.383458098612474, 11.666815450018714, 6.438288062201375, 8.975557633510963, 13.550499096869773, 13.289142574166172, 8.95956286752515, 9.936228719365667, 11.046190641253418, 9.067569671658159, 8.145821122524707, 7.701232035717056, 8.496290481562971, 8.085933544599584, 8.336730050735845, 7.703714916162044, 1.9220810823735632, 1.9207284944128453, 1.811170889624147, 1.7703835242146544, 2.771075223652852, 1.7104945225899935, 1.7037665174135186, 1.6244687162706537, 3.705570320067918, 1.640645706304925, 2.185899068578376, 3.663336732391018, 1.534716549725704, 1.006877980243864, 1.0067634326910104, 1.0067514313395185, 1.0065967208480089, 1.0065504978209756, 1.0065119984359916, 1.0064799156151718, 1.0064557940869256, 1.0063467124961376, 1.0062775561934811, 1.006273516134563, 1.0062022209771855, 1.006203646880333, 1.006175128817382, 1.0060017627596918, 1.005957322111593, 0.991565859881216, 1.9395331862975353, 5.831307920695187, 6.6995408225423345, 2.3483522141792905, 4.723641640020087, 7.8754760188150135, 1.8780652345874822, 3.413883532145197, 12.13326274270168, 4.843983587964267, 3.170671509976223, 4.177424723694676, 11.215656043166252, 1.4225075968593899, 6.777533922305187, 16.356749841674965, 5.646119224707562, 4.822278490252188, 11.179086380441964, 6.820096655958648, 16.717577484969993, 20.175580837005782, 8.022794628407782, 19.586530740729923, 8.20684450308156, 5.981263975809883, 9.137431674270228, 10.232730621645537, 5.500498865763531, 10.805783035207929, 11.317899953060618, 11.711171645973009, 15.01566796875564, 9.956079744763256, 17.918971231340162, 8.146276890383927, 8.080266130071026, 13.446850351129852, 9.824478390264936, 11.244745417978468, 9.84657038303105, 10.827571785904665, 8.530034006893734, 8.641535830624123, 8.722376934273692, 7.854077490279659, 7.798458712106138, 8.343505912549505, 8.034257939112024, 7.9199204693221965, 3.3933093205692915, 3.943472439293527, 3.276316357756049, 4.875184938265245, 2.3863569162318234, 1.7386397768498563, 1.738649262815785, 1.7384888111725771, 1.738234541012685, 1.7382284098395848, 1.7380774441623057, 1.7376456013475297, 3.3929076708899713, 2.8489749808606746, 1.6381629218609888, 2.749919285523434, 1.4959205157134052, 1.5151721678830814, 1.4376689341832591, 2.9586167828092615, 1.7822262864193383, 0.9107847228954548, 0.9107633794721154, 0.9107529102048404, 0.9107206347841807, 0.9107075626604011, 0.910685814348272, 0.9106522664199878, 0.910611256969723, 0.9106042003365322, 1.350507598977939, 3.5665501281340206, 1.36639647622591, 1.7381734606467054, 1.7383475628262495, 2.537233055247122, 1.702377127072357, 3.3212715071170162, 3.331253288289201, 1.738398347448721, 2.5727545271745624, 16.85483824851556, 4.841824415649356, 20.64101208713005, 10.399434832851904, 13.427030320783965, 15.291274350907582, 8.43669501074586, 13.121701602233244, 12.41145447932229, 12.744661757642232, 22.807019963535396, 17.534416549484135, 17.372436971666843, 17.19299951470048, 11.598391516725986, 11.840582571515728, 9.827593968330486, 14.368557324016491, 9.904095275799722, 9.166050108147427, 7.271194171877, 7.002428993315736, 11.865073947353357, 9.986478807604811, 8.135214355251854, 11.227601304126793, 10.907725278411938, 8.862886966208709, 10.894814184687982, 8.03984291653529, 8.321781556756195, 7.904017766338437, 8.295073704001581, 9.507582825442404, 8.167279713190986, 1.7198812230514842, 1.7197089736060691, 1.7187381663575907, 2.8306600894628544, 2.6576974297908516, 2.155969948244932, 2.0558606016289405, 3.632754474393752, 1.5147832029839328, 3.017827860145234, 1.5088927406567127, 1.9970491336690581, 1.9332184106109764, 1.3895403773402666, 1.415676691857971, 1.3958413479829768, 1.3866903520776088, 1.323470997374257, 2.29283970910119, 0.9011223878062282, 0.9011166266286321, 0.9010903595646771, 0.9010903595646771, 0.9010882113289633, 0.9010541324987763, 0.9010399736724809, 0.9010214207276799, 0.9010173195504081, 0.9009996454293083, 2.023856771847323, 3.877767006964808, 6.503573877584405, 1.6576800344293925, 1.9519221225001915, 2.8252609872316254, 4.9622393600016945, 1.2204909243150932, 2.4532305027877657, 6.3378972522769645, 1.6815121708498981, 17.076625660762357, 10.453600112783283, 6.556312283181396, 9.4621893308679, 7.525502496049928, 13.804504889762484, 19.51133602816736, 10.536011903000738, 7.568922636297108, 11.584711834931547, 8.535258429784477, 11.531954290507286, 9.398558589025358, 10.90208298628038, 4.430556098486025, 11.634786037655122, 4.853081253970896, 11.031755181024653, 7.601716430938934, 8.076098434201517, 8.995822199759322, 12.238027811973852, 7.953815389136069, 10.888774861327589, 10.54699915220601, 7.989692487909655, 11.802349204507584, 7.79335546131834, 7.3650550670581705, 7.085254786514577, 7.579369311279127, 7.343029010990497, 7.236758524347348, 3.155758725143354, 3.5902179469602022, 2.3861422105766414, 2.38588456835372, 2.385743071892143, 2.191482453938997, 3.155465663856988, 1.4719230544860842, 3.517305737249967, 1.4817876232397007, 1.412570592724579, 0.8468754704056748, 0.8468527266923465, 0.8468335788230225, 0.846801126330882, 0.8467697525919429, 0.8467134776332725, 0.8466948691405494, 0.8466624166484088, 0.8466541462071985, 0.8466571127785022, 0.8466526179734966, 0.846624929974662, 0.8465987702095293, 0.8465927471708218, 0.8465897805995181, 0.8465694640808927, 0.8465626319772842, 0.8465588563410795, 0.8465628117694844, 3.307519163846436, 4.628511430737374, 1.9840995224602673, 2.0531289398144548, 2.305882073435432, 1.2561940791768336, 2.1684095410919895, 2.189857492033368, 1.2269757790300528, 5.854543570404549, 6.869756410270103, 1.9987461142593543, 1.452462077045486, 5.200141313793488, 2.0467382260574754, 2.5749617771743942, 9.638345577268453, 9.371792133734845, 2.4820662037858083, 6.3593493672344295, 26.35786737055738, 6.053766632876091, 13.69487257473087, 4.979174182626798, 6.542808609174689, 11.888237123294378, 5.707495844853751, 6.015741301697414, 8.079746411080048, 9.121688238184175, 5.8459063531057645, 5.743234219245572, 5.291148889287516, 10.958334603682138, 9.65386667832943, 7.416081619897823, 7.336719185212334, 8.423318518177018, 7.960493121346353, 6.700811433069565, 6.175573691021774, 6.8336052329865655, 5.875561638195191, 6.623707907587696, 6.442785893177004, 6.353032188487342, 7.000457428976491, 5.910659952354213, 6.064989262014103, 6.1276000978202765, 5.982928505987645, 5.949699671126557, 2.2614396979392875, 2.207599673607346, 1.6314322550132356, 2.1891224991588767, 1.9292002660390155, 2.149451375326228, 0.8548862208458597, 0.8548729842281279, 0.8548545183293167, 0.854835807307955, 0.8548246133781447, 0.8548141548159862, 0.8547967511148943, 0.8547423339086632, 0.8547062191862096, 0.8547063826012433, 0.8547025423479507, 0.8546973130668715, 0.8546867727971961, 0.8546932276910283, 0.8546675715307331, 0.8546402812201007, 0.8545822688831277, 0.8545575115055181, 0.8545089772405011, 0.8544520271012473, 0.853882525708709, 2.483910637044646, 1.225124223708585, 0.7991815492715774, 2.5667045370523236, 2.945957657080662, 1.590500874440485, 2.2522913975211867, 4.533932135099729, 1.9782058200131798, 3.0952376172202722, 1.8822225292183687, 4.431228727872965, 1.8877855037965008, 8.302590359936014, 6.977020552814154, 2.8678880856980298, 10.919642251804433, 1.1186712585329577, 12.027299418771713, 5.279621080401068, 6.857705353748914, 2.508122208441627, 1.3055559594037398, 1.9931324760238642, 12.019826776109449, 5.166375442518514, 8.607421495549538, 7.737507709909668, 4.426196525324379, 9.410850201547678, 7.678033135214823, 5.01318724843229, 5.289414216542255, 9.947579689562268, 6.699365990969551, 5.4339783456385735, 6.637372863774906, 8.68427689323158, 10.240029848560507, 7.1345559136275805, 7.723993940280587, 5.039541517751498, 7.081555188908861, 5.262833127156234, 6.486604846338178, 6.296450537472587, 5.125768113957643, 6.0053462646921245, 4.775472301320749, 1.4194897779162816, 1.4180923474507414, 1.4180526093965795, 1.2868352083963348, 2.770440943671165, 1.1758557678506534, 1.5540978173902604, 1.1475314799613912, 0.7434533165991031, 0.7434393129674705, 0.7434132119577259, 0.7434044871819966, 0.7433938561527467, 0.7433909967724657, 0.7433855712816761, 0.7433794859338986, 0.7433721541895882, 0.7433580039230694, 0.7433536781939264, 0.7433416541332575, 0.743357710653297, 0.7433346889761627, 0.7433261108353197, 0.7433180459165784, 0.7433239846294697, 0.7433210519317456, 0.7433206853445301, 0.7433058019035802, 0.7433058019035802, 0.7433168728374887, 1.1143519643549726, 2.0946589671989964, 1.0867770540516648, 4.049617118691204, 1.5869883156359674, 4.034209311388256, 2.2468353323892782, 1.6657146797862779, 4.376426981894168, 4.687870975371639, 1.2761427391291025, 1.7165895069204533, 1.4739753424883857, 2.618581749739746, 1.2957657128709195, 0.9471625329754083, 1.4192931405338798, 2.408628306686701, 3.7529902871950456, 7.743102089254667, 2.5202800681856354, 1.6858519020740181, 18.65150940915061, 9.331352051451548, 10.392163366441126, 6.671399321457275, 10.953335075950275, 12.02065522026875, 11.80462449435691, 8.356675241698278, 5.0474543221811174, 3.5008539465225534, 4.918632348681928, 5.714994978143868, 4.623945496730271, 8.775853352419926, 4.470536372051658, 6.2717224775218945, 6.759964446567329, 6.881561132683618, 4.501739689296683, 3.329450375148324, 4.842957896418217, 6.6799545872580595, 4.541715878513621, 4.545661530031643, 5.4297842590783665, 4.767308958624705, 4.953398600391979, 4.7709411047560195, 4.884482550033487, 4.720037390549262, 4.624356074411647, 1.22335292943107, 1.223072276157389, 1.805395372103579, 2.315732372405041, 0.9715994699230118, 2.9227047969976674, 0.6408179064111263, 0.6407583138976205, 0.6407586971292186, 0.6407228011028625, 0.6407160306779627, 0.6407194797623457, 0.6407127732093787, 0.6407099628443259, 0.6406929729101432, 0.6406555439573947, 0.6406547774941984, 0.6406404701812024, 0.6406174124133829, 0.6406183066204452, 0.6406156878711914, 0.6406044464109802, 0.6405883506838597, 0.640582346722156, 0.6405592250824035, 0.640543193227216, 0.6405492610608526, 0.6405371892655123, 0.640525564573703, 0.6405051894270702, 1.8964113437278205, 1.5707841813385537, 1.2561804203811295, 2.890715944528134, 1.4694201901022017, 1.7532021665501973, 1.1253664860127093, 2.8118984901594, 1.2051648855287336, 1.886311019471954, 2.534566301507561, 1.8504453961559608, 1.0838728511907691, 6.611858993873668, 3.9104114271172223, 0.8709827164310374, 2.351288600077495, 1.2676433884560019, 4.7552786985513285, 3.3724150694539183, 0.8124447924113138, 6.069499927697502, 6.869021192541622, 3.2456389909470293, 3.4255511524825115, 5.036988669492221, 2.4295751509389834, 4.821775001553161, 10.342618601454388, 6.8382517830172675, 4.715640798871293, 5.249616801582713, 9.074377499449204, 6.051322486536047, 3.650179032372959, 6.4223100905721635, 6.012303889118554, 7.503681844609814, 5.065301308984971, 4.4742002932841185, 5.583392106467085, 6.697802512065352, 4.2912807856544175, 8.190466592799861, 5.323230481824605, 5.2601822412548165, 5.58068495845805, 5.393193242375189, 5.317346599354988, 4.8250759030515304, 4.551614098052849, 4.447500803331671, 4.894658497856791, 4.402531385658758, 1.2696831114876364, 1.269413844389765, 1.2692850999653171, 2.5804433910516615, 1.2309924965329173, 2.757647263508111, 1.1316027337898464, 1.3533612731786924, 0.6651306057645445, 0.6650899066665986, 0.6650730556074205, 0.6650562045482422, 0.6649988293156079, 0.6649417456237898, 0.6649165564972674, 0.6648696184258541, 0.6648723006013635, 0.664885186705441, 0.6648408141932105, 0.6648355664585184, 0.6647819229483318, 0.6646711957463272, 0.6645418682402469, 0.6645615180912608, 0.6645116646116853, 0.9777962946155566, 3.643733563561763, 0.6445326640161653, 0.6438123832755841, 0.6370270040104518, 1.2241681091065733, 8.75338379645732, 1.8037009901378311, 1.9230961670743725, 1.2880514656898043, 2.480811532814792, 1.6108932701150462, 5.958893703687764, 1.105491988439185, 3.34585255089164, 1.1190307940959905, 0.8995157779043714, 2.7337308875730595, 1.3718316666665415, 5.380879283843766, 12.36010660324749, 1.9163602914398363, 1.2407233126644353, 4.8072547689942535, 2.080097776978232, 6.360073924830295, 4.904883625207287, 5.407974387606351, 6.479206831648554, 6.201061033143418, 5.382849166830878, 3.965838119570919, 6.305217604848199, 3.5405824578240015, 3.0582568649855064, 3.9790432859176295, 6.660015314756889, 4.770729136140869, 3.954377067003231, 4.838227598845369, 5.780660575533692, 6.787434044805097, 5.342602073766463, 3.778142042987282, 4.135570850454297, 3.8914313056850003, 4.75726788034118, 4.287586296086314, 4.829943175011338, 4.4293194469788295, 4.337145436053812, 3.862990449514691, 3.780678214855842], \"Total\": [22.0, 35.0, 29.0, 105.0, 28.0, 42.0, 89.0, 28.0, 10.0, 71.0, 25.0, 61.0, 187.0, 25.0, 73.0, 69.0, 17.0, 126.0, 102.0, 16.0, 30.0, 68.0, 11.0, 46.0, 35.0, 31.0, 17.0, 15.0, 19.0, 16.0, 6.393036822950169, 6.376398025404151, 5.273372403858261, 5.258062458677358, 4.165155793651639, 3.049265801071978, 3.0487930596604373, 3.0479605341501927, 4.0194454682146645, 3.031395082030694, 3.0124223478199923, 7.964845100088523, 3.916866777257523, 25.11750661531667, 2.873979497592293, 3.9033680803765387, 5.9107919742611195, 1.927298407152357, 1.9272705333533828, 1.9272597447545006, 1.9272223074835269, 1.9271836838652685, 1.9271197107545275, 1.9271093211751087, 1.9270848086940717, 1.927050413570829, 1.9270051785001978, 1.926960555361883, 1.926932387676635, 1.926971090552494, 3.618308404896284, 29.91653407141893, 3.869907503360583, 7.358650885641058, 3.8059411767953355, 5.670875415901889, 2.9148376133311067, 2.9330549764265994, 17.662842571374128, 2.912890576129968, 8.720406469662, 2.873516686009342, 5.648302316867569, 19.618294313142854, 17.694777356802508, 6.546681075034577, 7.624370056310227, 43.74989241988378, 36.474158800689565, 12.039993057889022, 73.15107516728179, 81.082299910232, 187.4397326095049, 120.50295956918808, 31.270348182921694, 44.6052778058997, 32.1899826081028, 24.51176687193665, 70.77826938247105, 52.74513610062965, 70.05075345095004, 27.182831665963384, 126.14695390636085, 105.85983521443761, 65.5899936537462, 123.45357272562335, 42.77136265498521, 121.37512482160909, 40.79279927938401, 44.60942845171708, 60.702892004547074, 52.004960386289994, 49.830690701825155, 102.07085394868561, 63.184384383377356, 85.87693045602802, 49.8445067386067, 98.52573972874652, 84.24887809296422, 65.45500055863914, 55.37711629821995, 3.627721657535809, 2.686068617079774, 2.6857329517183337, 2.677938789932469, 3.4914418925138175, 2.6019218554536403, 2.5527922516581953, 1.7456598713678153, 1.7456202841106254, 1.7456136547826924, 1.7455450298828494, 1.7455112665937904, 1.7454855942589058, 1.7454625215309507, 1.7454531632534611, 1.7454479318498204, 1.7453834461796978, 1.7453721292569935, 1.7453358367300886, 1.7453310334809427, 1.745328168261013, 1.7453025644039437, 1.7452910623677869, 1.745314456819651, 1.7452723850369567, 1.7452542540351001, 1.7452534209476698, 1.7452427592703732, 1.7452427771226788, 1.7452343385043483, 2.608034015757799, 3.4331448269212776, 2.5544849505169083, 5.255989194655178, 2.6041855156172624, 3.7806652057169936, 4.727797209062718, 5.818378274713002, 2.5943478721396045, 5.441027801883535, 4.359188192036969, 5.107398115911245, 4.342251996510261, 4.537594081622097, 3.555570459728776, 3.419805463961972, 8.48530041202143, 5.0076323718092635, 5.0824380392035176, 9.147674197248811, 31.43583119816793, 8.34451969994426, 3.7572171920106903, 68.10761238035991, 58.228672184941615, 12.884044884945345, 22.116088437363974, 13.903184470300772, 8.661937711879558, 45.47797475633139, 35.899457363724856, 123.45357272562335, 120.50295956918808, 28.501903990642386, 187.4397326095049, 42.72819035495712, 98.52573972874652, 27.24083399833409, 23.100188363257004, 51.20231294193502, 23.09977321278039, 40.84124464509662, 102.07085394868561, 29.44149342823314, 29.441137932465708, 41.21945615931986, 56.30984318053162, 81.082299910232, 85.87693045602802, 25.886385658303386, 51.96780705038877, 126.14695390636085, 121.37512482160909, 53.05613206474314, 70.77826938247105, 105.85983521443761, 63.75490959746398, 50.34605712341185, 42.77136265498521, 70.80796625185341, 62.59621199292473, 84.24887809296422, 61.146354166419954, 2.635014620306258, 2.63366855741837, 2.594001050743222, 2.5793750979717047, 4.208036596830273, 2.6025787516333465, 2.6143340949566527, 2.561041833861004, 5.88711916896183, 2.6076624120865706, 3.48658530988845, 5.996683458393054, 2.5396760722881138, 1.7198086066253775, 1.719703178764696, 1.7197133550207035, 1.719534233245794, 1.7194884384460076, 1.7194451259773271, 1.7194187943668988, 1.7193948216849047, 1.719291024795572, 1.7192244779888097, 1.7192306432698228, 1.7191357485182888, 1.7191427879121464, 1.7191078037575591, 1.7189453898740734, 1.7189102890842332, 1.7145660058208236, 3.416438913026169, 10.66933405934947, 12.625005569744726, 4.272376648232805, 9.375625599532366, 16.86057210496156, 3.4369968209333384, 6.740386087114319, 31.958738903773543, 11.231634458528388, 6.889568334174394, 9.938328234346496, 34.567396018761784, 2.6450121848443797, 19.003465945904082, 62.817742878865005, 15.905387592456737, 13.355976291991595, 43.13645462593678, 21.697185798652704, 81.082299910232, 121.37512482160909, 29.871740775075185, 126.14695390636085, 32.31390452880787, 19.450421416775146, 39.014615736140705, 49.0138897834183, 17.16855542611441, 57.1324209739404, 62.59621199292473, 71.5069230821709, 123.45357272562335, 55.37711629821995, 187.4397326095049, 37.81377039839988, 37.859861203673894, 120.50295956918808, 70.05075345095004, 102.07085394868561, 73.55483607725914, 98.52573972874652, 57.26773253521776, 65.45500055863914, 89.58203501813288, 51.32718958354618, 51.20231294193502, 105.85983521443761, 84.24887809296422, 61.146354166419954, 4.115017040413492, 4.947529941945608, 4.146837899780439, 6.665465470304285, 3.3109768057933895, 2.4603231100696723, 2.4603368317830925, 2.4601773313005784, 2.45992147856531, 2.4599404892374888, 2.4597702666757773, 2.4593419503032607, 4.911796497621577, 4.192007359838695, 2.4646716116862826, 4.3441315560927425, 2.3939488474635064, 2.520316182775378, 2.4047452839964905, 5.170032668841489, 3.1280472681545746, 1.6324607732535223, 1.6324386196483154, 1.632436211286109, 1.6323978133413122, 1.6323872112014008, 1.63235921599258, 1.6323318910554891, 1.6322882189218437, 1.632282683864332, 2.4361649309219926, 6.713724788926784, 2.4954232844567428, 3.22815781920605, 3.2294695163151497, 4.9083823079307605, 3.2069525270938195, 6.7771032033863285, 6.826540104469886, 3.3380146372001867, 5.493975967891609, 70.05075345095004, 13.150781144364869, 102.07085394868561, 39.165771459535414, 60.702892004547074, 73.55483607725914, 33.734067417319416, 68.10761238035991, 65.45500055863914, 70.80796625185341, 187.4397326095049, 121.37512482160909, 120.50295956918808, 123.45357272562335, 69.53502491167892, 73.15107516728179, 52.74513610062965, 105.85983521443761, 57.26773253521776, 49.830690701825155, 31.611981698229297, 29.628274403713633, 89.58203501813288, 63.184384383377356, 41.21945615931986, 85.87693045602802, 84.24887809296422, 53.46595657571886, 98.52573972874652, 49.8445067386067, 56.30984318053162, 47.125558023881794, 61.29378379188458, 126.14695390636085, 10.682621781817383, 2.4424429657451103, 2.4422675538629837, 2.441309843769205, 4.0861817820843465, 3.8783469036529046, 3.2659295772860575, 3.1220589393789004, 5.625999269344518, 2.4511031640736, 4.903101398042111, 2.4667227725485277, 3.273641275212707, 3.2223172095072417, 2.346796545748328, 2.4225362237451225, 2.4210555444727597, 2.419309464061032, 2.327923624949601, 4.071840080330285, 1.6236730528688055, 1.623667392064308, 1.6236408973035243, 1.6236411329460718, 1.6236400129731539, 1.6236055509200575, 1.6235896103571377, 1.6235723431216038, 1.623566698870755, 1.6235483101697554, 3.788275785196394, 7.915800926996645, 14.899780647702825, 3.2239577360318883, 3.9071922109453032, 5.9567217205733005, 11.858006676308973, 2.311540221179235, 5.269193769289274, 16.78259563229496, 3.427524461540777, 61.29378379188458, 35.797309299334415, 20.812838850889676, 38.65292270104125, 28.61418856493195, 70.80796625185341, 126.14695390636085, 50.73061569574504, 30.916729672114286, 65.5899936537462, 40.768079780728144, 69.53502491167892, 50.34605712341185, 73.15107516728179, 14.063640957404862, 85.87693045602802, 17.022164999387442, 84.24887809296422, 42.645232443999134, 48.410952473441654, 62.817742878865005, 123.45357272562335, 50.69426050788015, 105.85983521443761, 98.52573972874652, 57.26773253521776, 187.4397326095049, 58.980035150950265, 56.30984318053162, 51.96780705038877, 121.37512482160909, 89.58203501813288, 70.77826938247105, 3.8832641056941304, 4.674550122110022, 3.1136448382755124, 3.1133869671469356, 3.113264797729446, 3.0692789161576983, 4.673929313074198, 2.3116286146679657, 5.551421237480329, 2.351035683150345, 2.3938270270067044, 1.5743704742481013, 1.5743444656301835, 1.5743326776325655, 1.5742918264044388, 1.5742696465149328, 1.5742223062308034, 1.5742003569644092, 1.5741609511083956, 1.5741461186941814, 1.574155022629396, 1.5741510805003154, 1.57413569142122, 1.5740904517053877, 1.5740851299902592, 1.574082107984531, 1.5740623454392368, 1.5740549974136004, 1.5740505402711014, 1.5740686801410053, 6.158194898332379, 8.800723678773553, 3.892696382167967, 4.059897122977975, 4.764128899513493, 2.4384585861982178, 4.710822162886629, 4.974462845449375, 2.4695939132634086, 17.082888059626352, 22.30550241116807, 4.7657984655176735, 3.1519748375633503, 17.01149069659552, 4.992437558308499, 6.77699735630213, 39.402474440755405, 38.87772177544316, 6.628624549264854, 24.354247427030636, 187.4397326095049, 24.92302590905694, 89.58203501813288, 19.276131690922625, 30.68896271077372, 84.24887809296422, 25.685015973450398, 28.193211993248482, 49.8445067386067, 63.184384383377356, 31.54231891402141, 30.671380290737158, 27.122037139358618, 121.37512482160909, 102.07085394868561, 58.980035150950265, 61.146354166419954, 98.52573972874652, 85.87693045602802, 57.26773253521776, 44.783634335220164, 65.5899936537462, 38.53529169162336, 62.817742878865005, 60.702892004547074, 62.59621199292473, 120.50295956918808, 44.60942845171708, 81.082299910232, 126.14695390636085, 71.5069230821709, 105.85983521443761, 3.1616977709426366, 3.1710566353745917, 2.3582010326152707, 3.1740496430512213, 3.070368855627425, 3.9534455428511692, 1.581644975232161, 1.581624631821502, 1.5816059045681914, 1.5815873423231495, 1.581578975227938, 1.5815659660680297, 1.5815537303474498, 1.581499928949552, 1.581458593958573, 1.5814620729070423, 1.5814550662302247, 1.58145986277433, 1.5814427535064701, 1.5814643901317178, 1.5814291359282062, 1.5814054089053, 1.5813479377986221, 1.5813153968869011, 1.5812621224130103, 1.5812103128549866, 1.580644757197859, 4.716716429755944, 2.4164805300829437, 1.5909145456330769, 5.247901972598588, 6.470449885973324, 3.2402032282102797, 5.2785431138037655, 13.961816758959348, 5.054312717522942, 9.419949782433505, 4.749589852362379, 16.39990500465482, 4.855677845684138, 42.72819035495712, 33.347565052214975, 9.255698873702237, 71.5069230821709, 2.3676978513761178, 89.58203501813288, 26.603024070821103, 40.84124464509662, 8.867874007367421, 3.126886248669415, 6.309964427983676, 121.37512482160909, 30.73726291006508, 73.55483607725914, 63.75490959746398, 24.75446255612442, 98.52573972874652, 70.80796625185341, 31.611981698229297, 35.25235403094675, 126.14695390636085, 57.26773253521776, 39.014615736140705, 62.59621199292473, 123.45357272562335, 187.4397326095049, 81.082299910232, 102.07085394868561, 35.77335023303016, 105.85983521443761, 43.13645462593678, 84.24887809296422, 85.87693045602802, 46.104886903062315, 120.50295956918808, 49.0138897834183, 2.1563966530838923, 2.155003009536194, 2.1549712828845538, 2.2196767507231283, 5.048111442390607, 2.2106329609208397, 2.952636433687428, 2.217222113186646, 1.4803612760904947, 1.480349350094978, 1.4803104488382435, 1.48030153181473, 1.4802909552013779, 1.4802913344278517, 1.4802863928575498, 1.4802772795004513, 1.4802672544125897, 1.4802528960684378, 1.480249471496976, 1.4802372868336033, 1.4802753190319256, 1.480229938354246, 1.480224075806114, 1.4802154993933605, 1.480230790569331, 1.480233937707196, 1.4802346642597368, 1.480206115738174, 1.4802073067011312, 1.4802328606106834, 2.2239670987203004, 4.434743281861547, 2.2244235992709807, 10.507604086839669, 3.655077559770503, 11.571607808211017, 5.778422431639198, 4.05996742243502, 14.818846414856816, 16.294565706285898, 2.9966302391097983, 4.699723048798478, 3.834120575037683, 8.70741354327843, 3.237570302653063, 2.090320846059529, 3.7881286026079253, 8.270139489009653, 15.947981513236483, 46.72786748064187, 8.960654240742887, 5.008284080184668, 187.4397326095049, 71.5069230821709, 89.58203501813288, 45.18523397798114, 102.07085394868561, 120.50295956918808, 123.45357272562335, 69.53502491167892, 31.54231891402141, 16.92399783963553, 35.41078294305271, 49.0138897834183, 32.806736030588546, 126.14695390636085, 30.68896271077372, 63.75490959746398, 98.52573972874652, 105.85983521443761, 36.8318873506138, 17.98839874364527, 47.125558023881794, 121.37512482160909, 42.645232443999134, 44.6052778058997, 81.082299910232, 53.05613206474314, 68.10761238035991, 58.980035150950265, 70.05075345095004, 56.30984318053162, 65.5899936537462, 1.9696133518005783, 1.9693366710053253, 3.506567785054786, 4.805410064481006, 2.074762073112297, 6.244476183626607, 1.3870801158305275, 1.387002227571999, 1.3870102641942972, 1.3869663251892541, 1.3869588532568808, 1.386967893229957, 1.3869639655248633, 1.3869609506711815, 1.3869459590380875, 1.3869026423823914, 1.38690799345075, 1.3868946750603839, 1.3868634350515683, 1.386868820180276, 1.3868663238391734, 1.3868485238743338, 1.3868438739661242, 1.386831919259449, 1.3868149884481027, 1.3867875323738523, 1.386805046807704, 1.3867827008951645, 1.3867702936117767, 1.3867527088348646, 4.1483478425764, 3.5511857757388015, 2.8441314789157386, 7.13944548522011, 3.5053467482244347, 4.332840197027094, 2.8137351966421704, 9.644573842778367, 3.1789268726255493, 5.855314791529462, 8.809591718823032, 5.835411122841128, 2.86653019062097, 35.797309299334415, 18.25011976689756, 2.142930830570342, 9.00287288249935, 3.8225089810429327, 28.61418856493195, 17.022164999387442, 1.9846284017434883, 42.72819035495712, 52.004960386289994, 16.61717733051455, 18.399019000166714, 34.09890284287804, 11.013942382138016, 34.17055103159954, 126.14695390636085, 65.45500055863914, 34.74404753297377, 42.814309088430086, 121.37512482160909, 58.228672184941615, 22.24282006508174, 71.5069230821709, 63.75490959746398, 105.85983521443761, 46.72786748064187, 35.899457363724856, 61.146354166419954, 98.52573972874652, 33.734067417319416, 187.4397326095049, 69.53502491167892, 70.05075345095004, 85.87693045602802, 84.24887809296422, 89.58203501813288, 70.77826938247105, 58.980035150950265, 56.30984318053162, 120.50295956918808, 68.10761238035991, 2.013716681780042, 2.013472224167376, 2.0133223624980663, 4.094077448702247, 2.024323795528502, 4.840065121366949, 2.0621949362966303, 2.8022740853906325, 1.4091601431944474, 1.4091185475965569, 1.4091005750554926, 1.4090838064785594, 1.4090380760856527, 1.408967089335755, 1.4089602227438998, 1.4089168065922726, 1.4089276500522574, 1.4089588302795124, 1.408871915145291, 1.4088769936557959, 1.4088133065288926, 1.4087242056506204, 1.4085981811734487, 1.4086458171236824, 1.4086006438424707, 2.137125290467042, 7.981431952615328, 1.4148776617424037, 1.4151492031830606, 1.4166092507444938, 2.8031665005039423, 22.24282006508174, 4.2772216143123805, 4.820599209846802, 3.1789268726255493, 7.1537650300460935, 4.229449361756888, 25.493744834767295, 2.7818692705659513, 12.752088010038284, 2.9117625360293946, 2.144546009097956, 10.394735006249194, 3.9486872287758734, 28.193211993248482, 105.85983521443761, 6.8424990779960595, 3.6690294211543293, 30.420308439008295, 8.234973244613077, 51.96780705038877, 35.797309299334415, 49.830690701825155, 73.15107516728179, 70.77826938247105, 56.30984318053162, 31.270348182921694, 85.87693045602802, 27.216165071370305, 19.618294313142854, 35.899457363724856, 123.45357272562335, 69.53502491167892, 42.814309088430086, 73.55483607725914, 120.50295956918808, 187.4397326095049, 102.07085394868561, 39.54776475527571, 53.46595657571886, 43.74989241988378, 98.52573972874652, 68.10761238035991, 126.14695390636085, 89.58203501813288, 84.24887809296422, 51.32718958354618, 60.702892004547074], \"Category\": [\"Default\", \"Default\", \"Default\", \"Default\", \"Default\", \"Default\", \"Default\", \"Default\", \"Default\", \"Default\", \"Default\", \"Default\", \"Default\", \"Default\", \"Default\", \"Default\", \"Default\", \"Default\", \"Default\", \"Default\", \"Default\", \"Default\", \"Default\", \"Default\", \"Default\", \"Default\", \"Default\", \"Default\", \"Default\", \"Default\", \"Topic1\", \"Topic1\", \"Topic1\", \"Topic1\", \"Topic1\", \"Topic1\", \"Topic1\", \"Topic1\", \"Topic1\", \"Topic1\", \"Topic1\", \"Topic1\", \"Topic1\", \"Topic1\", \"Topic1\", \"Topic1\", \"Topic1\", \"Topic1\", \"Topic1\", \"Topic1\", \"Topic1\", \"Topic1\", \"Topic1\", \"Topic1\", \"Topic1\", \"Topic1\", \"Topic1\", \"Topic1\", \"Topic1\", \"Topic1\", \"Topic1\", \"Topic1\", \"Topic1\", \"Topic1\", \"Topic1\", \"Topic1\", \"Topic1\", \"Topic1\", \"Topic1\", \"Topic1\", \"Topic1\", \"Topic1\", \"Topic1\", \"Topic1\", \"Topic1\", \"Topic1\", \"Topic1\", \"Topic1\", \"Topic1\", \"Topic1\", \"Topic1\", \"Topic1\", \"Topic1\", \"Topic1\", \"Topic1\", \"Topic1\", \"Topic1\", \"Topic1\", \"Topic1\", \"Topic1\", \"Topic1\", \"Topic1\", \"Topic1\", \"Topic1\", \"Topic1\", \"Topic1\", \"Topic1\", \"Topic1\", \"Topic1\", \"Topic1\", \"Topic1\", \"Topic1\", \"Topic1\", \"Topic1\", \"Topic1\", \"Topic1\", \"Topic1\", \"Topic1\", \"Topic1\", \"Topic1\", \"Topic1\", \"Topic2\", \"Topic2\", \"Topic2\", \"Topic2\", \"Topic2\", \"Topic2\", \"Topic2\", \"Topic2\", \"Topic2\", \"Topic2\", \"Topic2\", \"Topic2\", \"Topic2\", \"Topic2\", \"Topic2\", \"Topic2\", \"Topic2\", \"Topic2\", \"Topic2\", \"Topic2\", \"Topic2\", \"Topic2\", \"Topic2\", \"Topic2\", \"Topic2\", \"Topic2\", \"Topic2\", \"Topic2\", \"Topic2\", \"Topic2\", \"Topic2\", \"Topic2\", \"Topic2\", \"Topic2\", \"Topic2\", \"Topic2\", \"Topic2\", \"Topic2\", \"Topic2\", \"Topic2\", \"Topic2\", \"Topic2\", \"Topic2\", \"Topic2\", \"Topic2\", \"Topic2\", \"Topic2\", \"Topic2\", \"Topic2\", \"Topic2\", \"Topic2\", \"Topic2\", \"Topic2\", \"Topic2\", \"Topic2\", \"Topic2\", \"Topic2\", \"Topic2\", \"Topic2\", \"Topic2\", \"Topic2\", \"Topic2\", \"Topic2\", \"Topic2\", \"Topic2\", \"Topic2\", \"Topic2\", \"Topic2\", \"Topic2\", \"Topic2\", \"Topic2\", \"Topic2\", \"Topic2\", \"Topic2\", \"Topic2\", \"Topic2\", \"Topic2\", \"Topic2\", \"Topic2\", \"Topic2\", \"Topic2\", \"Topic2\", \"Topic2\", \"Topic2\", \"Topic2\", \"Topic2\", \"Topic2\", \"Topic2\", \"Topic2\", \"Topic2\", \"Topic2\", \"Topic2\", \"Topic2\", \"Topic3\", \"Topic3\", \"Topic3\", \"Topic3\", \"Topic3\", \"Topic3\", \"Topic3\", \"Topic3\", \"Topic3\", \"Topic3\", \"Topic3\", \"Topic3\", \"Topic3\", \"Topic3\", \"Topic3\", \"Topic3\", \"Topic3\", \"Topic3\", \"Topic3\", \"Topic3\", \"Topic3\", \"Topic3\", \"Topic3\", \"Topic3\", \"Topic3\", \"Topic3\", \"Topic3\", \"Topic3\", \"Topic3\", \"Topic3\", \"Topic3\", \"Topic3\", \"Topic3\", \"Topic3\", \"Topic3\", \"Topic3\", \"Topic3\", \"Topic3\", \"Topic3\", \"Topic3\", \"Topic3\", \"Topic3\", \"Topic3\", \"Topic3\", \"Topic3\", \"Topic3\", \"Topic3\", \"Topic3\", \"Topic3\", \"Topic3\", \"Topic3\", \"Topic3\", \"Topic3\", \"Topic3\", \"Topic3\", \"Topic3\", \"Topic3\", \"Topic3\", \"Topic3\", \"Topic3\", \"Topic3\", \"Topic3\", \"Topic3\", \"Topic3\", \"Topic3\", \"Topic3\", \"Topic3\", \"Topic3\", \"Topic3\", \"Topic3\", \"Topic3\", \"Topic3\", \"Topic3\", \"Topic3\", \"Topic3\", \"Topic3\", \"Topic3\", \"Topic3\", \"Topic3\", \"Topic3\", \"Topic4\", \"Topic4\", \"Topic4\", \"Topic4\", \"Topic4\", \"Topic4\", \"Topic4\", \"Topic4\", \"Topic4\", \"Topic4\", \"Topic4\", \"Topic4\", \"Topic4\", \"Topic4\", \"Topic4\", \"Topic4\", \"Topic4\", \"Topic4\", \"Topic4\", \"Topic4\", \"Topic4\", \"Topic4\", \"Topic4\", \"Topic4\", \"Topic4\", \"Topic4\", \"Topic4\", \"Topic4\", \"Topic4\", \"Topic4\", \"Topic4\", \"Topic4\", \"Topic4\", \"Topic4\", \"Topic4\", \"Topic4\", \"Topic4\", \"Topic4\", \"Topic4\", \"Topic4\", \"Topic4\", \"Topic4\", \"Topic4\", \"Topic4\", \"Topic4\", \"Topic4\", \"Topic4\", \"Topic4\", \"Topic4\", \"Topic4\", \"Topic4\", \"Topic4\", \"Topic4\", \"Topic4\", \"Topic4\", \"Topic4\", \"Topic4\", \"Topic4\", \"Topic4\", \"Topic4\", \"Topic4\", \"Topic4\", \"Topic4\", \"Topic4\", \"Topic4\", \"Topic4\", \"Topic4\", \"Topic4\", \"Topic4\", \"Topic4\", \"Topic4\", \"Topic4\", \"Topic4\", \"Topic4\", \"Topic4\", \"Topic5\", \"Topic5\", \"Topic5\", \"Topic5\", \"Topic5\", \"Topic5\", \"Topic5\", \"Topic5\", \"Topic5\", \"Topic5\", \"Topic5\", \"Topic5\", \"Topic5\", \"Topic5\", \"Topic5\", \"Topic5\", \"Topic5\", \"Topic5\", \"Topic5\", \"Topic5\", \"Topic5\", \"Topic5\", \"Topic5\", \"Topic5\", \"Topic5\", \"Topic5\", \"Topic5\", \"Topic5\", \"Topic5\", \"Topic5\", \"Topic5\", \"Topic5\", \"Topic5\", \"Topic5\", \"Topic5\", \"Topic5\", \"Topic5\", \"Topic5\", \"Topic5\", \"Topic5\", \"Topic5\", \"Topic5\", \"Topic5\", \"Topic5\", \"Topic5\", \"Topic5\", \"Topic5\", \"Topic5\", \"Topic5\", \"Topic5\", \"Topic5\", \"Topic5\", \"Topic5\", \"Topic5\", \"Topic5\", \"Topic5\", \"Topic5\", \"Topic5\", \"Topic5\", \"Topic5\", \"Topic5\", \"Topic5\", \"Topic5\", \"Topic5\", \"Topic5\", \"Topic5\", \"Topic5\", \"Topic5\", \"Topic5\", \"Topic5\", \"Topic5\", \"Topic5\", \"Topic5\", \"Topic5\", \"Topic6\", \"Topic6\", \"Topic6\", \"Topic6\", \"Topic6\", \"Topic6\", \"Topic6\", \"Topic6\", \"Topic6\", \"Topic6\", \"Topic6\", \"Topic6\", \"Topic6\", \"Topic6\", \"Topic6\", \"Topic6\", \"Topic6\", \"Topic6\", \"Topic6\", \"Topic6\", \"Topic6\", \"Topic6\", \"Topic6\", \"Topic6\", \"Topic6\", \"Topic6\", \"Topic6\", \"Topic6\", \"Topic6\", \"Topic6\", \"Topic6\", \"Topic6\", \"Topic6\", \"Topic6\", \"Topic6\", \"Topic6\", \"Topic6\", \"Topic6\", \"Topic6\", \"Topic6\", \"Topic6\", \"Topic6\", \"Topic6\", \"Topic6\", \"Topic6\", \"Topic6\", \"Topic6\", \"Topic6\", \"Topic6\", \"Topic6\", \"Topic6\", \"Topic6\", \"Topic6\", \"Topic6\", \"Topic6\", \"Topic6\", \"Topic6\", \"Topic6\", \"Topic6\", \"Topic6\", \"Topic6\", \"Topic6\", \"Topic6\", \"Topic6\", \"Topic6\", \"Topic6\", \"Topic6\", \"Topic6\", \"Topic6\", \"Topic6\", \"Topic6\", \"Topic6\", \"Topic6\", \"Topic6\", \"Topic6\", \"Topic6\", \"Topic6\", \"Topic6\", \"Topic6\", \"Topic6\", \"Topic6\", \"Topic6\", \"Topic7\", \"Topic7\", \"Topic7\", \"Topic7\", \"Topic7\", \"Topic7\", \"Topic7\", \"Topic7\", \"Topic7\", \"Topic7\", \"Topic7\", \"Topic7\", \"Topic7\", \"Topic7\", \"Topic7\", \"Topic7\", \"Topic7\", \"Topic7\", \"Topic7\", \"Topic7\", \"Topic7\", \"Topic7\", \"Topic7\", \"Topic7\", \"Topic7\", \"Topic7\", \"Topic7\", \"Topic7\", \"Topic7\", \"Topic7\", \"Topic7\", \"Topic7\", \"Topic7\", \"Topic7\", \"Topic7\", \"Topic7\", \"Topic7\", \"Topic7\", \"Topic7\", \"Topic7\", \"Topic7\", \"Topic7\", \"Topic7\", \"Topic7\", \"Topic7\", \"Topic7\", \"Topic7\", \"Topic7\", \"Topic7\", \"Topic7\", \"Topic7\", \"Topic7\", \"Topic7\", \"Topic7\", \"Topic7\", \"Topic7\", \"Topic7\", \"Topic7\", \"Topic7\", \"Topic7\", \"Topic7\", \"Topic7\", \"Topic7\", \"Topic7\", \"Topic7\", \"Topic7\", \"Topic7\", \"Topic7\", \"Topic7\", \"Topic7\", \"Topic7\", \"Topic7\", \"Topic7\", \"Topic7\", \"Topic7\", \"Topic7\", \"Topic8\", \"Topic8\", \"Topic8\", \"Topic8\", \"Topic8\", \"Topic8\", \"Topic8\", \"Topic8\", \"Topic8\", \"Topic8\", \"Topic8\", \"Topic8\", \"Topic8\", \"Topic8\", \"Topic8\", \"Topic8\", \"Topic8\", \"Topic8\", \"Topic8\", \"Topic8\", \"Topic8\", \"Topic8\", \"Topic8\", \"Topic8\", \"Topic8\", \"Topic8\", \"Topic8\", \"Topic8\", \"Topic8\", \"Topic8\", \"Topic8\", \"Topic8\", \"Topic8\", \"Topic8\", \"Topic8\", \"Topic8\", \"Topic8\", \"Topic8\", \"Topic8\", \"Topic8\", \"Topic8\", \"Topic8\", \"Topic8\", \"Topic8\", \"Topic8\", \"Topic8\", \"Topic8\", \"Topic8\", \"Topic8\", \"Topic8\", \"Topic8\", \"Topic8\", \"Topic8\", \"Topic8\", \"Topic8\", \"Topic8\", \"Topic8\", \"Topic8\", \"Topic8\", \"Topic8\", \"Topic8\", \"Topic8\", \"Topic8\", \"Topic8\", \"Topic8\", \"Topic8\", \"Topic8\", \"Topic8\", \"Topic8\", \"Topic8\", \"Topic8\", \"Topic8\", \"Topic8\", \"Topic8\", \"Topic8\", \"Topic8\", \"Topic8\", \"Topic8\", \"Topic8\", \"Topic8\", \"Topic8\", \"Topic8\", \"Topic8\", \"Topic9\", \"Topic9\", \"Topic9\", \"Topic9\", \"Topic9\", \"Topic9\", \"Topic9\", \"Topic9\", \"Topic9\", \"Topic9\", \"Topic9\", \"Topic9\", \"Topic9\", \"Topic9\", \"Topic9\", \"Topic9\", \"Topic9\", \"Topic9\", \"Topic9\", \"Topic9\", \"Topic9\", \"Topic9\", \"Topic9\", \"Topic9\", \"Topic9\", \"Topic9\", \"Topic9\", \"Topic9\", \"Topic9\", \"Topic9\", \"Topic9\", \"Topic9\", \"Topic9\", \"Topic9\", \"Topic9\", \"Topic9\", \"Topic9\", \"Topic9\", \"Topic9\", \"Topic9\", \"Topic9\", \"Topic9\", \"Topic9\", \"Topic9\", \"Topic9\", \"Topic9\", \"Topic9\", \"Topic9\", \"Topic9\", \"Topic9\", \"Topic9\", \"Topic9\", \"Topic9\", \"Topic9\", \"Topic9\", \"Topic9\", \"Topic9\", \"Topic9\", \"Topic9\", \"Topic9\", \"Topic9\", \"Topic9\", \"Topic9\", \"Topic9\", \"Topic9\", \"Topic9\", \"Topic9\", \"Topic9\", \"Topic9\", \"Topic9\", \"Topic9\", \"Topic9\", \"Topic9\", \"Topic9\", \"Topic9\", \"Topic9\", \"Topic9\", \"Topic9\", \"Topic9\", \"Topic9\", \"Topic9\", \"Topic9\", \"Topic9\", \"Topic9\", \"Topic10\", \"Topic10\", \"Topic10\", \"Topic10\", \"Topic10\", \"Topic10\", \"Topic10\", \"Topic10\", \"Topic10\", \"Topic10\", \"Topic10\", \"Topic10\", \"Topic10\", \"Topic10\", \"Topic10\", \"Topic10\", \"Topic10\", \"Topic10\", \"Topic10\", \"Topic10\", \"Topic10\", \"Topic10\", \"Topic10\", \"Topic10\", \"Topic10\", \"Topic10\", \"Topic10\", \"Topic10\", \"Topic10\", \"Topic10\", \"Topic10\", \"Topic10\", \"Topic10\", \"Topic10\", \"Topic10\", \"Topic10\", \"Topic10\", \"Topic10\", \"Topic10\", \"Topic10\", \"Topic10\", \"Topic10\", \"Topic10\", \"Topic10\", \"Topic10\", \"Topic10\", \"Topic10\", \"Topic10\", \"Topic10\", \"Topic10\", \"Topic10\", \"Topic10\", \"Topic10\", \"Topic10\", \"Topic10\", \"Topic10\", \"Topic10\", \"Topic10\", \"Topic10\", \"Topic10\", \"Topic10\", \"Topic10\", \"Topic10\", \"Topic10\", \"Topic10\", \"Topic10\", \"Topic10\", \"Topic10\", \"Topic10\", \"Topic10\", \"Topic10\", \"Topic10\", \"Topic10\", \"Topic10\", \"Topic10\", \"Topic10\", \"Topic10\", \"Topic10\"], \"logprob\": [30.0, 29.0, 28.0, 27.0, 26.0, 25.0, 24.0, 23.0, 22.0, 21.0, 20.0, 19.0, 18.0, 17.0, 16.0, 15.0, 14.0, 13.0, 12.0, 11.0, 10.0, 9.0, 8.0, 7.0, 6.0, 5.0, 4.0, 3.0, 2.0, 1.0, -6.9271, -6.9385, -7.1472, -7.159, -7.4175, -7.7996, -7.7997, -7.8001, -7.5236, -7.8276, -7.8395, -6.916, -7.6264, -5.8103, -7.999, -7.6993, -7.2878, -8.4458, -8.4458, -8.4458, -8.4458, -8.4459, -8.4459, -8.4459, -8.446, -8.446, -8.446, -8.4461, -8.4461, -8.4461, -7.8206, -5.7322, -7.7828, -7.1767, -7.7999, -7.4285, -8.0543, -8.0507, -6.3754, -8.0609, -7.0479, -8.0751, -7.4543, -6.3744, -6.4946, -7.3583, -7.2356, -5.8027, -5.9869, -6.8756, -5.5074, -5.496, -4.9935, -5.3382, -6.2639, -6.0661, -6.2877, -6.4685, -5.7875, -5.9881, -5.812, -6.4092, -5.4803, -5.5919, -5.9171, -5.5663, -6.1809, -5.639, -6.2287, -6.1982, -6.0813, -6.1476, -6.1649, -5.9013, -6.0853, -6.0114, -6.1748, -6.009, -6.0572, -6.154, -6.1815, -7.2977, -7.6874, -7.6876, -7.712, -7.5068, -7.8516, -7.9503, -8.3337, -8.3337, -8.3337, -8.3338, -8.3338, -8.3338, -8.3339, -8.3339, -8.3339, -8.3339, -8.334, -8.334, -8.334, -8.334, -8.334, -8.334, -8.334, -8.3341, -8.3341, -8.3341, -8.3341, -8.3341, -8.3341, -7.9427, -7.6909, -7.9739, -7.2984, -7.9594, -7.62, -7.4224, -7.235, -7.9704, -7.2979, -7.5211, -7.394, -7.5474, -7.5282, -7.7372, -7.7699, -7.0189, -7.4708, -7.4644, -6.9886, -5.9976, -7.0931, -7.7336, -5.4996, -5.6767, -6.804, -6.4175, -6.7856, -7.1308, -6.0087, -6.1788, -5.3622, -5.3947, -6.3392, -5.1223, -6.0773, -5.5907, -6.3891, -6.5149, -6.0375, -6.5268, -6.2172, -5.7308, -6.4104, -6.43, -6.2569, -6.0979, -5.9362, -5.9116, -6.5061, -6.1739, -5.762, -5.7814, -6.1757, -6.0722, -5.9663, -6.1637, -6.2709, -6.327, -6.2287, -6.2783, -6.2477, -6.3267, -7.6611, -7.6618, -7.7206, -7.7433, -7.2953, -7.7778, -7.7817, -7.8294, -7.0047, -7.8194, -7.5325, -7.0162, -7.8862, -8.3077, -8.3078, -8.3078, -8.308, -8.308, -8.308, -8.3081, -8.3081, -8.3082, -8.3083, -8.3083, -8.3084, -8.3084, -8.3084, -8.3086, -8.3086, -8.323, -7.6521, -6.5513, -6.4125, -7.4608, -6.762, -6.2508, -7.6843, -7.0867, -5.8186, -6.7368, -7.1606, -6.8848, -5.8972, -7.9621, -6.4009, -5.5199, -6.5836, -6.7413, -5.9005, -6.3947, -5.4981, -5.3101, -6.2323, -5.3397, -6.2096, -6.5259, -6.1022, -5.9889, -6.6097, -5.9345, -5.8882, -5.854, -5.6054, -6.0164, -5.4287, -6.217, -6.2251, -5.7158, -6.0297, -5.8946, -6.0274, -5.9324, -6.1709, -6.158, -6.1486, -6.2535, -6.2606, -6.1931, -6.2308, -6.2452, -7.0659, -6.9157, -7.101, -6.7036, -7.418, -7.7346, -7.7346, -7.7347, -7.7349, -7.7349, -7.735, -7.7352, -7.066, -7.2408, -7.7942, -7.2762, -7.885, -7.8722, -7.9247, -7.203, -7.7099, -8.3812, -8.3812, -8.3812, -8.3813, -8.3813, -8.3813, -8.3813, -8.3814, -8.3814, -7.9873, -7.0161, -7.9756, -7.7349, -7.7348, -7.3567, -7.7557, -7.0874, -7.0844, -7.7348, -7.3428, -5.4631, -6.7104, -5.2605, -5.946, -5.6905, -5.5605, -6.1551, -5.7135, -5.7691, -5.7426, -5.1607, -5.4236, -5.4329, -5.4432, -5.8369, -5.8162, -6.0025, -5.6227, -5.9948, -6.0722, -6.3038, -6.3415, -5.8141, -5.9865, -6.1915, -5.8694, -5.8983, -6.1059, -5.8994, -6.2033, -6.1689, -6.2204, -6.1721, -6.0356, -6.0181, -7.576, -7.5761, -7.5767, -7.0777, -7.1408, -7.35, -7.3976, -6.8283, -7.703, -7.0137, -7.7069, -7.4266, -7.4591, -7.7893, -7.7706, -7.7847, -7.7913, -7.838, -7.2885, -8.2224, -8.2224, -8.2224, -8.2224, -8.2224, -8.2224, -8.2225, -8.2225, -8.2225, -8.2225, -7.4132, -6.763, -6.2459, -7.6128, -7.4494, -7.0796, -6.5164, -7.919, -7.2208, -6.2717, -7.5986, -5.2805, -5.7713, -6.2378, -5.8709, -6.0999, -5.4933, -5.1472, -5.7634, -6.0942, -5.6686, -5.974, -5.6731, -5.8777, -5.7293, -6.6297, -5.6642, -6.5386, -5.7175, -6.0899, -6.0293, -5.9215, -5.6137, -6.0446, -5.7305, -5.7624, -6.0401, -5.6499, -6.065, -6.1215, -6.1602, -6.0928, -6.1245, -6.1391, -6.8863, -6.7573, -7.1659, -7.166, -7.166, -7.251, -6.8864, -7.649, -6.7778, -7.6423, -7.6901, -8.2017, -8.2018, -8.2018, -8.2018, -8.2019, -8.2019, -8.202, -8.202, -8.202, -8.202, -8.202, -8.202, -8.2021, -8.2021, -8.2021, -8.2021, -8.2021, -8.2021, -8.2021, -6.8393, -6.5033, -7.3504, -7.3162, -7.2001, -7.8075, -7.2615, -7.2517, -7.831, -6.2683, -6.1084, -7.343, -7.6623, -6.3869, -7.3193, -7.0897, -5.7698, -5.7978, -7.1264, -6.1856, -4.7638, -6.2349, -5.4185, -6.4303, -6.1572, -5.56, -6.2938, -6.2412, -5.9462, -5.8249, -6.2698, -6.2875, -6.3695, -5.6414, -5.7682, -6.0319, -6.0426, -5.9045, -5.961, -6.1333, -6.2149, -6.1137, -6.2647, -6.1449, -6.1726, -6.1866, -6.0896, -6.2588, -6.233, -6.2227, -6.2466, -6.2522, -7.124, -7.1481, -7.4506, -7.1565, -7.2829, -7.1748, -8.0968, -8.0968, -8.0969, -8.0969, -8.0969, -8.0969, -8.0969, -8.097, -8.097, -8.097, -8.097, -8.097, -8.0971, -8.097, -8.0971, -8.0971, -8.0972, -8.0972, -8.0973, -8.0973, -8.098, -7.0302, -7.737, -8.1642, -6.9974, -6.8596, -7.476, -7.1281, -6.4284, -7.2578, -6.8102, -7.3076, -6.4514, -7.3046, -5.8235, -5.9974, -6.8865, -5.5495, -7.8279, -5.4529, -6.2762, -6.0147, -7.0205, -7.6734, -7.2503, -5.4535, -6.2979, -5.7874, -5.894, -6.4525, -5.6982, -5.9017, -6.328, -6.2743, -5.6427, -6.038, -6.2474, -6.0473, -5.7785, -5.6137, -5.9751, -5.8957, -6.3227, -5.9825, -6.2794, -6.0703, -6.1, -6.3058, -6.1474, -6.3765, -7.4814, -7.4824, -7.4824, -7.5795, -6.8127, -7.6697, -7.3908, -7.6941, -8.1281, -8.1282, -8.1282, -8.1282, -8.1282, -8.1282, -8.1282, -8.1282, -8.1282, -8.1283, -8.1283, -8.1283, -8.1283, -8.1283, -8.1283, -8.1283, -8.1283, -8.1283, -8.1283, -8.1283, -8.1283, -8.1283, -7.7234, -7.0923, -7.7485, -6.4331, -7.3698, -6.4369, -7.0222, -7.3214, -6.3555, -6.2867, -7.5878, -7.2913, -7.4437, -6.8691, -7.5726, -7.886, -7.4815, -6.9526, -6.5091, -5.7849, -6.9073, -7.3094, -4.9058, -5.5983, -5.4906, -5.9339, -5.438, -5.3451, -5.3632, -5.7086, -6.2128, -6.5787, -6.2387, -6.0886, -6.3004, -5.6597, -6.3342, -5.9956, -5.9207, -5.9028, -6.3272, -6.6289, -6.2542, -5.9326, -6.3184, -6.3175, -6.1398, -6.2699, -6.2316, -6.2691, -6.2456, -6.2799, -6.3003, -7.4922, -7.4924, -7.103, -6.854, -7.7226, -6.6213, -8.1388, -8.1389, -8.1389, -8.1389, -8.1389, -8.1389, -8.1389, -8.1389, -8.139, -8.139, -8.139, -8.1391, -8.1391, -8.1391, -8.1391, -8.1391, -8.1391, -8.1391, -8.1392, -8.1392, -8.1392, -8.1392, -8.1392, -8.1393, -7.0538, -7.2422, -7.4657, -6.6323, -7.3089, -7.1323, -7.5757, -6.6599, -7.5071, -7.0591, -6.7637, -7.0783, -7.6132, -5.8049, -6.3301, -7.8319, -6.8388, -7.4566, -6.1345, -6.4781, -7.9015, -5.8905, -5.7667, -6.5165, -6.4625, -6.077, -6.806, -6.1206, -5.3575, -5.7712, -6.1429, -6.0356, -5.4883, -5.8935, -6.399, -5.834, -5.9, -5.6784, -6.0714, -6.1954, -5.974, -5.792, -6.2372, -5.5908, -6.0217, -6.0336, -5.9745, -6.0086, -6.0228, -6.1199, -6.1783, -6.2014, -6.1056, -6.2116, -7.3639, -7.3641, -7.3642, -6.6547, -7.3948, -6.5882, -7.479, -7.3, -8.0104, -8.0105, -8.0105, -8.0105, -8.0106, -8.0107, -8.0107, -8.0108, -8.0108, -8.0108, -8.0108, -8.0108, -8.0109, -8.0111, -8.0113, -8.0113, -8.0113, -7.6251, -6.3096, -8.0419, -8.043, -8.0536, -7.4004, -5.4332, -7.0128, -6.9487, -7.3495, -6.694, -7.1258, -5.8177, -7.5023, -6.3949, -7.4902, -7.7085, -6.597, -7.2865, -5.9198, -5.0882, -6.9522, -7.3869, -6.0325, -6.8702, -5.7526, -6.0124, -5.9148, -5.734, -5.7779, -5.9194, -6.2249, -5.7613, -6.3383, -6.4848, -6.2216, -5.7065, -6.0401, -6.2278, -6.0261, -5.8481, -5.6876, -5.9269, -6.2734, -6.183, -6.2439, -6.043, -6.1469, -6.0278, -6.1144, -6.1354, -6.2512, -6.2727], \"loglift\": [30.0, 29.0, 28.0, 27.0, 26.0, 25.0, 24.0, 23.0, 22.0, 21.0, 20.0, 19.0, 18.0, 17.0, 16.0, 15.0, 14.0, 13.0, 12.0, 11.0, 10.0, 9.0, 8.0, 7.0, 6.0, 5.0, 4.0, 3.0, 2.0, 1.0, 1.6543, 1.6455, 1.6267, 1.6178, 1.5924, 1.5222, 1.5221, 1.522, 1.5219, 1.5, 1.4944, 1.4456, 1.4449, 1.4027, 1.3819, 1.3755, 1.372, 1.3347, 1.3347, 1.3347, 1.3347, 1.3347, 1.3347, 1.3347, 1.3346, 1.3346, 1.3346, 1.3346, 1.3346, 1.3346, 1.33, 1.306, 1.3006, 1.264, 1.3002, 1.2727, 1.3125, 1.3099, 1.1897, 1.3066, 1.2231, 1.306, 1.2509, 1.0857, 1.0688, 1.1993, 1.1697, 0.8555, 0.8531, 1.0727, 0.6367, 0.5452, 0.2096, 0.3067, 0.73, 0.5727, 0.6772, 0.7689, 0.3895, 0.483, 0.3753, 0.7249, 0.1189, 0.1826, 0.3361, 0.0544, 0.4999, -0.0012, 0.4994, 0.4405, 0.2493, 0.3377, 0.3631, -0.0903, 0.2053, -0.0277, 0.3529, -0.1627, -0.0544, 0.1012, 0.2409, 1.8503, 1.7611, 1.761, 1.7395, 1.6795, 1.6288, 1.5491, 1.5458, 1.5458, 1.5458, 1.5458, 1.5457, 1.5457, 1.5457, 1.5457, 1.5457, 1.5457, 1.5457, 1.5457, 1.5457, 1.5457, 1.5457, 1.5457, 1.5457, 1.5457, 1.5456, 1.5456, 1.5456, 1.5456, 1.5456, 1.5353, 1.5123, 1.5248, 1.4789, 1.5201, 1.4867, 1.4608, 1.4406, 1.5128, 1.4447, 1.4432, 1.4119, 1.4208, 1.3961, 1.4308, 1.4371, 1.2793, 1.3548, 1.3464, 1.2345, 0.9911, 1.2219, 1.3793, 0.7159, 0.6955, 1.0766, 0.9228, 1.0189, 1.1469, 0.6107, 0.677, 0.2586, 0.2502, 0.7474, 0.0808, 0.6044, 0.2556, 0.7428, 0.7819, 0.4633, 0.77, 0.5097, 0.0801, 0.6439, 0.6242, 0.4608, 0.3079, 0.1049, 0.0721, 0.6768, 0.3121, -0.1628, -0.1437, 0.2896, 0.1049, -0.1918, 0.1179, 0.2468, 0.3537, -0.0521, 0.0217, -0.2449, -0.0033, 1.8066, 1.8064, 1.7628, 1.7457, 1.7043, 1.7024, 1.6939, 1.6668, 1.6591, 1.6587, 1.6552, 1.6292, 1.6184, 1.5867, 1.5867, 1.5866, 1.5866, 1.5866, 1.5866, 1.5865, 1.5865, 1.5865, 1.5865, 1.5865, 1.5864, 1.5864, 1.5864, 1.5863, 1.5863, 1.5744, 1.5559, 1.5179, 1.4884, 1.5236, 1.4365, 1.3608, 1.5177, 1.4418, 1.1536, 1.2811, 1.346, 1.2554, 0.9965, 1.5018, 1.0911, 0.7765, 1.0864, 1.1034, 0.7717, 0.9648, 0.5431, 0.3277, 0.8074, 0.2595, 0.7515, 0.9428, 0.6705, 0.5556, 0.9838, 0.4568, 0.4118, 0.3128, 0.0153, 0.4061, -0.2255, 0.587, 0.5776, -0.0709, 0.1577, -0.0837, 0.1112, -0.0861, 0.2179, 0.0973, -0.2072, 0.2449, 0.2402, -0.4186, -0.228, 0.0782, 1.956, 1.9221, 1.9133, 1.8361, 1.8214, 1.8017, 1.8017, 1.8017, 1.8016, 1.8016, 1.8016, 1.8015, 1.7789, 1.7627, 1.7404, 1.6916, 1.6787, 1.64, 1.6345, 1.5907, 1.5863, 1.5653, 1.5653, 1.5653, 1.5653, 1.5653, 1.5653, 1.5653, 1.5653, 1.5653, 1.5589, 1.5163, 1.5466, 1.5298, 1.5295, 1.489, 1.5156, 1.4357, 1.4314, 1.4965, 1.3902, 0.7243, 1.1497, 0.5505, 0.8228, 0.6402, 0.5781, 0.763, 0.5021, 0.4861, 0.434, 0.0425, 0.2142, 0.2121, 0.1775, 0.3579, 0.3279, 0.4686, 0.1518, 0.3941, 0.4558, 0.6793, 0.7064, 0.1273, 0.3041, 0.5262, 0.1143, 0.1046, 0.3517, -0.0532, 0.3244, 0.2369, 0.3634, 0.1489, -0.4365, 2.0499, 1.9676, 1.9676, 1.9674, 1.9513, 1.9404, 1.9031, 1.9006, 1.881, 1.8371, 1.833, 1.8269, 1.8241, 1.8075, 1.7943, 1.7812, 1.7677, 1.7618, 1.7536, 1.7441, 1.7296, 1.7296, 1.7295, 1.7295, 1.7295, 1.7295, 1.7295, 1.7295, 1.7295, 1.7295, 1.6915, 1.6048, 1.4894, 1.6532, 1.6244, 1.5724, 1.4472, 1.6797, 1.5539, 1.3446, 1.6062, 1.0404, 1.0874, 1.1632, 0.911, 0.9828, 0.6834, 0.4519, 0.7466, 0.9111, 0.5846, 0.7547, 0.5217, 0.64, 0.4148, 1.1633, 0.3195, 1.0635, 0.2854, 0.5938, 0.5276, 0.3749, 0.0071, 0.4662, 0.044, 0.0839, 0.3488, -0.4468, 0.2944, 0.2842, 0.3258, -0.4551, -0.183, 0.038, 2.1936, 2.1372, 2.135, 2.1349, 2.1349, 2.0642, 2.0082, 1.9497, 1.9447, 1.9395, 1.8736, 1.781, 1.781, 1.781, 1.781, 1.781, 1.7809, 1.7809, 1.7809, 1.7809, 1.7809, 1.7809, 1.7809, 1.7809, 1.7809, 1.7809, 1.7808, 1.7808, 1.7808, 1.7808, 1.7795, 1.7585, 1.7271, 1.7193, 1.6754, 1.7378, 1.6252, 1.5806, 1.7016, 1.3302, 1.2234, 1.5321, 1.6263, 1.2159, 1.5094, 1.4334, 0.993, 0.9784, 1.4188, 1.0583, 0.4394, 0.986, 0.5229, 1.0475, 0.8555, 0.4428, 0.8969, 0.8564, 0.5815, 0.4657, 0.7155, 0.7258, 0.7668, -0.0037, 0.0428, 0.3275, 0.2807, -0.0582, 0.0226, 0.2556, 0.4198, 0.1395, 0.5203, 0.1515, 0.158, 0.1133, -0.4446, 0.3799, -0.1919, -0.6236, -0.0798, -0.4777, 2.1615, 2.1344, 2.1281, 2.1251, 2.0319, 1.8872, 1.8813, 1.8813, 1.8813, 1.8813, 1.8813, 1.8813, 1.8813, 1.8813, 1.8812, 1.8812, 1.8812, 1.8812, 1.8812, 1.8812, 1.8812, 1.8812, 1.8812, 1.8812, 1.8811, 1.8811, 1.8808, 1.8553, 1.8173, 1.8081, 1.7814, 1.7098, 1.785, 1.6449, 1.3718, 1.5585, 1.3836, 1.571, 1.188, 1.5518, 0.8583, 0.9322, 1.3249, 0.6174, 1.7468, 0.4886, 0.8794, 0.7123, 1.2337, 1.6232, 1.3442, 0.1843, 0.7133, 0.3512, 0.3876, 0.7751, 0.1481, 0.275, 0.6551, 0.5998, -0.0435, 0.3509, 0.5253, 0.2526, -0.1578, -0.4106, 0.0661, -0.0848, 0.5367, -0.208, 0.3929, -0.0675, -0.1163, 0.2999, -0.5024, 0.168, 2.1868, 2.1864, 2.1864, 2.0598, 2.0049, 1.9736, 1.9631, 1.9463, 1.9162, 1.9162, 1.9162, 1.9162, 1.9162, 1.9162, 1.9162, 1.9162, 1.9161, 1.9161, 1.9161, 1.9161, 1.9161, 1.9161, 1.9161, 1.9161, 1.9161, 1.9161, 1.9161, 1.9161, 1.9161, 1.9161, 1.9139, 1.8548, 1.8886, 1.6515, 1.7706, 1.5512, 1.6603, 1.714, 1.3853, 1.3591, 1.7513, 1.5978, 1.649, 1.4034, 1.6892, 1.8133, 1.6232, 1.3713, 1.1581, 0.8074, 1.3365, 1.5161, 0.2974, 0.5685, 0.4508, 0.692, 0.3729, 0.2999, 0.2576, 0.4862, 0.7725, 1.0292, 0.6309, 0.4559, 0.6455, -0.0605, 0.6785, 0.2859, -0.0744, -0.1283, 0.503, 0.918, 0.3296, -0.2948, 0.3653, 0.3212, -0.0986, 0.1954, -0.0161, 0.0903, -0.0582, 0.1259, -0.0472, 2.2666, 2.2665, 2.079, 2.0128, 1.9842, 1.9837, 1.9706, 1.9706, 1.9706, 1.9706, 1.9706, 1.9706, 1.9706, 1.9706, 1.9705, 1.9705, 1.9705, 1.9705, 1.9705, 1.9705, 1.9705, 1.9705, 1.9704, 1.9704, 1.9704, 1.9704, 1.9704, 1.9704, 1.9704, 1.9704, 1.9601, 1.9271, 1.9257, 1.8387, 1.8734, 1.8381, 1.8264, 1.5103, 1.7729, 1.6101, 1.497, 1.5943, 1.7703, 1.0538, 1.2023, 1.8425, 1.4003, 1.6391, 0.9482, 1.124, 1.8497, 0.7913, 0.7185, 1.1097, 1.0618, 0.8304, 1.2314, 0.7846, 0.2417, 0.484, 0.7457, 0.6441, 0.1494, 0.4787, 0.9356, 0.3328, 0.3816, 0.0961, 0.5209, 0.6605, 0.3494, 0.0543, 0.6809, -0.3876, 0.1731, 0.1538, 0.0092, -0.0058, -0.0813, 0.0571, 0.1811, 0.2043, -0.4607, 0.0039, 2.3728, 2.3727, 2.3727, 2.3724, 2.3366, 2.2714, 2.2338, 2.1061, 2.0832, 2.0832, 2.0832, 2.0832, 2.0831, 2.0831, 2.083, 2.083, 2.083, 2.083, 2.083, 2.083, 2.0829, 2.0828, 2.0827, 2.0827, 2.0827, 2.0521, 2.0499, 2.0477, 2.0464, 2.0348, 2.0055, 1.9014, 1.9705, 1.915, 1.9306, 1.7749, 1.8687, 1.3804, 1.9112, 1.496, 1.8777, 1.9652, 1.4984, 1.7767, 1.1778, 0.6863, 1.5613, 1.7498, 0.989, 1.458, 0.7334, 0.8463, 0.6132, 0.4101, 0.3992, 0.4863, 0.769, 0.2224, 0.7945, 0.9754, 0.6343, -0.0858, 0.1547, 0.4519, 0.1125, -0.2032, -0.4844, -0.116, 0.4857, 0.2746, 0.4143, -0.1967, 0.0686, -0.4286, -0.1729, -0.1326, 0.2472, 0.0579]}, \"token.table\": {\"Topic\": [2, 10, 1, 2, 3, 4, 5, 6, 7, 8, 9, 10, 6, 1, 3, 6, 8, 1, 2, 3, 4, 5, 6, 7, 8, 9, 3, 4, 6, 7, 3, 6, 6, 9, 1, 1, 2, 3, 4, 5, 6, 7, 8, 9, 10, 3, 1, 2, 2, 9, 7, 1, 2, 3, 4, 5, 6, 7, 8, 9, 10, 1, 2, 3, 4, 5, 6, 7, 8, 9, 10, 2, 5, 3, 1, 2, 3, 4, 5, 6, 7, 8, 9, 10, 1, 2, 3, 4, 5, 6, 7, 8, 9, 7, 1, 2, 3, 4, 5, 6, 7, 8, 9, 10, 1, 2, 3, 4, 5, 6, 7, 8, 9, 10, 5, 1, 2, 3, 4, 5, 6, 7, 8, 9, 10, 2, 3, 4, 7, 9, 2, 4, 6, 1, 2, 3, 4, 6, 7, 8, 9, 1, 2, 3, 4, 5, 6, 7, 8, 9, 10, 4, 8, 2, 10, 9, 4, 2, 3, 4, 6, 7, 8, 10, 1, 1, 2, 3, 4, 5, 6, 7, 8, 9, 10, 2, 6, 3, 2, 3, 9, 10, 3, 8, 1, 3, 4, 6, 1, 1, 9, 1, 1, 4, 8, 10, 3, 4, 7, 9, 7, 5, 10, 3, 2, 4, 2, 3, 8, 2, 7, 10, 2, 5, 9, 1, 3, 1, 4, 10, 1, 2, 3, 4, 5, 7, 10, 9, 1, 2, 3, 4, 5, 6, 7, 8, 9, 10, 5, 1, 2, 3, 4, 5, 6, 5, 8, 5, 8, 9, 1, 2, 3, 4, 5, 6, 7, 8, 9, 6, 3, 1, 2, 3, 4, 5, 6, 7, 8, 9, 10, 1, 2, 3, 4, 5, 6, 7, 8, 9, 10, 1, 4, 5, 9, 1, 2, 3, 4, 5, 6, 7, 8, 9, 10, 2, 9, 8, 6, 8, 5, 1, 2, 3, 4, 5, 6, 7, 8, 9, 1, 2, 3, 4, 5, 6, 7, 8, 9, 10, 1, 1, 2, 3, 4, 5, 6, 7, 8, 9, 10, 7, 1, 5, 6, 10, 1, 2, 3, 4, 5, 6, 7, 8, 9, 2, 1, 5, 8, 9, 2, 1, 2, 3, 4, 5, 6, 7, 8, 9, 10, 3, 9, 1, 6, 9, 1, 3, 4, 9, 8, 1, 2, 3, 4, 5, 6, 7, 8, 9, 10, 4, 1, 3, 4, 5, 6, 7, 8, 4, 7, 8, 9, 1, 4, 6, 1, 2, 3, 4, 5, 6, 7, 8, 9, 10, 6, 8, 4, 2, 4, 1, 2, 3, 4, 5, 6, 7, 8, 9, 10, 1, 7, 1, 2, 3, 4, 5, 6, 7, 8, 9, 10, 1, 2, 3, 4, 5, 6, 7, 8, 9, 10, 1, 10, 1, 2, 3, 4, 5, 6, 9, 10, 2, 1, 2, 3, 4, 5, 6, 7, 8, 9, 10, 1, 2, 3, 4, 5, 6, 7, 8, 9, 10, 1, 2, 3, 4, 5, 6, 7, 9, 10, 3, 4, 7, 7, 1, 2, 3, 5, 8, 9, 10, 8, 8, 1, 2, 3, 4, 5, 6, 7, 8, 9, 10, 4, 7, 8, 1, 3, 6, 8, 1, 2, 3, 4, 5, 6, 7, 8, 9, 10, 3, 3, 4, 2, 4, 3, 6, 3, 7, 4, 7, 1, 2, 3, 4, 5, 6, 7, 8, 9, 10, 7, 10, 1, 2, 5, 9, 10, 6, 1, 8, 2, 8, 8, 4, 9, 6, 10, 7, 2, 10, 1, 2, 3, 4, 5, 6, 7, 8, 9, 10, 6, 10, 9, 3, 1, 2, 3, 1, 1, 2, 3, 4, 6, 8, 10, 8, 1, 2, 3, 4, 5, 6, 7, 8, 9, 10, 1, 2, 3, 4, 5, 6, 7, 8, 9, 10, 1, 2, 3, 4, 5, 6, 7, 8, 9, 10, 1, 2, 3, 4, 5, 6, 7, 8, 9, 10, 1, 2, 3, 4, 6, 8, 1, 5, 6, 1, 2, 3, 4, 6, 7, 8, 9, 10, 10, 1, 2, 3, 4, 5, 6, 7, 8, 9, 10, 1, 2, 3, 4, 5, 6, 7, 8, 9, 10, 1, 6, 7, 4, 5, 1, 3, 5, 6, 7, 9, 10, 2, 3, 4, 5, 6, 7, 9, 10, 2, 4, 5, 6, 7, 8, 10, 1, 2, 3, 4, 5, 6, 7, 8, 9, 10, 8, 8, 1, 2, 3, 4, 5, 6, 7, 8, 9, 10, 1, 2, 3, 4, 5, 6, 7, 8, 10, 1, 2, 3, 4, 5, 6, 7, 8, 9, 10, 9, 10, 1, 2, 3, 4, 5, 6, 7, 8, 9, 10, 8, 5, 8, 1, 8, 1, 2, 3, 4, 5, 6, 7, 8, 9, 10, 6, 1, 2, 3, 4, 5, 6, 7, 8, 9, 10, 4, 7, 7, 1, 2, 3, 4, 5, 6, 7, 8, 9, 10, 6, 1, 6, 1, 2, 3, 4, 5, 6, 7, 8, 9, 10, 6, 1, 2, 3, 4, 5, 6, 7, 8, 9, 10, 6, 8, 1, 5, 6, 9, 5, 1, 2, 3, 4, 5, 6, 7, 8, 9, 10, 1, 2, 3, 4, 5, 6, 7, 8, 9, 10, 9, 4, 6, 9, 2, 4, 5, 10, 4, 5, 4, 1, 2, 3, 4, 5, 6, 7, 8, 9, 10, 1, 2, 4, 7, 8, 5, 1, 1, 2, 3, 4, 5, 6, 7, 8, 9, 10, 5, 7, 9, 3, 8, 1, 2, 3, 5, 8, 9, 10, 2, 3, 3, 4, 1, 2, 3, 4, 5, 6, 7, 8, 9, 10, 10, 1, 2, 3, 4, 5, 6, 7, 8, 9, 10, 3, 1, 2, 3, 4, 5, 6, 7, 8, 9, 10, 5, 4, 9, 9, 1, 2, 3, 4, 5, 6, 7, 8, 9, 10, 3, 4, 1, 2, 3, 4, 5, 6, 7, 8, 9, 10, 5, 3, 10, 8, 8, 10, 8, 3, 7, 1, 2, 3, 4, 5, 8, 9, 10, 7, 2, 1, 9, 4, 1, 2, 3, 4, 6, 7, 8, 9, 10, 1, 2, 3, 4, 5, 6, 7, 8, 9, 10, 2, 2, 3, 6, 9, 4, 9, 1, 2, 3, 4, 5, 6, 7, 9, 3, 6, 1, 2, 3, 4, 5, 6, 7, 8, 9, 10, 5, 10, 5, 8, 4, 7, 8, 1, 1, 6, 8, 1, 10, 5, 1, 10, 1, 2, 3, 4, 5, 6, 7, 8, 9, 10, 8, 1, 3, 4, 5, 9, 1, 2, 3, 4, 5, 6, 7, 8, 9, 10, 2, 3, 1, 1, 2, 3, 4, 5, 6, 7, 8, 9, 10, 4, 1, 2, 3, 5, 10, 8, 6, 1, 2, 3, 4, 5, 6, 7, 9, 10, 4, 5, 1, 2, 3, 4, 5, 6, 7, 8, 9, 10, 1, 2, 3, 4, 5, 6, 7, 8, 9, 10, 10, 2, 5, 10, 1, 4, 5, 7, 9, 1, 2, 3, 4, 5, 7, 8, 10, 4, 1, 4, 1, 2, 3, 8, 9, 2, 2, 1, 1, 2, 3, 4, 5, 6, 7, 8, 9, 10, 5, 7, 1, 2, 3, 4, 5, 6, 7, 8, 9, 10, 9, 6, 1, 2, 3, 4, 5, 6, 7, 8, 9, 10, 2, 2, 10, 3, 5, 6, 8, 9, 7, 7, 2, 4, 6, 9, 10, 1, 2, 5, 4, 8, 9, 3, 5, 9, 1, 2, 3, 4, 5, 6, 7, 8, 9, 10, 1, 9, 9, 1, 2, 3, 4, 7, 10, 5, 10, 8, 5, 2, 3, 4, 5, 7, 8, 9, 8, 3, 4, 1, 2, 3, 4, 5, 6, 7, 8, 9, 10, 5, 2, 4, 6, 4, 8, 1, 2, 3, 4, 6, 9, 10, 1, 2, 3, 4, 5, 6, 7, 1, 2, 3, 4, 5, 6, 7, 8, 9, 10, 2, 1, 1, 2, 3, 4, 5, 6, 7, 8, 9, 10, 10, 1, 2, 6, 7, 8, 1, 4, 1, 6, 8, 1, 2, 4, 10, 1, 2, 3, 4, 5, 6, 7, 8, 9, 10, 1, 2, 3, 4, 5, 6, 7, 8, 9, 10, 1, 2, 3, 4, 5, 6, 7, 8, 9, 10, 5, 5, 5, 6, 7, 2, 1, 2, 3, 4, 5, 6, 7, 8, 9, 10, 2, 1, 2, 3, 4, 5, 6, 7, 8, 9, 10, 7, 5, 9, 4, 7, 1, 2, 3, 4, 5, 6, 7, 8, 9, 10, 6, 1, 5, 6, 1, 1, 2, 3, 4, 5, 6, 7, 8, 9, 10, 1, 2, 3, 4, 5, 6, 7, 8, 9, 10, 9, 3, 4, 9, 2, 2, 1, 2, 3, 4, 5, 6, 7, 8, 9, 10, 2, 4, 2, 3, 4, 5, 6, 8, 9, 10, 5, 6, 8, 1, 2, 3, 4, 5, 6, 7, 8, 9, 10, 1, 2, 3, 4, 5, 6, 7, 8, 9, 10, 1, 2, 4, 6, 1, 2, 3, 4, 5, 6, 7, 8, 9, 10, 10, 1, 2, 3, 4, 5, 6, 7, 8, 9, 10, 6, 7, 5, 4, 5, 7, 10, 4, 4, 5, 8, 9, 1, 2, 3, 4, 5, 6, 7, 8, 9, 10, 1, 2, 3, 4, 5, 6, 7, 8, 9, 10, 2, 3, 5, 8, 9, 10, 1, 2, 3, 4, 5, 6, 7, 8, 9, 10, 4, 3, 4, 5, 6, 7, 3, 7, 6, 1, 3, 5, 9, 8, 5, 1, 2, 3, 4, 5, 6, 7, 8, 9, 10, 1, 3, 10, 2, 5, 2, 1, 2, 3, 4, 5, 6, 7, 8, 9, 10, 1, 2, 1, 2, 3, 4, 5, 6, 7, 8, 9, 10, 1, 2, 3, 4, 5, 6, 7, 8, 9, 10, 1, 2, 3, 4, 5, 6, 7, 8, 9, 10, 4, 7, 6, 9, 4, 1, 2, 3, 4, 5, 6, 7, 8, 1, 2, 3, 4, 5, 6, 7, 8, 9, 10, 9, 1, 2, 3, 4, 5, 6, 7, 8, 9, 4, 9, 7, 1, 2, 3, 4, 5, 6, 7, 8, 9, 10, 1, 8, 1, 2, 3, 5, 3, 6, 3, 4, 9, 1, 2, 3, 4, 5, 6, 7, 8, 9, 10, 8, 10, 9, 1, 2, 3, 4, 5, 6, 7, 8, 9, 10, 1, 2, 3, 4, 5, 9, 10, 2, 1, 3, 4, 8, 9, 5, 8, 1, 10, 1, 2, 3, 4, 5, 6, 7, 8, 9, 10, 1, 2, 3, 4, 5, 6, 7, 8, 9, 10, 2, 3, 7, 4, 10, 1, 3, 6, 9, 3, 7, 9, 9, 7, 4, 3, 1, 2, 3, 4, 5, 6, 7, 8, 10, 8, 10, 1, 6, 1, 2, 3, 4, 5, 6, 7, 8, 9, 10, 1, 2, 3, 4, 5, 6, 7, 8, 9, 10, 1, 2, 3, 4, 5, 6, 7, 8, 9, 10, 2, 3, 4, 9, 3, 4, 1, 5, 6, 1, 2, 3, 4, 5, 6, 8, 9, 10, 3, 9, 1, 3, 4, 7, 10, 2, 8, 1, 7, 1, 4, 6, 7, 10, 1, 6, 7, 8, 1, 2, 3, 4, 5, 6, 7, 8, 9, 10, 3, 4, 10, 1, 6, 2, 3, 4, 5, 3, 1, 1, 2, 3, 4, 5, 6, 7, 8, 9, 10, 1, 2, 3, 4, 5, 6, 7, 8, 9, 10, 1, 4, 8, 1, 2, 3, 4, 5, 6, 7, 8, 9, 10, 2, 1, 2, 3, 4, 5, 6, 7, 8, 9, 10, 1, 2, 3, 4, 5, 6, 7, 8, 9, 10, 1, 2, 3, 4, 5, 6, 7, 8, 9, 10, 1, 2, 3, 4, 5, 6, 7, 8, 9, 10, 1, 2, 3, 4, 6, 7, 8, 9, 1, 2, 3, 5, 6, 8, 1, 2, 3, 4, 5, 6, 7, 8, 9, 1, 2, 3, 4, 5, 6, 7, 8, 9, 10, 2, 1, 2, 3, 4, 5, 6, 7, 8, 9, 10, 1, 2, 3, 4, 5, 6, 7, 8, 9, 10, 1, 2, 3, 4, 5, 6, 7, 8, 9, 10, 1, 2, 3, 4, 5, 6, 7, 8, 9, 10, 9, 1, 2, 3, 4, 5, 6, 7, 8, 9, 10, 1, 2, 3, 4, 7, 2, 3, 4, 5, 6, 7, 1, 2, 3, 4, 5, 6, 7, 8, 9, 10, 1, 6, 7, 5, 3, 2, 9, 1, 6, 1, 2, 3, 4, 5, 6, 10, 1, 2, 5, 8, 10, 10, 3, 4, 6, 1, 2, 4, 5, 6, 7, 9, 10, 9, 1, 2, 3, 4, 5, 6, 7, 8, 9, 1, 2, 1, 2, 3, 4, 5, 6, 7, 8, 9, 10, 1, 6, 2, 1, 1, 2, 3, 4, 5, 6, 7, 8, 9, 10, 1, 7, 9, 10, 2, 9, 3, 5, 1, 2, 3, 4, 5, 6, 7, 8, 9, 10, 6, 2, 1, 2, 3, 4, 5, 6, 7, 8, 9, 10, 7, 2, 8, 4, 1, 2, 3, 4, 10, 3, 2, 7, 1, 3, 5, 6, 5, 1, 8, 1, 3, 5, 6, 7, 9, 1, 3, 5, 6, 4, 6, 1, 2, 3, 4, 5, 6, 7, 8, 9, 10, 7, 10, 7, 1, 2, 3, 4, 6, 7, 9, 10, 1, 2, 3, 4, 5, 6, 7, 8, 9, 10, 1, 2, 3, 4, 5, 6, 7, 8, 9, 10, 1, 2, 3, 4, 5, 6, 7, 8, 9, 10, 4, 6, 10, 1, 2, 3, 4, 5, 6, 7, 8, 9, 1, 2, 1, 2, 3, 4, 5, 6, 7, 8, 9, 10, 5, 6, 10, 7, 4, 3, 1, 2, 3, 4, 5, 6, 7, 8, 9, 10, 1, 2, 1, 2, 3, 4, 5, 6, 7, 8, 9, 10, 1, 2, 3, 4, 5, 6, 7, 8, 9, 10, 7, 7, 2, 4, 5, 6, 7, 8, 10, 6, 6, 5, 8, 1, 2, 3, 4, 5, 6, 7, 8, 9, 10, 9, 2], \"Freq\": [0.5729665562839074, 0.4965941877762276, 0.18053607663505056, 0.12035738442336705, 0.12035738442336705, 0.060178692211683524, 0.060178692211683524, 0.060178692211683524, 0.060178692211683524, 0.060178692211683524, 0.18053607663505056, 0.060178692211683524, 0.635206245263893, 0.6109966186154675, 0.15274915465386688, 0.15274915465386688, 0.15274915465386688, 0.17316187319912402, 0.259742809798686, 0.129871404899343, 0.043290468299781004, 0.043290468299781004, 0.21645234149890502, 0.043290468299781004, 0.043290468299781004, 0.043290468299781004, 0.6670353750958017, 0.16675884377395042, 0.6418582308483396, 0.21395274361611322, 0.581582968186672, 0.6352630394804087, 0.4100951337291696, 0.7210935061091421, 0.7463716136277185, 0.1543047254072058, 0.09495675409674204, 0.09495675409674204, 0.1305655368830203, 0.1305655368830203, 0.14243513114511305, 0.07121756557255653, 0.04747837704837102, 0.05934797131046377, 0.04747837704837102, 0.5816555235998409, 0.2294005112756369, 0.4588010225512738, 0.5729572103038636, 0.5077851922035813, 0.6325715311504031, 0.08779489675849014, 0.11705986234465351, 0.05852993117232676, 0.17558979351698029, 0.17558979351698029, 0.05852993117232676, 0.05852993117232676, 0.05852993117232676, 0.1463248279308169, 0.05852993117232676, 0.0978892088041465, 0.06525947253609767, 0.0978892088041465, 0.13051894507219533, 0.2773527582784151, 0.08157434067012208, 0.06525947253609767, 0.06525947253609767, 0.06525947253609767, 0.03262973626804883, 0.20395254326156023, 0.6118576297846806, 0.7753816036964546, 0.16305217142135767, 0.16305217142135767, 0.05435072380711923, 0.10870144761423846, 0.05435072380711923, 0.05435072380711923, 0.05435072380711923, 0.10870144761423846, 0.16305217142135767, 0.05435072380711923, 0.11571597692313769, 0.1446449711539221, 0.31821893653862865, 0.11571597692313769, 0.057857988461568845, 0.08678698269235326, 0.08678698269235326, 0.057857988461568845, 0.028928994230784422, 0.4138249770899978, 0.3144177983358909, 0.06835169529041106, 0.054681356232328844, 0.16404406869698654, 0.15037372963890433, 0.041011017174246635, 0.041011017174246635, 0.041011017174246635, 0.041011017174246635, 0.08202203434849327, 0.08809587930482513, 0.26428763791447535, 0.10277852585562931, 0.19087440516045442, 0.07341323275402094, 0.029365293101608375, 0.05873058620321675, 0.07341323275402094, 0.05873058620321675, 0.05873058620321675, 0.4911784256118848, 0.18435193397564384, 0.18435193397564384, 0.07374077359025753, 0.07374077359025753, 0.036870386795128766, 0.18435193397564384, 0.036870386795128766, 0.036870386795128766, 0.036870386795128766, 0.1106111603853863, 0.1036852448124265, 0.1036852448124265, 0.31105573443727946, 0.1036852448124265, 0.31105573443727946, 0.3935119296237255, 0.19675596481186275, 0.19675596481186275, 0.15208222067150767, 0.15208222067150767, 0.07604111033575384, 0.3802055516787691, 0.07604111033575384, 0.07604111033575384, 0.07604111033575384, 0.07604111033575384, 0.17726308100643243, 0.1181753873376216, 0.0590876936688108, 0.17726308100643243, 0.0590876936688108, 0.0590876936688108, 0.0590876936688108, 0.2363507746752432, 0.0590876936688108, 0.0590876936688108, 0.33868037005529344, 0.6773607401105869, 0.2364373975113881, 0.4728747950227762, 0.7210311448265911, 0.612580459665574, 0.11362701937931513, 0.11362701937931513, 0.11362701937931513, 0.5681350968965756, 0.11362701937931513, 0.11362701937931513, 0.7097877310563566, 0.5189091235066392, 0.14207107582153405, 0.17758884477691755, 0.07103553791076703, 0.14207107582153405, 0.12431219134384229, 0.035517768955383514, 0.035517768955383514, 0.08879442238845878, 0.07103553791076703, 0.08879442238845878, 0.5729889550861071, 0.635189762753175, 0.5814600509310208, 0.4793565290554373, 0.23967826452771865, 0.11983913226385932, 0.11983913226385932, 0.7129215563999055, 0.2376405187999685, 0.15086085998201612, 0.15086085998201612, 0.15086085998201612, 0.30172171996403224, 0.5188685151845471, 0.5527444806234886, 0.2763722403117443, 0.760736493991017, 0.1820175417301223, 0.5460526251903669, 0.1820175417301223, 0.1820175417301223, 0.4450783621631315, 0.14835945405437717, 0.6323253348225637, 0.7210500268200066, 0.6322687574140152, 0.4662991587765573, 0.4662991587765573, 0.37807009197533636, 0.5707774291185195, 0.1902591430395065, 0.5728980494932071, 0.5817520474418667, 0.6755810456230305, 0.572940004781645, 0.35673942301330436, 0.35673942301330436, 0.5728622708514693, 0.7735254412580745, 0.2578418137526915, 0.23406176054576855, 0.4681235210915371, 0.6767282654199688, 0.1691820663549922, 0.7097040292750839, 0.17792990542220036, 0.05930996847406679, 0.4744797477925343, 0.05930996847406679, 0.05930996847406679, 0.05930996847406679, 0.11861993694813358, 0.7210616989929658, 0.12780326069737644, 0.12780326069737644, 0.17572948345889258, 0.11182785311020438, 0.07987703793586026, 0.09585244552303232, 0.11182785311020438, 0.04792622276151616, 0.06390163034868822, 0.04792622276151616, 0.6109404885451442, 0.2246185478630144, 0.14974569857534295, 0.37436424643835736, 0.07487284928767148, 0.07487284928767148, 0.07487284928767148, 0.19809388350714288, 0.5942816505214287, 0.5279446675491486, 0.2639723337745743, 0.34885381750797895, 0.06695291094882522, 0.10042936642323783, 0.26781164379530087, 0.06695291094882522, 0.16738227737206304, 0.16738227737206304, 0.03347645547441261, 0.10042936642323783, 0.03347645547441261, 0.6353036159993747, 0.5816576094646024, 0.08795466423981697, 0.24187532665949668, 0.08795466423981697, 0.13193199635972547, 0.06596599817986273, 0.13193199635972547, 0.04397733211990849, 0.08795466423981697, 0.06596599817986273, 0.04397733211990849, 0.15319499084038143, 0.12766249236698451, 0.07659749542019072, 0.25532498473396903, 0.05106499694679381, 0.07659749542019072, 0.10212999389358762, 0.05106499694679381, 0.05106499694679381, 0.025532498473396906, 0.23079549545495198, 0.23079549545495198, 0.23079549545495198, 0.46159099090990396, 0.06750308751525935, 0.1350061750305187, 0.06750308751525935, 0.23626080630340773, 0.1350061750305187, 0.06750308751525935, 0.06750308751525935, 0.06750308751525935, 0.1350061750305187, 0.033751543757629676, 0.2080987858645945, 0.416197571729189, 0.4640364749259552, 0.5137826852260531, 0.25689134261302654, 0.6158896858356032, 0.2806830028838257, 0.2806830028838257, 0.07017075072095642, 0.14034150144191285, 0.07017075072095642, 0.07017075072095642, 0.03508537536047821, 0.03508537536047821, 0.03508537536047821, 0.38857238406085115, 0.09142879624961203, 0.06857159718720902, 0.09142879624961203, 0.045714398124806016, 0.045714398124806016, 0.045714398124806016, 0.06857159718720902, 0.06857159718720902, 0.09142879624961203, 0.5189519822901617, 0.07845061653211828, 0.1961265413302957, 0.07845061653211828, 0.07845061653211828, 0.03922530826605914, 0.07845061653211828, 0.03922530826605914, 0.03922530826605914, 0.11767592479817741, 0.23535184959635483, 0.6322531387634671, 0.2526592088968596, 0.5053184177937192, 0.1263296044484298, 0.70966349971451, 0.12540771998889283, 0.12540771998889283, 0.12540771998889283, 0.06270385999444641, 0.12540771998889283, 0.06270385999444641, 0.06270385999444641, 0.25081543997778566, 0.06270385999444641, 0.5729861904243431, 0.5189595682730376, 0.3795647090560055, 0.18978235452800274, 0.18978235452800274, 0.3854533197875589, 0.16158702661918117, 0.12119026996438588, 0.12119026996438588, 0.08079351330959059, 0.08079351330959059, 0.12119026996438588, 0.16158702661918117, 0.08079351330959059, 0.04039675665479529, 0.04039675665479529, 0.28159608174595047, 0.5631921634919009, 0.2099019613222721, 0.4198039226445442, 0.4819829767275078, 0.5188918982514129, 0.17136753160129065, 0.17136753160129065, 0.3427350632025813, 0.6755815891905724, 0.12986907088479757, 0.25973814176959514, 0.04328969029493253, 0.08657938058986506, 0.08657938058986506, 0.12986907088479757, 0.04328969029493253, 0.04328969029493253, 0.08657938058986506, 0.04328969029493253, 0.6236450284508654, 0.06748163601975372, 0.13496327203950745, 0.13496327203950745, 0.06748163601975372, 0.13496327203950745, 0.13496327203950745, 0.2699265440790149, 0.1894462124189019, 0.3788924248378038, 0.1894462124189019, 0.1894462124189019, 0.6559972949501375, 0.6192967575312542, 0.3096483787656271, 0.18333205862934132, 0.09166602931467066, 0.137499043972006, 0.18333205862934132, 0.09166602931467066, 0.09166602931467066, 0.04583301465733533, 0.04583301465733533, 0.10694370086711577, 0.01527767155244511, 0.635269249944484, 0.6755500055584137, 0.6125813634164324, 0.5156075900114931, 0.17186919667049771, 0.2528587914356396, 0.07585763743069189, 0.05057175828712793, 0.17700115400494773, 0.10114351657425585, 0.07585763743069189, 0.05057175828712793, 0.025285879143563963, 0.07585763743069189, 0.10114351657425585, 0.5168082178354969, 0.6322795229722116, 0.10375525712671, 0.051877628563355, 0.051877628563355, 0.051877628563355, 0.20751051425342, 0.25938814281677497, 0.10375525712671, 0.051877628563355, 0.10375525712671, 0.49399211836015794, 0.19260455238468702, 0.1284030349231247, 0.14980354074364546, 0.08560202328208312, 0.04280101164104156, 0.06420151746156234, 0.04280101164104156, 0.17120404656416624, 0.1070025291026039, 0.04280101164104156, 0.9385211075995655, 0.4849202092387244, 0.0962025486362867, 0.1924050972725734, 0.0962025486362867, 0.0962025486362867, 0.0962025486362867, 0.0962025486362867, 0.0962025486362867, 0.2886076459088601, 0.572886968185011, 0.12653430076558772, 0.12653430076558772, 0.06326715038279386, 0.2214350263397785, 0.09490072557419078, 0.06326715038279386, 0.15816787595698464, 0.06326715038279386, 0.06326715038279386, 0.03163357519139693, 0.10066869191304911, 0.10066869191304911, 0.08628745021118496, 0.17257490042236992, 0.17257490042236992, 0.0719062085093208, 0.04314372510559248, 0.11504993361491327, 0.0719062085093208, 0.0719062085093208, 0.07841853029972916, 0.15683706059945832, 0.07841853029972916, 0.07841853029972916, 0.07841853029972916, 0.07841853029972916, 0.07841853029972916, 0.07841853029972916, 0.23525559089918746, 0.20594446991347004, 0.20594446991347004, 0.4118889398269401, 0.8481041151025103, 0.06608046451581608, 0.06608046451581608, 0.19824139354744824, 0.2643218580632643, 0.06608046451581608, 0.13216092903163215, 0.13216092903163215, 0.6755733921267365, 0.675549110864871, 0.13586431370878055, 0.23776254899036597, 0.13586431370878055, 0.03396607842719514, 0.06793215685439027, 0.13586431370878055, 0.10189823528158543, 0.03396607842719514, 0.03396607842719514, 0.06793215685439027, 0.21201189744869672, 0.42402379489739345, 0.21201189744869672, 0.5188610109824825, 0.5817639270358665, 0.6352896555259296, 0.6755602388321665, 0.09144463494334949, 0.09144463494334949, 0.1524077249055825, 0.18288926988669899, 0.030481544981116496, 0.1524077249055825, 0.09144463494334949, 0.1524077249055825, 0.06096308996223299, 0.030481544981116496, 0.7684685809199143, 0.5815918746940337, 0.8084842430336069, 0.15002703178872653, 0.7501351589436327, 0.7710097108198813, 0.7725459609097982, 0.7593969994312733, 0.632284723783052, 0.3086226170302127, 0.6172452340604254, 0.15259400875170545, 0.10172933916780363, 0.10172933916780363, 0.11868422902910424, 0.13563911889040484, 0.11868422902910424, 0.05086466958390182, 0.08477444930650303, 0.08477444930650303, 0.05086466958390182, 0.31980696465230557, 0.3434345993625027, 0.13978653139989372, 0.13978653139989372, 0.13978653139989372, 0.13978653139989372, 0.27957306279978744, 0.6351850067321302, 0.5189491450612701, 0.6755673626754223, 0.21277849558723638, 0.42555699117447277, 0.6755380430999628, 0.8129495278873639, 0.7210999576545211, 0.642387220446539, 0.706774887355641, 0.6323111254669547, 0.5729826900766088, 0.7327658153977885, 0.2236301589839204, 0.0559075397459801, 0.08386130961897015, 0.1118150794919602, 0.1118150794919602, 0.1118150794919602, 0.13976884936495024, 0.08386130961897015, 0.0559075397459801, 0.02795376987299005, 0.6424124287335379, 0.7098172592249657, 0.7210283628922719, 0.5816350958494083, 0.21863480890055154, 0.43726961780110307, 0.10931740445027577, 0.6866032031512753, 0.5661602858991016, 0.05661602858991017, 0.05661602858991017, 0.05661602858991017, 0.11323205717982034, 0.05661602858991017, 0.05661602858991017, 0.44955466230790486, 0.18822079861403068, 0.14116559896052303, 0.1254805324093538, 0.07842533275584612, 0.0627402662046769, 0.0627402662046769, 0.1254805324093538, 0.09411039930701534, 0.09411039930701534, 0.03137013310233845, 0.3671705939037808, 0.08159346531195129, 0.08159346531195129, 0.12239019796792694, 0.12239019796792694, 0.040796732655975644, 0.040796732655975644, 0.08159346531195129, 0.040796732655975644, 0.040796732655975644, 0.20573839326004992, 0.13092443207457724, 0.0748139611854727, 0.16833141266731358, 0.09351745148184087, 0.0748139611854727, 0.05611047088910453, 0.05611047088910453, 0.0748139611854727, 0.0748139611854727, 0.0628717781435429, 0.18861533443062872, 0.37723066886125745, 0.0628717781435429, 0.1257435562870858, 0.0628717781435429, 0.0628717781435429, 0.0628717781435429, 0.0628717781435429, 0.0628717781435429, 0.17806847323822605, 0.08903423661911303, 0.44517118309556514, 0.08903423661911303, 0.08903423661911303, 0.08903423661911303, 0.200302955884903, 0.200302955884903, 0.400605911769806, 0.12195192590642055, 0.060975962953210276, 0.12195192590642055, 0.060975962953210276, 0.060975962953210276, 0.2439038518128411, 0.18292788885963082, 0.060975962953210276, 0.060975962953210276, 0.7099244234846692, 0.24081544588264103, 0.04013590764710684, 0.08027181529421368, 0.18061158441198077, 0.1003397691177671, 0.06020386147066026, 0.04013590764710684, 0.04013590764710684, 0.08027181529421368, 0.1003397691177671, 0.05587012094334102, 0.05587012094334102, 0.16761036283002306, 0.02793506047167051, 0.2793506047167051, 0.02793506047167051, 0.02793506047167051, 0.05587012094334102, 0.19554542330169358, 0.13967530235835254, 0.5435779006455115, 0.13589447516137787, 0.13589447516137787, 0.24472724252857483, 0.7341817275857245, 0.11107565474393137, 0.11107565474393137, 0.22215130948786274, 0.11107565474393137, 0.11107565474393137, 0.22215130948786274, 0.11107565474393137, 0.3596298395292624, 0.07192596790585248, 0.14385193581170497, 0.07192596790585248, 0.07192596790585248, 0.14385193581170497, 0.07192596790585248, 0.07192596790585248, 0.1209169447902202, 0.1209169447902202, 0.1209169447902202, 0.1209169447902202, 0.2418338895804404, 0.2418338895804404, 0.1209169447902202, 0.16713344547828152, 0.25070016821742225, 0.0557111484927605, 0.08356672273914076, 0.0557111484927605, 0.02785557424638025, 0.0557111484927605, 0.08356672273914076, 0.111422296985521, 0.111422296985521, 0.6755162218538757, 0.4523591286648733, 0.23074721932032363, 0.1346025446035221, 0.09614467471680152, 0.05768680483008091, 0.1346025446035221, 0.07691573977344121, 0.038457869886720605, 0.07691573977344121, 0.1346025446035221, 0.019228934943360303, 0.5086246533946965, 0.05651385037718851, 0.11302770075437701, 0.05651385037718851, 0.11302770075437701, 0.05651385037718851, 0.05651385037718851, 0.05651385037718851, 0.05651385037718851, 0.21669600734312214, 0.07223200244770739, 0.18058000611926844, 0.14446400489541478, 0.10834800367156107, 0.036116001223853694, 0.07223200244770739, 0.07223200244770739, 0.036116001223853694, 0.07223200244770739, 0.7210008324431034, 0.7066392700859558, 0.2335667727195053, 0.09342670908780212, 0.14014006363170317, 0.11678338635975265, 0.07007003181585159, 0.07007003181585159, 0.04671335454390106, 0.04671335454390106, 0.11678338635975265, 0.09342670908780212, 0.33370817224919536, 0.8189110963033349, 0.47839545870917544, 0.6861445697190587, 0.6755618017473096, 0.14697147777839387, 0.1102286083337954, 0.1102286083337954, 0.1102286083337954, 0.14697147777839387, 0.03674286944459847, 0.03674286944459847, 0.07348573888919693, 0.07348573888919693, 0.14697147777839387, 0.4196568559226213, 0.28056155462705, 0.18704103641803335, 0.0701403886567625, 0.04676025910450834, 0.09352051820901668, 0.11690064776127083, 0.11690064776127083, 0.04676025910450834, 0.02338012955225417, 0.04676025910450834, 0.612599751540581, 0.6323290628697649, 0.6323276523458542, 0.19482851255128283, 0.11689710753076969, 0.15586281004102626, 0.07793140502051313, 0.09741425627564142, 0.07793140502051313, 0.038965702510256564, 0.07793140502051313, 0.058448553765384846, 0.07793140502051313, 0.6352962946384397, 0.518939965059309, 0.6353018170541337, 0.09760140350745525, 0.16266900584575875, 0.130135204676607, 0.130135204676607, 0.0650676023383035, 0.0650676023383035, 0.16266900584575875, 0.0650676023383035, 0.0650676023383035, 0.03253380116915175, 0.6352908751884672, 0.13469877597899588, 0.17318414054442327, 0.13469877597899588, 0.1154560936962822, 0.13469877597899588, 0.07697072913085479, 0.038485364565427393, 0.038485364565427393, 0.038485364565427393, 0.1154560936962822, 0.6352875077265023, 0.6755449518586715, 0.14755797404437093, 0.14755797404437093, 0.44267392213311274, 0.14755797404437093, 0.6159131443184118, 0.06362166749758344, 0.3499191712367089, 0.09543250124637516, 0.06362166749758344, 0.03181083374879172, 0.09543250124637516, 0.09543250124637516, 0.06362166749758344, 0.06362166749758344, 0.09543250124637516, 0.06517000978002677, 0.1629250244500669, 0.06517000978002677, 0.03258500489001338, 0.06517000978002677, 0.22809503423009367, 0.06517000978002677, 0.13034001956005353, 0.13034001956005353, 0.06517000978002677, 0.7210679146568733, 0.8130277983350495, 0.6352614486022132, 0.5077138612437926, 0.39939034088426856, 0.19969517044213428, 0.19969517044213428, 0.19969517044213428, 0.8129013590996848, 0.8192323498405861, 0.812896825411718, 0.105243959480511, 0.0526219797402555, 0.3683538581817885, 0.105243959480511, 0.105243959480511, 0.0526219797402555, 0.0526219797402555, 0.105243959480511, 0.0526219797402555, 0.0526219797402555, 0.49833915776791843, 0.08305652629465307, 0.16611305258930614, 0.08305652629465307, 0.08305652629465307, 0.6158997359950459, 0.6958991884512472, 0.21683158875839567, 0.09855981307199803, 0.09855981307199803, 0.11827177568639763, 0.21683158875839567, 0.059135887843198814, 0.059135887843198814, 0.039423925228799214, 0.039423925228799214, 0.059135887843198814, 0.6158996466081857, 0.35539947085048046, 0.35539947085048046, 0.5814956978321829, 0.4637365758149765, 0.058746933779339226, 0.058746933779339226, 0.17624080133801767, 0.29373466889669614, 0.058746933779339226, 0.17624080133801767, 0.11749386755867845, 0.744675675487542, 0.5816876304630935, 0.23854919950295106, 0.7156475985088532, 0.23449280088065647, 0.09379712035226259, 0.046898560176131296, 0.046898560176131296, 0.18759424070452518, 0.07034784026419694, 0.046898560176131296, 0.11724640044032823, 0.09379712035226259, 0.09379712035226259, 0.49669144823843897, 0.19022063711786386, 0.06340687903928795, 0.06340687903928795, 0.09511031855893193, 0.06340687903928795, 0.19022063711786386, 0.06340687903928795, 0.15851719759821986, 0.031703439519643974, 0.031703439519643974, 0.5819033604624887, 0.09283929143646191, 0.12378572191528255, 0.2475714438305651, 0.030946430478820636, 0.06189286095764127, 0.15473215239410318, 0.09283929143646191, 0.09283929143646191, 0.06189286095764127, 0.030946430478820636, 0.6123830758353254, 0.24105982380178936, 0.4821196476035787, 0.721051528741773, 0.10151646709432682, 0.10151646709432682, 0.10151646709432682, 0.07613735032074512, 0.12689558386790853, 0.25379116773581706, 0.10151646709432682, 0.025379116773581706, 0.05075823354716341, 0.05075823354716341, 0.20373311149464488, 0.6111993344839346, 0.15522758903399483, 0.12935632419499568, 0.12935632419499568, 0.05174252967799827, 0.23284138355099224, 0.07761379451699742, 0.10348505935599654, 0.05174252967799827, 0.05174252967799827, 0.025871264838999136, 0.4295673574865025, 0.20660879036222063, 0.6198263710866618, 0.45051604909328313, 0.6755703275266803, 0.709925664654017, 0.6755707164738359, 0.5854048765146705, 0.2927024382573353, 0.11118276998982672, 0.11118276998982672, 0.11118276998982672, 0.16677415498474008, 0.16677415498474008, 0.16677415498474008, 0.11118276998982672, 0.7096425518629019, 0.6323849131986425, 0.7834558408350218, 0.28517914419395035, 0.5703582883879007, 0.6125957728117304, 0.0354695307593712, 0.2128171845562272, 0.0354695307593712, 0.1418781230374848, 0.2128171845562272, 0.0354695307593712, 0.0709390615187424, 0.0709390615187424, 0.177347653796856, 0.16477840932724042, 0.10710596606270627, 0.16477840932724042, 0.14830056839451636, 0.06591136373089616, 0.09062812512998222, 0.09886704559634424, 0.05767244326453414, 0.07415028419725818, 0.03295568186544808, 0.5729188374815645, 0.5729703323200019, 0.2463116600517429, 0.4926233201034858, 0.5038726640823561, 0.2852784822233437, 0.2852784822233437, 0.18435570571776094, 0.09217785285888047, 0.32262248500608165, 0.1382667792883207, 0.046088926429440236, 0.09217785285888047, 0.046088926429440236, 0.046088926429440236, 0.18013405166383636, 0.7205362066553455, 0.08996159075790565, 0.11994878767720753, 0.20991037843511318, 0.08996159075790565, 0.029987196919301882, 0.08996159075790565, 0.20991037843511318, 0.059974393838603764, 0.059974393838603764, 0.059974393838603764, 0.5118765323081256, 0.2559382661540628, 0.22549219570162712, 0.45098439140325425, 0.26081600211286304, 0.26081600211286304, 0.26081600211286304, 0.6561764752500719, 0.3461152284487184, 0.1730576142243592, 0.3461152284487184, 0.25324872345232785, 0.25324872345232785, 0.6159257419212524, 0.6558955927347804, 0.7097432445981589, 0.1782046441774123, 0.16200422197946573, 0.12150316648459929, 0.13770358868254587, 0.09720253318767944, 0.04860126659383972, 0.07290189989075957, 0.09720253318767944, 0.03240084439589314, 0.056701477692813, 0.4496469397300945, 0.07920788584810262, 0.5544552009367183, 0.15841577169620524, 0.07920788584810262, 0.07920788584810262, 0.3310913340669077, 0.03678792600743419, 0.07357585201486838, 0.14715170402973676, 0.11036377802230257, 0.07357585201486838, 0.03678792600743419, 0.03678792600743419, 0.03678792600743419, 0.11036377802230257, 0.5513664162791968, 0.36757761085279783, 0.5188714197563352, 0.25431534504936454, 0.14128630280520252, 0.11302904224416202, 0.11302904224416202, 0.09890041196364177, 0.05651452112208101, 0.05651452112208101, 0.014128630280520253, 0.07064315140260126, 0.08477178168312152, 0.7234427948482963, 0.23089521842867408, 0.3463428276430111, 0.11544760921433704, 0.11544760921433704, 0.11544760921433704, 0.6755693827709249, 0.41774112695620397, 0.12937979024372193, 0.12937979024372193, 0.1940696853655829, 0.09703484268279144, 0.25875958048744385, 0.03234494756093048, 0.09703484268279144, 0.06468989512186096, 0.03234494756093048, 0.8130840619936724, 0.6159000714504654, 0.1630239917246284, 0.13973485004968147, 0.0815119958623142, 0.12809027921220803, 0.13973485004968147, 0.09315656669978765, 0.06986742502484074, 0.04657828334989383, 0.06986742502484074, 0.06986742502484074, 0.1750319666054632, 0.07001278664218527, 0.1925351632660095, 0.14002557328437054, 0.1050191799632779, 0.1050191799632779, 0.07001278664218527, 0.05250958998163895, 0.05250958998163895, 0.05250958998163895, 0.49665447975748783, 0.572986184563196, 0.3568530306201656, 0.3568530306201656, 0.1584794988011598, 0.1584794988011598, 0.1584794988011598, 0.3169589976023196, 0.1584794988011598, 0.2712957138416626, 0.3165116661486064, 0.09043190461388755, 0.04521595230694377, 0.09043190461388755, 0.04521595230694377, 0.09043190461388755, 0.04521595230694377, 0.5991585470330748, 0.19342237545746147, 0.5802671263723844, 0.11785086578470032, 0.47140346313880127, 0.11785086578470032, 0.11785086578470032, 0.11785086578470032, 0.5728492797491231, 0.767994441258516, 0.5189185216387391, 0.24074869599833934, 0.12037434799916967, 0.060187173999584835, 0.16049913066555957, 0.060187173999584835, 0.16049913066555957, 0.04012478266638989, 0.04012478266638989, 0.060187173999584835, 0.04012478266638989, 0.4261127799134065, 0.6323489184801969, 0.12516138424747725, 0.06258069212373862, 0.37548415274243174, 0.03129034606186931, 0.09387103818560794, 0.03129034606186931, 0.09387103818560794, 0.09387103818560794, 0.03129034606186931, 0.03129034606186931, 0.7211091015933113, 0.43259544100410635, 0.097041552041331, 0.194083104082662, 0.12130194005166375, 0.194083104082662, 0.07278116403099825, 0.0485207760206655, 0.097041552041331, 0.0485207760206655, 0.07278116403099825, 0.02426038801033275, 0.5848285877884193, 0.5728644464141109, 0.7098621546991515, 0.3101331302853074, 0.3101331302853074, 0.18607987817118446, 0.12405325211412298, 0.06202662605706149, 0.6513875348671432, 0.6322896154658691, 0.24286660570613314, 0.12143330285306657, 0.12143330285306657, 0.12143330285306657, 0.24286660570613314, 0.09360997893813618, 0.09360997893813618, 0.7488798315050894, 0.6195483963333275, 0.30977419816666374, 0.7209751981041695, 0.17774620154127915, 0.7109848061651166, 0.17774620154127915, 0.24268118703253494, 0.07137681971545146, 0.1427536394309029, 0.24268118703253494, 0.04282609182927087, 0.04282609182927087, 0.04282609182927087, 0.07137681971545146, 0.07137681971545146, 0.028550727886180582, 0.6818828886857896, 0.7209992651983383, 0.720938890686383, 0.12529080069051063, 0.12529080069051063, 0.12529080069051063, 0.12529080069051063, 0.12529080069051063, 0.5011632027620425, 0.8107923688293813, 0.4679182846511832, 0.6755107798016123, 0.4133410854853635, 0.10615767844801235, 0.10615767844801235, 0.10615767844801235, 0.10615767844801235, 0.31847303534403704, 0.10615767844801235, 0.10615767844801235, 0.675542869789379, 0.5816852486200251, 0.639376527446122, 0.12735255412514346, 0.11143348485950051, 0.2547051082502869, 0.06367627706257173, 0.1432716233907864, 0.11143348485950051, 0.0477572077969288, 0.0477572077969288, 0.06367627706257173, 0.031838138531285864, 0.6159348593054442, 0.5873832295653635, 0.19579440985512117, 0.19579440985512117, 0.6126389809101935, 0.6755426967263243, 0.04495832799411378, 0.13487498398234132, 0.04495832799411378, 0.13487498398234132, 0.04495832799411378, 0.1798333119764551, 0.40462495194702397, 0.11917107721712455, 0.05958553860856228, 0.11917107721712455, 0.05958553860856228, 0.35751323165137366, 0.17875661582568683, 0.05958553860856228, 0.14390954292975683, 0.11512763434380546, 0.20147336010165956, 0.0863457257578541, 0.0863457257578541, 0.0863457257578541, 0.05756381717190273, 0.05756381717190273, 0.14390954292975683, 0.028781908585951366, 0.7468430598633792, 0.9481598523824625, 0.0778664105978101, 0.19466602649452527, 0.03893320529890505, 0.03893320529890505, 0.19466602649452527, 0.23359923179343034, 0.03893320529890505, 0.11679961589671517, 0.03893320529890505, 0.03893320529890505, 0.7097596529977319, 0.26450371709397436, 0.5290074341879487, 0.6351745134686846, 0.6324269402179837, 0.67555368601113, 0.23019560689811003, 0.6905868206943301, 0.27359200554496266, 0.27359200554496266, 0.5471840110899253, 0.2115149943578585, 0.6345449830735755, 0.7935512272899011, 0.7097851725189793, 0.05824601867661735, 0.05824601867661735, 0.3494761120597041, 0.1164920373532347, 0.05824601867661735, 0.05824601867661735, 0.05824601867661735, 0.05824601867661735, 0.05824601867661735, 0.05824601867661735, 0.10252567978760456, 0.1281570997345057, 0.23068277952211028, 0.07689425984070342, 0.10252567978760456, 0.07689425984070342, 0.1281570997345057, 0.07689425984070342, 0.02563141994690114, 0.05126283989380228, 0.05479416095744317, 0.10958832191488634, 0.10958832191488634, 0.1643824828723295, 0.1643824828723295, 0.05479416095744317, 0.05479416095744317, 0.05479416095744317, 0.21917664382977267, 0.05479416095744317, 0.6203555268877811, 0.6159278831572078, 0.6206713585177547, 0.31033567925887734, 0.6326532229624976, 0.5729064755900077, 0.10477104181329684, 0.08730920151108071, 0.15715656271994527, 0.17461840302216142, 0.13969472241772912, 0.12223288211551299, 0.12223288211551299, 0.03492368060443228, 0.03492368060443228, 0.03492368060443228, 0.8269653196154526, 0.23235943830843006, 0.16597102736316433, 0.10788116778605682, 0.14107537325868968, 0.058089859577107515, 0.058089859577107515, 0.0497913082089493, 0.0995826164178986, 0.04149275684079108, 0.0497913082089493, 0.6323719000083495, 0.8159591278386296, 0.7210767177524069, 0.4007336175103862, 0.6322612710250566, 0.19856829969014145, 0.056733799911468985, 0.11346759982293797, 0.11346759982293797, 0.056733799911468985, 0.11346759982293797, 0.14183449977867246, 0.056733799911468985, 0.056733799911468985, 0.08510069986720348, 0.6516188507572053, 0.16866241136427979, 0.42165602841069943, 0.25299361704641965, 0.9409701176268253, 0.27172534638913187, 0.2377596780904904, 0.033965668298641484, 0.033965668298641484, 0.033965668298641484, 0.13586267319456594, 0.13586267319456594, 0.033965668298641484, 0.06793133659728297, 0.033965668298641484, 0.20656482653354155, 0.12393889592012494, 0.08262593061341662, 0.1445953785734791, 0.16525186122683325, 0.06196944796006247, 0.08262593061341662, 0.08262593061341662, 0.04131296530670831, 0.020656482653354156, 0.7210487289417987, 0.2801338008869662, 0.1400669004434831, 0.4202007013304493, 0.572976464059978, 0.7445826168708786, 0.22869342051145736, 0.09147736820458294, 0.1067235962386801, 0.09147736820458294, 0.18295473640916587, 0.1067235962386801, 0.030492456068194312, 0.07623114017048578, 0.04573868410229147, 0.060984912136388625, 0.203591496611113, 0.610774489833339, 0.06711508200318204, 0.06711508200318204, 0.1342301640063641, 0.46980557402227435, 0.06711508200318204, 0.06711508200318204, 0.06711508200318204, 0.06711508200318204, 0.16238524705848414, 0.4871557411754524, 0.16238524705848414, 0.19097917090847125, 0.06365972363615709, 0.1485393551510332, 0.16975926302975222, 0.06365972363615709, 0.12731944727231417, 0.06365972363615709, 0.10609953939359514, 0.021219907878719028, 0.042439815757438056, 0.19530367722529066, 0.19530367722529066, 0.15624294178023254, 0.07812147089011627, 0.0585911031675872, 0.07812147089011627, 0.039060735445058135, 0.07812147089011627, 0.07812147089011627, 0.039060735445058135, 0.1464870907804701, 0.1464870907804701, 0.4394612723414103, 0.1464870907804701, 0.2696554341530372, 0.12257065188774419, 0.12257065188774419, 0.024514130377548838, 0.12257065188774419, 0.07354239113264652, 0.07354239113264652, 0.049028260755097676, 0.07354239113264652, 0.049028260755097676, 0.7097397856691181, 0.34172121600435723, 0.062131130182610406, 0.062131130182610406, 0.15532782545652601, 0.09319669527391561, 0.062131130182610406, 0.031065565091305203, 0.031065565091305203, 0.062131130182610406, 0.09319669527391561, 0.2105444956478956, 0.4210889912957912, 0.4130429813074664, 0.3241246329354721, 0.21608308862364806, 0.3241246329354721, 0.10804154431182403, 0.41771986943645173, 0.1996691848923888, 0.1996691848923888, 0.3993383697847776, 0.1996691848923888, 0.21720309697533546, 0.1629023227315016, 0.1629023227315016, 0.0814511613657508, 0.0814511613657508, 0.054300774243833866, 0.054300774243833866, 0.13575193560958465, 0.0814511613657508, 0.027150387121916933, 0.12710434258185493, 0.11298163785053773, 0.09885893311922052, 0.18359516150712382, 0.19771786623844104, 0.05649081892526887, 0.11298163785053773, 0.028245409462634433, 0.05649081892526887, 0.028245409462634433, 0.09079401047364849, 0.18158802094729698, 0.27238203142094547, 0.09079401047364849, 0.18158802094729698, 0.09079401047364849, 0.17139536419197782, 0.22036546824682865, 0.14691031216455241, 0.07345515608227621, 0.04897010405485081, 0.024485052027425406, 0.17139536419197782, 0.07345515608227621, 0.09794020810970162, 0.024485052027425406, 0.8132256678471982, 0.14894861368898232, 0.5957944547559293, 0.14894861368898232, 0.14894861368898232, 0.42235118785059295, 0.15454875899244738, 0.4636462769773422, 0.42534445868555176, 0.6597622368181137, 0.5815999835454079, 0.6159191914144068, 0.7210909938656835, 0.4640433067216757, 0.41279052515220965, 0.26542731775855394, 0.11375456475366597, 0.09479547062805498, 0.18959094125610995, 0.05687728237683298, 0.05687728237683298, 0.05687728237683298, 0.037918188251221986, 0.07583637650244397, 0.05687728237683298, 0.5189119210892624, 0.5832379719445473, 0.7059109627262801, 0.5825562569679092, 0.6406028966249683, 0.572943719701598, 0.0657455529752413, 0.1314911059504826, 0.1314911059504826, 0.1314911059504826, 0.09861832946286196, 0.1314911059504826, 0.09861832946286196, 0.0657455529752413, 0.03287277648762065, 0.16436388243810326, 0.7202611735610173, 0.39146834660256924, 0.08160951962137934, 0.122414279432069, 0.20402379905344833, 0.122414279432069, 0.10201189952672417, 0.08160951962137934, 0.10201189952672417, 0.122414279432069, 0.04080475981068967, 0.04080475981068967, 0.19520707249370162, 0.10844837360761202, 0.1518277230506568, 0.13013804832913442, 0.04337934944304481, 0.10844837360761202, 0.10844837360761202, 0.08675869888608961, 0.04337934944304481, 0.021689674721522403, 0.08966397452669017, 0.13449596179003526, 0.08966397452669017, 0.044831987263345086, 0.08966397452669017, 0.3138239108434156, 0.044831987263345086, 0.08966397452669017, 0.044831987263345086, 0.044831987263345086, 0.6126369034633591, 0.6322761780143789, 0.6352431541359438, 0.7209793756067274, 0.8130340815457459, 0.1841104607558028, 0.1841104607558028, 0.0613701535852676, 0.0613701535852676, 0.0613701535852676, 0.0613701535852676, 0.0613701535852676, 0.30685076792633803, 0.0514127678044828, 0.0514127678044828, 0.3084766068268968, 0.1028255356089656, 0.1028255356089656, 0.1028255356089656, 0.0514127678044828, 0.0514127678044828, 0.0514127678044828, 0.0514127678044828, 0.7210352869488529, 0.0716239166624427, 0.0716239166624427, 0.1432478333248854, 0.0716239166624427, 0.0716239166624427, 0.0716239166624427, 0.35811958331221344, 0.1432478333248854, 0.0716239166624427, 0.16014153478910853, 0.4804246043673256, 0.5058878333651279, 0.20574703903295544, 0.09496017186136405, 0.11078686717159138, 0.1582669531022734, 0.09496017186136405, 0.14244025779204605, 0.06330678124090935, 0.03165339062045468, 0.03165339062045468, 0.04748008593068202, 0.24630739509733224, 0.4926147901946645, 0.5733677687381696, 0.11467355374763392, 0.11467355374763392, 0.11467355374763392, 0.7669704447669137, 0.4049248723157747, 0.5736271515650906, 0.2868135757825453, 0.46665061967205423, 0.2914453320203413, 0.13451323016323444, 0.044837743387744815, 0.11209435846936204, 0.044837743387744815, 0.08967548677548963, 0.08967548677548963, 0.11209435846936204, 0.022418871693872407, 0.044837743387744815, 0.4510148054417406, 0.7096809965470396, 0.720998038552629, 0.12264497192147854, 0.024528994384295708, 0.09811597753718283, 0.17170296069006996, 0.22076094945866137, 0.09811597753718283, 0.049057988768591416, 0.09811597753718283, 0.07358698315288713, 0.024528994384295708, 0.0776153769200597, 0.38807688460029843, 0.0776153769200597, 0.0776153769200597, 0.0776153769200597, 0.1552307538401194, 0.0776153769200597, 0.5729556334977423, 0.6351003078980277, 0.06685266398926608, 0.23398432396243127, 0.06685266398926608, 0.03342633199463304, 0.432611983489454, 0.6755339738261025, 0.4148861817665111, 0.4148861817665111, 0.21698708867229868, 0.15780879176167179, 0.07890439588083589, 0.1380826927914628, 0.15780879176167179, 0.05917829691062691, 0.039452197940417946, 0.07890439588083589, 0.039452197940417946, 0.039452197940417946, 0.1158910339820929, 0.2317820679641858, 0.07726068932139527, 0.07726068932139527, 0.07726068932139527, 0.07726068932139527, 0.15452137864279053, 0.07726068932139527, 0.1158910339820929, 0.07726068932139527, 0.19785083667915349, 0.39570167335830697, 0.39570167335830697, 0.6126205127030788, 0.7097439460325592, 0.10062054466505109, 0.40248217866020436, 0.20124108933010218, 0.10062054466505109, 0.19055233981530204, 0.5716570194459061, 0.19055233981530204, 0.7209972234261386, 0.628569273406239, 0.4158444583112277, 0.7809321868767827, 0.1441417973536926, 0.0480472657845642, 0.0960945315691284, 0.1441417973536926, 0.3363308604919494, 0.1441417973536926, 0.0480472657845642, 0.0480472657845642, 0.0480472657845642, 0.6755688911909067, 0.7097651155277834, 0.6639175285123433, 0.6352650418688838, 0.07341919120840096, 0.2569671692294033, 0.07341919120840096, 0.11012878681260144, 0.07341919120840096, 0.07341919120840096, 0.11012878681260144, 0.03670959560420048, 0.07341919120840096, 0.07341919120840096, 0.2213112364289852, 0.08852449457159409, 0.15491786550028963, 0.08852449457159409, 0.1106556182144926, 0.04426224728579704, 0.04426224728579704, 0.15491786550028963, 0.06639337092869556, 0.04426224728579704, 0.13909348953291964, 0.13909348953291964, 0.2550047308103527, 0.06954674476645982, 0.06954674476645982, 0.06954674476645982, 0.11591124127743303, 0.06954674476645982, 0.023182248255486607, 0.04636449651097321, 0.1707850108155826, 0.1707850108155826, 0.1707850108155826, 0.3415700216311652, 0.7590090713680926, 0.41048123930654373, 0.16787757543653653, 0.5036327263096096, 0.16787757543653653, 0.03494769728419095, 0.03494769728419095, 0.2096861837051457, 0.03494769728419095, 0.2795815782735276, 0.03494769728419095, 0.0698953945683819, 0.17473848642095474, 0.10484309185257285, 0.5814922568813574, 0.7210019227692175, 0.14614543438022162, 0.14614543438022162, 0.14614543438022162, 0.14614543438022162, 0.29229086876044325, 0.46059049580893524, 0.6755685595973383, 0.5254941963354338, 0.2627470981677169, 0.7659183144596288, 0.604051347173588, 0.23379663018951688, 0.23379663018951688, 0.46759326037903376, 0.3456736579995105, 0.08641841449987762, 0.08641841449987762, 0.3456736579995105, 0.133977514086687, 0.133977514086687, 0.11164792840557251, 0.133977514086687, 0.0669887570433435, 0.133977514086687, 0.0669887570433435, 0.08931834272445802, 0.04465917136222901, 0.0669887570433435, 0.6794494701396344, 0.1698623675349086, 0.1698623675349086, 0.7533103186066124, 0.12555171976776872, 0.14514697459921982, 0.4354409237976595, 0.14514697459921982, 0.14514697459921982, 0.787502005402644, 0.5188814990968796, 0.12037061675202972, 0.16049415566937297, 0.08024707783468649, 0.08024707783468649, 0.08024707783468649, 0.24074123350405943, 0.08024707783468649, 0.04012353891734324, 0.08024707783468649, 0.04012353891734324, 0.12318179853384907, 0.08212119902256605, 0.12318179853384907, 0.08212119902256605, 0.08212119902256605, 0.24636359706769814, 0.041060599511283026, 0.08212119902256605, 0.041060599511283026, 0.041060599511283026, 0.5290188515846427, 0.1763396171948809, 0.1763396171948809, 0.26900142899136614, 0.08966714299712204, 0.11208392874640255, 0.08966714299712204, 0.11208392874640255, 0.13450071449568307, 0.04483357149856102, 0.06725035724784154, 0.02241678574928051, 0.06725035724784154, 0.7668611635875744, 0.20608403986761856, 0.2576050498345232, 0.10304201993380928, 0.06869467995587285, 0.034347339977936424, 0.10304201993380928, 0.08586834994484106, 0.034347339977936424, 0.10304201993380928, 0.017173669988968212, 0.3838333894553127, 0.08225001202613844, 0.08225001202613844, 0.1370833533768974, 0.02741667067537948, 0.02741667067537948, 0.05483334135075896, 0.10966668270151791, 0.02741667067537948, 0.02741667067537948, 0.35177094721342606, 0.06395835403880473, 0.06395835403880473, 0.031979177019402366, 0.031979177019402366, 0.0959375310582071, 0.15989588509701183, 0.06395835403880473, 0.031979177019402366, 0.12791670807760946, 0.05928724737691072, 0.08893087106536608, 0.1482181184422768, 0.23714898950764288, 0.08893087106536608, 0.05928724737691072, 0.08893087106536608, 0.08893087106536608, 0.11857449475382144, 0.02964362368845536, 0.11756759214524666, 0.05878379607262333, 0.11756759214524666, 0.05878379607262333, 0.29391898036311664, 0.11756759214524666, 0.11756759214524666, 0.05878379607262333, 0.1148446659883217, 0.1148446659883217, 0.1148446659883217, 0.1148446659883217, 0.1148446659883217, 0.3445339979649651, 0.15890022887770194, 0.15890022887770194, 0.11917517165827646, 0.05958758582913823, 0.1787627574874147, 0.07945011443885097, 0.09931264304856371, 0.07945011443885097, 0.05958758582913823, 0.20760190591055022, 0.10380095295527511, 0.10380095295527511, 0.10380095295527511, 0.10380095295527511, 0.15570142943291268, 0.051900476477637555, 0.10380095295527511, 0.051900476477637555, 0.025950238238818778, 0.7686625929245303, 0.18005170262886908, 0.12860835902062076, 0.07716501541237246, 0.025721671804124154, 0.12860835902062076, 0.23149504623711736, 0.07716501541237246, 0.07716501541237246, 0.025721671804124154, 0.05144334360824831, 0.19837552134348999, 0.10391098737039951, 0.07557162717847238, 0.13225034756232665, 0.10391098737039951, 0.05667872038385428, 0.06612517378116332, 0.06612517378116332, 0.07557162717847238, 0.11335744076770855, 0.1359529914456799, 0.08157179486740795, 0.1359529914456799, 0.20392948716851986, 0.09516709401197594, 0.06797649572283995, 0.12235769230111192, 0.054381196578271965, 0.054381196578271965, 0.06797649572283995, 0.15675385657147267, 0.1371596245000386, 0.10776827639288747, 0.2057394367500579, 0.04898558017858521, 0.09797116035717042, 0.07837692828573634, 0.10776827639288747, 0.019594232071434084, 0.04898558017858521, 0.7210818869616222, 0.19562210579130723, 0.13041473719420482, 0.06520736859710241, 0.06520736859710241, 0.13041473719420482, 0.19562210579130723, 0.06520736859710241, 0.032603684298551205, 0.032603684298551205, 0.06520736859710241, 0.14755566943415116, 0.14755566943415116, 0.14755566943415116, 0.4426670083024535, 0.14755566943415116, 0.10665954920916185, 0.5332977460458093, 0.10665954920916185, 0.10665954920916185, 0.2133190984183237, 0.10665954920916185, 0.14209484788993945, 0.1623941118742165, 0.11164595191352385, 0.11164595191352385, 0.11164595191352385, 0.08119705593710826, 0.09134668792924679, 0.07104742394496973, 0.07104742394496973, 0.05074815996069266, 0.45106639953125227, 0.22553319976562614, 0.3382997996484392, 0.6158875385861325, 0.5815683186004744, 0.5728292383408425, 0.7210086258108768, 0.5311330434706154, 0.8556973174981083, 0.5097283097287777, 0.050972830972877775, 0.10194566194575555, 0.050972830972877775, 0.10194566194575555, 0.050972830972877775, 0.15291849291863333, 0.09516917384168079, 0.09516917384168079, 0.19033834768336158, 0.38067669536672316, 0.09516917384168079, 0.7099016572113938, 0.5816970860199918, 0.31726141594869295, 0.31726141594869295, 0.23415244460060522, 0.058538111150151305, 0.058538111150151305, 0.058538111150151305, 0.3512286669009078, 0.11707622230030261, 0.058538111150151305, 0.11707622230030261, 0.7210592813744183, 0.15847918637952546, 0.13206598864960453, 0.21130558183936726, 0.052826395459841816, 0.07923959318976273, 0.10565279091968363, 0.13206598864960453, 0.052826395459841816, 0.052826395459841816, 0.2661544299665162, 0.5323088599330325, 0.21415783615426773, 0.0823683985208722, 0.06589471881669776, 0.21415783615426773, 0.11531575792922108, 0.09884207822504663, 0.04942103911252332, 0.04942103911252332, 0.04942103911252332, 0.06589471881669776, 0.21227717061330004, 0.4245543412266001, 0.5729824165665023, 0.5189277836001175, 0.03758971150564895, 0.0751794230112979, 0.1503588460225958, 0.18794855752824474, 0.11276913451694685, 0.03758971150564895, 0.18794855752824474, 0.03758971150564895, 0.11276913451694685, 0.03758971150564895, 0.6960112706975586, 0.6301098674932493, 0.3145715645777271, 0.3145715645777271, 0.5232165600966935, 0.26160828004834674, 0.291755758775962, 0.583511517551924, 0.22591988471041505, 0.11295994235520752, 0.08471995676640565, 0.11295994235520752, 0.08471995676640565, 0.11295994235520752, 0.02823998558880188, 0.1411999279440094, 0.05647997117760376, 0.05647997117760376, 0.6352151946864806, 0.5729140486630998, 0.19025429672931501, 0.11098167309210043, 0.15854524727442917, 0.07927262363721459, 0.15854524727442917, 0.047563574182328754, 0.07927262363721459, 0.07134536127349313, 0.07927262363721459, 0.039636311818607294, 0.6323262613322119, 0.5729171203517351, 0.6755773064191206, 0.6125721465312657, 0.5246335068284682, 0.13115837670711705, 0.13115837670711705, 0.13115837670711705, 0.13115837670711705, 0.7650131648660464, 0.5624976421231047, 0.28124882106155236, 0.18745312396019811, 0.5623593718805944, 0.09372656198009906, 0.09372656198009906, 0.8188522835741487, 0.3088736016575575, 0.3088736016575575, 0.11351263848736008, 0.11351263848736008, 0.22702527697472016, 0.11351263848736008, 0.11351263848736008, 0.34053791546208023, 0.20102673013525413, 0.20102673013525413, 0.20102673013525413, 0.40205346027050826, 0.6126102577194906, 0.6423340181302428, 0.111877279222418, 0.08390795941681349, 0.16781591883362698, 0.08390795941681349, 0.06992329951401124, 0.08390795941681349, 0.15383125893082475, 0.12586193912522023, 0.08390795941681349, 0.0279693198056045, 0.6323339860280999, 0.3594705224219818, 0.63240621894743, 0.6768187726736136, 0.0398128689808008, 0.0398128689808008, 0.0796257379616016, 0.0398128689808008, 0.0398128689808008, 0.0796257379616016, 0.0398128689808008, 0.29599555052793186, 0.1356646273253021, 0.20966351495728508, 0.03699944381599148, 0.024666295877327656, 0.07399888763198297, 0.0863320355706468, 0.061665739693319135, 0.024666295877327656, 0.03699944381599148, 0.15867235498562965, 0.1851177474832346, 0.21156313998083953, 0.07933617749281482, 0.05289078499520988, 0.10578156999041977, 0.02644539249760494, 0.07933617749281482, 0.07933617749281482, 0.02644539249760494, 0.17595874059781286, 0.11730582706520856, 0.08797937029890643, 0.11730582706520856, 0.08797937029890643, 0.02932645676630214, 0.11730582706520856, 0.05865291353260428, 0.1466322838315107, 0.05865291353260428, 0.7290370782276394, 0.6352988513431171, 0.7096725512021159, 0.14221068399410108, 0.07110534199705054, 0.07110534199705054, 0.07110534199705054, 0.28442136798820217, 0.07110534199705054, 0.07110534199705054, 0.07110534199705054, 0.07110534199705054, 0.2203811054960034, 0.4407622109920068, 0.18723002152774013, 0.23403752690967516, 0.09361501076387006, 0.04680750538193503, 0.023403752690967516, 0.023403752690967516, 0.18723002152774013, 0.04680750538193503, 0.1404225161458051, 0.023403752690967516, 0.2725516438310232, 0.2725516438310232, 0.2725516438310232, 0.630704597858355, 0.8114671303539854, 0.5815528302175174, 0.16963166461168924, 0.16963166461168924, 0.0942398136731607, 0.11308777640779283, 0.11308777640779283, 0.056543888203896414, 0.0942398136731607, 0.0942398136731607, 0.03769592546926428, 0.056543888203896414, 0.7685670267894912, 0.5729626521413346, 0.1635420481944572, 0.13083363855556573, 0.13083363855556573, 0.13083363855556573, 0.11447943373612003, 0.11447943373612003, 0.06541681927778287, 0.04906261445833716, 0.09812522891667431, 0.016354204819445717, 0.20806687812156188, 0.13871125208104124, 0.09603086682533625, 0.12270610761015187, 0.0640205778835575, 0.13871125208104124, 0.05335048156963125, 0.10136591498229937, 0.042680385255705, 0.037345337098741875, 0.6323271450251768, 0.6323394310128595, 0.11159899412847946, 0.11159899412847946, 0.11159899412847946, 0.11159899412847946, 0.2231979882569589, 0.33479698238543837, 0.11159899412847946, 0.6352342969871408, 0.6352590561313833, 0.5279651801216849, 0.26398259006084246, 0.11162952480344786, 0.06697771488206872, 0.10046657232310308, 0.13395542976413743, 0.0781406673624135, 0.156281334724827, 0.13395542976413743, 0.11162952480344786, 0.05581476240172393, 0.04465180992137915, 0.35160118560384823, 0.5729581508997055], \"Term\": [\"abbrevi\", \"abstin\", \"access\", \"access\", \"access\", \"access\", \"access\", \"access\", \"access\", \"access\", \"access\", \"access\", \"accompli\", \"adam\", \"adam\", \"adam\", \"adam\", \"address\", \"address\", \"address\", \"address\", \"address\", \"address\", \"address\", \"address\", \"address\", \"adjust\", \"adjust\", \"administr\", \"administr\", \"advertis\", \"afew\", \"alain\", \"alias\", \"alic\", \"also\", \"also\", \"also\", \"also\", \"also\", \"also\", \"also\", \"also\", \"also\", \"also\", \"amen\", \"amplifi\", \"amplifi\", \"andersson\", \"andi\", \"andrea\", \"anoth\", \"anoth\", \"anoth\", \"anoth\", \"anoth\", \"anoth\", \"anoth\", \"anoth\", \"anoth\", \"anoth\", \"anyon\", \"anyon\", \"anyon\", \"anyon\", \"anyon\", \"anyon\", \"anyon\", \"anyon\", \"anyon\", \"anyon\", \"apostl\", \"apostl\", \"app\", \"appear\", \"appear\", \"appear\", \"appear\", \"appear\", \"appear\", \"appear\", \"appear\", \"appear\", \"appear\", \"applic\", \"applic\", \"applic\", \"applic\", \"applic\", \"applic\", \"applic\", \"applic\", \"applic\", \"applicationshel\", \"argument\", \"argument\", \"argument\", \"argument\", \"argument\", \"argument\", \"argument\", \"argument\", \"argument\", \"argument\", \"armenian\", \"armenian\", \"armenian\", \"armenian\", \"armenian\", \"armenian\", \"armenian\", \"armenian\", \"armenian\", \"armenian\", \"atari\", \"attack\", \"attack\", \"attack\", \"attack\", \"attack\", \"attack\", \"attack\", \"attack\", \"attack\", \"attack\", \"audio\", \"audio\", \"audio\", \"audio\", \"audio\", \"aura\", \"aura\", \"aura\", \"automat\", \"automat\", \"automat\", \"automat\", \"automat\", \"automat\", \"automat\", \"automat\", \"away\", \"away\", \"away\", \"away\", \"away\", \"away\", \"away\", \"away\", \"away\", \"away\", \"backer\", \"backer\", \"bare\", \"bare\", \"batchfil\", \"bean\", \"bear\", \"bear\", \"bear\", \"bear\", \"bear\", \"bear\", \"beaten\", \"befuddl\", \"believ\", \"believ\", \"believ\", \"believ\", \"believ\", \"believ\", \"believ\", \"believ\", \"believ\", \"believ\", \"berni\", \"bigot\", \"binari\", \"bio\", \"bio\", \"bio\", \"bio\", \"bit\", \"bit\", \"block\", \"block\", \"block\", \"block\", \"blower\", \"boil\", \"boil\", \"boiler\", \"bond\", \"bond\", \"bond\", \"bond\", \"bone\", \"bone\", \"bottleneck\", \"boulder\", \"boulevard\", \"branch\", \"branch\", \"branham\", \"brave\", \"brave\", \"breton\", \"brilliant\", \"brotherhood\", \"bruin\", \"bryan\", \"bryan\", \"buchberg\", \"buffalo\", \"buffalo\", \"bunch\", \"bunch\", \"burst\", \"burst\", \"bzzt\", \"cabl\", \"cabl\", \"cabl\", \"cabl\", \"cabl\", \"cabl\", \"cabl\", \"cage\", \"call\", \"call\", \"call\", \"call\", \"call\", \"call\", \"call\", \"call\", \"call\", \"call\", \"callback\", \"camera\", \"camera\", \"camera\", \"camera\", \"camera\", \"camera\", \"captain\", \"captain\", \"captainci\", \"captainci\", \"captur\", \"card\", \"card\", \"card\", \"card\", \"card\", \"card\", \"card\", \"card\", \"card\", \"careerist\", \"carrier\", \"case\", \"case\", \"case\", \"case\", \"case\", \"case\", \"case\", \"case\", \"case\", \"case\", \"caus\", \"caus\", \"caus\", \"caus\", \"caus\", \"caus\", \"caus\", \"caus\", \"caus\", \"caus\", \"cell\", \"cell\", \"cell\", \"cell\", \"chang\", \"chang\", \"chang\", \"chang\", \"chang\", \"chang\", \"chang\", \"chang\", \"chang\", \"chang\", \"charact\", \"charact\", \"cherri\", \"chest\", \"chest\", \"chevrolet\", \"chip\", \"chip\", \"chip\", \"chip\", \"chip\", \"chip\", \"chip\", \"chip\", \"chip\", \"christian\", \"christian\", \"christian\", \"christian\", \"christian\", \"christian\", \"christian\", \"christian\", \"christian\", \"christian\", \"christoph\", \"church\", \"church\", \"church\", \"church\", \"church\", \"church\", \"church\", \"church\", \"church\", \"church\", \"cica\", \"circl\", \"circl\", \"circl\", \"clamp\", \"class\", \"class\", \"class\", \"class\", \"class\", \"class\", \"class\", \"class\", \"class\", \"cleman\", \"clemson\", \"client\", \"client\", \"client\", \"clone\", \"close\", \"close\", \"close\", \"close\", \"close\", \"close\", \"close\", \"close\", \"close\", \"close\", \"cloth\", \"cloth\", \"club\", \"club\", \"clutter\", \"coal\", \"coat\", \"coat\", \"coat\", \"cocker\", \"code\", \"code\", \"code\", \"code\", \"code\", \"code\", \"code\", \"code\", \"code\", \"code\", \"collis\", \"color\", \"color\", \"color\", \"color\", \"color\", \"color\", \"color\", \"colormap\", \"colormap\", \"colormap\", \"colormap\", \"colorview\", \"combo\", \"combo\", \"come\", \"come\", \"come\", \"come\", \"come\", \"come\", \"come\", \"come\", \"come\", \"come\", \"comm\", \"comp\", \"compili\", \"conceal\", \"conceal\", \"conclus\", \"conclus\", \"conclus\", \"conclus\", \"conclus\", \"conclus\", \"conclus\", \"conclus\", \"conclus\", \"conclus\", \"condens\", \"condom\", \"contact\", \"contact\", \"contact\", \"contact\", \"contact\", \"contact\", \"contact\", \"contact\", \"contact\", \"contend\", \"control\", \"control\", \"control\", \"control\", \"control\", \"control\", \"control\", \"control\", \"control\", \"control\", \"cool\", \"copper\", \"coptic\", \"coptic\", \"coptic\", \"coptic\", \"coptic\", \"coptic\", \"coptic\", \"coptic\", \"corson\", \"cost\", \"cost\", \"cost\", \"cost\", \"cost\", \"cost\", \"cost\", \"cost\", \"cost\", \"cost\", \"could\", \"could\", \"could\", \"could\", \"could\", \"could\", \"could\", \"could\", \"could\", \"could\", \"council\", \"council\", \"council\", \"council\", \"council\", \"council\", \"council\", \"council\", \"council\", \"counterst\", \"counterst\", \"counterst\", \"creation\", \"creed\", \"creed\", \"creed\", \"creed\", \"creed\", \"creed\", \"creed\", \"csme\", \"cult\", \"current\", \"current\", \"current\", \"current\", \"current\", \"current\", \"current\", \"current\", \"current\", \"current\", \"cursor\", \"cursor\", \"cursor\", \"cusp\", \"dadi\", \"dalva\", \"darryl\", \"data\", \"data\", \"data\", \"data\", \"data\", \"data\", \"data\", \"data\", \"data\", \"data\", \"delewar\", \"dentabox\", \"depreci\", \"depress\", \"depress\", \"depth\", \"desc\", \"desqview\", \"dial\", \"dialogshel\", \"dialogshel\", \"differ\", \"differ\", \"differ\", \"differ\", \"differ\", \"differ\", \"differ\", \"differ\", \"differ\", \"differ\", \"dirtbik\", \"dirti\", \"diseas\", \"diseas\", \"diseas\", \"diseas\", \"diseas\", \"dockmast\", \"doco\", \"doesnt\", \"domest\", \"domest\", \"dopey\", \"drain\", \"dubinski\", \"easytalk\", \"echelon\", \"ecolog\", \"edmonton\", \"educ\", \"either\", \"either\", \"either\", \"either\", \"either\", \"either\", \"either\", \"either\", \"either\", \"either\", \"emul\", \"enact\", \"encyclopedia\", \"erici\", \"esdi\", \"esdi\", \"esdi\", \"essay\", \"etern\", \"etern\", \"etern\", \"etern\", \"etern\", \"etern\", \"etern\", \"ethic\", \"even\", \"even\", \"even\", \"even\", \"even\", \"even\", \"even\", \"even\", \"even\", \"even\", \"evid\", \"evid\", \"evid\", \"evid\", \"evid\", \"evid\", \"evid\", \"evid\", \"evid\", \"evid\", \"exampl\", \"exampl\", \"exampl\", \"exampl\", \"exampl\", \"exampl\", \"exampl\", \"exampl\", \"exampl\", \"exampl\", \"except\", \"except\", \"except\", \"except\", \"except\", \"except\", \"except\", \"except\", \"except\", \"except\", \"excus\", \"excus\", \"excus\", \"excus\", \"excus\", \"excus\", \"expans\", \"expans\", \"expans\", \"fail\", \"fail\", \"fail\", \"fail\", \"fail\", \"fail\", \"fail\", \"fail\", \"fail\", \"fairchild\", \"fallaci\", \"fallaci\", \"fallaci\", \"fallaci\", \"fallaci\", \"fallaci\", \"fallaci\", \"fallaci\", \"fallaci\", \"fallaci\", \"father\", \"father\", \"father\", \"father\", \"father\", \"father\", \"father\", \"father\", \"father\", \"father\", \"fatwa\", \"fatwa\", \"fatwa\", \"fetish\", \"fetish\", \"field\", \"field\", \"field\", \"field\", \"field\", \"field\", \"field\", \"figur\", \"figur\", \"figur\", \"figur\", \"figur\", \"figur\", \"figur\", \"figur\", \"fijh\", \"fijh\", \"fijh\", \"fijh\", \"fijh\", \"fijh\", \"fijh\", \"file\", \"file\", \"file\", \"file\", \"file\", \"file\", \"file\", \"file\", \"file\", \"file\", \"fileshar\", \"financi\", \"find\", \"find\", \"find\", \"find\", \"find\", \"find\", \"find\", \"find\", \"find\", \"find\", \"fire\", \"fire\", \"fire\", \"fire\", \"fire\", \"fire\", \"fire\", \"fire\", \"fire\", \"first\", \"first\", \"first\", \"first\", \"first\", \"first\", \"first\", \"first\", \"first\", \"first\", \"fledg\", \"fletcher\", \"follow\", \"follow\", \"follow\", \"follow\", \"follow\", \"follow\", \"follow\", \"follow\", \"follow\", \"follow\", \"fool\", \"ford\", \"foreground\", \"forens\", \"forground\", \"form\", \"form\", \"form\", \"form\", \"form\", \"form\", \"form\", \"form\", \"form\", \"form\", \"french\", \"game\", \"game\", \"game\", \"game\", \"game\", \"game\", \"game\", \"game\", \"game\", \"game\", \"geek\", \"genashor\", \"gendel\", \"gener\", \"gener\", \"gener\", \"gener\", \"gener\", \"gener\", \"gener\", \"gener\", \"gener\", \"gener\", \"genoa\", \"genuin\", \"gestapo\", \"get\", \"get\", \"get\", \"get\", \"get\", \"get\", \"get\", \"get\", \"get\", \"get\", \"glenwood\", \"good\", \"good\", \"good\", \"good\", \"good\", \"good\", \"good\", \"good\", \"good\", \"good\", \"gore\", \"gowan\", \"grader\", \"grader\", \"grader\", \"grader\", \"graphit\", \"great\", \"great\", \"great\", \"great\", \"great\", \"great\", \"great\", \"great\", \"great\", \"great\", \"group\", \"group\", \"group\", \"group\", \"group\", \"group\", \"group\", \"group\", \"group\", \"group\", \"guag\", \"gxxor\", \"hallucin\", \"hamaza\", \"handgun\", \"handgun\", \"handgun\", \"handgun\", \"harmon\", \"hat\", \"hausmann\", \"heard\", \"heard\", \"heard\", \"heard\", \"heard\", \"heard\", \"heard\", \"heard\", \"heard\", \"heard\", \"heat\", \"heat\", \"heat\", \"heat\", \"heat\", \"heil\", \"hellman\", \"help\", \"help\", \"help\", \"help\", \"help\", \"help\", \"help\", \"help\", \"help\", \"help\", \"hercul\", \"hijaak\", \"hijaak\", \"hite\", \"holder\", \"holi\", \"holi\", \"holi\", \"holi\", \"holi\", \"holi\", \"holi\", \"holiday\", \"hopper\", \"horn\", \"horn\", \"howev\", \"howev\", \"howev\", \"howev\", \"howev\", \"howev\", \"howev\", \"howev\", \"howev\", \"howev\", \"hpiii\", \"human\", \"human\", \"human\", \"human\", \"human\", \"human\", \"human\", \"human\", \"human\", \"human\", \"illeg\", \"imag\", \"imag\", \"imag\", \"imag\", \"imag\", \"imag\", \"imag\", \"imag\", \"imag\", \"imag\", \"immor\", \"imped\", \"imped\", \"implementor\", \"includ\", \"includ\", \"includ\", \"includ\", \"includ\", \"includ\", \"includ\", \"includ\", \"includ\", \"includ\", \"infin\", \"infin\", \"inform\", \"inform\", \"inform\", \"inform\", \"inform\", \"inform\", \"inform\", \"inform\", \"inform\", \"inform\", \"inherit\", \"inject\", \"inject\", \"irwin\", \"ivan\", \"jacobi\", \"jersey\", \"jet\", \"jet\", \"john\", \"john\", \"john\", \"john\", \"john\", \"john\", \"john\", \"junction\", \"jurgen\", \"kedwel\", \"keyboard\", \"keyboard\", \"keyword\", \"kill\", \"kill\", \"kill\", \"kill\", \"kill\", \"kill\", \"kill\", \"kill\", \"kill\", \"know\", \"know\", \"know\", \"know\", \"know\", \"know\", \"know\", \"know\", \"know\", \"know\", \"kovalev\", \"kravchuk\", \"kssimon\", \"kssimon\", \"lach\", \"lamp\", \"lamp\", \"land\", \"land\", \"land\", \"land\", \"land\", \"land\", \"land\", \"land\", \"laptop\", \"laptop\", \"launch\", \"launch\", \"launch\", \"launch\", \"launch\", \"launch\", \"launch\", \"launch\", \"launch\", \"launch\", \"lawyer\", \"lawyer\", \"leaf\", \"leaf\", \"leak\", \"leak\", \"leak\", \"lebanes\", \"lefthand\", \"lefthand\", \"lefthand\", \"leg\", \"leg\", \"lemieux\", \"levit\", \"lifer\", \"like\", \"like\", \"like\", \"like\", \"like\", \"like\", \"like\", \"like\", \"like\", \"like\", \"lindbergh\", \"lock\", \"lock\", \"lock\", \"lock\", \"lock\", \"logic\", \"logic\", \"logic\", \"logic\", \"logic\", \"logic\", \"logic\", \"logic\", \"logic\", \"logic\", \"logo\", \"logo\", \"longest\", \"look\", \"look\", \"look\", \"look\", \"look\", \"look\", \"look\", \"look\", \"look\", \"look\", \"loop\", \"lord\", \"lord\", \"lord\", \"lord\", \"lord\", \"lowel\", \"mac\", \"machin\", \"machin\", \"machin\", \"machin\", \"machin\", \"machin\", \"machin\", \"machin\", \"machin\", \"maddi\", \"mailmen\", \"make\", \"make\", \"make\", \"make\", \"make\", \"make\", \"make\", \"make\", \"make\", \"make\", \"mani\", \"mani\", \"mani\", \"mani\", \"mani\", \"mani\", \"mani\", \"mani\", \"mani\", \"mani\", \"manta\", \"marathon\", \"marc\", \"marc\", \"marin\", \"marin\", \"marin\", \"marin\", \"marin\", \"mark\", \"mark\", \"mark\", \"mark\", \"mark\", \"mark\", \"mark\", \"mark\", \"marri\", \"marriag\", \"marriag\", \"mask\", \"mask\", \"mask\", \"mask\", \"mask\", \"massachussett\", \"mattress\", \"mcwilliam\", \"mean\", \"mean\", \"mean\", \"mean\", \"mean\", \"mean\", \"mean\", \"mean\", \"mean\", \"mean\", \"meehan\", \"melido\", \"memori\", \"memori\", \"memori\", \"memori\", \"memori\", \"memori\", \"memori\", \"memori\", \"memori\", \"memori\", \"meni\", \"mice\", \"might\", \"might\", \"might\", \"might\", \"might\", \"might\", \"might\", \"might\", \"might\", \"might\", \"mill\", \"milwake\", \"mire\", \"modem\", \"modem\", \"modem\", \"modem\", \"modem\", \"molest\", \"moltmann\", \"monophysit\", \"monophysit\", \"monophysit\", \"monophysit\", \"monophysit\", \"motif\", \"motif\", \"motif\", \"motto\", \"motto\", \"mould\", \"mous\", \"mous\", \"mous\", \"much\", \"much\", \"much\", \"much\", \"much\", \"much\", \"much\", \"much\", \"much\", \"much\", \"muck\", \"multimedia\", \"mung\", \"murray\", \"murray\", \"murray\", \"murray\", \"murray\", \"murray\", \"muscl\", \"muscular\", \"mysstem\", \"nambla\", \"naval\", \"naval\", \"naval\", \"naval\", \"naval\", \"naval\", \"naval\", \"ncsl\", \"ndi\", \"neck\", \"need\", \"need\", \"need\", \"need\", \"need\", \"need\", \"need\", \"need\", \"need\", \"need\", \"needham\", \"neurolog\", \"neurolog\", \"neurolog\", \"neurovascular\", \"nevil\", \"none\", \"none\", \"none\", \"none\", \"none\", \"none\", \"none\", \"normal\", \"normal\", \"normal\", \"normal\", \"normal\", \"normal\", \"normal\", \"note\", \"note\", \"note\", \"note\", \"note\", \"note\", \"note\", \"note\", \"note\", \"note\", \"notepad\", \"nuclear\", \"object\", \"object\", \"object\", \"object\", \"object\", \"object\", \"object\", \"object\", \"object\", \"object\", \"objectbas\", \"ocsmd\", \"ocsmd\", \"octopu\", \"okidata\", \"olcyzk\", \"omnipot\", \"omnipot\", \"omran\", \"omran\", \"omran\", \"onlin\", \"onlin\", \"opamp\", \"opel\", \"opinion\", \"opinion\", \"opinion\", \"opinion\", \"opinion\", \"opinion\", \"opinion\", \"opinion\", \"opinion\", \"opinion\", \"orbit\", \"orbit\", \"orbit\", \"orbit\", \"orbit\", \"orbit\", \"orbit\", \"orbit\", \"orbit\", \"orbit\", \"organ\", \"organ\", \"organ\", \"organ\", \"organ\", \"organ\", \"organ\", \"organ\", \"organ\", \"organ\", \"pack\", \"padr\", \"parad\", \"parad\", \"paradox\", \"paramount\", \"part\", \"part\", \"part\", \"part\", \"part\", \"part\", \"part\", \"part\", \"part\", \"part\", \"pen\", \"peopl\", \"peopl\", \"peopl\", \"peopl\", \"peopl\", \"peopl\", \"peopl\", \"peopl\", \"peopl\", \"peopl\", \"perez\", \"perret\", \"philli\", \"photoshop\", \"piney\", \"place\", \"place\", \"place\", \"place\", \"place\", \"place\", \"place\", \"place\", \"place\", \"place\", \"placebo\", \"plane\", \"plane\", \"plane\", \"plant\", \"play\", \"play\", \"play\", \"play\", \"play\", \"play\", \"play\", \"play\", \"play\", \"play\", \"pleas\", \"pleas\", \"pleas\", \"pleas\", \"pleas\", \"pleas\", \"pleas\", \"pleas\", \"pleas\", \"pleas\", \"plexi\", \"pocket\", \"pocket\", \"pocket\", \"pocklington\", \"podein\", \"point\", \"point\", \"point\", \"point\", \"point\", \"point\", \"point\", \"point\", \"point\", \"point\", \"pork\", \"pork\", \"port\", \"port\", \"port\", \"port\", \"port\", \"port\", \"port\", \"port\", \"portabl\", \"portabl\", \"portabl\", \"possibl\", \"possibl\", \"possibl\", \"possibl\", \"possibl\", \"possibl\", \"possibl\", \"possibl\", \"possibl\", \"possibl\", \"post\", \"post\", \"post\", \"post\", \"post\", \"post\", \"post\", \"post\", \"post\", \"post\", \"poster\", \"poster\", \"poster\", \"poster\", \"power\", \"power\", \"power\", \"power\", \"power\", \"power\", \"power\", \"power\", \"power\", \"power\", \"preach\", \"premis\", \"premis\", \"premis\", \"premis\", \"premis\", \"premis\", \"premis\", \"premis\", \"premis\", \"premis\", \"presid\", \"presid\", \"pride\", \"print\", \"print\", \"print\", \"print\", \"prioriti\", \"prize\", \"prize\", \"prize\", \"prize\", \"probabl\", \"probabl\", \"probabl\", \"probabl\", \"probabl\", \"probabl\", \"probabl\", \"probabl\", \"probabl\", \"probabl\", \"problem\", \"problem\", \"problem\", \"problem\", \"problem\", \"problem\", \"problem\", \"problem\", \"problem\", \"problem\", \"proce\", \"proce\", \"proce\", \"proce\", \"proce\", \"proce\", \"program\", \"program\", \"program\", \"program\", \"program\", \"program\", \"program\", \"program\", \"program\", \"program\", \"projector\", \"promiscu\", \"promiscu\", \"promiscu\", \"promiscu\", \"properli\", \"propos\", \"propos\", \"psycho\", \"purifi\", \"putti\", \"pythagorean\", \"quarantin\", \"quattro\", \"queernet\", \"question\", \"question\", \"question\", \"question\", \"question\", \"question\", \"question\", \"question\", \"question\", \"question\", \"quicker\", \"quicklink\", \"quinn\", \"raid\", \"ramsey\", \"ranford\", \"rate\", \"rate\", \"rate\", \"rate\", \"rate\", \"rate\", \"rate\", \"rate\", \"rate\", \"rate\", \"reactor\", \"readright\", \"realli\", \"realli\", \"realli\", \"realli\", \"realli\", \"realli\", \"realli\", \"realli\", \"realli\", \"realli\", \"reason\", \"reason\", \"reason\", \"reason\", \"reason\", \"reason\", \"reason\", \"reason\", \"reason\", \"reason\", \"receiv\", \"receiv\", \"receiv\", \"receiv\", \"receiv\", \"receiv\", \"receiv\", \"receiv\", \"receiv\", \"receiv\", \"recharg\", \"recit\", \"rectifi\", \"regal\", \"rein\", \"religion\", \"religion\", \"religion\", \"religion\", \"religion\", \"religion\", \"religion\", \"religion\", \"repli\", \"repli\", \"repli\", \"repli\", \"repli\", \"repli\", \"repli\", \"repli\", \"repli\", \"repli\", \"resaon\", \"reserv\", \"reserv\", \"reserv\", \"reserv\", \"reserv\", \"reserv\", \"reserv\", \"reserv\", \"reserv\", \"resist\", \"resist\", \"rider\", \"right\", \"right\", \"right\", \"right\", \"right\", \"right\", \"right\", \"right\", \"right\", \"right\", \"righthand\", \"righthand\", \"river\", \"river\", \"river\", \"river\", \"roth\", \"rout\", \"sacrum\", \"sacrum\", \"safti\", \"said\", \"said\", \"said\", \"said\", \"said\", \"said\", \"said\", \"said\", \"said\", \"said\", \"saint\", \"sand\", \"sanitarium\", \"say\", \"say\", \"say\", \"say\", \"say\", \"say\", \"say\", \"say\", \"say\", \"say\", \"scope\", \"scope\", \"scope\", \"scope\", \"scope\", \"scope\", \"scope\", \"scroog\", \"scsi\", \"scsi\", \"scsi\", \"scsi\", \"scsi\", \"scum\", \"seagat\", \"sedan\", \"sedan\", \"seem\", \"seem\", \"seem\", \"seem\", \"seem\", \"seem\", \"seem\", \"seem\", \"seem\", \"seem\", \"seen\", \"seen\", \"seen\", \"seen\", \"seen\", \"seen\", \"seen\", \"seen\", \"seen\", \"seen\", \"segment\", \"segment\", \"segment\", \"semd\", \"semiconductor\", \"server\", \"server\", \"server\", \"server\", \"sharewar\", \"sharewar\", \"sharewar\", \"sidecar\", \"siemen\", \"sightse\", \"silli\", \"simm\", \"simm\", \"simm\", \"simm\", \"simm\", \"simm\", \"simm\", \"simm\", \"simm\", \"sleepp\", \"slimi\", \"snake\", \"sneak\", \"softwar\", \"softwar\", \"softwar\", \"softwar\", \"softwar\", \"softwar\", \"softwar\", \"softwar\", \"softwar\", \"softwar\", \"someth\", \"someth\", \"someth\", \"someth\", \"someth\", \"someth\", \"someth\", \"someth\", \"someth\", \"someth\", \"space\", \"space\", \"space\", \"space\", \"space\", \"space\", \"space\", \"space\", \"space\", \"space\", \"spacecraft\", \"spacecraft\", \"spacecraft\", \"spacecraft\", \"sparcstat\", \"speedisk\", \"sphere\", \"sphere\", \"sphere\", \"spirit\", \"spirit\", \"spirit\", \"spirit\", \"spirit\", \"spirit\", \"spirit\", \"spirit\", \"spirit\", \"spo\", \"sporad\", \"spot\", \"spot\", \"spot\", \"spot\", \"spot\", \"spring\", \"squid\", \"stac\", \"stac\", \"stadium\", \"stafford\", \"stanley\", \"stanley\", \"stanley\", \"starter\", \"starter\", \"starter\", \"starter\", \"state\", \"state\", \"state\", \"state\", \"state\", \"state\", \"state\", \"state\", \"state\", \"state\", \"steal\", \"steal\", \"steal\", \"steam\", \"steam\", \"steel\", \"steel\", \"steel\", \"steel\", \"stolen\", \"strength\", \"studi\", \"studi\", \"studi\", \"studi\", \"studi\", \"studi\", \"studi\", \"studi\", \"studi\", \"studi\", \"subject\", \"subject\", \"subject\", \"subject\", \"subject\", \"subject\", \"subject\", \"subject\", \"subject\", \"subject\", \"substitut\", \"substitut\", \"substitut\", \"sure\", \"sure\", \"sure\", \"sure\", \"sure\", \"sure\", \"sure\", \"sure\", \"sure\", \"sure\", \"suresh\", \"system\", \"system\", \"system\", \"system\", \"system\", \"system\", \"system\", \"system\", \"system\", \"system\", \"talk\", \"talk\", \"talk\", \"talk\", \"talk\", \"talk\", \"talk\", \"talk\", \"talk\", \"talk\", \"team\", \"team\", \"team\", \"team\", \"team\", \"team\", \"team\", \"team\", \"team\", \"team\", \"tell\", \"tell\", \"tell\", \"tell\", \"tell\", \"tell\", \"tell\", \"tell\", \"tell\", \"tell\", \"test\", \"test\", \"test\", \"test\", \"test\", \"test\", \"test\", \"test\", \"text\", \"text\", \"text\", \"text\", \"text\", \"text\", \"thank\", \"thank\", \"thank\", \"thank\", \"thank\", \"thank\", \"thank\", \"thank\", \"thank\", \"that\", \"that\", \"that\", \"that\", \"that\", \"that\", \"that\", \"that\", \"that\", \"that\", \"thermocoupl\", \"they\", \"they\", \"they\", \"they\", \"they\", \"they\", \"they\", \"they\", \"they\", \"they\", \"thi\", \"thi\", \"thi\", \"thi\", \"thi\", \"thi\", \"thi\", \"thi\", \"thi\", \"thi\", \"thing\", \"thing\", \"thing\", \"thing\", \"thing\", \"thing\", \"thing\", \"thing\", \"thing\", \"thing\", \"think\", \"think\", \"think\", \"think\", \"think\", \"think\", \"think\", \"think\", \"think\", \"think\", \"thirteen\", \"three\", \"three\", \"three\", \"three\", \"three\", \"three\", \"three\", \"three\", \"three\", \"three\", \"throttl\", \"throttl\", \"throttl\", \"throttl\", \"throttl\", \"tiff\", \"tiff\", \"tiff\", \"tiff\", \"tiff\", \"tiff\", \"time\", \"time\", \"time\", \"time\", \"time\", \"time\", \"time\", \"time\", \"time\", \"time\", \"tinnitu\", \"tinnitu\", \"tinnitu\", \"tobacco\", \"token\", \"toolkit\", \"toolwork\", \"torment\", \"toshiba\", \"tower\", \"tower\", \"tower\", \"tower\", \"tower\", \"tower\", \"tower\", \"trade\", \"trade\", \"trade\", \"trade\", \"trade\", \"trademark\", \"traffic\", \"treasur\", \"treasur\", \"treatment\", \"treatment\", \"treatment\", \"treatment\", \"treatment\", \"treatment\", \"treatment\", \"treatment\", \"tremend\", \"tri\", \"tri\", \"tri\", \"tri\", \"tri\", \"tri\", \"tri\", \"tri\", \"tri\", \"trial\", \"trial\", \"true\", \"true\", \"true\", \"true\", \"true\", \"true\", \"true\", \"true\", \"true\", \"true\", \"trust\", \"trust\", \"tugnutt\", \"turbin\", \"turn\", \"turn\", \"turn\", \"turn\", \"turn\", \"turn\", \"turn\", \"turn\", \"turn\", \"turn\", \"tuscon\", \"tutori\", \"typewrit\", \"typewrit\", \"uart\", \"uart\", \"unabl\", \"unabl\", \"understand\", \"understand\", \"understand\", \"understand\", \"understand\", \"understand\", \"understand\", \"understand\", \"understand\", \"understand\", \"undesir\", \"unveil\", \"use\", \"use\", \"use\", \"use\", \"use\", \"use\", \"use\", \"use\", \"use\", \"use\", \"utah\", \"vacat\", \"vanbiesbrouck\", \"vener\", \"vers\", \"vers\", \"vers\", \"vers\", \"vers\", \"vertebra\", \"veto\", \"veto\", \"video\", \"video\", \"video\", \"video\", \"vinyl\", \"viola\", \"viola\", \"violat\", \"violat\", \"violat\", \"violat\", \"violat\", \"violat\", \"virtual\", \"virtual\", \"virtual\", \"virtual\", \"voltamet\", \"walker\", \"want\", \"want\", \"want\", \"want\", \"want\", \"want\", \"want\", \"want\", \"want\", \"want\", \"ward\", \"warn\", \"warren\", \"water\", \"water\", \"water\", \"water\", \"water\", \"water\", \"water\", \"water\", \"well\", \"well\", \"well\", \"well\", \"well\", \"well\", \"well\", \"well\", \"well\", \"well\", \"what\", \"what\", \"what\", \"what\", \"what\", \"what\", \"what\", \"what\", \"what\", \"what\", \"when\", \"when\", \"when\", \"when\", \"when\", \"when\", \"when\", \"when\", \"when\", \"when\", \"whirrr\", \"whoi\", \"widow\", \"will\", \"will\", \"will\", \"will\", \"will\", \"will\", \"will\", \"will\", \"will\", \"wilson\", \"wilson\", \"window\", \"window\", \"window\", \"window\", \"window\", \"window\", \"window\", \"window\", \"window\", \"window\", \"wingert\", \"wingert\", \"wingert\", \"winkler\", \"winona\", \"winqvt\", \"without\", \"without\", \"without\", \"without\", \"without\", \"without\", \"without\", \"without\", \"without\", \"without\", \"woof\", \"wordprocessor\", \"work\", \"work\", \"work\", \"work\", \"work\", \"work\", \"work\", \"work\", \"work\", \"work\", \"would\", \"would\", \"would\", \"would\", \"would\", \"would\", \"would\", \"would\", \"would\", \"would\", \"wuarchiv\", \"wustl\", \"wwiz\", \"wwiz\", \"wwiz\", \"wwiz\", \"wwiz\", \"wwiz\", \"wwiz\", \"wyse\", \"xremot\", \"xterm\", \"xterm\", \"year\", \"year\", \"year\", \"year\", \"year\", \"year\", \"year\", \"year\", \"year\", \"year\", \"yeast\", \"zubov\"]}, \"R\": 30, \"lambda.step\": 0.01, \"plot.opts\": {\"xlab\": \"PC1\", \"ylab\": \"PC2\"}, \"topic.order\": [2, 3, 8, 6, 7, 1, 5, 9, 4, 10]};\n",
       "\n",
       "function LDAvis_load_lib(url, callback){\n",
       "  var s = document.createElement('script');\n",
       "  s.src = url;\n",
       "  s.async = true;\n",
       "  s.onreadystatechange = s.onload = callback;\n",
       "  s.onerror = function(){console.warn(\"failed to load library \" + url);};\n",
       "  document.getElementsByTagName(\"head\")[0].appendChild(s);\n",
       "}\n",
       "\n",
       "if(typeof(LDAvis) !== \"undefined\"){\n",
       "   // already loaded: just create the visualization\n",
       "   !function(LDAvis){\n",
       "       new LDAvis(\"#\" + \"ldavis_el54207171027936212123288\", ldavis_el54207171027936212123288_data);\n",
       "   }(LDAvis);\n",
       "}else if(typeof define === \"function\" && define.amd){\n",
       "   // require.js is available: use it to load d3/LDAvis\n",
       "   require.config({paths: {d3: \"https://d3js.org/d3.v5\"}});\n",
       "   require([\"d3\"], function(d3){\n",
       "      window.d3 = d3;\n",
       "      LDAvis_load_lib(\"https://cdn.jsdelivr.net/gh/bmabey/pyLDAvis@3.4.0/pyLDAvis/js/ldavis.v3.0.0.js\", function(){\n",
       "        new LDAvis(\"#\" + \"ldavis_el54207171027936212123288\", ldavis_el54207171027936212123288_data);\n",
       "      });\n",
       "    });\n",
       "}else{\n",
       "    // require.js not available: dynamically load d3 & LDAvis\n",
       "    LDAvis_load_lib(\"https://d3js.org/d3.v5.js\", function(){\n",
       "         LDAvis_load_lib(\"https://cdn.jsdelivr.net/gh/bmabey/pyLDAvis@3.4.0/pyLDAvis/js/ldavis.v3.0.0.js\", function(){\n",
       "                 new LDAvis(\"#\" + \"ldavis_el54207171027936212123288\", ldavis_el54207171027936212123288_data);\n",
       "            })\n",
       "         });\n",
       "}\n",
       "</script>"
      ],
      "text/plain": [
       "<IPython.core.display.HTML object>"
      ]
     },
     "execution_count": 61,
     "metadata": {},
     "output_type": "execute_result"
    }
   ],
   "source": [
    "### visualize\n",
    "lda_display = gensimvis.prepare(lda_model, corpus, dictionary)\n",
    "pyLDAvis.display(lda_display)"
   ]
  },
  {
   "cell_type": "markdown",
   "id": "54b86f9c-d997-4daf-88f1-cab8e9ce603b",
   "metadata": {},
   "source": [
    "## BERTopic"
   ]
  },
  {
   "cell_type": "code",
   "execution_count": 65,
   "id": "b0f1a1ed-8cf5-40e2-ab29-9797d9cf76a3",
   "metadata": {},
   "outputs": [],
   "source": [
    "documents = newsgroups_data.data[:2000]"
   ]
  },
  {
   "cell_type": "code",
   "execution_count": 66,
   "id": "cb8b852f-266a-455b-9883-666abbf70b7c",
   "metadata": {},
   "outputs": [
    {
     "name": "stdout",
     "output_type": "stream",
     "text": [
      "Intel MKL WARNING: Support of Intel(R) Streaming SIMD Extensions 4.2 (Intel(R) SSE4.2) enabled only processors has been deprecated. Intel oneAPI Math Kernel Library 2025.0 will require Intel(R) Advanced Vector Extensions (Intel(R) AVX) instructions.\n"
     ]
    },
    {
     "name": "stderr",
     "output_type": "stream",
     "text": [
      "/Users/herbert/opt/anaconda3/envs/deep/lib/python3.10/site-packages/hdbscan/hdbscan_.py:1170: DeprecationWarning: `alltrue` is deprecated as of NumPy 1.25.0, and will be removed in NumPy 2.0. Please use `all` instead.\n",
      "  self._all_finite = is_finite(X)\n"
     ]
    },
    {
     "name": "stdout",
     "output_type": "stream",
     "text": [
      "CPU times: user 5min 59s, sys: 26.1 s, total: 6min 25s\n",
      "Wall time: 1min 2s\n"
     ]
    }
   ],
   "source": [
    "%%time\n",
    "topic_model = BERTopic()\n",
    "topics, probs = topic_model.fit_transform(documents)"
   ]
  },
  {
   "cell_type": "code",
   "execution_count": 67,
   "id": "531951d0-1c01-40a2-b001-9e06867a6c78",
   "metadata": {
    "scrolled": true
   },
   "outputs": [
    {
     "data": {
      "text/html": [
       "<div>\n",
       "<style scoped>\n",
       "    .dataframe tbody tr th:only-of-type {\n",
       "        vertical-align: middle;\n",
       "    }\n",
       "\n",
       "    .dataframe tbody tr th {\n",
       "        vertical-align: top;\n",
       "    }\n",
       "\n",
       "    .dataframe thead th {\n",
       "        text-align: right;\n",
       "    }\n",
       "</style>\n",
       "<table border=\"1\" class=\"dataframe\">\n",
       "  <thead>\n",
       "    <tr style=\"text-align: right;\">\n",
       "      <th></th>\n",
       "      <th>Topic</th>\n",
       "      <th>Count</th>\n",
       "      <th>Name</th>\n",
       "      <th>Representation</th>\n",
       "      <th>Representative_Docs</th>\n",
       "    </tr>\n",
       "  </thead>\n",
       "  <tbody>\n",
       "    <tr>\n",
       "      <th>0</th>\n",
       "      <td>-1</td>\n",
       "      <td>631</td>\n",
       "      <td>-1_the_to_of_and</td>\n",
       "      <td>[the, to, of, and, is, in, for, it, that, maxa...</td>\n",
       "      <td>[The following are my thoughts on a meeting th...</td>\n",
       "    </tr>\n",
       "    <tr>\n",
       "      <th>1</th>\n",
       "      <td>0</td>\n",
       "      <td>190</td>\n",
       "      <td>0_the_he_in_to</td>\n",
       "      <td>[the, he, in, to, team, and, game, was, his, p...</td>\n",
       "      <td>[1992-93 Los Angeles Kings notes.\\n-----------...</td>\n",
       "    </tr>\n",
       "    <tr>\n",
       "      <th>2</th>\n",
       "      <td>1</td>\n",
       "      <td>144</td>\n",
       "      <td>1_is_of_the_that</td>\n",
       "      <td>[is, of, the, that, to, not, and, it, in, jesus]</td>\n",
       "      <td>[My last article included this quote:\\n\\n \"If ...</td>\n",
       "    </tr>\n",
       "    <tr>\n",
       "      <th>3</th>\n",
       "      <td>2</td>\n",
       "      <td>105</td>\n",
       "      <td>2_dos_for_good_excellent</td>\n",
       "      <td>[dos, for, good, excellent, offer, the, 150, w...</td>\n",
       "      <td>[Forsale:\\n\\nProton P1100 preamplifier\\n======...</td>\n",
       "    </tr>\n",
       "    <tr>\n",
       "      <th>4</th>\n",
       "      <td>3</td>\n",
       "      <td>88</td>\n",
       "      <td>3_of_the_it_is</td>\n",
       "      <td>[of, the, it, is, to, in, that, and, are, you]</td>\n",
       "      <td>[\\nAll true.  And all good points.\\n\\n\\n\\nWell...</td>\n",
       "    </tr>\n",
       "    <tr>\n",
       "      <th>5</th>\n",
       "      <td>4</td>\n",
       "      <td>70</td>\n",
       "      <td>4_the_of_israel_to</td>\n",
       "      <td>[the, of, israel, to, in, that, and, is, it, by]</td>\n",
       "      <td>[\\nSize of armies, duration, numbers of casual...</td>\n",
       "    </tr>\n",
       "    <tr>\n",
       "      <th>6</th>\n",
       "      <td>5</td>\n",
       "      <td>61</td>\n",
       "      <td>5_the_to_clipper_encryption</td>\n",
       "      <td>[the, to, clipper, encryption, chip, be, key, ...</td>\n",
       "      <td>[After reading the debate over the Clipper, I ...</td>\n",
       "    </tr>\n",
       "    <tr>\n",
       "      <th>7</th>\n",
       "      <td>6</td>\n",
       "      <td>61</td>\n",
       "      <td>6_deletion_huh_david_</td>\n",
       "      <td>[deletion, huh, david, , , , , , , ]</td>\n",
       "      <td>[David\\n\\n\\n, \\nHuh?,  \\n(Deletion)\\n ]</td>\n",
       "    </tr>\n",
       "    <tr>\n",
       "      <th>8</th>\n",
       "      <td>7</td>\n",
       "      <td>52</td>\n",
       "      <td>7_space_the_and_nasa</td>\n",
       "      <td>[space, the, and, nasa, of, for, to, shuttle, ...</td>\n",
       "      <td>[Archive-name: space/new_probes\\nLast-modified...</td>\n",
       "    </tr>\n",
       "    <tr>\n",
       "      <th>9</th>\n",
       "      <td>8</td>\n",
       "      <td>48</td>\n",
       "      <td>8_scsi_tape_the_with</td>\n",
       "      <td>[scsi, tape, the, with, drive, this, adaptec, ...</td>\n",
       "      <td>[From article &lt;1qq7i1INNdqc@dns1.NMSU.Edu&gt;, by...</td>\n",
       "    </tr>\n",
       "    <tr>\n",
       "      <th>10</th>\n",
       "      <td>9</td>\n",
       "      <td>45</td>\n",
       "      <td>9_the_car_and_to</td>\n",
       "      <td>[the, car, and, to, for, it, engine, in, my, you]</td>\n",
       "      <td>[\\n\\nGood point. I have no idea how either of ...</td>\n",
       "    </tr>\n",
       "    <tr>\n",
       "      <th>11</th>\n",
       "      <td>10</td>\n",
       "      <td>43</td>\n",
       "      <td>10_card_screen_video_drivers</td>\n",
       "      <td>[card, screen, video, drivers, for, the, have,...</td>\n",
       "      <td>[Hi there.  We just bought a 486 DX2/66 Gatewa...</td>\n",
       "    </tr>\n",
       "    <tr>\n",
       "      <th>12</th>\n",
       "      <td>11</td>\n",
       "      <td>42</td>\n",
       "      <td>11_my_bike_to_the</td>\n",
       "      <td>[my, bike, to, the, you, on, in, and, it, is]</td>\n",
       "      <td>[\\n  Sure you can do wheelies with a shaft dri...</td>\n",
       "    </tr>\n",
       "    <tr>\n",
       "      <th>13</th>\n",
       "      <td>12</td>\n",
       "      <td>41</td>\n",
       "      <td>12_gun_to_the_of</td>\n",
       "      <td>[gun, to, the, of, that, in, and, is, be, are]</td>\n",
       "      <td>[I HATE long postings, but this turned out to ...</td>\n",
       "    </tr>\n",
       "    <tr>\n",
       "      <th>14</th>\n",
       "      <td>13</td>\n",
       "      <td>35</td>\n",
       "      <td>13_available_server_on_motif</td>\n",
       "      <td>[available, server, on, motif, is, for, x11r5,...</td>\n",
       "      <td>[I'd like to compile X11r5 on a Sony NWS-1750 ...</td>\n",
       "    </tr>\n",
       "    <tr>\n",
       "      <th>15</th>\n",
       "      <td>14</td>\n",
       "      <td>31</td>\n",
       "      <td>14_files_tiff_file_format</td>\n",
       "      <td>[files, tiff, file, format, image, scodal, to,...</td>\n",
       "      <td>[Hello, I realize that this might be a FAQ but...</td>\n",
       "    </tr>\n",
       "    <tr>\n",
       "      <th>16</th>\n",
       "      <td>15</td>\n",
       "      <td>31</td>\n",
       "      <td>15_and_the_they_were</td>\n",
       "      <td>[and, the, they, were, was, armenian, in, of, ...</td>\n",
       "      <td>[Accounts of Anti-Armenian Human Right Violati...</td>\n",
       "    </tr>\n",
       "    <tr>\n",
       "      <th>17</th>\n",
       "      <td>16</td>\n",
       "      <td>27</td>\n",
       "      <td>16_den_radius_double_plane</td>\n",
       "      <td>[den, radius, double, plane, and, of, on, the,...</td>\n",
       "      <td>[Australian Pattern Recognition Society\\n\\n   ...</td>\n",
       "    </tr>\n",
       "    <tr>\n",
       "      <th>18</th>\n",
       "      <td>17</td>\n",
       "      <td>26</td>\n",
       "      <td>17_memory_dos_windows_the</td>\n",
       "      <td>[memory, dos, windows, the, machine, with, hav...</td>\n",
       "      <td>[A week or so ago, I posted about a problem wi...</td>\n",
       "    </tr>\n",
       "    <tr>\n",
       "      <th>19</th>\n",
       "      <td>18</td>\n",
       "      <td>26</td>\n",
       "      <td>18_health_tobacco_smokeless_coli</td>\n",
       "      <td>[health, tobacco, smokeless, coli, o157h7, amo...</td>\n",
       "      <td>[: write over the \"Licensed to:\", but you can'...</td>\n",
       "    </tr>\n",
       "    <tr>\n",
       "      <th>20</th>\n",
       "      <td>19</td>\n",
       "      <td>25</td>\n",
       "      <td>19_printer_fonts_truetype_print</td>\n",
       "      <td>[printer, fonts, truetype, print, font, printe...</td>\n",
       "      <td>[\\n#I use xwd/xpr (from the X11R5 dist.) and v...</td>\n",
       "    </tr>\n",
       "    <tr>\n",
       "      <th>21</th>\n",
       "      <td>20</td>\n",
       "      <td>25</td>\n",
       "      <td>20_ma_june_dj_may</td>\n",
       "      <td>[ma, june, dj, may, at, april, flea, rally, 50...</td>\n",
       "      <td>[Hi from Australia,\\n\\nI am a car enthusiast i...</td>\n",
       "    </tr>\n",
       "    <tr>\n",
       "      <th>22</th>\n",
       "      <td>21</td>\n",
       "      <td>25</td>\n",
       "      <td>21_window_widget_the_to</td>\n",
       "      <td>[window, widget, the, to, height, widgets, set...</td>\n",
       "      <td>[I'm trying to write some code that lets me dr...</td>\n",
       "    </tr>\n",
       "    <tr>\n",
       "      <th>23</th>\n",
       "      <td>22</td>\n",
       "      <td>20</td>\n",
       "      <td>22_billion_the_dollars_clinton</td>\n",
       "      <td>[billion, the, dollars, clinton, to, governmen...</td>\n",
       "      <td>[\\nEven if what Brad says turns out to be accu...</td>\n",
       "    </tr>\n",
       "    <tr>\n",
       "      <th>24</th>\n",
       "      <td>23</td>\n",
       "      <td>19</td>\n",
       "      <td>23_car_ford_dealer_new</td>\n",
       "      <td>[car, ford, dealer, new, cost, the, power, was...</td>\n",
       "      <td>[To: Dodge Dart collectors\\n\\nI have a 1964 Do...</td>\n",
       "    </tr>\n",
       "    <tr>\n",
       "      <th>25</th>\n",
       "      <td>24</td>\n",
       "      <td>16</td>\n",
       "      <td>24_fire_that_they_the</td>\n",
       "      <td>[fire, that, they, the, to, was, would, it, ta...</td>\n",
       "      <td>[\\n\\n\\n\\nWell put, Jim.  I am as concerned abo...</td>\n",
       "    </tr>\n",
       "    <tr>\n",
       "      <th>26</th>\n",
       "      <td>25</td>\n",
       "      <td>15</td>\n",
       "      <td>25_men_homosexual_sex_gay</td>\n",
       "      <td>[men, homosexual, sex, gay, gaybi, promiscuous...</td>\n",
       "      <td>[\\nSo there are less gays, then the gays claim...</td>\n",
       "    </tr>\n",
       "    <tr>\n",
       "      <th>27</th>\n",
       "      <td>26</td>\n",
       "      <td>14</td>\n",
       "      <td>26_cylinder_it_master_idle</td>\n",
       "      <td>[cylinder, it, master, idle, vacuum, brake, ai...</td>\n",
       "      <td>[\\n\\nSometimes a bad choke pull-off diaphram w...</td>\n",
       "    </tr>\n",
       "    <tr>\n",
       "      <th>28</th>\n",
       "      <td>27</td>\n",
       "      <td>12</td>\n",
       "      <td>27_speed_mhz_040_processor</td>\n",
       "      <td>[speed, mhz, 040, processor, accelerator, upgr...</td>\n",
       "      <td>[I've just completed a successful upgrade of a...</td>\n",
       "    </tr>\n",
       "    <tr>\n",
       "      <th>29</th>\n",
       "      <td>28</td>\n",
       "      <td>12</td>\n",
       "      <td>28_moral_immoral_morality_is</td>\n",
       "      <td>[moral, immoral, morality, is, that, are, huds...</td>\n",
       "      <td>[\\nIf you force me to do something, am I moral...</td>\n",
       "    </tr>\n",
       "    <tr>\n",
       "      <th>30</th>\n",
       "      <td>29</td>\n",
       "      <td>10</td>\n",
       "      <td>29_water_steam_plants_cooling</td>\n",
       "      <td>[water, steam, plants, cooling, heat, nuclear,...</td>\n",
       "      <td>[\\nWater. Nuclear stations don't generate elec...</td>\n",
       "    </tr>\n",
       "    <tr>\n",
       "      <th>31</th>\n",
       "      <td>30</td>\n",
       "      <td>10</td>\n",
       "      <td>30_system_is_we_objective</td>\n",
       "      <td>[system, is, we, objective, innocent, but, mur...</td>\n",
       "      <td>[Reasonable doubt dates back to Human Rights. ...</td>\n",
       "    </tr>\n",
       "  </tbody>\n",
       "</table>\n",
       "</div>"
      ],
      "text/plain": [
       "    Topic  Count                              Name  \\\n",
       "0      -1    631                  -1_the_to_of_and   \n",
       "1       0    190                    0_the_he_in_to   \n",
       "2       1    144                  1_is_of_the_that   \n",
       "3       2    105          2_dos_for_good_excellent   \n",
       "4       3     88                    3_of_the_it_is   \n",
       "5       4     70                4_the_of_israel_to   \n",
       "6       5     61       5_the_to_clipper_encryption   \n",
       "7       6     61             6_deletion_huh_david_   \n",
       "8       7     52              7_space_the_and_nasa   \n",
       "9       8     48              8_scsi_tape_the_with   \n",
       "10      9     45                  9_the_car_and_to   \n",
       "11     10     43      10_card_screen_video_drivers   \n",
       "12     11     42                 11_my_bike_to_the   \n",
       "13     12     41                  12_gun_to_the_of   \n",
       "14     13     35      13_available_server_on_motif   \n",
       "15     14     31         14_files_tiff_file_format   \n",
       "16     15     31              15_and_the_they_were   \n",
       "17     16     27        16_den_radius_double_plane   \n",
       "18     17     26         17_memory_dos_windows_the   \n",
       "19     18     26  18_health_tobacco_smokeless_coli   \n",
       "20     19     25   19_printer_fonts_truetype_print   \n",
       "21     20     25                 20_ma_june_dj_may   \n",
       "22     21     25           21_window_widget_the_to   \n",
       "23     22     20    22_billion_the_dollars_clinton   \n",
       "24     23     19            23_car_ford_dealer_new   \n",
       "25     24     16             24_fire_that_they_the   \n",
       "26     25     15         25_men_homosexual_sex_gay   \n",
       "27     26     14        26_cylinder_it_master_idle   \n",
       "28     27     12        27_speed_mhz_040_processor   \n",
       "29     28     12      28_moral_immoral_morality_is   \n",
       "30     29     10     29_water_steam_plants_cooling   \n",
       "31     30     10         30_system_is_we_objective   \n",
       "\n",
       "                                       Representation  \\\n",
       "0   [the, to, of, and, is, in, for, it, that, maxa...   \n",
       "1   [the, he, in, to, team, and, game, was, his, p...   \n",
       "2    [is, of, the, that, to, not, and, it, in, jesus]   \n",
       "3   [dos, for, good, excellent, offer, the, 150, w...   \n",
       "4      [of, the, it, is, to, in, that, and, are, you]   \n",
       "5    [the, of, israel, to, in, that, and, is, it, by]   \n",
       "6   [the, to, clipper, encryption, chip, be, key, ...   \n",
       "7                [deletion, huh, david, , , , , , , ]   \n",
       "8   [space, the, and, nasa, of, for, to, shuttle, ...   \n",
       "9   [scsi, tape, the, with, drive, this, adaptec, ...   \n",
       "10  [the, car, and, to, for, it, engine, in, my, you]   \n",
       "11  [card, screen, video, drivers, for, the, have,...   \n",
       "12      [my, bike, to, the, you, on, in, and, it, is]   \n",
       "13     [gun, to, the, of, that, in, and, is, be, are]   \n",
       "14  [available, server, on, motif, is, for, x11r5,...   \n",
       "15  [files, tiff, file, format, image, scodal, to,...   \n",
       "16  [and, the, they, were, was, armenian, in, of, ...   \n",
       "17  [den, radius, double, plane, and, of, on, the,...   \n",
       "18  [memory, dos, windows, the, machine, with, hav...   \n",
       "19  [health, tobacco, smokeless, coli, o157h7, amo...   \n",
       "20  [printer, fonts, truetype, print, font, printe...   \n",
       "21  [ma, june, dj, may, at, april, flea, rally, 50...   \n",
       "22  [window, widget, the, to, height, widgets, set...   \n",
       "23  [billion, the, dollars, clinton, to, governmen...   \n",
       "24  [car, ford, dealer, new, cost, the, power, was...   \n",
       "25  [fire, that, they, the, to, was, would, it, ta...   \n",
       "26  [men, homosexual, sex, gay, gaybi, promiscuous...   \n",
       "27  [cylinder, it, master, idle, vacuum, brake, ai...   \n",
       "28  [speed, mhz, 040, processor, accelerator, upgr...   \n",
       "29  [moral, immoral, morality, is, that, are, huds...   \n",
       "30  [water, steam, plants, cooling, heat, nuclear,...   \n",
       "31  [system, is, we, objective, innocent, but, mur...   \n",
       "\n",
       "                                  Representative_Docs  \n",
       "0   [The following are my thoughts on a meeting th...  \n",
       "1   [1992-93 Los Angeles Kings notes.\\n-----------...  \n",
       "2   [My last article included this quote:\\n\\n \"If ...  \n",
       "3   [Forsale:\\n\\nProton P1100 preamplifier\\n======...  \n",
       "4   [\\nAll true.  And all good points.\\n\\n\\n\\nWell...  \n",
       "5   [\\nSize of armies, duration, numbers of casual...  \n",
       "6   [After reading the debate over the Clipper, I ...  \n",
       "7             [David\\n\\n\\n, \\nHuh?,  \\n(Deletion)\\n ]  \n",
       "8   [Archive-name: space/new_probes\\nLast-modified...  \n",
       "9   [From article <1qq7i1INNdqc@dns1.NMSU.Edu>, by...  \n",
       "10  [\\n\\nGood point. I have no idea how either of ...  \n",
       "11  [Hi there.  We just bought a 486 DX2/66 Gatewa...  \n",
       "12  [\\n  Sure you can do wheelies with a shaft dri...  \n",
       "13  [I HATE long postings, but this turned out to ...  \n",
       "14  [I'd like to compile X11r5 on a Sony NWS-1750 ...  \n",
       "15  [Hello, I realize that this might be a FAQ but...  \n",
       "16  [Accounts of Anti-Armenian Human Right Violati...  \n",
       "17  [Australian Pattern Recognition Society\\n\\n   ...  \n",
       "18  [A week or so ago, I posted about a problem wi...  \n",
       "19  [: write over the \"Licensed to:\", but you can'...  \n",
       "20  [\\n#I use xwd/xpr (from the X11R5 dist.) and v...  \n",
       "21  [Hi from Australia,\\n\\nI am a car enthusiast i...  \n",
       "22  [I'm trying to write some code that lets me dr...  \n",
       "23  [\\nEven if what Brad says turns out to be accu...  \n",
       "24  [To: Dodge Dart collectors\\n\\nI have a 1964 Do...  \n",
       "25  [\\n\\n\\n\\nWell put, Jim.  I am as concerned abo...  \n",
       "26  [\\nSo there are less gays, then the gays claim...  \n",
       "27  [\\n\\nSometimes a bad choke pull-off diaphram w...  \n",
       "28  [I've just completed a successful upgrade of a...  \n",
       "29  [\\nIf you force me to do something, am I moral...  \n",
       "30  [\\nWater. Nuclear stations don't generate elec...  \n",
       "31  [Reasonable doubt dates back to Human Rights. ...  "
      ]
     },
     "execution_count": 67,
     "metadata": {},
     "output_type": "execute_result"
    }
   ],
   "source": [
    "topic_model.get_topic_info()"
   ]
  },
  {
   "cell_type": "code",
   "execution_count": null,
   "id": "ff8ba501-bd9a-4306-a36c-3bce35c3bcc5",
   "metadata": {},
   "outputs": [],
   "source": []
  },
  {
   "cell_type": "markdown",
   "id": "fbe43aaa-f989-4cbb-8db5-4d989c0778ef",
   "metadata": {},
   "source": [
    "## Your turn"
   ]
  },
  {
   "cell_type": "markdown",
   "id": "f671f6b3-df63-4e54-a52b-1e09f33a68d2",
   "metadata": {},
   "source": [
    "#### Load up one of the text documents from the shared class folder\n",
    "#### Consider sampling to reduce the size of the dataset\n",
    "#### Apply the four techniques to the dataset, and comment on what you find!"
   ]
  },
  {
   "cell_type": "code",
   "execution_count": null,
   "id": "47c22cce",
   "metadata": {},
   "outputs": [],
   "source": []
  },
  {
   "cell_type": "code",
   "execution_count": null,
   "id": "a2ace2bf-e9cb-4391-b6bf-269f0b8984d4",
   "metadata": {},
   "outputs": [],
   "source": []
  },
  {
   "cell_type": "code",
   "execution_count": null,
   "id": "f5de1551-16c8-40bc-9df7-eb5e09ed175c",
   "metadata": {},
   "outputs": [],
   "source": []
  },
  {
   "cell_type": "code",
   "execution_count": null,
   "id": "6cd078ed",
   "metadata": {},
   "outputs": [],
   "source": []
  },
  {
   "cell_type": "code",
   "execution_count": null,
   "id": "a0ab7102",
   "metadata": {},
   "outputs": [],
   "source": []
  },
  {
   "cell_type": "code",
   "execution_count": null,
   "id": "39fe81ef",
   "metadata": {},
   "outputs": [],
   "source": []
  },
  {
   "cell_type": "code",
   "execution_count": null,
   "id": "6d2e64f2",
   "metadata": {},
   "outputs": [],
   "source": []
  }
 ],
 "metadata": {
  "kernelspec": {
   "display_name": "Python 3 (ipykernel)",
   "language": "python",
   "name": "python3"
  },
  "language_info": {
   "codemirror_mode": {
    "name": "ipython",
    "version": 3
   },
   "file_extension": ".py",
   "mimetype": "text/x-python",
   "name": "python",
   "nbconvert_exporter": "python",
   "pygments_lexer": "ipython3",
   "version": "3.10.13"
  }
 },
 "nbformat": 4,
 "nbformat_minor": 5
}
