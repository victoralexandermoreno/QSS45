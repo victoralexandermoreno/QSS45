{
 "cells": [
  {
   "cell_type": "code",
   "execution_count": null,
   "id": "2a2cc50c",
   "metadata": {},
   "outputs": [],
   "source": [
    "import openai\n",
    "import pandas as pd\n",
    "from PIL import Image\n",
    "from io import BytesIO\n",
    "import base64\n",
    "import glob\n",
    "import json\n",
    "\n",
    "import matplotlib.image as mpimg\n",
    "import matplotlib.pyplot as plt"
   ]
  },
  {
   "cell_type": "code",
   "execution_count": null,
   "id": "ddcb3e0a",
   "metadata": {},
   "outputs": [],
   "source": [
    "# Initialize OpenAI API key\n",
    "openai.api_key = 'YOUR KEY'\n",
    "\n",
    "# Sample Data for Text and Image Labeling\n",
    "text_data = [\n",
    "    \"The big dog is playing in the park.\",\n",
    "    \"My chef is making instant pork ramen for me in the kitchen.\",\n",
    "    \"The frat brothers are in the animal house.\",\n",
    "]"
   ]
  },
  {
   "cell_type": "code",
   "execution_count": null,
   "id": "91ba4664",
   "metadata": {},
   "outputs": [],
   "source": [
    "prompt = \"\"\"\n",
    "Please identify if there are animals in the sentence. \n",
    "Respond with 'True' or 'False', with no extra information.\n",
    "\"\"\"\n",
    "\n",
    "# Function to Label Text Using ChatGPT (Zero-Shot)\n",
    "def label_text(text):\n",
    "    response = openai.ChatCompletion.create(\n",
    "        model=\"gpt-4\",\n",
    "        messages=[\n",
    "            {\"role\": \"system\", \"content\": prompt},\n",
    "            {\"role\": \"user\", \"content\": f\"Please label the following text: '{text}'\"}\n",
    "        ]\n",
    "    )\n",
    "    label = response['choices'][0]['message']['content']\n",
    "    return label.strip()"
   ]
  },
  {
   "cell_type": "code",
   "execution_count": null,
   "id": "6651c2cb",
   "metadata": {},
   "outputs": [],
   "source": [
    "label_text(text_data[4])"
   ]
  },
  {
   "cell_type": "markdown",
   "id": "51f4ce9f",
   "metadata": {},
   "source": [
    "### Labeling images"
   ]
  },
  {
   "cell_type": "code",
   "execution_count": null,
   "id": "9008bade",
   "metadata": {},
   "outputs": [],
   "source": [
    "# Downsample and encode\n",
    "def encode_image_base64(img):\n",
    "    with open(img, \"rb\") as image_file:\n",
    "        return base64.b64encode(image_file.read()).decode('utf-8')"
   ]
  },
  {
   "cell_type": "code",
   "execution_count": null,
   "id": "55caa453",
   "metadata": {},
   "outputs": [],
   "source": [
    "# Function to read, resize, and encode an image in base64\n",
    "def process_image(image_path, new_size=(128, 128)):\n",
    "    with Image.open(image_path) as img:\n",
    "        img = img.resize(new_size)\n",
    "        buffered = BytesIO()\n",
    "        img.save(buffered, format=\"JPEG\") \n",
    "        img_base64 = base64.b64encode(buffered.getvalue()).decode(\"utf-8\")\n",
    "    return img_base64"
   ]
  },
  {
   "cell_type": "code",
   "execution_count": null,
   "id": "da4d7533",
   "metadata": {},
   "outputs": [],
   "source": []
  },
  {
   "cell_type": "code",
   "execution_count": null,
   "id": "18405386",
   "metadata": {},
   "outputs": [],
   "source": [
    "img     = \"data/Keggy_the_Keg.jpeg\"\n",
    "encoded = []\n",
    "for f in glob.glob(\"data/*.jpg\"):\n",
    "    encoded.append(process_image(f))"
   ]
  },
  {
   "cell_type": "code",
   "execution_count": null,
   "id": "47341dc2",
   "metadata": {},
   "outputs": [],
   "source": [
    "img_jpg = mpimg.imread(img)\n",
    "plt.imshow(img_jpg)\n",
    "# plt.axis('off')  # Hide axes for a cleaner look\n",
    "# plt.show()"
   ]
  },
  {
   "cell_type": "code",
   "execution_count": null,
   "id": "b536b060",
   "metadata": {},
   "outputs": [],
   "source": [
    "glob.glob(\"data/*.jpg\")"
   ]
  },
  {
   "cell_type": "code",
   "execution_count": null,
   "id": "2203e76f",
   "metadata": {},
   "outputs": [],
   "source": [
    "## Define these upfront\n",
    "prompt = \"\"\"\n",
    "        This is an image that I want to upload. Describe what is in it.\n",
    "            Please also provide the probability that the image contains a keg. \n",
    "            Please also provide the probability that the image contains a human. \n",
    "            What is the dominant color?\n",
    "            Please separate the response for each image with '$'.\n",
    "\"\"\"\n",
    "\n",
    "# Create the prompt messages\n",
    "messages = [\n",
    "    {\n",
    "        \"role\": \"user\",\n",
    "        \"content\": [\n",
    "            (prompt),\n",
    "            *map(lambda x: {\"image\": x, \"resize\": 768}, encoded),\n",
    "        ],\n",
    "    },\n",
    "]\n",
    "\n",
    "# Define the parameters for the API call\n",
    "params = {\n",
    "    \"model\": \"gpt-4-turbo\",\n",
    "    \"messages\": messages,\n",
    "    \"max_tokens\": 1500,\n",
    "}\n",
    "\n",
    "response = openai.ChatCompletion.create(**params)\n",
    "label = response.choices[0].message.content"
   ]
  },
  {
   "cell_type": "code",
   "execution_count": null,
   "id": "1c9a06ae",
   "metadata": {},
   "outputs": [],
   "source": []
  },
  {
   "cell_type": "markdown",
   "id": "4eb529bb",
   "metadata": {},
   "source": [
    "## JSON Processing for labeling"
   ]
  },
  {
   "cell_type": "code",
   "execution_count": null,
   "id": "688a52f8",
   "metadata": {},
   "outputs": [],
   "source": [
    "label_system_prompt = '''\n",
    "As a political researcher analyzing U.S. elections, your goal is to evaluate the political standpoint expressed in a provided post. \n",
    "Each indicator should represent whether the post supports or opposes various political figures or parties.\n",
    "Based on the post's content, you will need to output a JSON object containing various binary indicators (0 or 1) reflecting specific conditions:\n",
    "\n",
    "{\n",
    "    pro_democrat: int, // Set to 1 if the post supports the Democratic party, otherwise 0,\n",
    "    against_democrat: int, // Set to 1 if the post opposes the Democratic party, otherwise 0,\n",
    "    pro_republican: int, // Set to 1 if the post supports the Republican party, otherwise 0,\n",
    "    against_republican: int, // Set to 1 if the post opposes the Republican party, otherwise 0,\n",
    "    pro_biden: int, // Set to 1 if the post supports Joe Biden, otherwise 0,\n",
    "    against_biden: int, // Set to 1 if the post opposes Joe Biden, otherwise 0,\n",
    "    pro_trump: int, // Set to 1 if the post supports Donald Trump, otherwise 0,\n",
    "    against_trump: int, // Set to 1 if the post opposes Donald Trump, otherwise 0,\n",
    "    pro_kamala: int, // Set to 1 if the post supports Kamala Harris, otherwise 0,\n",
    "    against_kamala: int // Set to 1 if the post opposes Kamala Harris, otherwise 0\n",
    "}\n",
    "'''"
   ]
  },
  {
   "cell_type": "code",
   "execution_count": null,
   "id": "0e26c70c",
   "metadata": {},
   "outputs": [],
   "source": [
    "# Function to Label Text Using ChatGPT (Zero-Shot)\n",
    "def label_text_json(text):\n",
    "    response = openai.ChatCompletion.create(\n",
    "        model=\"gpt-4\",\n",
    "        messages=[\n",
    "            {\"role\": \"system\", \"content\": label_system_prompt},\n",
    "            {\"role\": \"user\", \"content\": f\"Please label the following text: '{text}'\"}\n",
    "        ]\n",
    "    )\n",
    "    label = response['choices'][0]['message']['content']\n",
    "    return label.split(\"\\n\\nJSON object:\\n\")[-1]"
   ]
  },
  {
   "cell_type": "code",
   "execution_count": null,
   "id": "e4d53a3d",
   "metadata": {},
   "outputs": [],
   "source": [
    "text_data = [\n",
    "    \"The big dog is playing in the park.\",\n",
    "    \"My chef is making instant pork ramen for me in the kitchen.\",\n",
    "    \"The frat brothers are in the animal house.\",\n",
    "    \"Kamala Harris is great and in a two-way horse race.\",\n",
    "    \"Trump is lovely and said immigrants eat pets.\"\n",
    "]"
   ]
  },
  {
   "cell_type": "code",
   "execution_count": null,
   "id": "068f6734",
   "metadata": {},
   "outputs": [],
   "source": [
    "label = label_text_json(text_data[2])"
   ]
  },
  {
   "cell_type": "code",
   "execution_count": null,
   "id": "63605cc2",
   "metadata": {},
   "outputs": [],
   "source": [
    "json.loads(label)"
   ]
  },
  {
   "cell_type": "markdown",
   "id": "fa68b138",
   "metadata": {},
   "source": [
    "## Your turn"
   ]
  },
  {
   "cell_type": "markdown",
   "id": "7e70607e",
   "metadata": {},
   "source": [
    "Download 10 images of your choice, into a folder in the same directory as your notebook. The goal will be to combine structured JSON format with image labeling. \n",
    "* After downloading the images, use glob.glob to load your images into a list or dataframe.\n",
    "* Decide on three to five things you want to label, then structure an image prompt using JSON format\n",
    "* Test the prompt on one image. Your call should return a json, which you should convert into a dictionary.\n",
    "* Iterate through all images, then save your results into a dataframe. Your columns should be the image_path and then the labels you imposed.\n",
    "\n",
    "Check to see how much this costs on your interface."
   ]
  },
  {
   "cell_type": "code",
   "execution_count": null,
   "id": "6d704d07",
   "metadata": {},
   "outputs": [],
   "source": []
  },
  {
   "cell_type": "code",
   "execution_count": null,
   "id": "7ab9e43a",
   "metadata": {},
   "outputs": [],
   "source": []
  },
  {
   "cell_type": "markdown",
   "id": "1f469d91",
   "metadata": {},
   "source": [
    "# Extend to your final project"
   ]
  },
  {
   "cell_type": "markdown",
   "id": "bc407802",
   "metadata": {},
   "source": [
    "Once you are comfortable with the baby example, try out your labeling process for your final projects. I suggest trying it on 1000 rows as practice and to gauge the damage to your wallet."
   ]
  },
  {
   "cell_type": "code",
   "execution_count": null,
   "id": "170e2574",
   "metadata": {},
   "outputs": [],
   "source": []
  },
  {
   "cell_type": "code",
   "execution_count": null,
   "id": "af809ae4",
   "metadata": {},
   "outputs": [],
   "source": []
  },
  {
   "cell_type": "code",
   "execution_count": null,
   "id": "efb2cfd2",
   "metadata": {},
   "outputs": [],
   "source": []
  },
  {
   "cell_type": "code",
   "execution_count": null,
   "id": "9bf5dc81",
   "metadata": {},
   "outputs": [],
   "source": []
  }
 ],
 "metadata": {
  "kernelspec": {
   "display_name": "Python 3 (ipykernel)",
   "language": "python",
   "name": "python3"
  },
  "language_info": {
   "codemirror_mode": {
    "name": "ipython",
    "version": 3
   },
   "file_extension": ".py",
   "mimetype": "text/x-python",
   "name": "python",
   "nbconvert_exporter": "python",
   "pygments_lexer": "ipython3",
   "version": "3.11.8"
  }
 },
 "nbformat": 4,
 "nbformat_minor": 5
}
