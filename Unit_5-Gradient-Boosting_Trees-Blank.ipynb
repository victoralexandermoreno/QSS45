{
 "cells": [
  {
   "cell_type": "code",
   "execution_count": 161,
   "id": "2b3d89d2",
   "metadata": {},
   "outputs": [],
   "source": [
    "import seaborn as sns\n",
    "import pandas as pd\n",
    "from sklearn.model_selection import train_test_split\n",
    "from sklearn.metrics import accuracy_score, classification_report\n",
    "from catboost import CatBoostClassifier\n",
    "import numpy as np\n",
    "import pandas as pd\n",
    "import matplotlib.pyplot as plt\n",
    "import seaborn as sns\n",
    "from sklearn.model_selection import train_test_split\n",
    "from sklearn.preprocessing import LabelEncoder\n",
    "from sklearn.tree import DecisionTreeClassifier, DecisionTreeRegressor\n",
    "import time\n",
    "from sklearn.ensemble import RandomForestClassifier, RandomForestRegressor\n",
    "from sklearn.metrics import accuracy_score, classification_report, confusion_matrix\n",
    "\n"
   ]
  },
  {
   "cell_type": "markdown",
   "id": "49c460d8-8ccc-4c6c-be9b-f16b0115e329",
   "metadata": {},
   "source": [
    "# Same features"
   ]
  },
  {
   "cell_type": "markdown",
   "id": "976bc75a-c792-45ab-9b69-29c44c807b91",
   "metadata": {},
   "source": [
    "We will train a CatBoost model on the Titanic dataset."
   ]
  },
  {
   "cell_type": "code",
   "execution_count": 75,
   "id": "3aa66b1f",
   "metadata": {},
   "outputs": [],
   "source": [
    "titanic = sns.load_dataset('titanic')\n",
    "titanic['age'].fillna(titanic['age'].median(), inplace=True)\n",
    "titanic.drop(columns=['who', 'embarked', 'parch', 'fare', 'deck', 'embark_town', 'alive',\"alone\"], inplace=True)"
   ]
  },
  {
   "cell_type": "code",
   "execution_count": 77,
   "id": "d0114e97",
   "metadata": {},
   "outputs": [],
   "source": [
    "X = titanic.drop(columns=['survived'])\n",
    "y = titanic['survived']\n",
    "\n",
    "cat_features = [\"sex\", \"class\"]\n",
    "\n",
    "X_train, X_test, y_train, y_test = train_test_split(X, y, test_size=0.2, random_state=42)"
   ]
  },
  {
   "cell_type": "code",
   "execution_count": 78,
   "id": "ce99c4d0",
   "metadata": {},
   "outputs": [
    {
     "data": {
      "application/vnd.jupyter.widget-view+json": {
       "model_id": "f99752db5c3e45a980023e27df139da2",
       "version_major": 2,
       "version_minor": 0
      },
      "text/plain": [
       "MetricVisualizer(layout=Layout(align_self='stretch', height='500px'))"
      ]
     },
     "metadata": {},
     "output_type": "display_data"
    },
    {
     "name": "stdout",
     "output_type": "stream",
     "text": [
      "0:\tlearn: 0.6580557\ttest: 0.6605953\tbest: 0.6605953 (0)\ttotal: 3.15ms\tremaining: 3.14s\n",
      "100:\tlearn: 0.3623712\ttest: 0.4389407\tbest: 0.4342884 (54)\ttotal: 149ms\tremaining: 1.33s\n",
      "200:\tlearn: 0.3290721\ttest: 0.4464352\tbest: 0.4342884 (54)\ttotal: 304ms\tremaining: 1.21s\n",
      "300:\tlearn: 0.2948500\ttest: 0.4622076\tbest: 0.4342884 (54)\ttotal: 461ms\tremaining: 1.07s\n",
      "400:\tlearn: 0.2705016\ttest: 0.4815637\tbest: 0.4342884 (54)\ttotal: 625ms\tremaining: 934ms\n",
      "500:\tlearn: 0.2543097\ttest: 0.4819783\tbest: 0.4342884 (54)\ttotal: 810ms\tremaining: 806ms\n",
      "600:\tlearn: 0.2365760\ttest: 0.5020827\tbest: 0.4342884 (54)\ttotal: 999ms\tremaining: 663ms\n",
      "700:\tlearn: 0.2223127\ttest: 0.5150031\tbest: 0.4342884 (54)\ttotal: 1.2s\tremaining: 511ms\n",
      "800:\tlearn: 0.2089500\ttest: 0.5183471\tbest: 0.4342884 (54)\ttotal: 1.39s\tremaining: 344ms\n",
      "900:\tlearn: 0.1998820\ttest: 0.5337496\tbest: 0.4342884 (54)\ttotal: 1.56s\tremaining: 172ms\n",
      "999:\tlearn: 0.1909176\ttest: 0.5398363\tbest: 0.4342884 (54)\ttotal: 1.76s\tremaining: 0us\n",
      "\n",
      "bestTest = 0.4342883903\n",
      "bestIteration = 54\n",
      "\n",
      "Shrink model to first 55 iterations.\n"
     ]
    },
    {
     "data": {
      "text/plain": [
       "<catboost.core.CatBoostClassifier at 0x15cf2ba90>"
      ]
     },
     "execution_count": 78,
     "metadata": {},
     "output_type": "execute_result"
    }
   ],
   "source": [
    "# Initialize CatBoost Classifier\n",
    "catboost_model = CatBoostClassifier(iterations=1000, \n",
    "                                    learning_rate=0.05, \n",
    "                                    depth=6, \n",
    "                                    verbose=100)\n",
    "\n",
    "# Train the model\n",
    "catboost_model.fit(X_train, y_train, \n",
    "                   eval_set = (X_test, y_test),\n",
    "                   cat_features=cat_features,plot=True)"
   ]
  },
  {
   "cell_type": "code",
   "execution_count": 79,
   "id": "c360a829",
   "metadata": {},
   "outputs": [
    {
     "name": "stdout",
     "output_type": "stream",
     "text": [
      "CatBoost Accuracy: 0.8212\n",
      "              precision    recall  f1-score   support\n",
      "\n",
      "           0       0.80      0.92      0.86       105\n",
      "           1       0.86      0.68      0.76        74\n",
      "\n",
      "    accuracy                           0.82       179\n",
      "   macro avg       0.83      0.80      0.81       179\n",
      "weighted avg       0.83      0.82      0.82       179\n",
      "\n"
     ]
    }
   ],
   "source": [
    "# Make predictions\n",
    "y_pred_cb = catboost_model.predict(X_test)\n",
    "\n",
    "# Evaluate the Cat_boost\n",
    "cb_accuracy = accuracy_score(y_test, y_pred_cb)\n",
    "print(f\"CatBoost Accuracy: {cb_accuracy:.4f}\")\n",
    "print(classification_report(y_test, y_pred_cb))"
   ]
  },
  {
   "cell_type": "code",
   "execution_count": null,
   "id": "6204adfe-1e30-478d-bb56-3a7ae8b39d2f",
   "metadata": {},
   "outputs": [],
   "source": []
  },
  {
   "cell_type": "code",
   "execution_count": null,
   "id": "47b9e076-d0f6-4e21-a088-0889307eedf0",
   "metadata": {},
   "outputs": [],
   "source": []
  },
  {
   "cell_type": "markdown",
   "id": "adeb9c69-bd13-46f1-9d79-bb9c26cf4ba2",
   "metadata": {},
   "source": [
    "# Other features"
   ]
  },
  {
   "cell_type": "markdown",
   "id": "f97d5726-fe86-4a75-b3c8-661c65c35929",
   "metadata": {},
   "source": [
    "Try adding other categorical features. Does your accuracy improve?"
   ]
  },
  {
   "cell_type": "code",
   "execution_count": 142,
   "id": "f194be3e-b5e4-47e1-bc61-91592bcd4ea0",
   "metadata": {},
   "outputs": [],
   "source": [
    "titanic = sns.load_dataset('titanic')\n",
    "titanic['age'].fillna(titanic['age'].median(), inplace=True)\n",
    "# Manipulate the columns that you add"
   ]
  },
  {
   "cell_type": "code",
   "execution_count": null,
   "id": "e994d51f-c21c-4f0a-b98d-2f5a57f2c47f",
   "metadata": {},
   "outputs": [],
   "source": []
  },
  {
   "cell_type": "code",
   "execution_count": null,
   "id": "f073969a-9fb4-414d-8e20-cb264a9b745d",
   "metadata": {},
   "outputs": [],
   "source": []
  },
  {
   "cell_type": "markdown",
   "id": "5f30d476-178a-4a17-93d3-66134be5bc40",
   "metadata": {},
   "source": [
    "# Regression"
   ]
  },
  {
   "cell_type": "markdown",
   "id": "e8439914-dc2e-4813-9622-2aba44171d49",
   "metadata": {},
   "source": [
    "### Now, try doing regression instead of classification. \n",
    "Using the California housing dataset, train regression models using Decision Trees, Random Forest, and CatBoost. Then, plot them using sns.regplot. If the points are annoying, set scatter = False. What are their R2?"
   ]
  },
  {
   "cell_type": "code",
   "execution_count": 146,
   "id": "c7d49086-4b2b-4543-9dfc-b5f8f5488646",
   "metadata": {},
   "outputs": [],
   "source": [
    "# Import necessary libraries\n",
    "from catboost import CatBoostRegressor\n",
    "from sklearn.datasets import fetch_california_housing\n",
    "from sklearn.model_selection import train_test_split\n",
    "from sklearn.metrics import mean_squared_error\n",
    "import pandas as pd\n",
    "\n",
    "# Load the California housing dataset\n",
    "data = fetch_california_housing()\n",
    "X = pd.DataFrame(data.data, columns=data.feature_names)\n",
    "y = data.target\n",
    "\n"
   ]
  },
  {
   "cell_type": "code",
   "execution_count": null,
   "id": "1dd3eb93-2f9e-4945-afe7-c695c868b1f0",
   "metadata": {},
   "outputs": [],
   "source": []
  },
  {
   "cell_type": "code",
   "execution_count": null,
   "id": "ba44ad5a-f797-4768-ad95-36a410180eaa",
   "metadata": {},
   "outputs": [],
   "source": []
  },
  {
   "cell_type": "code",
   "execution_count": null,
   "id": "972d7d61",
   "metadata": {},
   "outputs": [],
   "source": []
  },
  {
   "cell_type": "code",
   "execution_count": null,
   "id": "4cf0f6d1",
   "metadata": {},
   "outputs": [],
   "source": []
  },
  {
   "cell_type": "code",
   "execution_count": null,
   "id": "5eadb046",
   "metadata": {},
   "outputs": [],
   "source": []
  }
 ],
 "metadata": {
  "kernelspec": {
   "display_name": "Python 3 (ipykernel)",
   "language": "python",
   "name": "python3"
  },
  "language_info": {
   "codemirror_mode": {
    "name": "ipython",
    "version": 3
   },
   "file_extension": ".py",
   "mimetype": "text/x-python",
   "name": "python",
   "nbconvert_exporter": "python",
   "pygments_lexer": "ipython3",
   "version": "3.10.13"
  }
 },
 "nbformat": 4,
 "nbformat_minor": 5
}
