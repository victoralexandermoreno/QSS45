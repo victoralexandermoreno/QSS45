{
 "cells": [
  {
   "cell_type": "code",
   "execution_count": 1,
   "id": "eb5d63b4",
   "metadata": {},
   "outputs": [],
   "source": [
    "from ucimlrepo import fetch_ucirepo \n",
    "import pandas as pd\n",
    "import statsmodels.api as sm\n",
    "\n",
    "from sklearn.datasets import fetch_california_housing\n",
    "import matplotlib.pyplot as plt\n",
    "\n",
    "import seaborn as sns\n",
    "\n",
    "from sklearn.model_selection import train_test_split\n",
    "from statsmodels.miscmodels.ordinal_model import OrderedModel"
   ]
  },
  {
   "cell_type": "markdown",
   "id": "6eb02346",
   "metadata": {},
   "source": [
    "# Processing OLS"
   ]
  },
  {
   "cell_type": "markdown",
   "id": "160e3202",
   "metadata": {},
   "source": [
    "In this first section, we will construct a linear model of to predict the household prices of California from the 1990s."
   ]
  },
  {
   "cell_type": "code",
   "execution_count": 7,
   "id": "da7fb158",
   "metadata": {},
   "outputs": [],
   "source": [
    "california = fetch_california_housing()\n",
    "\n",
    "df = pd.DataFrame(california.data, columns=california.feature_names)\n",
    "\n",
    "df['MedHouseVal'] = california.target"
   ]
  },
  {
   "cell_type": "code",
   "execution_count": 9,
   "id": "29a83f05",
   "metadata": {},
   "outputs": [],
   "source": [
    "# Define the independent variables\n",
    "X = df[[\"MedInc\", \"HouseAge\", \"AveRooms\", \"AveBedrms\", \"Population\", \"AveOccup\"]]\n",
    "\n",
    "# Define the dependent variable \n",
    "y = df['MedHouseVal']\n",
    "\n",
    "# Add a constant (intercept)\n",
    "X = sm.add_constant(X)"
   ]
  },
  {
   "cell_type": "code",
   "execution_count": 10,
   "id": "bb463e9f",
   "metadata": {},
   "outputs": [],
   "source": [
    "# Fit the OLS regression model\n",
    "ols_model = sm.OLS(y, X)\n",
    "ols_results = ols_model.fit()"
   ]
  },
  {
   "cell_type": "code",
   "execution_count": 11,
   "id": "ad3baa75",
   "metadata": {
    "scrolled": false
   },
   "outputs": [
    {
     "name": "stdout",
     "output_type": "stream",
     "text": [
      "                            OLS Regression Results                            \n",
      "==============================================================================\n",
      "Dep. Variable:            MedHouseVal   R-squared:                       0.540\n",
      "Model:                            OLS   Adj. R-squared:                  0.540\n",
      "Method:                 Least Squares   F-statistic:                     4032.\n",
      "Date:                Thu, 19 Sep 2024   Prob (F-statistic):               0.00\n",
      "Time:                        15:31:25   Log-Likelihood:                -24235.\n",
      "No. Observations:               20640   AIC:                         4.848e+04\n",
      "Df Residuals:                   20633   BIC:                         4.854e+04\n",
      "Df Model:                           6                                         \n",
      "Covariance Type:            nonrobust                                         \n",
      "==============================================================================\n",
      "                 coef    std err          t      P>|t|      [0.025      0.975]\n",
      "------------------------------------------------------------------------------\n",
      "const         -0.4391      0.028    -15.918      0.000      -0.493      -0.385\n",
      "MedInc         0.5369      0.004    130.183      0.000       0.529       0.545\n",
      "HouseAge       0.0165      0.000     35.571      0.000       0.016       0.017\n",
      "AveRooms      -0.2117      0.006    -35.237      0.000      -0.224      -0.200\n",
      "AveBedrms      0.9937      0.030     33.669      0.000       0.936       1.052\n",
      "Population  2.211e-05    5.1e-06      4.337      0.000    1.21e-05    3.21e-05\n",
      "AveOccup      -0.0049      0.001     -9.262      0.000      -0.006      -0.004\n",
      "==============================================================================\n",
      "Omnibus:                     4480.630   Durbin-Watson:                   0.940\n",
      "Prob(Omnibus):                  0.000   Jarque-Bera (JB):            16778.766\n",
      "Skew:                           1.053   Prob(JB):                         0.00\n",
      "Kurtosis:                       6.883   Cond. No.                     1.16e+04\n",
      "==============================================================================\n",
      "\n",
      "Notes:\n",
      "[1] Standard Errors assume that the covariance matrix of the errors is correctly specified.\n",
      "[2] The condition number is large, 1.16e+04. This might indicate that there are\n",
      "strong multicollinearity or other numerical problems.\n"
     ]
    }
   ],
   "source": [
    "# Display the summary of the results\n",
    "print(ols_results.summary())"
   ]
  },
  {
   "cell_type": "code",
   "execution_count": 12,
   "id": "6f5a8409",
   "metadata": {},
   "outputs": [
    {
     "data": {
      "text/plain": [
       "([<matplotlib.axis.YTick at 0x7fedc8173a60>,\n",
       "  <matplotlib.axis.YTick at 0x7fedfc5b9820>,\n",
       "  <matplotlib.axis.YTick at 0x7fedfc5bf1f0>,\n",
       "  <matplotlib.axis.YTick at 0x7fede0118700>,\n",
       "  <matplotlib.axis.YTick at 0x7fede011b1f0>,\n",
       "  <matplotlib.axis.YTick at 0x7fede011bca0>,\n",
       "  <matplotlib.axis.YTick at 0x7fede011bfd0>],\n",
       " [Text(0, 0, 'const'),\n",
       "  Text(0, 1, 'AveRooms'),\n",
       "  Text(0, 2, 'AveOccup'),\n",
       "  Text(0, 3, 'Population'),\n",
       "  Text(0, 4, 'HouseAge'),\n",
       "  Text(0, 5, 'MedInc'),\n",
       "  Text(0, 6, 'AveBedrms')])"
      ]
     },
     "execution_count": 12,
     "metadata": {},
     "output_type": "execute_result"
    },
    {
     "data": {
      "image/png": "[encoded data removed]",
      "text/plain": [
       "<Figure size 432x288 with 1 Axes>"
      ]
     },
     "metadata": {
      "needs_background": "light"
     },
     "output_type": "display_data"
    }
   ],
   "source": [
    "R = ols_results.summary().tables[1].data\n",
    "R = pd.DataFrame(R)\n",
    "R.columns = R.iloc[0]\n",
    "R = R.iloc[1:]\n",
    "R[R.columns[1:]] = R[R.columns[1:]].astype(float)\n",
    "R.columns = [\"vari\", \"coef\", \"std_err\", \"t\", \"p_val\", \"low_b\", \"up_b\" ]\n",
    "\n",
    "R = R.sort_values(\"coef\", ascending = True)\n",
    "R = R.reset_index(drop=True)\n",
    "\n",
    "p = 0.1\n",
    "R[\"alpha\"] = (R.p_val < 0.05 ) * (1-p) + p\n",
    "\n",
    "plt.hlines(R.index, R.low_b, R.up_b, alpha = R.alpha)\n",
    "plt.scatter(R.coef, R.index, alpha = R.alpha)\n",
    "\n",
    "plt.vlines(0,0-1,len(R), linestyle=\"--\", color = \"black\")\n",
    "\n",
    "plt.yticks(R.index,R.vari, fontsize=16)"
   ]
  },
  {
   "cell_type": "code",
   "execution_count": null,
   "id": "2c890c4d",
   "metadata": {},
   "outputs": [],
   "source": []
  },
  {
   "cell_type": "markdown",
   "id": "19466b9d",
   "metadata": {},
   "source": [
    "# Logistic Regression"
   ]
  },
  {
   "cell_type": "markdown",
   "id": "6e7a651a",
   "metadata": {},
   "source": [
    "Your turn: Using the Titanic dataset and the variables below, created a logistic regression model for whether individuals survived or not.\n",
    "* IVs: 'pclass', 'age', \"sibsp\", \"fare\", \"adult_male\"\n",
    "* DV: \"survived\""
   ]
  },
  {
   "cell_type": "code",
   "execution_count": 87,
   "id": "024eb181",
   "metadata": {},
   "outputs": [],
   "source": [
    "# Load the Titanic dataset\n",
    "df = sns.load_dataset('titanic')"
   ]
  },
  {
   "cell_type": "code",
   "execution_count": 88,
   "id": "49263396",
   "metadata": {},
   "outputs": [],
   "source": [
    "x_cols = ['pclass', 'age', \n",
    "          \"sibsp\", \"fare\", \"adult_male\"\n",
    "         ]\n",
    "y_col  = \"survived\"\n",
    "\n",
    "df = df[x_cols+[y_col]].dropna()"
   ]
  },
  {
   "cell_type": "code",
   "execution_count": 89,
   "id": "dedb9394",
   "metadata": {},
   "outputs": [],
   "source": [
    "# Define the dependent variable (Survived) and independent variables (Pclass, Age)\n",
    "X = df[x_cols]\n",
    "y = df[y_col]\n",
    "\n",
    "# Add a constant (intercept)\n",
    "X = sm.add_constant(X)"
   ]
  },
  {
   "cell_type": "code",
   "execution_count": 90,
   "id": "d8c75e95",
   "metadata": {},
   "outputs": [],
   "source": [
    "X.adult_male = X.adult_male.astype(int)"
   ]
  },
  {
   "cell_type": "code",
   "execution_count": 91,
   "id": "0a0a117f",
   "metadata": {},
   "outputs": [
    {
     "name": "stdout",
     "output_type": "stream",
     "text": [
      "Optimization terminated successfully.\n",
      "         Current function value: 0.422273\n",
      "         Iterations 6\n",
      "                           Logit Regression Results                           \n",
      "==============================================================================\n",
      "Dep. Variable:               survived   No. Observations:                  714\n",
      "Model:                          Logit   Df Residuals:                      708\n",
      "Method:                           MLE   Df Model:                            5\n",
      "Date:                Thu, 19 Sep 2024   Pseudo R-squ.:                  0.3748\n",
      "Time:                        18:07:04   Log-Likelihood:                -301.50\n",
      "converged:                       True   LL-Null:                       -482.26\n",
      "Covariance Type:            nonrobust   LLR p-value:                 5.819e-76\n",
      "==============================================================================\n",
      "                 coef    std err          z      P>|z|      [0.025      0.975]\n",
      "------------------------------------------------------------------------------\n",
      "const          5.0049      0.606      8.253      0.000       3.816       6.194\n",
      "pclass        -1.2419      0.167     -7.426      0.000      -1.570      -0.914\n",
      "age           -0.0261      0.008     -3.105      0.002      -0.042      -0.010\n",
      "sibsp         -0.6130      0.120     -5.130      0.000      -0.847      -0.379\n",
      "fare           0.0023      0.002      0.939      0.348      -0.002       0.007\n",
      "adult_male    -3.0298      0.236    -12.828      0.000      -3.493      -2.567\n",
      "==============================================================================\n"
     ]
    }
   ],
   "source": [
    "# Create and fit the logistic regression model\n",
    "logit_model = sm.Logit(y, X)\n",
    "logit_results = logit_model.fit()\n",
    "\n",
    "# Display the summary of the logistic regression results\n",
    "print(logit_results.summary())"
   ]
  },
  {
   "cell_type": "code",
   "execution_count": 94,
   "id": "f47bdd2c",
   "metadata": {},
   "outputs": [
    {
     "name": "stdout",
     "output_type": "stream",
     "text": [
      "Predicted probability of survival: 0.93\n"
     ]
    }
   ],
   "source": [
    "# Predict survival probability for different people\n",
    "new_passenger = pd.DataFrame({\"const\":[1], 'pclass': [3], 'age': [10],\n",
    "                              \"sibsp\":[0], \"fare\":[700], \"adult_male\":[0],\n",
    "                             })\n",
    "\n",
    "# Predict the probability of survival\n",
    "predicted_prob = logit_results.predict(new_passenger)\n",
    "print(f\"Predicted probability of survival: {predicted_prob[0]:.2f}\")"
   ]
  },
  {
   "cell_type": "code",
   "execution_count": 19,
   "id": "fe7098a5",
   "metadata": {
    "scrolled": false
   },
   "outputs": [
    {
     "data": {
      "text/plain": [
       "([<matplotlib.axis.YTick at 0x7fede9b37d60>,\n",
       "  <matplotlib.axis.YTick at 0x7fede9b37820>,\n",
       "  <matplotlib.axis.YTick at 0x7fede9b32b80>,\n",
       "  <matplotlib.axis.YTick at 0x7fedc805afd0>,\n",
       "  <matplotlib.axis.YTick at 0x7fedc8064ac0>,\n",
       "  <matplotlib.axis.YTick at 0x7fedf9a14790>],\n",
       " [Text(0, 0, 'adult_male'),\n",
       "  Text(0, 1, 'pclass'),\n",
       "  Text(0, 2, 'sibsp'),\n",
       "  Text(0, 3, 'age'),\n",
       "  Text(0, 4, 'fare'),\n",
       "  Text(0, 5, 'const')])"
      ]
     },
     "execution_count": 19,
     "metadata": {},
     "output_type": "execute_result"
    },
    {
     "data": {
      "image/png": "[encoded data removed]",
      "text/plain": [
       "<Figure size 432x288 with 1 Axes>"
      ]
     },
     "metadata": {
      "needs_background": "light"
     },
     "output_type": "display_data"
    }
   ],
   "source": [
    "R = logit_results.summary().tables[1].data\n",
    "R = pd.DataFrame(R)\n",
    "R.columns = R.iloc[0]\n",
    "R = R.iloc[1:]\n",
    "R[R.columns[1:]] = R[R.columns[1:]].astype(float)\n",
    "R.columns = [\"vari\", \"coef\", \"std_err\", \"t\", \"p_val\", \"low_b\", \"up_b\" ]\n",
    "\n",
    "R = R.sort_values(\"coef\", ascending = True)\n",
    "R = R.reset_index(drop=True)\n",
    "\n",
    "p = 0.1\n",
    "R[\"alpha\"] = (R.p_val < 0.05 ) * (1-p) + p\n",
    "\n",
    "plt.hlines(R.index, R.low_b, R.up_b, alpha = R.alpha)\n",
    "plt.scatter(R.coef, R.index, alpha = R.alpha)\n",
    "\n",
    "plt.vlines(0,0-1,len(R), linestyle=\"--\", color = \"black\")\n",
    "\n",
    "plt.yticks(R.index,R.vari, fontsize=16)"
   ]
  },
  {
   "cell_type": "code",
   "execution_count": null,
   "id": "14d342f6",
   "metadata": {},
   "outputs": [],
   "source": []
  },
  {
   "cell_type": "markdown",
   "id": "36557648",
   "metadata": {},
   "source": [
    "## In-class or home practice: Multinomial Regression"
   ]
  },
  {
   "cell_type": "markdown",
   "id": "bb546226",
   "metadata": {},
   "source": [
    "The UCI dataset with ID 109 is the Wine Quality Dataset, which contains information about different types of wines, including several chemical properties and a quality rating. Since the quality ratings are on a scale from 0 to 10, this dataset is ideal for multinomial logistic regression, where the goal is to predict the quality of wine based on its chemical properties."
   ]
  },
  {
   "cell_type": "markdown",
   "id": "f6bf7480",
   "metadata": {},
   "source": [
    "For this exercise, you will want to use sm.MNLogit"
   ]
  },
  {
   "cell_type": "code",
   "execution_count": 29,
   "id": "32ad5537",
   "metadata": {},
   "outputs": [],
   "source": [
    "# fetch dataset \n",
    "wine = fetch_ucirepo(id=109) \n",
    "  \n",
    "# data (as pandas dataframes) \n",
    "X = wine.data.features \n",
    "X = X[['Alcohol', 'Malicacid', 'Ash', 'Total_phenols']]\n",
    "y = wine.data.targets "
   ]
  },
  {
   "cell_type": "code",
   "execution_count": null,
   "id": "4ec4c039",
   "metadata": {},
   "outputs": [],
   "source": [
    "X = wine.data.features"
   ]
  },
  {
   "cell_type": "code",
   "execution_count": 31,
   "id": "b278b7c7",
   "metadata": {},
   "outputs": [],
   "source": [
    "X = sm.add_constant(X)"
   ]
  },
  {
   "cell_type": "code",
   "execution_count": 33,
   "id": "16d78df2",
   "metadata": {},
   "outputs": [
    {
     "name": "stdout",
     "output_type": "stream",
     "text": [
      "Optimization terminated successfully.\n",
      "         Current function value: 0.314237\n",
      "         Iterations 8\n",
      "                          MNLogit Regression Results                          \n",
      "==============================================================================\n",
      "Dep. Variable:                  class   No. Observations:                  178\n",
      "Model:                        MNLogit   Df Residuals:                      168\n",
      "Method:                           MLE   Df Model:                            8\n",
      "Date:                Thu, 19 Sep 2024   Pseudo R-squ.:                  0.7107\n",
      "Time:                        17:27:23   Log-Likelihood:                -55.934\n",
      "converged:                       True   LL-Null:                       -193.31\n",
      "Covariance Type:            nonrobust   LLR p-value:                 9.582e-55\n",
      "=================================================================================\n",
      "      class=2       coef    std err          z      P>|z|      [0.025      0.975]\n",
      "---------------------------------------------------------------------------------\n",
      "const            65.3780     11.015      5.935      0.000      43.788      86.968\n",
      "Alcohol          -4.2553      0.779     -5.459      0.000      -5.783      -2.727\n",
      "Malicacid        -0.2038      0.332     -0.613      0.540      -0.855       0.447\n",
      "Ash              -2.3234      1.284     -1.809      0.070      -4.841       0.194\n",
      "Total_phenols    -1.5603      0.886     -1.761      0.078      -3.297       0.176\n",
      "---------------------------------------------------------------------------------\n",
      "      class=3       coef    std err          z      P>|z|      [0.025      0.975]\n",
      "---------------------------------------------------------------------------------\n",
      "const             8.5070     12.203      0.697      0.486     -15.411      32.425\n",
      "Alcohol          -0.2481      0.845     -0.293      0.769      -1.905       1.409\n",
      "Malicacid         0.6216      0.365      1.701      0.089      -0.094       1.338\n",
      "Ash               2.6874      1.568      1.714      0.087      -0.385       5.760\n",
      "Total_phenols    -5.9879      1.138     -5.261      0.000      -8.219      -3.757\n",
      "=================================================================================\n"
     ]
    }
   ],
   "source": [
    "# Create the multinomial logistic regression model\n",
    "multinomial_model = sm.MNLogit(y, X)\n",
    "\n",
    "# Fit the model to the training data\n",
    "multinomial_results = multinomial_model.fit()\n",
    "\n",
    "# Display the summary of the model results\n",
    "print(multinomial_results.summary())"
   ]
  },
  {
   "cell_type": "code",
   "execution_count": null,
   "id": "82843821",
   "metadata": {},
   "outputs": [],
   "source": []
  },
  {
   "cell_type": "code",
   "execution_count": 59,
   "id": "c992d6a2",
   "metadata": {
    "collapsed": true
   },
   "outputs": [
    {
     "data": {
      "text/plain": [
       "([<matplotlib.axis.YTick at 0x7fedb81df0a0>,\n",
       "  <matplotlib.axis.YTick at 0x7fedb81df5e0>,\n",
       "  <matplotlib.axis.YTick at 0x7fedb8299490>,\n",
       "  <matplotlib.axis.YTick at 0x7fede9b57340>,\n",
       "  <matplotlib.axis.YTick at 0x7fede9b52c10>],\n",
       " [Text(0, 0, 'Alcohol'),\n",
       "  Text(0, 1, 'Ash'),\n",
       "  Text(0, 2, 'Total_phenols'),\n",
       "  Text(0, 3, 'Malicacid'),\n",
       "  Text(0, 4, 'const')])"
      ]
     },
     "execution_count": 59,
     "metadata": {},
     "output_type": "execute_result"
    },
    {
     "data": {
      "image/png": "[encoded data removed]",
      "text/plain": [
       "<Figure size 432x288 with 1 Axes>"
      ]
     },
     "metadata": {
      "needs_background": "light"
     },
     "output_type": "display_data"
    }
   ],
   "source": [
    "R = multinomial_results.summary().tables[1].data\n",
    "R = pd.DataFrame( R[:6] )\n",
    "R.columns = R.iloc[0]\n",
    "R = R.iloc[1:]\n",
    "R[R.columns[1:]] = R[R.columns[1:]].astype(float)\n",
    "R.columns = [\"vari\", \"coef\", \"std_err\", \"t\", \"p_val\", \"low_b\", \"up_b\" ]\n",
    "\n",
    "R = R.sort_values(\"coef\", ascending = True)\n",
    "R = R.reset_index(drop=True)\n",
    "\n",
    "p = 0.1\n",
    "R[\"alpha\"] = (R.p_val < 0.05 ) * (1-p) + p\n",
    "\n",
    "plt.hlines(R.index, R.low_b, R.up_b, alpha = R.alpha)\n",
    "plt.scatter(R.coef, R.index, alpha = R.alpha)\n",
    "\n",
    "plt.vlines(0,0-1,len(R), linestyle=\"--\", color = \"black\")\n",
    "\n",
    "plt.yticks(R.index,R.vari, fontsize=16)"
   ]
  },
  {
   "cell_type": "code",
   "execution_count": 76,
   "id": "8a6b99b5",
   "metadata": {},
   "outputs": [],
   "source": [
    "R = multinomial_results.summary().tables[1].data\n",
    "R1 = pd.DataFrame( R[:6] )\n",
    "R1.columns = R1.iloc[0]\n",
    "R1 = R1.iloc[1:]\n",
    "R1[R1.columns[1:]] = R1[R1.columns[1:]].astype(float)\n",
    "R1.columns = [\"vari\", \"coef\", \"std_err\", \"t\", \"p_val\", \"low_b\", \"up_b\" ]\n",
    "# R1 = R1.iloc[1:]"
   ]
  },
  {
   "cell_type": "code",
   "execution_count": 77,
   "id": "29e2e004",
   "metadata": {},
   "outputs": [
    {
     "data": {
      "text/plain": [
       "([<matplotlib.axis.YTick at 0x7fedc9150d00>,\n",
       "  <matplotlib.axis.YTick at 0x7fedc9150580>,\n",
       "  <matplotlib.axis.YTick at 0x7fedc9155e20>,\n",
       "  <matplotlib.axis.YTick at 0x7fedd8a54a60>,\n",
       "  <matplotlib.axis.YTick at 0x7fedd8a62dc0>],\n",
       " [Text(0, 1, 'const'),\n",
       "  Text(0, 2, 'Alcohol'),\n",
       "  Text(0, 3, 'Malicacid'),\n",
       "  Text(0, 4, 'Ash'),\n",
       "  Text(0, 5, 'Total_phenols')])"
      ]
     },
     "execution_count": 77,
     "metadata": {},
     "output_type": "execute_result"
    },
    {
     "data": {
      "image/png": "[encoded data removed]",
      "text/plain": [
       "<Figure size 432x288 with 1 Axes>"
      ]
     },
     "metadata": {
      "needs_background": "light"
     },
     "output_type": "display_data"
    }
   ],
   "source": [
    "p = 0.1\n",
    "R1[\"alpha\"] = (R1.p_val < 0.05 ) * (1-p) + p\n",
    "\n",
    "plt.hlines(R1.index, R1.low_b, R1.up_b, alpha = R1.alpha)\n",
    "plt.scatter(R1.coef, R1.index, alpha = R1.alpha)\n",
    "\n",
    "plt.vlines(0,0-1,len(R1), linestyle=\"--\", color = \"black\")\n",
    "\n",
    "plt.yticks(R1.index,R1.vari, fontsize=16)"
   ]
  },
  {
   "cell_type": "code",
   "execution_count": 78,
   "id": "b0ccfb4b",
   "metadata": {},
   "outputs": [],
   "source": [
    "R2 = pd.DataFrame( R[6:] )\n",
    "R2.columns = R2.iloc[0]\n",
    "R2 = R2.iloc[1:]\n",
    "R2[R2.columns[1:]] = R2[R2.columns[1:]].astype(float)\n",
    "R2.columns = [\"vari\", \"coef\", \"std_err\", \"t\", \"p_val\", \"low_b\", \"up_b\" ]"
   ]
  },
  {
   "cell_type": "code",
   "execution_count": 84,
   "id": "0757d486",
   "metadata": {},
   "outputs": [
    {
     "data": {
      "text/plain": [
       "<matplotlib.legend.Legend at 0x7fede03635e0>"
      ]
     },
     "execution_count": 84,
     "metadata": {},
     "output_type": "execute_result"
    },
    {
     "data": {
      "image/png": "[encoded data removed]",
      "text/plain": [
       "<Figure size 432x288 with 1 Axes>"
      ]
     },
     "metadata": {
      "needs_background": "light"
     },
     "output_type": "display_data"
    }
   ],
   "source": [
    "p = 0.1\n",
    "R2[\"alpha\"] = (R2.p_val < 0.05 ) * (1-p) + p\n",
    "\n",
    "plt.hlines(R2.index, R2.low_b, R2.up_b, alpha = R2.alpha)\n",
    "plt.scatter(R2.coef, R2.index, label=\"class 2\")\n",
    "\n",
    "plt.vlines(0,0-1,len(R2), linestyle=\"--\", color = \"black\")\n",
    "\n",
    "plt.yticks(R2.index,R2.vari, fontsize=16)\n",
    "\n",
    "plt.hlines(R1.index, R1.low_b, R1.up_b, alpha = R1.alpha, color=\"red\")\n",
    "plt.scatter(R1.coef, R1.index, alpha = R1.alpha, color=\"red\", label=\"class 3\")\n",
    "\n",
    "\n",
    "plt.yticks(R1.index,R1.vari, fontsize=16)\n",
    "\n",
    "plt.legend()"
   ]
  },
  {
   "cell_type": "code",
   "execution_count": null,
   "id": "addbae2f",
   "metadata": {},
   "outputs": [],
   "source": []
  }
 ],
 "metadata": {
  "kernelspec": {
   "display_name": "Python 3 (ipykernel)",
   "language": "python",
   "name": "python3"
  },
  "language_info": {
   "codemirror_mode": {
    "name": "ipython",
    "version": 3
   },
   "file_extension": ".py",
   "mimetype": "text/x-python",
   "name": "python",
   "nbconvert_exporter": "python",
   "pygments_lexer": "ipython3",
   "version": "3.9.12"
  }
 },
 "nbformat": 4,
 "nbformat_minor": 5
}
