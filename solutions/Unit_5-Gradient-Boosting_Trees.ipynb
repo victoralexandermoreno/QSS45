{
 "cells": [
  {
   "cell_type": "code",
   "execution_count": 161,
   "id": "2b3d89d2",
   "metadata": {},
   "outputs": [],
   "source": [
    "import seaborn as sns\n",
    "import pandas as pd\n",
    "from sklearn.model_selection import train_test_split\n",
    "from sklearn.metrics import accuracy_score, classification_report\n",
    "from catboost import CatBoostClassifier\n",
    "import numpy as np\n",
    "import pandas as pd\n",
    "import matplotlib.pyplot as plt\n",
    "import seaborn as sns\n",
    "from sklearn.model_selection import train_test_split\n",
    "from sklearn.preprocessing import LabelEncoder\n",
    "from sklearn.tree import DecisionTreeClassifier, DecisionTreeRegressor\n",
    "import time\n",
    "from sklearn.ensemble import RandomForestClassifier, RandomForestRegressor\n",
    "from sklearn.metrics import accuracy_score, classification_report, confusion_matrix"
   ]
  },
  {
   "cell_type": "markdown",
   "id": "49c460d8-8ccc-4c6c-be9b-f16b0115e329",
   "metadata": {},
   "source": [
    "# Same features"
   ]
  },
  {
   "cell_type": "markdown",
   "id": "976bc75a-c792-45ab-9b69-29c44c807b91",
   "metadata": {},
   "source": [
    "We will train a CatBoost model on the Titanic dataset."
   ]
  },
  {
   "cell_type": "code",
   "execution_count": 167,
   "id": "3aa66b1f",
   "metadata": {},
   "outputs": [],
   "source": [
    "titanic = sns.load_dataset('titanic')\n",
    "titanic['age'].fillna(titanic['age'].median(), inplace=True)"
   ]
  },
  {
   "cell_type": "code",
   "execution_count": 168,
   "id": "cade0f1d",
   "metadata": {},
   "outputs": [],
   "source": [
    "titanic.drop(columns=['who', 'embarked', 'parch', 'fare', \n",
    "                      'deck', 'embark_town', 'alive',\"alone\"], inplace=True)"
   ]
  },
  {
   "cell_type": "code",
   "execution_count": 169,
   "id": "d0114e97",
   "metadata": {},
   "outputs": [],
   "source": [
    "X = titanic.drop(columns=['survived'])\n",
    "y = titanic['survived']\n",
    "\n",
    "cat_features = [\"sex\", \"class\"]\n",
    "\n",
    "X_train, X_test, y_train, y_test = train_test_split(X, y, test_size=0.2, random_state=42)"
   ]
  },
  {
   "cell_type": "code",
   "execution_count": 170,
   "id": "ce99c4d0",
   "metadata": {},
   "outputs": [
    {
     "data": {
      "application/vnd.jupyter.widget-view+json": {
       "model_id": "72eb7302318a44e382c2bbc62bf27c70",
       "version_major": 2,
       "version_minor": 0
      },
      "text/plain": [
       "MetricVisualizer(layout=Layout(align_self='stretch', height='500px'))"
      ]
     },
     "metadata": {},
     "output_type": "display_data"
    },
    {
     "name": "stdout",
     "output_type": "stream",
     "text": [
      "0:\tlearn: 0.6580557\ttest: 0.6605953\tbest: 0.6605953 (0)\ttotal: 12.3ms\tremaining: 12.3s\n",
      "100:\tlearn: 0.3623712\ttest: 0.4389407\tbest: 0.4342884 (54)\ttotal: 169ms\tremaining: 1.5s\n",
      "200:\tlearn: 0.3290721\ttest: 0.4464352\tbest: 0.4342884 (54)\ttotal: 324ms\tremaining: 1.29s\n",
      "300:\tlearn: 0.2948500\ttest: 0.4622076\tbest: 0.4342884 (54)\ttotal: 476ms\tremaining: 1.1s\n",
      "400:\tlearn: 0.2705016\ttest: 0.4815637\tbest: 0.4342884 (54)\ttotal: 639ms\tremaining: 954ms\n",
      "500:\tlearn: 0.2543097\ttest: 0.4819783\tbest: 0.4342884 (54)\ttotal: 810ms\tremaining: 807ms\n",
      "600:\tlearn: 0.2365760\ttest: 0.5020827\tbest: 0.4342884 (54)\ttotal: 1s\tremaining: 665ms\n",
      "700:\tlearn: 0.2223127\ttest: 0.5150031\tbest: 0.4342884 (54)\ttotal: 1.2s\tremaining: 513ms\n",
      "800:\tlearn: 0.2089500\ttest: 0.5183471\tbest: 0.4342884 (54)\ttotal: 1.44s\tremaining: 358ms\n",
      "900:\tlearn: 0.1998820\ttest: 0.5337496\tbest: 0.4342884 (54)\ttotal: 1.6s\tremaining: 176ms\n",
      "999:\tlearn: 0.1909176\ttest: 0.5398363\tbest: 0.4342884 (54)\ttotal: 1.78s\tremaining: 0us\n",
      "\n",
      "bestTest = 0.4342883903\n",
      "bestIteration = 54\n",
      "\n",
      "Shrink model to first 55 iterations.\n"
     ]
    },
    {
     "data": {
      "text/plain": [
       "<catboost.core.CatBoostClassifier at 0x15fcaf940>"
      ]
     },
     "execution_count": 170,
     "metadata": {},
     "output_type": "execute_result"
    }
   ],
   "source": [
    "# Initialize CatBoost Classifier\n",
    "catboost_model = CatBoostClassifier(iterations=1000, \n",
    "                                    learning_rate=0.05, \n",
    "                                    depth=6, \n",
    "                                    verbose=100)\n",
    "\n",
    "# Train the model\n",
    "catboost_model.fit(X_train, y_train, \n",
    "                   eval_set = (X_test, y_test),\n",
    "                   cat_features=cat_features,plot=True)"
   ]
  },
  {
   "cell_type": "code",
   "execution_count": 171,
   "id": "c360a829",
   "metadata": {},
   "outputs": [
    {
     "name": "stdout",
     "output_type": "stream",
     "text": [
      "CatBoost Accuracy: 0.8212\n",
      "              precision    recall  f1-score   support\n",
      "\n",
      "           0       0.80      0.92      0.86       105\n",
      "           1       0.86      0.68      0.76        74\n",
      "\n",
      "    accuracy                           0.82       179\n",
      "   macro avg       0.83      0.80      0.81       179\n",
      "weighted avg       0.83      0.82      0.82       179\n",
      "\n"
     ]
    }
   ],
   "source": [
    "# Make predictions\n",
    "y_pred_cb = catboost_model.predict(X_test)\n",
    "\n",
    "# Evaluate the Cat_boost\n",
    "cb_accuracy = accuracy_score(y_test, y_pred_cb)\n",
    "print(f\"CatBoost Accuracy: {cb_accuracy:.4f}\")\n",
    "print(classification_report(y_test, y_pred_cb))"
   ]
  },
  {
   "cell_type": "code",
   "execution_count": null,
   "id": "6204adfe-1e30-478d-bb56-3a7ae8b39d2f",
   "metadata": {},
   "outputs": [],
   "source": []
  },
  {
   "cell_type": "code",
   "execution_count": null,
   "id": "47b9e076-d0f6-4e21-a088-0889307eedf0",
   "metadata": {},
   "outputs": [],
   "source": []
  },
  {
   "cell_type": "markdown",
   "id": "adeb9c69-bd13-46f1-9d79-bb9c26cf4ba2",
   "metadata": {},
   "source": [
    "# Other features"
   ]
  },
  {
   "cell_type": "markdown",
   "id": "f97d5726-fe86-4a75-b3c8-661c65c35929",
   "metadata": {},
   "source": [
    "Try adding other categorical features. Does your accuracy improve?"
   ]
  },
  {
   "cell_type": "code",
   "execution_count": 142,
   "id": "f194be3e-b5e4-47e1-bc61-91592bcd4ea0",
   "metadata": {},
   "outputs": [],
   "source": [
    "titanic = sns.load_dataset('titanic')\n",
    "titanic['age'].fillna(titanic['age'].median(), inplace=True)\n",
    "titanic.drop(columns=['who', \"parch\", \"alive\",\"alone\", \"deck\", \"embarked\"], inplace=True)"
   ]
  },
  {
   "cell_type": "code",
   "execution_count": 143,
   "id": "0898090e-6afe-49be-892d-6233f6b2fb36",
   "metadata": {},
   "outputs": [],
   "source": [
    "X = titanic.drop(columns=['survived'])\n",
    "y = titanic['survived']\n",
    "\n",
    "cat_features = [\"sex\", \"class\",  \"embark_town\",]\n",
    "X[cat_features] = X[cat_features].astype(str).replace(\"nan\",\"Boop\")\n",
    "X[cat_features] = X[cat_features].fillna(\"Boop\")\n",
    "\n",
    "X_train, X_test, y_train, y_test = train_test_split(X, y, test_size=0.2, random_state=42)"
   ]
  },
  {
   "cell_type": "code",
   "execution_count": 144,
   "id": "a295ac35-e848-4872-9fd6-b3393eec36c8",
   "metadata": {},
   "outputs": [
    {
     "data": {
      "application/vnd.jupyter.widget-view+json": {
       "model_id": "27bb5f1f8c8944b3821c5f680c5aea7b",
       "version_major": 2,
       "version_minor": 0
      },
      "text/plain": [
       "MetricVisualizer(layout=Layout(align_self='stretch', height='500px'))"
      ]
     },
     "metadata": {},
     "output_type": "display_data"
    },
    {
     "name": "stdout",
     "output_type": "stream",
     "text": [
      "0:\tlearn: 0.6581604\ttest: 0.6597125\tbest: 0.6597125 (0)\ttotal: 5.03ms\tremaining: 5.03s\n",
      "100:\tlearn: 0.3482876\ttest: 0.4233265\tbest: 0.4232186 (98)\ttotal: 168ms\tremaining: 1.5s\n",
      "200:\tlearn: 0.2916384\ttest: 0.4222672\tbest: 0.4200074 (186)\ttotal: 342ms\tremaining: 1.36s\n",
      "300:\tlearn: 0.2437262\ttest: 0.4207457\tbest: 0.4187154 (244)\ttotal: 523ms\tremaining: 1.22s\n",
      "400:\tlearn: 0.2106366\ttest: 0.4267774\tbest: 0.4187154 (244)\ttotal: 709ms\tremaining: 1.06s\n",
      "500:\tlearn: 0.1800107\ttest: 0.4290173\tbest: 0.4187154 (244)\ttotal: 889ms\tremaining: 886ms\n",
      "600:\tlearn: 0.1589776\ttest: 0.4323846\tbest: 0.4187154 (244)\ttotal: 1.07s\tremaining: 713ms\n",
      "700:\tlearn: 0.1419817\ttest: 0.4382693\tbest: 0.4187154 (244)\ttotal: 1.28s\tremaining: 548ms\n",
      "800:\tlearn: 0.1287051\ttest: 0.4407800\tbest: 0.4187154 (244)\ttotal: 1.5s\tremaining: 373ms\n",
      "900:\tlearn: 0.1167439\ttest: 0.4464775\tbest: 0.4187154 (244)\ttotal: 1.7s\tremaining: 186ms\n",
      "999:\tlearn: 0.1053093\ttest: 0.4542332\tbest: 0.4187154 (244)\ttotal: 1.9s\tremaining: 0us\n",
      "\n",
      "bestTest = 0.4187154343\n",
      "bestIteration = 244\n",
      "\n",
      "Shrink model to first 245 iterations.\n"
     ]
    },
    {
     "data": {
      "text/plain": [
       "<catboost.core.CatBoostClassifier at 0x15d90b640>"
      ]
     },
     "execution_count": 144,
     "metadata": {},
     "output_type": "execute_result"
    }
   ],
   "source": [
    "# Initialize CatBoost Classifier\n",
    "catboost_model = CatBoostClassifier(iterations=1000, \n",
    "                                    learning_rate=0.05, \n",
    "                                    depth=6, \n",
    "                                    verbose=100)\n",
    "\n",
    "# Train the model\n",
    "catboost_model.fit(X_train, y_train, \n",
    "                   eval_set = (X_test, y_test),\n",
    "                   cat_features=cat_features,\n",
    "                   plot=True)"
   ]
  },
  {
   "cell_type": "code",
   "execution_count": 145,
   "id": "473c4d00-a40b-4edc-aa48-03be6e4dedb2",
   "metadata": {},
   "outputs": [
    {
     "name": "stdout",
     "output_type": "stream",
     "text": [
      "CatBoost Accuracy: 0.8101\n",
      "              precision    recall  f1-score   support\n",
      "\n",
      "           0       0.80      0.90      0.85       105\n",
      "           1       0.82      0.69      0.75        74\n",
      "\n",
      "    accuracy                           0.81       179\n",
      "   macro avg       0.81      0.79      0.80       179\n",
      "weighted avg       0.81      0.81      0.81       179\n",
      "\n"
     ]
    }
   ],
   "source": [
    "# Make predictions\n",
    "y_pred_cb = catboost_model.predict(X_test)\n",
    "\n",
    "# Evaluate the Cat_boost\n",
    "cb_accuracy = accuracy_score(y_test, y_pred_cb)\n",
    "print(f\"CatBoost Accuracy: {cb_accuracy:.4f}\")\n",
    "print(classification_report(y_test, y_pred_cb))"
   ]
  },
  {
   "cell_type": "code",
   "execution_count": null,
   "id": "e994d51f-c21c-4f0a-b98d-2f5a57f2c47f",
   "metadata": {},
   "outputs": [],
   "source": []
  },
  {
   "cell_type": "code",
   "execution_count": null,
   "id": "f073969a-9fb4-414d-8e20-cb264a9b745d",
   "metadata": {},
   "outputs": [],
   "source": []
  },
  {
   "cell_type": "markdown",
   "id": "5f30d476-178a-4a17-93d3-66134be5bc40",
   "metadata": {},
   "source": [
    "# Regression"
   ]
  },
  {
   "cell_type": "markdown",
   "id": "e8439914-dc2e-4813-9622-2aba44171d49",
   "metadata": {},
   "source": [
    "### Now, you will try doing regression instead of classification. \n",
    "Using the California housing dataset, train regression models using Decision Trees, Random Forest, and CatBoost. Then, plot them using sns.regplot. If the points are annoying, set scatter = False. "
   ]
  },
  {
   "cell_type": "code",
   "execution_count": 173,
   "id": "c7d49086-4b2b-4543-9dfc-b5f8f5488646",
   "metadata": {},
   "outputs": [],
   "source": [
    "# Import necessary libraries\n",
    "from catboost import CatBoostRegressor\n",
    "from sklearn.datasets import fetch_california_housing\n",
    "from sklearn.model_selection import train_test_split\n",
    "from sklearn.metrics import mean_squared_error\n",
    "import pandas as pd\n",
    "\n",
    "# Load the California housing dataset\n",
    "data = fetch_california_housing()\n",
    "X = pd.DataFrame(data.data, columns=data.feature_names)\n",
    "y = data.target\n",
    "\n"
   ]
  },
  {
   "cell_type": "code",
   "execution_count": 174,
   "id": "4447e1b1-8d8a-4842-8170-a6e47bfe2ce2",
   "metadata": {},
   "outputs": [
    {
     "data": {
      "application/vnd.jupyter.widget-view+json": {
       "model_id": "8fc3033f77444e728ecd3d202032b544",
       "version_major": 2,
       "version_minor": 0
      },
      "text/plain": [
       "MetricVisualizer(layout=Layout(align_self='stretch', height='500px'))"
      ]
     },
     "metadata": {},
     "output_type": "display_data"
    },
    {
     "name": "stdout",
     "output_type": "stream",
     "text": [
      "0:\tlearn: 1.1235632\ttest: 1.1134239\tbest: 1.1134239 (0)\ttotal: 5.95ms\tremaining: 11.9s\n",
      "100:\tlearn: 0.5352689\ttest: 0.5566810\tbest: 0.5566810 (100)\ttotal: 283ms\tremaining: 5.32s\n",
      "200:\tlearn: 0.4863204\ttest: 0.5159825\tbest: 0.5159825 (200)\ttotal: 697ms\tremaining: 6.23s\n",
      "300:\tlearn: 0.4547078\ttest: 0.4926549\tbest: 0.4926549 (300)\ttotal: 1.01s\tremaining: 5.69s\n",
      "400:\tlearn: 0.4314479\ttest: 0.4780123\tbest: 0.4780123 (400)\ttotal: 1.36s\tremaining: 5.43s\n",
      "500:\tlearn: 0.4147677\ttest: 0.4695290\tbest: 0.4695290 (500)\ttotal: 1.63s\tremaining: 4.87s\n",
      "600:\tlearn: 0.4011819\ttest: 0.4634567\tbest: 0.4634567 (600)\ttotal: 2.02s\tremaining: 4.7s\n",
      "700:\tlearn: 0.3895065\ttest: 0.4591202\tbest: 0.4591202 (700)\ttotal: 2.34s\tremaining: 4.33s\n",
      "800:\tlearn: 0.3791237\ttest: 0.4550261\tbest: 0.4550261 (800)\ttotal: 2.62s\tremaining: 3.92s\n",
      "900:\tlearn: 0.3700390\ttest: 0.4515659\tbest: 0.4515659 (900)\ttotal: 2.97s\tremaining: 3.62s\n",
      "1000:\tlearn: 0.3616928\ttest: 0.4491312\tbest: 0.4491312 (1000)\ttotal: 3.41s\tremaining: 3.4s\n",
      "1100:\tlearn: 0.3540226\ttest: 0.4465878\tbest: 0.4465878 (1100)\ttotal: 3.88s\tremaining: 3.17s\n",
      "1200:\tlearn: 0.3469581\ttest: 0.4450398\tbest: 0.4450398 (1200)\ttotal: 4.38s\tremaining: 2.91s\n",
      "1300:\tlearn: 0.3397669\ttest: 0.4429506\tbest: 0.4429506 (1300)\ttotal: 4.66s\tremaining: 2.5s\n",
      "1400:\tlearn: 0.3335082\ttest: 0.4416218\tbest: 0.4416163 (1395)\ttotal: 4.93s\tremaining: 2.11s\n",
      "1500:\tlearn: 0.3277241\ttest: 0.4403230\tbest: 0.4403230 (1500)\ttotal: 5.2s\tremaining: 1.73s\n",
      "1600:\tlearn: 0.3223165\ttest: 0.4390052\tbest: 0.4390052 (1600)\ttotal: 5.47s\tremaining: 1.36s\n",
      "1700:\tlearn: 0.3171981\ttest: 0.4382788\tbest: 0.4382788 (1700)\ttotal: 5.85s\tremaining: 1.03s\n",
      "1800:\tlearn: 0.3119528\ttest: 0.4374937\tbest: 0.4374627 (1793)\ttotal: 6.14s\tremaining: 679ms\n",
      "1900:\tlearn: 0.3068852\ttest: 0.4363764\tbest: 0.4363718 (1898)\ttotal: 6.45s\tremaining: 336ms\n",
      "1999:\tlearn: 0.3016788\ttest: 0.4348160\tbest: 0.4348160 (1999)\ttotal: 6.71s\tremaining: 0us\n",
      "\n",
      "bestTest = 0.4348159989\n",
      "bestIteration = 1999\n",
      "\n"
     ]
    },
    {
     "data": {
      "text/plain": [
       "<catboost.core.CatBoostRegressor at 0x15ff76b30>"
      ]
     },
     "execution_count": 174,
     "metadata": {},
     "output_type": "execute_result"
    }
   ],
   "source": [
    "# Split the data into training and testing sets\n",
    "X_train, X_test, y_train, y_test = train_test_split(X, y, test_size=0.2, random_state=42)\n",
    "\n",
    "# Initialize the CatBoost regressor\n",
    "model = CatBoostRegressor(iterations=2000, learning_rate=0.05, depth=6, verbose=100,)\n",
    "\n",
    "# Fit the model to the training data\n",
    "model.fit(X_train, y_train, plot=True,eval_set = (X_test, y_test),)\n",
    "\n"
   ]
  },
  {
   "cell_type": "code",
   "execution_count": 175,
   "id": "b831092b-6d9f-4ed9-9b59-8a4975c61a65",
   "metadata": {},
   "outputs": [
    {
     "name": "stdout",
     "output_type": "stream",
     "text": [
      "Mean Squared Error: 0.18906495222900718\n"
     ]
    }
   ],
   "source": [
    "# Make predictions on the test set\n",
    "y_pred = model.predict(X_test)\n",
    "\n",
    "# Evaluate the model\n",
    "mse = mean_squared_error(y_test, y_pred)\n",
    "print(f\"Mean Squared Error: {mse}\")"
   ]
  },
  {
   "cell_type": "code",
   "execution_count": 185,
   "id": "05ced0c0-309a-450c-8a10-b2b5a06f5ea7",
   "metadata": {},
   "outputs": [
    {
     "name": "stdout",
     "output_type": "stream",
     "text": [
      "CPU times: user 64.1 ms, sys: 2.91 ms, total: 67 ms\n",
      "Wall time: 66.6 ms\n"
     ]
    }
   ],
   "source": [
    "%%time\n",
    "\n",
    "# Train the Decision Tree\n",
    "decision_tree = DecisionTreeRegressor(random_state=42, max_depth=4)\n",
    "decision_tree.fit(X_train, y_train)\n",
    "\n",
    "# Make predictions\n",
    "y_pred_dt = decision_tree.predict(X_test)\n"
   ]
  },
  {
   "cell_type": "code",
   "execution_count": 186,
   "id": "b247370c-38a0-431b-94b3-414b7431eea0",
   "metadata": {},
   "outputs": [
    {
     "data": {
      "text/plain": [
       "<Axes: >"
      ]
     },
     "execution_count": 186,
     "metadata": {},
     "output_type": "execute_result"
    },
    {
     "data": {
      "image/png": "[encoded data removed]",
      "text/plain": [
       "<Figure size 640x480 with 1 Axes>"
      ]
     },
     "metadata": {},
     "output_type": "display_data"
    }
   ],
   "source": [
    "sns.regplot(x=y_test, y=y_pred_dt)"
   ]
  },
  {
   "cell_type": "code",
   "execution_count": 177,
   "id": "d92d19a7-8c21-4c95-ada7-bc1654d2e420",
   "metadata": {},
   "outputs": [
    {
     "name": "stdout",
     "output_type": "stream",
     "text": [
      "CPU times: user 9.33 s, sys: 102 ms, total: 9.43 s\n",
      "Wall time: 9.46 s\n"
     ]
    }
   ],
   "source": [
    "%%time\n",
    "# Train the Random Forest\n",
    "random_forest = RandomForestRegressor(n_estimators=100, random_state=42)\n",
    "random_forest.fit(X_train, y_train)\n",
    "\n",
    "# Make predictions\n",
    "y_pred_rf = random_forest.predict(X_test)"
   ]
  },
  {
   "cell_type": "code",
   "execution_count": 180,
   "id": "3b9bc968-433d-44b5-b31f-2cf77940fb74",
   "metadata": {},
   "outputs": [
    {
     "name": "stdout",
     "output_type": "stream",
     "text": [
      "Decision Tree: Intel MKL WARNING: Support of Intel(R) Streaming SIMD Extensions 4.2 (Intel(R) SSE4.2) enabled only processors has been deprecated. Intel oneAPI Math Kernel Library 2025.0 will require Intel(R) Advanced Vector Extensions (Intel(R) AVX) instructions.\n",
      " 0.8129385244114361\n",
      "Random Forest:  0.8975174160828809\n",
      "Catboost:  0.9250664605676434\n",
      "Intel MKL WARNING: Support of Intel(R) Streaming SIMD Extensions 4.2 (Intel(R) SSE4.2) enabled only processors has been deprecated. Intel oneAPI Math Kernel Library 2025.0 will require Intel(R) Advanced Vector Extensions (Intel(R) AVX) instructions.\n",
      "Intel MKL WARNING: Support of Intel(R) Streaming SIMD Extensions 4.2 (Intel(R) SSE4.2) enabled only processors has been deprecated. Intel oneAPI Math Kernel Library 2025.0 will require Intel(R) Advanced Vector Extensions (Intel(R) AVX) instructions.\n"
     ]
    }
   ],
   "source": [
    "print(\"Decision Tree: \", np.corrcoef(y_test,y_pred_dt)[0,1])\n",
    "print(\"Random Forest: \", np.corrcoef(y_test,y_pred_rf)[0,1])\n",
    "print(\"Catboost: \", np.corrcoef(y_test,y_pred)[0,1])"
   ]
  },
  {
   "cell_type": "code",
   "execution_count": 165,
   "id": "54043156-2301-483a-92ae-9c604a7c9519",
   "metadata": {},
   "outputs": [
    {
     "data": {
      "text/plain": [
       "<Axes: >"
      ]
     },
     "execution_count": 165,
     "metadata": {},
     "output_type": "execute_result"
    },
    {
     "data": {
      "image/png": "[encoded data removed]",
      "text/plain": [
       "<Figure size 640x480 with 1 Axes>"
      ]
     },
     "metadata": {},
     "output_type": "display_data"
    }
   ],
   "source": [
    "sns.regplot(x = y_test, y = y_pred_dt, scatter=False)\n",
    "sns.regplot(x = y_test, y = y_pred_rf, scatter=False)\n",
    "sns.regplot(x = y_test, y = y_pred, scatter=False)"
   ]
  },
  {
   "cell_type": "code",
   "execution_count": null,
   "id": "afa0fc73-9500-43ab-a138-660f1e8f70e0",
   "metadata": {},
   "outputs": [],
   "source": []
  },
  {
   "cell_type": "code",
   "execution_count": null,
   "id": "007e534d-85c1-48bd-a88f-9be804267eb4",
   "metadata": {},
   "outputs": [],
   "source": []
  },
  {
   "cell_type": "code",
   "execution_count": null,
   "id": "1dd3eb93-2f9e-4945-afe7-c695c868b1f0",
   "metadata": {},
   "outputs": [],
   "source": []
  },
  {
   "cell_type": "code",
   "execution_count": null,
   "id": "ba44ad5a-f797-4768-ad95-36a410180eaa",
   "metadata": {},
   "outputs": [],
   "source": []
  },
  {
   "cell_type": "code",
   "execution_count": null,
   "id": "972d7d61",
   "metadata": {},
   "outputs": [],
   "source": []
  },
  {
   "cell_type": "code",
   "execution_count": null,
   "id": "4cf0f6d1",
   "metadata": {},
   "outputs": [],
   "source": []
  },
  {
   "cell_type": "code",
   "execution_count": null,
   "id": "5eadb046",
   "metadata": {},
   "outputs": [],
   "source": []
  }
 ],
 "metadata": {
  "kernelspec": {
   "display_name": "Python 3 (ipykernel)",
   "language": "python",
   "name": "python3"
  },
  "language_info": {
   "codemirror_mode": {
    "name": "ipython",
    "version": 3
   },
   "file_extension": ".py",
   "mimetype": "text/x-python",
   "name": "python",
   "nbconvert_exporter": "python",
   "pygments_lexer": "ipython3",
   "version": "3.9.12"
  }
 },
 "nbformat": 4,
 "nbformat_minor": 5
}
