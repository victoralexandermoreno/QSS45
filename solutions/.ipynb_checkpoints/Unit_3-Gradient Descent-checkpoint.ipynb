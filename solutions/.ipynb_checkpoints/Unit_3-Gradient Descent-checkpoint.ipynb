{
 "cells": [
  {
   "cell_type": "code",
   "execution_count": 2,
   "id": "b762d8a6",
   "metadata": {},
   "outputs": [],
   "source": [
    "import pandas as pd"
   ]
  },
  {
   "cell_type": "code",
   "execution_count": 21,
   "id": "362bd968",
   "metadata": {},
   "outputs": [],
   "source": [
    "import numpy as np\n",
    "import matplotlib.pyplot as plt\n",
    "\n",
    "# Gradient Descent Parameters\n",
    "alpha = learning_rate = 0.001\n",
    "iterations = 1000"
   ]
  },
  {
   "cell_type": "markdown",
   "id": "18f1c559",
   "metadata": {},
   "source": [
    "Like last time, generate synthetic date with $\\beta_0 = 5$ and $\\beta_1 = 3$. 1000 points should be fine."
   ]
  },
  {
   "cell_type": "code",
   "execution_count": 41,
   "id": "08f6537f",
   "metadata": {},
   "outputs": [],
   "source": [
    "x = np.random.randn(100)\n",
    "y = 5 + 3 * x + np.random.randn(100)"
   ]
  },
  {
   "cell_type": "markdown",
   "id": "20a4425a",
   "metadata": {},
   "source": [
    "In the real world, you do not know these beta values. Your goal is to find them! So, pretending you do not know $\\beta_0 = 5$ and $\\beta_1 = 3$, proceed as if you only observe x and y."
   ]
  },
  {
   "cell_type": "markdown",
   "id": "7a28766a",
   "metadata": {},
   "source": [
    "First, randomly guess $\\beta_0$ and $\\beta_1$, using the random operations in numpy."
   ]
  },
  {
   "cell_type": "code",
   "execution_count": 43,
   "id": "c1ee5ea1",
   "metadata": {},
   "outputs": [],
   "source": [
    "# Initializing parameters (slope and intercept)\n",
    "b1 = np.random.randn(1)  # Slope\n",
    "b0 = np.random.randn(1)  # Intercept"
   ]
  },
  {
   "cell_type": "markdown",
   "id": "4404c65b",
   "metadata": {},
   "source": [
    "Write a function to compute the cost. This should be $\\frac{1}{n} \\sum ( y_{pred} - y )^2$. This is known as mean square loss."
   ]
  },
  {
   "cell_type": "code",
   "execution_count": 44,
   "id": "b9f830ee",
   "metadata": {},
   "outputs": [],
   "source": [
    "def compute_cost(x, y, b1, b0):\n",
    "    n = len(y)\n",
    "    y_pred = b1 * x + b0\n",
    "    cost = (1/n) * np.sum((y_pred - y)**2)\n",
    "    return cost"
   ]
  },
  {
   "cell_type": "markdown",
   "id": "5b923609",
   "metadata": {},
   "source": [
    "We are now going to walk through one iteration of gradient descent.\n",
    "* Using the existing guesses for $\\beta_0$ and $\\beta_1$, generate predictions for y\n",
    "* Calculate the gradients for $\\beta_0$ and $\\beta_1$ then use it to update the existing $\\beta$ values.\n",
    "* Compute the cost."
   ]
  },
  {
   "cell_type": "code",
   "execution_count": 45,
   "id": "82253a57",
   "metadata": {},
   "outputs": [],
   "source": [
    "# Code for one iteration.\n",
    "\n",
    "n = len(y)\n",
    "b1 = np.random.randn(1)  # Slope\n",
    "b0 = np.random.randn(1)\n",
    "\n",
    "y_pred = b1 * x + b0\n",
    "\n",
    "# Calculate gradients\n",
    "b1_gradient = (1/n) * np.sum(x * (y - y_pred))\n",
    "b0_gradient = (1/n) * np.sum(y - y_pred)\n",
    "\n",
    "# Update parameters\n",
    "b1 = b1 - learning_rate * b1_gradient\n",
    "b0 = b0 - learning_rate * b0_gradient\n",
    "\n",
    "# Calculate and store cost\n",
    "cost = compute_cost(x, y, b1, b0)\n",
    "# cost_history.append(cost)"
   ]
  },
  {
   "cell_type": "code",
   "execution_count": 46,
   "id": "5c0f039d",
   "metadata": {},
   "outputs": [
    {
     "data": {
      "text/plain": [
       "array([-2.55925839])"
      ]
     },
     "execution_count": 46,
     "metadata": {},
     "output_type": "execute_result"
    }
   ],
   "source": [
    "n = len(y)\n",
    "b1 = np.random.randn(1)  # Slope\n",
    "b0 = np.random.randn(1)\n",
    "\n",
    "b1\n",
    "b0"
   ]
  },
  {
   "cell_type": "markdown",
   "id": "a5564e8e",
   "metadata": {},
   "source": [
    "Write a for loop that iterates through the total iterations (1000). Within each loop, update $\\beta_0$ and $\\beta_1$.\n",
    "\n",
    "Also, create an empty list that saves the cost each iteration, and two other lists for $\\beta_0$ and $\\beta_1$. You want to see that the loss is going down. To check this, print the loss every 100 iterations."
   ]
  },
  {
   "cell_type": "code",
   "execution_count": 68,
   "id": "771ea848",
   "metadata": {},
   "outputs": [
    {
     "name": "stdout",
     "output_type": "stream",
     "text": [
      "Iteration 0: Cost 2197.356696642619, b1: 51.12668450137649, b0: 9.7810265885856\n",
      "Iteration 100: Cost 1.8570294885388898, b1: 4.011216839776713, b0: 5.109380414083378\n",
      "Iteration 200: Cost 0.7975193262576832, b1: 2.9708983048976747, b0: 5.072008627176764\n",
      "Iteration 300: Cost 0.7970012818542794, b1: 2.9478698932572587, b0: 5.072294410693471\n",
      "Iteration 400: Cost 0.7970010266074907, b1: 2.9473591570294513, b0: 5.072319535243321\n",
      "Iteration 500: Cost 0.7970010264811707, b1: 2.9473478130939554, b0: 5.072320409755435\n",
      "Iteration 600: Cost 0.797001026481108, b1: 2.9473475608554525, b0: 5.072320434524158\n",
      "Iteration 700: Cost 0.797001026481108, b1: 2.9473475552421013, b0: 5.072320435164814\n",
      "Iteration 800: Cost 0.797001026481108, b1: 2.947347555117102, b0: 5.0723204351805835\n",
      "Iteration 900: Cost 0.797001026481108, b1: 2.947347555114318, b0: 5.0723204351809565\n"
     ]
    },
    {
     "data": {
      "image/png": "[encoded data removed]",
      "text/plain": [
       "<Figure size 720x432 with 1 Axes>"
      ]
     },
     "metadata": {
      "needs_background": "light"
     },
     "output_type": "display_data"
    }
   ],
   "source": [
    "# Gradient Descent Function\n",
    "def gradient_descent(x, y, learning_rate, iterations):\n",
    "    n = len(y)\n",
    "    \n",
    "    b1 = np.random.randint(1,100)  # Slope\n",
    "    b0 = np.random.randint(1,100) \n",
    "    \n",
    "    cost_history = []\n",
    "    b0_hist = []\n",
    "    b1_hist = []\n",
    "    \n",
    "    for i in range(iterations):\n",
    "        # Predict y values\n",
    "        y_pred = b1 * x + b0\n",
    "        \n",
    "        # Calculate gradients\n",
    "        b1_gradient = (1/n) * np.sum(x * (y_pred-y))\n",
    "        b0_gradient = (1/n) * np.sum(y_pred-y)\n",
    "        \n",
    "        # Update parameters\n",
    "        b1 = b1 - learning_rate * b1_gradient\n",
    "        b0 = b0 - learning_rate * b0_gradient\n",
    "        \n",
    "        # Calculate and store cost\n",
    "        cost = compute_cost(x, y, b1, b0)\n",
    "        cost_history.append(cost)\n",
    "        \n",
    "        b1_hist.append(b1)\n",
    "        b0_hist.append(b0)\n",
    "        \n",
    "        # Print progress every 100 iterations\n",
    "        if i % 100 == 0:\n",
    "            print(f\"Iteration {i}: Cost {cost}, b1: {b1}, b0: {b0}\")\n",
    "    \n",
    "    return b1, b0, cost_history, b1_hist, b0_hist\n",
    "\n",
    "# Run Gradient Descent\n",
    "b1, b0, cost_history,b1_hist, b0_hist = gradient_descent(x, y,0.04, iterations)\n",
    "\n",
    "# Plotting the cost function to visualize convergence\n",
    "plt.figure(figsize=(10, 6))\n",
    "plt.plot(cost_history)\n",
    "plt.title(\"Cost Function Over Iterations\")\n",
    "plt.xlabel(\"Iterations\")\n",
    "plt.ylabel(\"Cost (MSE)\")\n",
    "plt.grid(True)\n",
    "plt.show()"
   ]
  },
  {
   "cell_type": "markdown",
   "id": "d244c2b0",
   "metadata": {},
   "source": [
    "Plot the cost overtime. X-axis is the iteration, y-axis is the cost."
   ]
  },
  {
   "cell_type": "code",
   "execution_count": 69,
   "id": "cc2960d5",
   "metadata": {},
   "outputs": [
    {
     "data": {
      "text/plain": [
       "<matplotlib.collections.PathCollection at 0x7febb2d3eb80>"
      ]
     },
     "execution_count": 69,
     "metadata": {},
     "output_type": "execute_result"
    },
    {
     "data": {
      "image/png": "[encoded data removed]",
      "text/plain": [
       "<Figure size 432x288 with 1 Axes>"
      ]
     },
     "metadata": {
      "needs_background": "light"
     },
     "output_type": "display_data"
    }
   ],
   "source": [
    "linear_fx = lambda x: b1*x + b0\n",
    "\n",
    "ymin = linear_fx(x.min())\n",
    "ymax = linear_fx(x.max())\n",
    "\n",
    "plt.plot([x.min(),x.max()],\n",
    "          [ymin, ymax], color=\"red\")\n",
    "\n",
    "plt.scatter(x,y)"
   ]
  },
  {
   "cell_type": "markdown",
   "id": "9abdf254",
   "metadata": {},
   "source": [
    "Plot the evolution of the beta values."
   ]
  },
  {
   "cell_type": "code",
   "execution_count": 70,
   "id": "60ef40ad",
   "metadata": {},
   "outputs": [
    {
     "data": {
      "text/plain": [
       "<matplotlib.collections.PathCollection at 0x7febd277edc0>"
      ]
     },
     "execution_count": 70,
     "metadata": {},
     "output_type": "execute_result"
    },
    {
     "data": {
      "image/png": "[encoded data removed]",
      "text/plain": [
       "<Figure size 432x288 with 1 Axes>"
      ]
     },
     "metadata": {
      "needs_background": "light"
     },
     "output_type": "display_data"
    }
   ],
   "source": [
    "plt.scatter( b1_hist, b0_hist )"
   ]
  },
  {
   "cell_type": "code",
   "execution_count": null,
   "id": "30f606fd",
   "metadata": {},
   "outputs": [],
   "source": []
  }
 ],
 "metadata": {
  "kernelspec": {
   "display_name": "Python 3 (ipykernel)",
   "language": "python",
   "name": "python3"
  },
  "language_info": {
   "codemirror_mode": {
    "name": "ipython",
    "version": 3
   },
   "file_extension": ".py",
   "mimetype": "text/x-python",
   "name": "python",
   "nbconvert_exporter": "python",
   "pygments_lexer": "ipython3",
   "version": "3.9.12"
  }
 },
 "nbformat": 4,
 "nbformat_minor": 5
}
