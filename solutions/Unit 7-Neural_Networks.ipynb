{
 "cells": [
  {
   "cell_type": "code",
   "execution_count": 2,
   "id": "923adc17",
   "metadata": {},
   "outputs": [],
   "source": [
    "import numpy as np\n",
    "import matplotlib.pyplot as plt\n",
    "from sklearn.neural_network import MLPClassifier\n",
    "from sklearn.datasets import make_moons, make_circles, make_classification\n",
    "from sklearn.model_selection import train_test_split\n",
    "from sklearn.metrics import accuracy_score\n",
    "\n",
    "import torch\n",
    "import torch.nn as nn\n",
    "import torch.optim as optim\n",
    "import matplotlib.pyplot as plt"
   ]
  },
  {
   "cell_type": "markdown",
   "id": "8598f22f",
   "metadata": {},
   "source": [
    "## Learning Pytorch!"
   ]
  },
  {
   "cell_type": "code",
   "execution_count": 3,
   "id": "3cc1ff93",
   "metadata": {},
   "outputs": [
    {
     "name": "stdout",
     "output_type": "stream",
     "text": [
      "tensor([[1., 1., 1.],\n",
      "        [1., 1., 1.]])\n"
     ]
    }
   ],
   "source": [
    "# Creating a tensor from data\n",
    "x_data = torch.tensor([[1.0, 2.0], [3.0, 4.0]])\n",
    "\n",
    "# Creating a tensor from numpy array\n",
    "np_array = np.array([[5.0, 6.0], [7.0, 8.0]])\n",
    "x_np = torch.from_numpy(np_array)\n",
    "\n",
    "# Creating tensors with specific dimensions\n",
    "x_zeros = torch.zeros(2, 3)\n",
    "x_ones = torch.ones(2, 3)\n",
    "x_random = torch.rand(2, 3)\n",
    "\n",
    "print(x_ones)"
   ]
  },
  {
   "cell_type": "markdown",
   "id": "8d75ea34",
   "metadata": {},
   "source": [
    "#### Practice maniupations with PyTorch\n",
    "Using the following matrix, add 2, multiply by 2, and then multiply y against itself. This should feel like Numpy."
   ]
  },
  {
   "cell_type": "code",
   "execution_count": 4,
   "id": "7c46e257",
   "metadata": {},
   "outputs": [],
   "source": [
    "# Basic operations\n",
    "y = torch.tensor([[9.0, 10.0], [11.0, 12.0]])\n",
    "sum_result = x_data + y\n",
    "prod_result = x_data * y\n",
    "\n",
    "# Matrix multiplication\n",
    "matmul_result = torch.matmul(x_data, y.T)\n"
   ]
  },
  {
   "cell_type": "code",
   "execution_count": null,
   "id": "e2774c5d",
   "metadata": {},
   "outputs": [],
   "source": []
  },
  {
   "cell_type": "markdown",
   "id": "b02b03f9",
   "metadata": {},
   "source": [
    "## A one layer perceptron"
   ]
  },
  {
   "cell_type": "code",
   "execution_count": 5,
   "id": "2791bfb0",
   "metadata": {},
   "outputs": [
    {
     "data": {
      "text/plain": [
       "Text(0, 0.5, 'y')"
      ]
     },
     "execution_count": 5,
     "metadata": {},
     "output_type": "execute_result"
    },
    {
     "data": {
      "image/png": "[encoded data removed]",
      "text/plain": [
       "<Figure size 432x288 with 1 Axes>"
      ]
     },
     "metadata": {
      "needs_background": "light"
     },
     "output_type": "display_data"
    }
   ],
   "source": [
    "# Generate synthetic data for linear regression\n",
    "X = torch.linspace(0, 10, 100).reshape(-1, 1)\n",
    "y = 2 * X + 3 + torch.randn(100, 1) * 2  # Linear relation with some noise\n",
    "\n",
    "# Visualize the data\n",
    "plt.scatter(X.numpy(), y.numpy())\n",
    "plt.xlabel(\"X\")\n",
    "plt.ylabel(\"y\")"
   ]
  },
  {
   "cell_type": "code",
   "execution_count": 6,
   "id": "0299c5e3",
   "metadata": {},
   "outputs": [],
   "source": [
    "class LinearRegressionModel(nn.Module):\n",
    "    def __init__(self):\n",
    "        super(LinearRegressionModel, self).__init__()\n",
    "        self.linear = nn.Linear(1, 1)  # 1 input feature, 1 output feature\n",
    "\n",
    "    def forward(self, x):\n",
    "        return self.linear(x)"
   ]
  },
  {
   "cell_type": "code",
   "execution_count": 7,
   "id": "fc127b4d",
   "metadata": {},
   "outputs": [],
   "source": [
    "# Instantiate the model\n",
    "model = LinearRegressionModel()\n",
    "\n",
    "# Define the loss function (Mean Squared Error)\n",
    "criterion = nn.MSELoss()\n",
    "\n",
    "# Define the optimizer (Stochastic Gradient Descent with a learning rate of 0.01)\n",
    "optimizer = optim.SGD(model.parameters(), lr=0.01)"
   ]
  },
  {
   "cell_type": "code",
   "execution_count": 8,
   "id": "d6db2987",
   "metadata": {},
   "outputs": [
    {
     "name": "stdout",
     "output_type": "stream",
     "text": [
      "Epoch [10/100], Loss: 5.0923\n",
      "Epoch [20/100], Loss: 4.9662\n",
      "Epoch [30/100], Loss: 4.8520\n",
      "Epoch [40/100], Loss: 4.7486\n",
      "Epoch [50/100], Loss: 4.6550\n",
      "Epoch [60/100], Loss: 4.5703\n",
      "Epoch [70/100], Loss: 4.4936\n",
      "Epoch [80/100], Loss: 4.4241\n",
      "Epoch [90/100], Loss: 4.3613\n",
      "Epoch [100/100], Loss: 4.3044\n"
     ]
    }
   ],
   "source": [
    "# Training loop\n",
    "num_epochs = 100\n",
    "for epoch in range(num_epochs):\n",
    "    # Forward pass: compute predictions and loss\n",
    "    predictions = model(X)\n",
    "    loss = criterion(predictions, y)\n",
    "    \n",
    "    # Backward pass: compute gradients and update parameters\n",
    "    optimizer.zero_grad()  # Reset gradients to zero\n",
    "    loss.backward()        # Backpropagate the error\n",
    "    optimizer.step()       # Update parameters\n",
    "    \n",
    "    # Print progress\n",
    "    if (epoch + 1) % 10 == 0:\n",
    "        print(f\"Epoch [{epoch + 1}/{num_epochs}], Loss: {loss.item():.4f}\")"
   ]
  },
  {
   "cell_type": "code",
   "execution_count": null,
   "id": "91f75492",
   "metadata": {},
   "outputs": [],
   "source": []
  },
  {
   "cell_type": "code",
   "execution_count": 9,
   "id": "233b335e",
   "metadata": {},
   "outputs": [
    {
     "data": {
      "text/plain": [
       "<matplotlib.collections.PathCollection at 0x7f8bc803f6a0>"
      ]
     },
     "execution_count": 9,
     "metadata": {},
     "output_type": "execute_result"
    },
    {
     "data": {
      "image/png": "[encoded data removed]",
      "text/plain": [
       "<Figure size 432x288 with 1 Axes>"
      ]
     },
     "metadata": {
      "needs_background": "light"
     },
     "output_type": "display_data"
    }
   ],
   "source": [
    "# Plot the model's predictions\n",
    "predicted = model(X).detach().numpy()  # Detach to convert to numpy\n",
    "plt.plot(X.numpy(), predicted, color=\"red\", label=\"Fitted Line\")\n",
    "plt.scatter(X.numpy(), y.numpy())"
   ]
  },
  {
   "cell_type": "code",
   "execution_count": 10,
   "id": "74bd865d",
   "metadata": {},
   "outputs": [
    {
     "data": {
      "text/plain": [
       "(tensor([[2.2476]]), tensor([1.3743]))"
      ]
     },
     "execution_count": 10,
     "metadata": {},
     "output_type": "execute_result"
    }
   ],
   "source": [
    "model.linear.weight.data, model.linear.bias.data"
   ]
  },
  {
   "cell_type": "code",
   "execution_count": null,
   "id": "45f5e57e",
   "metadata": {},
   "outputs": [],
   "source": []
  },
  {
   "cell_type": "markdown",
   "id": "87f6f874",
   "metadata": {},
   "source": [
    "### Using the template code above, generate 3-dimensional synthetic linear regression data\n",
    "You are encouraged to translate your homework solution from numpy into torch."
   ]
  },
  {
   "cell_type": "code",
   "execution_count": 28,
   "id": "1c397cee",
   "metadata": {},
   "outputs": [],
   "source": [
    "# Generate synthetic data for linear regression\n",
    "X1 = torch.linspace(0, 10, 100).reshape(-1, 1) + torch.randn(100, 1)\n",
    "X2 = torch.linspace(0, 10, 100).reshape(-1, 1) + torch.randn(100, 1)\n",
    "X3 = torch.linspace(0, 10, 100).reshape(-1, 1) + torch.randn(100, 1)\n",
    "X = torch.hstack((X1,X2,X3))\n",
    "B  = torch.tensor([1,2,3,4])\n",
    "y = B[0] + (X * B[1:]).sum(axis=1).unsqueeze(1) + torch.randn(100, 1)"
   ]
  },
  {
   "cell_type": "markdown",
   "id": "599e569f",
   "metadata": {},
   "source": [
    "Build your own neural net!"
   ]
  },
  {
   "cell_type": "code",
   "execution_count": 31,
   "id": "924254ed",
   "metadata": {},
   "outputs": [],
   "source": [
    "class MultiLinearRegressionModel(nn.Module):\n",
    "    def __init__(self):\n",
    "        super(MultiLinearRegressionModel, self).__init__()\n",
    "        self.linear = nn.Linear(3, 1)  # 1 input feature, 1 output feature\n",
    "\n",
    "    def forward(self, x):\n",
    "        return self.linear(x)"
   ]
  },
  {
   "cell_type": "code",
   "execution_count": 32,
   "id": "7cdf3cf4",
   "metadata": {},
   "outputs": [],
   "source": [
    "# Instantiate the model\n",
    "model_1 = MultiLinearRegressionModel()\n",
    "\n",
    "# Define the loss function (Mean Squared Error)\n",
    "criterion = nn.MSELoss()\n",
    "\n",
    "# Define the optimizer (Stochastic Gradient Descent with a learning rate of 0.01)\n",
    "optimizer = optim.SGD(model_1.parameters(), lr=0.01)"
   ]
  },
  {
   "cell_type": "code",
   "execution_count": 33,
   "id": "ca0ad442",
   "metadata": {},
   "outputs": [
    {
     "name": "stdout",
     "output_type": "stream",
     "text": [
      "Epoch [100/2000], Loss: 696.6940\n",
      "Epoch [200/2000], Loss: 200.1675\n",
      "Epoch [300/2000], Loss: 58.1425\n",
      "Epoch [400/2000], Loss: 17.5159\n",
      "Epoch [500/2000], Loss: 5.8945\n",
      "Epoch [600/2000], Loss: 2.5701\n",
      "Epoch [700/2000], Loss: 1.6192\n",
      "Epoch [800/2000], Loss: 1.3471\n",
      "Epoch [900/2000], Loss: 1.2693\n",
      "Epoch [1000/2000], Loss: 1.2470\n",
      "Epoch [1100/2000], Loss: 1.2407\n",
      "Epoch [1200/2000], Loss: 1.2388\n",
      "Epoch [1300/2000], Loss: 1.2383\n",
      "Epoch [1400/2000], Loss: 1.2382\n",
      "Epoch [1500/2000], Loss: 1.2381\n",
      "Epoch [1600/2000], Loss: 1.2381\n",
      "Epoch [1700/2000], Loss: 1.2381\n",
      "Epoch [1800/2000], Loss: 1.2381\n",
      "Epoch [1900/2000], Loss: 1.2381\n",
      "Epoch [2000/2000], Loss: 1.2381\n"
     ]
    }
   ],
   "source": [
    "# Training loop\n",
    "num_epochs = 2000\n",
    "for epoch in range(num_epochs):\n",
    "    # Forward pass: compute predictions and loss\n",
    "    predictions = model_1(X)\n",
    "    loss = criterion(predictions, y)\n",
    "    \n",
    "    # Backward pass: compute gradients and update parameters\n",
    "    optimizer.zero_grad()  # Reset gradients to zero\n",
    "    loss.backward()        # Backpropagate the error\n",
    "    optimizer.step()       # Update parameters\n",
    "    \n",
    "    # Print progress\n",
    "    if (epoch + 1) % 100 == 0:\n",
    "        print(f\"Epoch [{epoch + 1}/{num_epochs}], Loss: {loss.item():.4f}\")"
   ]
  },
  {
   "cell_type": "code",
   "execution_count": null,
   "id": "6a6c17af",
   "metadata": {},
   "outputs": [],
   "source": []
  },
  {
   "cell_type": "code",
   "execution_count": null,
   "id": "8ffd2fe0",
   "metadata": {},
   "outputs": [],
   "source": []
  },
  {
   "cell_type": "markdown",
   "id": "2aa09ae2",
   "metadata": {},
   "source": [
    "## Building a neural net for XOR"
   ]
  },
  {
   "cell_type": "markdown",
   "id": "db1178cc",
   "metadata": {},
   "source": [
    "Build a neural net for solving the XOR problem. The first line layer is written for you.\n",
    "Use the training code from above to make one run."
   ]
  },
  {
   "cell_type": "code",
   "execution_count": 34,
   "id": "031e3966",
   "metadata": {},
   "outputs": [],
   "source": [
    "# XOR inputs and labels\n",
    "X = torch.tensor([[0, 0], \n",
    "                  [0, 1], \n",
    "                  [1, 0], \n",
    "                  [1, 1]], dtype=torch.float32)\n",
    "y = torch.tensor([[0], \n",
    "                  [1], \n",
    "                  [1], \n",
    "                  [0]], dtype=torch.float32)"
   ]
  },
  {
   "cell_type": "code",
   "execution_count": 35,
   "id": "6d762b36",
   "metadata": {},
   "outputs": [],
   "source": [
    "class XORNet(nn.Module):\n",
    "    def __init__(self):\n",
    "        super(XORNet, self).__init__()\n",
    "        self.fc1 = nn.Linear(2, 20)   # Input layer to hidden layer\n",
    "        self.fc2 = nn.Linear(20, 1)   # Hidden layer to output layer\n",
    "\n",
    "    def forward(self, x):\n",
    "        x = self.fc1(x)\n",
    "        x = torch.relu(x)  # ReLU activation for hidden layer\n",
    "        x = self.fc2(x)\n",
    "        x = torch.sigmoid(x)  # Sigmoid activation for output layer\n",
    "        return x\n",
    "\n",
    "# Instantiate the model\n",
    "model = XORNet()"
   ]
  },
  {
   "cell_type": "code",
   "execution_count": 36,
   "id": "b38640ed",
   "metadata": {},
   "outputs": [],
   "source": [
    "criterion = nn.MSELoss()\n",
    "optimizer = optim.SGD(model.parameters(), lr=0.1)"
   ]
  },
  {
   "cell_type": "code",
   "execution_count": 37,
   "id": "d900d975",
   "metadata": {},
   "outputs": [
    {
     "name": "stdout",
     "output_type": "stream",
     "text": [
      "Epoch [1000/10000], Loss: 0.0124\n",
      "Epoch [2000/10000], Loss: 0.0029\n",
      "Epoch [3000/10000], Loss: 0.0015\n",
      "Epoch [4000/10000], Loss: 0.0010\n",
      "Epoch [5000/10000], Loss: 0.0007\n",
      "Epoch [6000/10000], Loss: 0.0005\n",
      "Epoch [7000/10000], Loss: 0.0004\n",
      "Epoch [8000/10000], Loss: 0.0004\n",
      "Epoch [9000/10000], Loss: 0.0003\n",
      "Epoch [10000/10000], Loss: 0.0003\n"
     ]
    }
   ],
   "source": [
    "# Training loop\n",
    "num_epochs = 10000\n",
    "for epoch in range(num_epochs):\n",
    "    # Forward pass: compute the output and loss\n",
    "    y_pred = model(X)\n",
    "    loss = criterion(y_pred, y)\n",
    "    \n",
    "    # Backward pass and optimization\n",
    "    optimizer.zero_grad()   # Zero out gradients from the previous step\n",
    "    loss.backward()         # Compute new gradients\n",
    "    optimizer.step()        # Update parameters\n",
    "\n",
    "    # Print the loss every 1000 epochs\n",
    "    if (epoch + 1) % 1000 == 0:\n",
    "        print(f\"Epoch [{epoch + 1}/{num_epochs}], Loss: {loss.item():.4f}\")"
   ]
  },
  {
   "cell_type": "code",
   "execution_count": 38,
   "id": "426aeb96",
   "metadata": {},
   "outputs": [
    {
     "data": {
      "text/plain": [
       "[Parameter containing:\n",
       " tensor([[ 0.6756, -0.1646],\n",
       "         [-0.2954, -0.3838],\n",
       "         [-0.2603, -0.1656],\n",
       "         [-2.1477,  2.1477],\n",
       "         [-0.3450,  0.4942],\n",
       "         [-0.1508, -0.1784],\n",
       "         [-0.3268,  0.0641],\n",
       "         [-0.1475,  0.1118],\n",
       "         [ 0.6364, -0.3731],\n",
       "         [-0.3241, -0.1758],\n",
       "         [-0.6726, -0.6230],\n",
       "         [ 0.4524,  0.6604],\n",
       "         [-0.1691,  0.5645],\n",
       "         [ 0.1945, -0.2672],\n",
       "         [ 0.1524,  0.2112],\n",
       "         [ 0.1419,  0.4236],\n",
       "         [-0.4374,  0.1304],\n",
       "         [-1.4309,  1.4309],\n",
       "         [-0.4700, -0.3212],\n",
       "         [ 2.3168, -2.3168]], requires_grad=True),\n",
       " Parameter containing:\n",
       " tensor([ 1.8342e-01, -3.7683e-01,  5.8610e-01, -5.0149e-06,  7.6266e-01,\n",
       "          9.7944e-01, -2.8179e-01,  8.3511e-01, -8.4420e-06, -2.5503e-01,\n",
       "         -7.0195e-01,  9.1691e-01, -6.4601e-01, -5.3086e-01, -3.6452e-01,\n",
       "          3.7232e-01, -2.6668e-01,  9.4032e-06, -1.1174e-01,  2.2089e-05],\n",
       "        requires_grad=True),\n",
       " Parameter containing:\n",
       " tensor([[ 0.0900,  0.0758, -0.4356,  2.9391, -0.6642, -0.8206, -0.2175, -0.7773,\n",
       "           0.5117, -0.2034, -0.0148, -0.7527, -0.1078, -0.1614,  0.0633, -0.2635,\n",
       "          -0.0509,  1.7725, -0.2162,  3.1971]], requires_grad=True),\n",
       " Parameter containing:\n",
       " tensor([-0.8450], requires_grad=True)]"
      ]
     },
     "execution_count": 38,
     "metadata": {},
     "output_type": "execute_result"
    }
   ],
   "source": [
    "model_params = list(model.parameters())\n",
    "model_params"
   ]
  },
  {
   "cell_type": "code",
   "execution_count": 39,
   "id": "f453cb1a",
   "metadata": {},
   "outputs": [
    {
     "data": {
      "image/png": "[encoded data removed]",
      "text/plain": [
       "<Figure size 432x288 with 1 Axes>"
      ]
     },
     "metadata": {
      "needs_background": "light"
     },
     "output_type": "display_data"
    }
   ],
   "source": [
    "# Plot decision boundary\n",
    "x_min, x_max = -0.5, 1.5\n",
    "y_min, y_max = -0.5, 1.5\n",
    "xx, yy = np.meshgrid(np.arange(x_min, x_max, 0.01),\n",
    "                     np.arange(y_min, y_max, 0.01))\n",
    "grid_input = torch.tensor(np.c_[xx.ravel(), yy.ravel()], dtype=torch.float32)\n",
    "with torch.no_grad():\n",
    "    grid_pred = model(grid_input)\n",
    "    grid_pred = grid_pred.reshape(xx.shape).numpy()\n",
    "plt.contourf(xx, yy, grid_pred, alpha=0.8, cmap='coolwarm')\n",
    "plt.scatter(X[:, 0], X[:, 1], c=y.squeeze().numpy(), edgecolor='k', s=100, cmap='coolwarm')\n",
    "plt.title(\"Decision Boundary for XOR\")\n",
    "plt.xlabel(\"Input 1\")\n",
    "plt.ylabel(\"Input 2\")\n",
    "plt.show()"
   ]
  },
  {
   "cell_type": "code",
   "execution_count": null,
   "id": "079c8b77",
   "metadata": {},
   "outputs": [],
   "source": []
  },
  {
   "cell_type": "code",
   "execution_count": null,
   "id": "d16fd403",
   "metadata": {},
   "outputs": [],
   "source": []
  },
  {
   "cell_type": "code",
   "execution_count": null,
   "id": "05098496",
   "metadata": {},
   "outputs": [],
   "source": []
  }
 ],
 "metadata": {
  "kernelspec": {
   "display_name": "Python 3 (ipykernel)",
   "language": "python",
   "name": "python3"
  },
  "language_info": {
   "codemirror_mode": {
    "name": "ipython",
    "version": 3
   },
   "file_extension": ".py",
   "mimetype": "text/x-python",
   "name": "python",
   "nbconvert_exporter": "python",
   "pygments_lexer": "ipython3",
   "version": "3.9.12"
  }
 },
 "nbformat": 4,
 "nbformat_minor": 5
}
